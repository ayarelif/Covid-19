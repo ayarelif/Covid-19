{
  "nbformat": 4,
  "nbformat_minor": 0,
  "metadata": {
    "colab": {
      "name": "Elif_Ayar_Built_in_Week_1_Covid_19.ipynb",
      "provenance": [],
      "authorship_tag": "ABX9TyOTA2lMPhDodZmXmqbBomF+",
      "include_colab_link": true
    },
    "kernelspec": {
      "name": "python3",
      "display_name": "Python 3"
    }
  },
  "cells": [
    {
      "cell_type": "markdown",
      "metadata": {
        "id": "view-in-github",
        "colab_type": "text"
      },
      "source": [
        "<a href=\"https://colab.research.google.com/github/ayarelif/Covid-19/blob/master/Elif_Ayar_Built_in_Week_1_Covid_19.ipynb\" target=\"_parent\"><img src=\"https://colab.research.google.com/assets/colab-badge.svg\" alt=\"Open In Colab\"/></a>"
      ]
    },
    {
      "cell_type": "markdown",
      "metadata": {
        "id": "rLuemM2a-fdX",
        "colab_type": "text"
      },
      "source": [
        "\n",
        "# Covid-19\n",
        "\n",
        "This project will have two main research under two main titles, and there are many subtitles under each main titles"
      ]
    },
    {
      "cell_type": "markdown",
      "metadata": {
        "id": "Q5793-DQ_Dbz",
        "colab_type": "text"
      },
      "source": [
        "## 1) Number of Confirmed Cases All Over The World\n",
        "I use the WHO-Covid-19 datasets. There are more than 100 countires data entry since January. This dataset covers the cases first four months. Instead of looking the countries all over the world, I will interested in countries which are mostly affected related to number of confirmed cases."
      ]
    },
    {
      "cell_type": "code",
      "metadata": {
        "id": "wjYIjESm_0oN",
        "colab_type": "code",
        "colab": {}
      },
      "source": [
        "# Import libraries \n",
        "import pandas as pd\n",
        "import numpy as np\n",
        "import math\n",
        "import matplotlib.pyplot as plt\n"
      ],
      "execution_count": 3,
      "outputs": []
    },
    {
      "cell_type": "code",
      "metadata": {
        "id": "DUPrbRiQAEbm",
        "colab_type": "code",
        "colab": {
          "base_uri": "https://localhost:8080/",
          "height": 309
        },
        "outputId": "c640c9b3-cfdc-4b9f-8ebb-b000e9cd059c"
      },
      "source": [
        "# Load the dataset : diagnosis-of-covid-19-and-its-clinical-spectrum\n",
        "situation=pd.read_csv('/content/who-situation-reports-covid-19.csv')\n",
        "situation.head(5)\n"
      ],
      "execution_count": 4,
      "outputs": [
        {
          "output_type": "execute_result",
          "data": {
            "text/html": [
              "<div>\n",
              "<style scoped>\n",
              "    .dataframe tbody tr th:only-of-type {\n",
              "        vertical-align: middle;\n",
              "    }\n",
              "\n",
              "    .dataframe tbody tr th {\n",
              "        vertical-align: top;\n",
              "    }\n",
              "\n",
              "    .dataframe thead th {\n",
              "        text-align: right;\n",
              "    }\n",
              "</style>\n",
              "<table border=\"1\" class=\"dataframe\">\n",
              "  <thead>\n",
              "    <tr style=\"text-align: right;\">\n",
              "      <th></th>\n",
              "      <th>reported_date</th>\n",
              "      <th>reporting_country_territory</th>\n",
              "      <th>province_city</th>\n",
              "      <th>confirmed_cases</th>\n",
              "      <th>new_confirmed_cases</th>\n",
              "      <th>total_deaths</th>\n",
              "      <th>new_total_deaths</th>\n",
              "      <th>transmission_classification</th>\n",
              "      <th>total_cases_with_travel_history_to_china</th>\n",
              "      <th>new_cases_with_travel_history_to_china</th>\n",
              "      <th>total_cases_with_possible_or_confirmed_transmission_outside_china</th>\n",
              "      <th>new_cases_with_possible_or_confirmed_transmission_outside_china</th>\n",
              "      <th>total_cases_with_site_of_transmission_under_investigation</th>\n",
              "      <th>new_cases_with_site_of_transmission_under_investigation</th>\n",
              "      <th>place_of_exposure_in_china_cases</th>\n",
              "      <th>place_of_exposure_in_china_cases_new</th>\n",
              "      <th>place_of_exposure_outside_reporting_country_and_china_cases</th>\n",
              "      <th>place_of_exposure_outside_reporting_country_and_china_cases_new</th>\n",
              "      <th>place_of_exposure_in_reporting_country_cases</th>\n",
              "      <th>place_of_exposure_in_reporting_country_cases_new</th>\n",
              "      <th>suspected_cases</th>\n",
              "      <th>daily_suspected_cases</th>\n",
              "      <th>daily_lab_confirmed_cases</th>\n",
              "      <th>daily_clinically_diagnosed_cases</th>\n",
              "      <th>daily_total_cases</th>\n",
              "      <th>cumulative_total_cases</th>\n",
              "      <th>cumulative_lab_confirmed_cases</th>\n",
              "      <th>cumulative_clinically_diagnosed_cases</th>\n",
              "      <th>cumulative_deaths</th>\n",
              "      <th>days_since_last_reported</th>\n",
              "      <th>who_region</th>\n",
              "      <th>population</th>\n",
              "      <th>report_url</th>\n",
              "    </tr>\n",
              "  </thead>\n",
              "  <tbody>\n",
              "    <tr>\n",
              "      <th>0</th>\n",
              "      <td>4/5/2020</td>\n",
              "      <td>China</td>\n",
              "      <td>NaN</td>\n",
              "      <td>82875</td>\n",
              "      <td>73.0</td>\n",
              "      <td>3335.0</td>\n",
              "      <td>4.0</td>\n",
              "      <td>Local transmission</td>\n",
              "      <td>NaN</td>\n",
              "      <td>NaN</td>\n",
              "      <td>NaN</td>\n",
              "      <td>NaN</td>\n",
              "      <td>NaN</td>\n",
              "      <td>NaN</td>\n",
              "      <td>NaN</td>\n",
              "      <td>NaN</td>\n",
              "      <td>NaN</td>\n",
              "      <td>NaN</td>\n",
              "      <td>NaN</td>\n",
              "      <td>NaN</td>\n",
              "      <td>NaN</td>\n",
              "      <td>NaN</td>\n",
              "      <td>NaN</td>\n",
              "      <td>NaN</td>\n",
              "      <td>NaN</td>\n",
              "      <td>NaN</td>\n",
              "      <td>NaN</td>\n",
              "      <td>NaN</td>\n",
              "      <td>NaN</td>\n",
              "      <td>0.0</td>\n",
              "      <td>NaN</td>\n",
              "      <td>NaN</td>\n",
              "      <td>https://www.who.int/docs/default-source/corona...</td>\n",
              "    </tr>\n",
              "    <tr>\n",
              "      <th>1</th>\n",
              "      <td>4/5/2020</td>\n",
              "      <td>Republic of Korea</td>\n",
              "      <td>NaN</td>\n",
              "      <td>10156</td>\n",
              "      <td>94.0</td>\n",
              "      <td>177.0</td>\n",
              "      <td>3.0</td>\n",
              "      <td>Local transmission</td>\n",
              "      <td>NaN</td>\n",
              "      <td>NaN</td>\n",
              "      <td>NaN</td>\n",
              "      <td>NaN</td>\n",
              "      <td>NaN</td>\n",
              "      <td>NaN</td>\n",
              "      <td>NaN</td>\n",
              "      <td>NaN</td>\n",
              "      <td>NaN</td>\n",
              "      <td>NaN</td>\n",
              "      <td>NaN</td>\n",
              "      <td>NaN</td>\n",
              "      <td>NaN</td>\n",
              "      <td>NaN</td>\n",
              "      <td>NaN</td>\n",
              "      <td>NaN</td>\n",
              "      <td>NaN</td>\n",
              "      <td>NaN</td>\n",
              "      <td>NaN</td>\n",
              "      <td>NaN</td>\n",
              "      <td>NaN</td>\n",
              "      <td>0.0</td>\n",
              "      <td>NaN</td>\n",
              "      <td>NaN</td>\n",
              "      <td>https://www.who.int/docs/default-source/corona...</td>\n",
              "    </tr>\n",
              "    <tr>\n",
              "      <th>2</th>\n",
              "      <td>4/5/2020</td>\n",
              "      <td>Australia</td>\n",
              "      <td>NaN</td>\n",
              "      <td>5454</td>\n",
              "      <td>230.0</td>\n",
              "      <td>28.0</td>\n",
              "      <td>5.0</td>\n",
              "      <td>Local transmission</td>\n",
              "      <td>NaN</td>\n",
              "      <td>NaN</td>\n",
              "      <td>NaN</td>\n",
              "      <td>NaN</td>\n",
              "      <td>NaN</td>\n",
              "      <td>NaN</td>\n",
              "      <td>NaN</td>\n",
              "      <td>NaN</td>\n",
              "      <td>NaN</td>\n",
              "      <td>NaN</td>\n",
              "      <td>NaN</td>\n",
              "      <td>NaN</td>\n",
              "      <td>NaN</td>\n",
              "      <td>NaN</td>\n",
              "      <td>NaN</td>\n",
              "      <td>NaN</td>\n",
              "      <td>NaN</td>\n",
              "      <td>NaN</td>\n",
              "      <td>NaN</td>\n",
              "      <td>NaN</td>\n",
              "      <td>NaN</td>\n",
              "      <td>0.0</td>\n",
              "      <td>NaN</td>\n",
              "      <td>NaN</td>\n",
              "      <td>https://www.who.int/docs/default-source/corona...</td>\n",
              "    </tr>\n",
              "    <tr>\n",
              "      <th>3</th>\n",
              "      <td>4/5/2020</td>\n",
              "      <td>Malaysia</td>\n",
              "      <td>NaN</td>\n",
              "      <td>3333</td>\n",
              "      <td>217.0</td>\n",
              "      <td>53.0</td>\n",
              "      <td>3.0</td>\n",
              "      <td>Local transmission</td>\n",
              "      <td>NaN</td>\n",
              "      <td>NaN</td>\n",
              "      <td>NaN</td>\n",
              "      <td>NaN</td>\n",
              "      <td>NaN</td>\n",
              "      <td>NaN</td>\n",
              "      <td>NaN</td>\n",
              "      <td>NaN</td>\n",
              "      <td>NaN</td>\n",
              "      <td>NaN</td>\n",
              "      <td>NaN</td>\n",
              "      <td>NaN</td>\n",
              "      <td>NaN</td>\n",
              "      <td>NaN</td>\n",
              "      <td>NaN</td>\n",
              "      <td>NaN</td>\n",
              "      <td>NaN</td>\n",
              "      <td>NaN</td>\n",
              "      <td>NaN</td>\n",
              "      <td>NaN</td>\n",
              "      <td>NaN</td>\n",
              "      <td>0.0</td>\n",
              "      <td>NaN</td>\n",
              "      <td>NaN</td>\n",
              "      <td>https://www.who.int/docs/default-source/corona...</td>\n",
              "    </tr>\n",
              "    <tr>\n",
              "      <th>4</th>\n",
              "      <td>4/5/2020</td>\n",
              "      <td>Philippines</td>\n",
              "      <td>NaN</td>\n",
              "      <td>3018</td>\n",
              "      <td>385.0</td>\n",
              "      <td>136.0</td>\n",
              "      <td>29.0</td>\n",
              "      <td>Local transmission</td>\n",
              "      <td>NaN</td>\n",
              "      <td>NaN</td>\n",
              "      <td>NaN</td>\n",
              "      <td>NaN</td>\n",
              "      <td>NaN</td>\n",
              "      <td>NaN</td>\n",
              "      <td>NaN</td>\n",
              "      <td>NaN</td>\n",
              "      <td>NaN</td>\n",
              "      <td>NaN</td>\n",
              "      <td>NaN</td>\n",
              "      <td>NaN</td>\n",
              "      <td>NaN</td>\n",
              "      <td>NaN</td>\n",
              "      <td>NaN</td>\n",
              "      <td>NaN</td>\n",
              "      <td>NaN</td>\n",
              "      <td>NaN</td>\n",
              "      <td>NaN</td>\n",
              "      <td>NaN</td>\n",
              "      <td>NaN</td>\n",
              "      <td>0.0</td>\n",
              "      <td>NaN</td>\n",
              "      <td>NaN</td>\n",
              "      <td>https://www.who.int/docs/default-source/corona...</td>\n",
              "    </tr>\n",
              "  </tbody>\n",
              "</table>\n",
              "</div>"
            ],
            "text/plain": [
              "  reported_date  ...                                         report_url\n",
              "0      4/5/2020  ...  https://www.who.int/docs/default-source/corona...\n",
              "1      4/5/2020  ...  https://www.who.int/docs/default-source/corona...\n",
              "2      4/5/2020  ...  https://www.who.int/docs/default-source/corona...\n",
              "3      4/5/2020  ...  https://www.who.int/docs/default-source/corona...\n",
              "4      4/5/2020  ...  https://www.who.int/docs/default-source/corona...\n",
              "\n",
              "[5 rows x 33 columns]"
            ]
          },
          "metadata": {
            "tags": []
          },
          "execution_count": 4
        }
      ]
    },
    {
      "cell_type": "code",
      "metadata": {
        "id": "aEDQc9VYAEYz",
        "colab_type": "code",
        "colab": {
          "base_uri": "https://localhost:8080/",
          "height": 34
        },
        "outputId": "c476db45-9032-4622-dc6e-f8df2081c4ea"
      },
      "source": [
        "# Check the shape\n",
        "situation.shape"
      ],
      "execution_count": 5,
      "outputs": [
        {
          "output_type": "execute_result",
          "data": {
            "text/plain": [
              "(7758, 33)"
            ]
          },
          "metadata": {
            "tags": []
          },
          "execution_count": 5
        }
      ]
    },
    {
      "cell_type": "code",
      "metadata": {
        "id": "kNBzbmbDAEXN",
        "colab_type": "code",
        "colab": {
          "base_uri": "https://localhost:8080/",
          "height": 374
        },
        "outputId": "0ae7f2a4-81ed-493b-d41a-e339d42c0800"
      },
      "source": [
        "# check the column names\n",
        "situation.columns"
      ],
      "execution_count": 6,
      "outputs": [
        {
          "output_type": "execute_result",
          "data": {
            "text/plain": [
              "Index(['reported_date', 'reporting_country_territory', 'province_city',\n",
              "       'confirmed_cases', 'new_confirmed_cases', 'total_deaths',\n",
              "       'new_total_deaths', 'transmission_classification',\n",
              "       'total_cases_with_travel_history_to_china',\n",
              "       'new_cases_with_travel_history_to_china',\n",
              "       'total_cases_with_possible_or_confirmed_transmission_outside_china',\n",
              "       'new_cases_with_possible_or_confirmed_transmission_outside_china',\n",
              "       'total_cases_with_site_of_transmission_under_investigation',\n",
              "       'new_cases_with_site_of_transmission_under_investigation',\n",
              "       'place_of_exposure_in_china_cases',\n",
              "       'place_of_exposure_in_china_cases_new',\n",
              "       'place_of_exposure_outside_reporting_country_and_china_cases',\n",
              "       'place_of_exposure_outside_reporting_country_and_china_cases_new',\n",
              "       'place_of_exposure_in_reporting_country_cases',\n",
              "       'place_of_exposure_in_reporting_country_cases_new', 'suspected_cases',\n",
              "       'daily_suspected_cases', 'daily_lab_confirmed_cases',\n",
              "       'daily_clinically_diagnosed_cases', 'daily_total_cases',\n",
              "       'cumulative_total_cases', 'cumulative_lab_confirmed_cases',\n",
              "       'cumulative_clinically_diagnosed_cases', 'cumulative_deaths',\n",
              "       'days_since_last_reported', 'who_region', 'population', 'report_url'],\n",
              "      dtype='object')"
            ]
          },
          "metadata": {
            "tags": []
          },
          "execution_count": 6
        }
      ]
    },
    {
      "cell_type": "markdown",
      "metadata": {
        "id": "ZyjvZsYTARq0",
        "colab_type": "text"
      },
      "source": [
        "I want to clean data becuase I do not need all 33 columns. "
      ]
    },
    {
      "cell_type": "code",
      "metadata": {
        "id": "3Z_0kaH2AEUT",
        "colab_type": "code",
        "colab": {}
      },
      "source": [
        "#  Create a new dataset\n",
        "column=['reported_date', 'reporting_country_territory',\n",
        "       'confirmed_cases', 'new_confirmed_cases', 'total_deaths',\n",
        "       'new_total_deaths']\n",
        "covid_situation=situation[column]"
      ],
      "execution_count": 7,
      "outputs": []
    },
    {
      "cell_type": "code",
      "metadata": {
        "id": "KqapSvw6AERk",
        "colab_type": "code",
        "colab": {
          "base_uri": "https://localhost:8080/",
          "height": 204
        },
        "outputId": "d8a7e98c-fee8-446d-b43a-37005dfa4554"
      },
      "source": [
        "# Check first 5 columns\n",
        "covid_situation.head()\n"
      ],
      "execution_count": 8,
      "outputs": [
        {
          "output_type": "execute_result",
          "data": {
            "text/html": [
              "<div>\n",
              "<style scoped>\n",
              "    .dataframe tbody tr th:only-of-type {\n",
              "        vertical-align: middle;\n",
              "    }\n",
              "\n",
              "    .dataframe tbody tr th {\n",
              "        vertical-align: top;\n",
              "    }\n",
              "\n",
              "    .dataframe thead th {\n",
              "        text-align: right;\n",
              "    }\n",
              "</style>\n",
              "<table border=\"1\" class=\"dataframe\">\n",
              "  <thead>\n",
              "    <tr style=\"text-align: right;\">\n",
              "      <th></th>\n",
              "      <th>reported_date</th>\n",
              "      <th>reporting_country_territory</th>\n",
              "      <th>confirmed_cases</th>\n",
              "      <th>new_confirmed_cases</th>\n",
              "      <th>total_deaths</th>\n",
              "      <th>new_total_deaths</th>\n",
              "    </tr>\n",
              "  </thead>\n",
              "  <tbody>\n",
              "    <tr>\n",
              "      <th>0</th>\n",
              "      <td>4/5/2020</td>\n",
              "      <td>China</td>\n",
              "      <td>82875</td>\n",
              "      <td>73.0</td>\n",
              "      <td>3335.0</td>\n",
              "      <td>4.0</td>\n",
              "    </tr>\n",
              "    <tr>\n",
              "      <th>1</th>\n",
              "      <td>4/5/2020</td>\n",
              "      <td>Republic of Korea</td>\n",
              "      <td>10156</td>\n",
              "      <td>94.0</td>\n",
              "      <td>177.0</td>\n",
              "      <td>3.0</td>\n",
              "    </tr>\n",
              "    <tr>\n",
              "      <th>2</th>\n",
              "      <td>4/5/2020</td>\n",
              "      <td>Australia</td>\n",
              "      <td>5454</td>\n",
              "      <td>230.0</td>\n",
              "      <td>28.0</td>\n",
              "      <td>5.0</td>\n",
              "    </tr>\n",
              "    <tr>\n",
              "      <th>3</th>\n",
              "      <td>4/5/2020</td>\n",
              "      <td>Malaysia</td>\n",
              "      <td>3333</td>\n",
              "      <td>217.0</td>\n",
              "      <td>53.0</td>\n",
              "      <td>3.0</td>\n",
              "    </tr>\n",
              "    <tr>\n",
              "      <th>4</th>\n",
              "      <td>4/5/2020</td>\n",
              "      <td>Philippines</td>\n",
              "      <td>3018</td>\n",
              "      <td>385.0</td>\n",
              "      <td>136.0</td>\n",
              "      <td>29.0</td>\n",
              "    </tr>\n",
              "  </tbody>\n",
              "</table>\n",
              "</div>"
            ],
            "text/plain": [
              "  reported_date reporting_country_territory  ... total_deaths  new_total_deaths\n",
              "0      4/5/2020                       China  ...       3335.0               4.0\n",
              "1      4/5/2020           Republic of Korea  ...        177.0               3.0\n",
              "2      4/5/2020                   Australia  ...         28.0               5.0\n",
              "3      4/5/2020                    Malaysia  ...         53.0               3.0\n",
              "4      4/5/2020                 Philippines  ...        136.0              29.0\n",
              "\n",
              "[5 rows x 6 columns]"
            ]
          },
          "metadata": {
            "tags": []
          },
          "execution_count": 8
        }
      ]
    },
    {
      "cell_type": "code",
      "metadata": {
        "id": "3o4SdnZSAEOx",
        "colab_type": "code",
        "colab": {
          "base_uri": "https://localhost:8080/",
          "height": 153
        },
        "outputId": "4e7e79b9-1300-4fbf-cd1d-796925923061"
      },
      "source": [
        "# Check shape and missing informations\n",
        "print(covid_situation.shape)\n",
        "print(covid_situation.isnull().sum())"
      ],
      "execution_count": 9,
      "outputs": [
        {
          "output_type": "stream",
          "text": [
            "(7758, 6)\n",
            "reported_date                    0\n",
            "reporting_country_territory      0\n",
            "confirmed_cases                  0\n",
            "new_confirmed_cases            715\n",
            "total_deaths                   635\n",
            "new_total_deaths               764\n",
            "dtype: int64\n"
          ],
          "name": "stdout"
        }
      ]
    },
    {
      "cell_type": "code",
      "metadata": {
        "id": "bqqn82iPAEL7",
        "colab_type": "code",
        "colab": {
          "base_uri": "https://localhost:8080/",
          "height": 136
        },
        "outputId": "2cd8c587-bafd-40c3-faf8-7158b22437f4"
      },
      "source": [
        "# I want to check the datatype as well\n",
        "covid_situation.dtypes"
      ],
      "execution_count": 10,
      "outputs": [
        {
          "output_type": "execute_result",
          "data": {
            "text/plain": [
              "reported_date                   object\n",
              "reporting_country_territory     object\n",
              "confirmed_cases                 object\n",
              "new_confirmed_cases            float64\n",
              "total_deaths                   float64\n",
              "new_total_deaths               float64\n",
              "dtype: object"
            ]
          },
          "metadata": {
            "tags": []
          },
          "execution_count": 10
        }
      ]
    },
    {
      "cell_type": "markdown",
      "metadata": {
        "id": "dmI1U4t-AgxP",
        "colab_type": "text"
      },
      "source": [
        "Confirmed case column is suppossed to be integer type, so change it. Before doing that, I have to fix the string numbers such as '28 060' '31 211', '34 598,and '37 251'"
      ]
    },
    {
      "cell_type": "code",
      "metadata": {
        "id": "-XgbZIkyAfql",
        "colab_type": "code",
        "colab": {
          "base_uri": "https://localhost:8080/",
          "height": 80
        },
        "outputId": "368abf53-daa2-4c88-eb1a-b96b1e410ca4"
      },
      "source": [
        "# Find \"28 060\" number is where\n",
        "row_number=covid_situation[covid_situation['confirmed_cases']=='28 060']\n",
        "row_number"
      ],
      "execution_count": 11,
      "outputs": [
        {
          "output_type": "execute_result",
          "data": {
            "text/html": [
              "<div>\n",
              "<style scoped>\n",
              "    .dataframe tbody tr th:only-of-type {\n",
              "        vertical-align: middle;\n",
              "    }\n",
              "\n",
              "    .dataframe tbody tr th {\n",
              "        vertical-align: top;\n",
              "    }\n",
              "\n",
              "    .dataframe thead th {\n",
              "        text-align: right;\n",
              "    }\n",
              "</style>\n",
              "<table border=\"1\" class=\"dataframe\">\n",
              "  <thead>\n",
              "    <tr style=\"text-align: right;\">\n",
              "      <th></th>\n",
              "      <th>reported_date</th>\n",
              "      <th>reporting_country_territory</th>\n",
              "      <th>confirmed_cases</th>\n",
              "      <th>new_confirmed_cases</th>\n",
              "      <th>total_deaths</th>\n",
              "      <th>new_total_deaths</th>\n",
              "    </tr>\n",
              "  </thead>\n",
              "  <tbody>\n",
              "    <tr>\n",
              "      <th>5634</th>\n",
              "      <td>2/6/2020</td>\n",
              "      <td>China</td>\n",
              "      <td>28 060</td>\n",
              "      <td>3697.0</td>\n",
              "      <td>564.0</td>\n",
              "      <td>73.0</td>\n",
              "    </tr>\n",
              "  </tbody>\n",
              "</table>\n",
              "</div>"
            ],
            "text/plain": [
              "     reported_date reporting_country_territory  ... total_deaths  new_total_deaths\n",
              "5634      2/6/2020                       China  ...        564.0              73.0\n",
              "\n",
              "[1 rows x 6 columns]"
            ]
          },
          "metadata": {
            "tags": []
          },
          "execution_count": 11
        }
      ]
    },
    {
      "cell_type": "code",
      "metadata": {
        "id": "w76zxj31AEJM",
        "colab_type": "code",
        "colab": {
          "base_uri": "https://localhost:8080/",
          "height": 80
        },
        "outputId": "f3106e50-a47c-46d6-8bd1-62fb95f423be"
      },
      "source": [
        "# Fix it\n",
        "row_number.replace({'28 060\t':'28060'})"
      ],
      "execution_count": 12,
      "outputs": [
        {
          "output_type": "execute_result",
          "data": {
            "text/html": [
              "<div>\n",
              "<style scoped>\n",
              "    .dataframe tbody tr th:only-of-type {\n",
              "        vertical-align: middle;\n",
              "    }\n",
              "\n",
              "    .dataframe tbody tr th {\n",
              "        vertical-align: top;\n",
              "    }\n",
              "\n",
              "    .dataframe thead th {\n",
              "        text-align: right;\n",
              "    }\n",
              "</style>\n",
              "<table border=\"1\" class=\"dataframe\">\n",
              "  <thead>\n",
              "    <tr style=\"text-align: right;\">\n",
              "      <th></th>\n",
              "      <th>reported_date</th>\n",
              "      <th>reporting_country_territory</th>\n",
              "      <th>confirmed_cases</th>\n",
              "      <th>new_confirmed_cases</th>\n",
              "      <th>total_deaths</th>\n",
              "      <th>new_total_deaths</th>\n",
              "    </tr>\n",
              "  </thead>\n",
              "  <tbody>\n",
              "    <tr>\n",
              "      <th>5634</th>\n",
              "      <td>2/6/2020</td>\n",
              "      <td>China</td>\n",
              "      <td>28 060</td>\n",
              "      <td>3697.0</td>\n",
              "      <td>564.0</td>\n",
              "      <td>73.0</td>\n",
              "    </tr>\n",
              "  </tbody>\n",
              "</table>\n",
              "</div>"
            ],
            "text/plain": [
              "     reported_date reporting_country_territory  ... total_deaths  new_total_deaths\n",
              "5634      2/6/2020                       China  ...        564.0              73.0\n",
              "\n",
              "[1 rows x 6 columns]"
            ]
          },
          "metadata": {
            "tags": []
          },
          "execution_count": 12
        }
      ]
    },
    {
      "cell_type": "code",
      "metadata": {
        "id": "A7rpc_uPAEGj",
        "colab_type": "code",
        "colab": {
          "base_uri": "https://localhost:8080/",
          "height": 182
        },
        "outputId": "209c8498-98be-4ce5-bf7c-a4267cd01921"
      },
      "source": [
        "# Apply the same code to original data\n",
        "covid_situation.loc[[5634],:]=covid_situation.loc[[5634],:].replace({'28 060':'28060'},inplace=False)\n",
        "# Check\n",
        "covid_situation.loc[[5634],:]\n",
        "# Same fix for number 31 211\n",
        "row_number2=covid_situation[covid_situation['confirmed_cases']=='31 211']\n",
        "row_number2\n",
        "covid_situation.loc[[5660],:]=covid_situation.loc[[5660],:].replace({'31 211':'31211'},inplace=False)\n",
        "covid_situation.loc[[5660],:]\n",
        "row_number3=covid_situation[covid_situation['confirmed_cases']=='34 598']\n",
        "row_number3\n",
        "covid_situation.loc[[5686],:]=covid_situation.loc[[5686],:].replace({'34 598':'34598'},inplace=False)\n",
        "covid_situation.loc[[5686],:]"
      ],
      "execution_count": 13,
      "outputs": [
        {
          "output_type": "stream",
          "text": [
            "/usr/local/lib/python3.6/dist-packages/pandas/core/indexing.py:966: SettingWithCopyWarning: \n",
            "A value is trying to be set on a copy of a slice from a DataFrame.\n",
            "Try using .loc[row_indexer,col_indexer] = value instead\n",
            "\n",
            "See the caveats in the documentation: https://pandas.pydata.org/pandas-docs/stable/user_guide/indexing.html#returning-a-view-versus-a-copy\n",
            "  self.obj[item] = s\n"
          ],
          "name": "stderr"
        },
        {
          "output_type": "execute_result",
          "data": {
            "text/html": [
              "<div>\n",
              "<style scoped>\n",
              "    .dataframe tbody tr th:only-of-type {\n",
              "        vertical-align: middle;\n",
              "    }\n",
              "\n",
              "    .dataframe tbody tr th {\n",
              "        vertical-align: top;\n",
              "    }\n",
              "\n",
              "    .dataframe thead th {\n",
              "        text-align: right;\n",
              "    }\n",
              "</style>\n",
              "<table border=\"1\" class=\"dataframe\">\n",
              "  <thead>\n",
              "    <tr style=\"text-align: right;\">\n",
              "      <th></th>\n",
              "      <th>reported_date</th>\n",
              "      <th>reporting_country_territory</th>\n",
              "      <th>confirmed_cases</th>\n",
              "      <th>new_confirmed_cases</th>\n",
              "      <th>total_deaths</th>\n",
              "      <th>new_total_deaths</th>\n",
              "    </tr>\n",
              "  </thead>\n",
              "  <tbody>\n",
              "    <tr>\n",
              "      <th>5686</th>\n",
              "      <td>2/8/2020</td>\n",
              "      <td>China</td>\n",
              "      <td>34598</td>\n",
              "      <td>3401.0</td>\n",
              "      <td>723.0</td>\n",
              "      <td>86.0</td>\n",
              "    </tr>\n",
              "  </tbody>\n",
              "</table>\n",
              "</div>"
            ],
            "text/plain": [
              "     reported_date reporting_country_territory  ... total_deaths  new_total_deaths\n",
              "5686      2/8/2020                       China  ...        723.0              86.0\n",
              "\n",
              "[1 rows x 6 columns]"
            ]
          },
          "metadata": {
            "tags": []
          },
          "execution_count": 13
        }
      ]
    },
    {
      "cell_type": "code",
      "metadata": {
        "id": "fj5SzmJWAtWJ",
        "colab_type": "code",
        "colab": {
          "base_uri": "https://localhost:8080/",
          "height": 80
        },
        "outputId": "6514832b-83db-485d-cb0f-2ac217721746"
      },
      "source": [
        "# Same fix for number \n",
        "row_number4=covid_situation[covid_situation['confirmed_cases']=='37 251']\n",
        "row_number5=covid_situation[covid_situation['confirmed_cases']=='40 235']\n",
        "row_number6=covid_situation[covid_situation['confirmed_cases']=='42 708']\n",
        "row_number7=covid_situation[covid_situation['confirmed_cases']=='44 730']\n",
        "row_number8=covid_situation[covid_situation['confirmed_cases']=='46 550']\n",
        "row_number8"
      ],
      "execution_count": 14,
      "outputs": [
        {
          "output_type": "execute_result",
          "data": {
            "text/html": [
              "<div>\n",
              "<style scoped>\n",
              "    .dataframe tbody tr th:only-of-type {\n",
              "        vertical-align: middle;\n",
              "    }\n",
              "\n",
              "    .dataframe tbody tr th {\n",
              "        vertical-align: top;\n",
              "    }\n",
              "\n",
              "    .dataframe thead th {\n",
              "        text-align: right;\n",
              "    }\n",
              "</style>\n",
              "<table border=\"1\" class=\"dataframe\">\n",
              "  <thead>\n",
              "    <tr style=\"text-align: right;\">\n",
              "      <th></th>\n",
              "      <th>reported_date</th>\n",
              "      <th>reporting_country_territory</th>\n",
              "      <th>confirmed_cases</th>\n",
              "      <th>new_confirmed_cases</th>\n",
              "      <th>total_deaths</th>\n",
              "      <th>new_total_deaths</th>\n",
              "    </tr>\n",
              "  </thead>\n",
              "  <tbody>\n",
              "    <tr>\n",
              "      <th>5816</th>\n",
              "      <td>2/13/2020</td>\n",
              "      <td>China</td>\n",
              "      <td>46 550</td>\n",
              "      <td>1820.0</td>\n",
              "      <td>NaN</td>\n",
              "      <td>NaN</td>\n",
              "    </tr>\n",
              "  </tbody>\n",
              "</table>\n",
              "</div>"
            ],
            "text/plain": [
              "     reported_date reporting_country_territory  ... total_deaths  new_total_deaths\n",
              "5816     2/13/2020                       China  ...          NaN               NaN\n",
              "\n",
              "[1 rows x 6 columns]"
            ]
          },
          "metadata": {
            "tags": []
          },
          "execution_count": 14
        }
      ]
    },
    {
      "cell_type": "code",
      "metadata": {
        "id": "jJ46Vpf2AtSe",
        "colab_type": "code",
        "colab": {
          "base_uri": "https://localhost:8080/",
          "height": 182
        },
        "outputId": "c6d84acb-6a28-4630-9929-2f9dbd4ff845"
      },
      "source": [
        "covid_situation.loc[[5712],:]=covid_situation.loc[[5712],:].replace({'37 251':'37251'},inplace=False)\n",
        "covid_situation.loc[[5712],:]\n",
        "covid_situation.loc[[5738],:]=covid_situation.loc[[5738],:].replace({'40 235':'40235'},inplace=False)\n",
        "covid_situation.loc[[5738],:]\n",
        "covid_situation.loc[[5764],:]=covid_situation.loc[[5764],:].replace({'42 708':'42708'},inplace=False)\n",
        "covid_situation.loc[[5764],:]\n",
        "covid_situation.loc[[5790],:]=covid_situation.loc[[5790],:].replace({'44 730':'44730'},inplace=False)\n",
        "covid_situation.loc[[5790],:]\n",
        "covid_situation.loc[[5816],:]=covid_situation.loc[[5816],:].replace({'46 550':'46550'},inplace=False)\n",
        "covid_situation.loc[[5816],:]"
      ],
      "execution_count": 15,
      "outputs": [
        {
          "output_type": "stream",
          "text": [
            "/usr/local/lib/python3.6/dist-packages/pandas/core/indexing.py:966: SettingWithCopyWarning: \n",
            "A value is trying to be set on a copy of a slice from a DataFrame.\n",
            "Try using .loc[row_indexer,col_indexer] = value instead\n",
            "\n",
            "See the caveats in the documentation: https://pandas.pydata.org/pandas-docs/stable/user_guide/indexing.html#returning-a-view-versus-a-copy\n",
            "  self.obj[item] = s\n"
          ],
          "name": "stderr"
        },
        {
          "output_type": "execute_result",
          "data": {
            "text/html": [
              "<div>\n",
              "<style scoped>\n",
              "    .dataframe tbody tr th:only-of-type {\n",
              "        vertical-align: middle;\n",
              "    }\n",
              "\n",
              "    .dataframe tbody tr th {\n",
              "        vertical-align: top;\n",
              "    }\n",
              "\n",
              "    .dataframe thead th {\n",
              "        text-align: right;\n",
              "    }\n",
              "</style>\n",
              "<table border=\"1\" class=\"dataframe\">\n",
              "  <thead>\n",
              "    <tr style=\"text-align: right;\">\n",
              "      <th></th>\n",
              "      <th>reported_date</th>\n",
              "      <th>reporting_country_territory</th>\n",
              "      <th>confirmed_cases</th>\n",
              "      <th>new_confirmed_cases</th>\n",
              "      <th>total_deaths</th>\n",
              "      <th>new_total_deaths</th>\n",
              "    </tr>\n",
              "  </thead>\n",
              "  <tbody>\n",
              "    <tr>\n",
              "      <th>5816</th>\n",
              "      <td>2/13/2020</td>\n",
              "      <td>China</td>\n",
              "      <td>46550</td>\n",
              "      <td>1820.0</td>\n",
              "      <td>NaN</td>\n",
              "      <td>NaN</td>\n",
              "    </tr>\n",
              "  </tbody>\n",
              "</table>\n",
              "</div>"
            ],
            "text/plain": [
              "     reported_date reporting_country_territory  ... total_deaths  new_total_deaths\n",
              "5816     2/13/2020                       China  ...          NaN               NaN\n",
              "\n",
              "[1 rows x 6 columns]"
            ]
          },
          "metadata": {
            "tags": []
          },
          "execution_count": 15
        }
      ]
    },
    {
      "cell_type": "markdown",
      "metadata": {
        "id": "80fKQOtiBAhl",
        "colab_type": "text"
      },
      "source": [
        "Now, convert the data type as integer"
      ]
    },
    {
      "cell_type": "code",
      "metadata": {
        "id": "1tFAITCqAtP2",
        "colab_type": "code",
        "colab": {
          "base_uri": "https://localhost:8080/",
          "height": 34
        },
        "outputId": "b5e6a5d3-65fe-4349-8bc7-9480977b1c65"
      },
      "source": [
        "number='23'\n",
        "type(number)"
      ],
      "execution_count": 16,
      "outputs": [
        {
          "output_type": "execute_result",
          "data": {
            "text/plain": [
              "str"
            ]
          },
          "metadata": {
            "tags": []
          },
          "execution_count": 16
        }
      ]
    },
    {
      "cell_type": "code",
      "metadata": {
        "id": "Mc2s-JzeAtNz",
        "colab_type": "code",
        "colab": {
          "base_uri": "https://localhost:8080/",
          "height": 34
        },
        "outputId": "2014aeef-821a-4135-d140-383aa51bb0bb"
      },
      "source": [
        "int_number=float(number)\n",
        "type(int_number)"
      ],
      "execution_count": 17,
      "outputs": [
        {
          "output_type": "execute_result",
          "data": {
            "text/plain": [
              "float"
            ]
          },
          "metadata": {
            "tags": []
          },
          "execution_count": 17
        }
      ]
    },
    {
      "cell_type": "code",
      "metadata": {
        "id": "BiIr1cZZAtKF",
        "colab_type": "code",
        "colab": {
          "base_uri": "https://localhost:8080/",
          "height": 34
        },
        "outputId": "d0e693ba-e1ff-44cb-dd94-cc342ef9f049"
      },
      "source": [
        "# Creat a function and then run over the whole data.\n",
        "def  my_number(x):\n",
        "   return float(x)\n",
        "type(my_number(number))"
      ],
      "execution_count": 18,
      "outputs": [
        {
          "output_type": "execute_result",
          "data": {
            "text/plain": [
              "float"
            ]
          },
          "metadata": {
            "tags": []
          },
          "execution_count": 18
        }
      ]
    },
    {
      "cell_type": "code",
      "metadata": {
        "id": "qfbq3JIXAtGp",
        "colab_type": "code",
        "colab": {}
      },
      "source": [
        "new_number=[]\n",
        "for num in covid_situation['confirmed_cases']:\n",
        "  new_number.append(my_number(num))"
      ],
      "execution_count": 19,
      "outputs": []
    },
    {
      "cell_type": "code",
      "metadata": {
        "id": "7JVwdMBjAtER",
        "colab_type": "code",
        "colab": {
          "base_uri": "https://localhost:8080/",
          "height": 34
        },
        "outputId": "4238f51a-22a4-485d-95c0-fece6042909a"
      },
      "source": [
        "new_number[:5]"
      ],
      "execution_count": 20,
      "outputs": [
        {
          "output_type": "execute_result",
          "data": {
            "text/plain": [
              "[82875.0, 10156.0, 5454.0, 3333.0, 3018.0]"
            ]
          },
          "metadata": {
            "tags": []
          },
          "execution_count": 20
        }
      ]
    },
    {
      "cell_type": "code",
      "metadata": {
        "id": "Uh2C5ZUuAtBL",
        "colab_type": "code",
        "colab": {
          "base_uri": "https://localhost:8080/",
          "height": 119
        },
        "outputId": "df8e7abc-96c4-4ca0-8047-087879f04655"
      },
      "source": [
        "# New columns\n",
        "covid_situation['clean_confirmed_cases']=pd.Series(new_number)"
      ],
      "execution_count": 21,
      "outputs": [
        {
          "output_type": "stream",
          "text": [
            "/usr/local/lib/python3.6/dist-packages/ipykernel_launcher.py:2: SettingWithCopyWarning: \n",
            "A value is trying to be set on a copy of a slice from a DataFrame.\n",
            "Try using .loc[row_indexer,col_indexer] = value instead\n",
            "\n",
            "See the caveats in the documentation: https://pandas.pydata.org/pandas-docs/stable/user_guide/indexing.html#returning-a-view-versus-a-copy\n",
            "  \n"
          ],
          "name": "stderr"
        }
      ]
    },
    {
      "cell_type": "code",
      "metadata": {
        "id": "EfDT1OqNAs9r",
        "colab_type": "code",
        "colab": {
          "base_uri": "https://localhost:8080/",
          "height": 204
        },
        "outputId": "3dc1677b-db4e-4fd4-e35b-db551e80f24e"
      },
      "source": [
        "covid_situation[['clean_confirmed_cases','confirmed_cases']].head()"
      ],
      "execution_count": 22,
      "outputs": [
        {
          "output_type": "execute_result",
          "data": {
            "text/html": [
              "<div>\n",
              "<style scoped>\n",
              "    .dataframe tbody tr th:only-of-type {\n",
              "        vertical-align: middle;\n",
              "    }\n",
              "\n",
              "    .dataframe tbody tr th {\n",
              "        vertical-align: top;\n",
              "    }\n",
              "\n",
              "    .dataframe thead th {\n",
              "        text-align: right;\n",
              "    }\n",
              "</style>\n",
              "<table border=\"1\" class=\"dataframe\">\n",
              "  <thead>\n",
              "    <tr style=\"text-align: right;\">\n",
              "      <th></th>\n",
              "      <th>clean_confirmed_cases</th>\n",
              "      <th>confirmed_cases</th>\n",
              "    </tr>\n",
              "  </thead>\n",
              "  <tbody>\n",
              "    <tr>\n",
              "      <th>0</th>\n",
              "      <td>82875.0</td>\n",
              "      <td>82875</td>\n",
              "    </tr>\n",
              "    <tr>\n",
              "      <th>1</th>\n",
              "      <td>10156.0</td>\n",
              "      <td>10156</td>\n",
              "    </tr>\n",
              "    <tr>\n",
              "      <th>2</th>\n",
              "      <td>5454.0</td>\n",
              "      <td>5454</td>\n",
              "    </tr>\n",
              "    <tr>\n",
              "      <th>3</th>\n",
              "      <td>3333.0</td>\n",
              "      <td>3333</td>\n",
              "    </tr>\n",
              "    <tr>\n",
              "      <th>4</th>\n",
              "      <td>3018.0</td>\n",
              "      <td>3018</td>\n",
              "    </tr>\n",
              "  </tbody>\n",
              "</table>\n",
              "</div>"
            ],
            "text/plain": [
              "   clean_confirmed_cases confirmed_cases\n",
              "0                82875.0           82875\n",
              "1                10156.0           10156\n",
              "2                 5454.0            5454\n",
              "3                 3333.0            3333\n",
              "4                 3018.0            3018"
            ]
          },
          "metadata": {
            "tags": []
          },
          "execution_count": 22
        }
      ]
    },
    {
      "cell_type": "markdown",
      "metadata": {
        "id": "b4fE7pFUBaaa",
        "colab_type": "text"
      },
      "source": [
        "Looks good. I want to catogorize the dates as a month only."
      ]
    },
    {
      "cell_type": "code",
      "metadata": {
        "id": "RRtnt2RQAs7T",
        "colab_type": "code",
        "colab": {
          "base_uri": "https://localhost:8080/",
          "height": 85
        },
        "outputId": "d0455b05-6258-45ce-96fb-5577f3b2ca3e"
      },
      "source": [
        "covid_situation.columns"
      ],
      "execution_count": 23,
      "outputs": [
        {
          "output_type": "execute_result",
          "data": {
            "text/plain": [
              "Index(['reported_date', 'reporting_country_territory', 'confirmed_cases',\n",
              "       'new_confirmed_cases', 'total_deaths', 'new_total_deaths',\n",
              "       'clean_confirmed_cases'],\n",
              "      dtype='object')"
            ]
          },
          "metadata": {
            "tags": []
          },
          "execution_count": 23
        }
      ]
    },
    {
      "cell_type": "code",
      "metadata": {
        "id": "wNzoch6FAs4V",
        "colab_type": "code",
        "colab": {
          "base_uri": "https://localhost:8080/",
          "height": 34
        },
        "outputId": "6317be83-6f1f-40ab-baf0-4f61f3056c71"
      },
      "source": [
        "# Let's look at the string format\n",
        "type(covid_situation['reported_date'][0])"
      ],
      "execution_count": 24,
      "outputs": [
        {
          "output_type": "execute_result",
          "data": {
            "text/plain": [
              "str"
            ]
          },
          "metadata": {
            "tags": []
          },
          "execution_count": 24
        }
      ]
    },
    {
      "cell_type": "code",
      "metadata": {
        "id": "_mqIAca6As1_",
        "colab_type": "code",
        "colab": {
          "base_uri": "https://localhost:8080/",
          "height": 119
        },
        "outputId": "6e9cc1b3-9953-4490-8ffe-bb075d6c333d"
      },
      "source": [
        "# Set the datetime format\n",
        "covid_situation['new_reported_date']=pd.to_datetime(covid_situation['reported_date'],infer_datetime_format=True)"
      ],
      "execution_count": 25,
      "outputs": [
        {
          "output_type": "stream",
          "text": [
            "/usr/local/lib/python3.6/dist-packages/ipykernel_launcher.py:2: SettingWithCopyWarning: \n",
            "A value is trying to be set on a copy of a slice from a DataFrame.\n",
            "Try using .loc[row_indexer,col_indexer] = value instead\n",
            "\n",
            "See the caveats in the documentation: https://pandas.pydata.org/pandas-docs/stable/user_guide/indexing.html#returning-a-view-versus-a-copy\n",
            "  \n"
          ],
          "name": "stderr"
        }
      ]
    },
    {
      "cell_type": "code",
      "metadata": {
        "id": "6KQrS7LOAszA",
        "colab_type": "code",
        "colab": {
          "base_uri": "https://localhost:8080/",
          "height": 34
        },
        "outputId": "028b004b-1634-4609-e43d-27efea3d77fc"
      },
      "source": [
        "type(covid_situation['new_reported_date'][0])"
      ],
      "execution_count": 26,
      "outputs": [
        {
          "output_type": "execute_result",
          "data": {
            "text/plain": [
              "pandas._libs.tslibs.timestamps.Timestamp"
            ]
          },
          "metadata": {
            "tags": []
          },
          "execution_count": 26
        }
      ]
    },
    {
      "cell_type": "code",
      "metadata": {
        "id": "qPect32ZAswZ",
        "colab_type": "code",
        "colab": {
          "base_uri": "https://localhost:8080/",
          "height": 244
        },
        "outputId": "91bc2545-2fe9-4d40-c5be-5ec93be079d1"
      },
      "source": [
        "# set the date time as month\n",
        "covid_situation['month']=covid_situation['new_reported_date'].dt.month\n",
        "covid_situation.head(3)"
      ],
      "execution_count": 27,
      "outputs": [
        {
          "output_type": "stream",
          "text": [
            "/usr/local/lib/python3.6/dist-packages/ipykernel_launcher.py:2: SettingWithCopyWarning: \n",
            "A value is trying to be set on a copy of a slice from a DataFrame.\n",
            "Try using .loc[row_indexer,col_indexer] = value instead\n",
            "\n",
            "See the caveats in the documentation: https://pandas.pydata.org/pandas-docs/stable/user_guide/indexing.html#returning-a-view-versus-a-copy\n",
            "  \n"
          ],
          "name": "stderr"
        },
        {
          "output_type": "execute_result",
          "data": {
            "text/html": [
              "<div>\n",
              "<style scoped>\n",
              "    .dataframe tbody tr th:only-of-type {\n",
              "        vertical-align: middle;\n",
              "    }\n",
              "\n",
              "    .dataframe tbody tr th {\n",
              "        vertical-align: top;\n",
              "    }\n",
              "\n",
              "    .dataframe thead th {\n",
              "        text-align: right;\n",
              "    }\n",
              "</style>\n",
              "<table border=\"1\" class=\"dataframe\">\n",
              "  <thead>\n",
              "    <tr style=\"text-align: right;\">\n",
              "      <th></th>\n",
              "      <th>reported_date</th>\n",
              "      <th>reporting_country_territory</th>\n",
              "      <th>confirmed_cases</th>\n",
              "      <th>new_confirmed_cases</th>\n",
              "      <th>total_deaths</th>\n",
              "      <th>new_total_deaths</th>\n",
              "      <th>clean_confirmed_cases</th>\n",
              "      <th>new_reported_date</th>\n",
              "      <th>month</th>\n",
              "    </tr>\n",
              "  </thead>\n",
              "  <tbody>\n",
              "    <tr>\n",
              "      <th>0</th>\n",
              "      <td>4/5/2020</td>\n",
              "      <td>China</td>\n",
              "      <td>82875</td>\n",
              "      <td>73.0</td>\n",
              "      <td>3335.0</td>\n",
              "      <td>4.0</td>\n",
              "      <td>82875.0</td>\n",
              "      <td>2020-04-05</td>\n",
              "      <td>4</td>\n",
              "    </tr>\n",
              "    <tr>\n",
              "      <th>1</th>\n",
              "      <td>4/5/2020</td>\n",
              "      <td>Republic of Korea</td>\n",
              "      <td>10156</td>\n",
              "      <td>94.0</td>\n",
              "      <td>177.0</td>\n",
              "      <td>3.0</td>\n",
              "      <td>10156.0</td>\n",
              "      <td>2020-04-05</td>\n",
              "      <td>4</td>\n",
              "    </tr>\n",
              "    <tr>\n",
              "      <th>2</th>\n",
              "      <td>4/5/2020</td>\n",
              "      <td>Australia</td>\n",
              "      <td>5454</td>\n",
              "      <td>230.0</td>\n",
              "      <td>28.0</td>\n",
              "      <td>5.0</td>\n",
              "      <td>5454.0</td>\n",
              "      <td>2020-04-05</td>\n",
              "      <td>4</td>\n",
              "    </tr>\n",
              "  </tbody>\n",
              "</table>\n",
              "</div>"
            ],
            "text/plain": [
              "  reported_date reporting_country_territory  ... new_reported_date  month\n",
              "0      4/5/2020                       China  ...        2020-04-05      4\n",
              "1      4/5/2020           Republic of Korea  ...        2020-04-05      4\n",
              "2      4/5/2020                   Australia  ...        2020-04-05      4\n",
              "\n",
              "[3 rows x 9 columns]"
            ]
          },
          "metadata": {
            "tags": []
          },
          "execution_count": 27
        }
      ]
    },
    {
      "cell_type": "markdown",
      "metadata": {
        "id": "t_OP5pdWBxas",
        "colab_type": "text"
      },
      "source": [
        "I want to see which countries are most affected by Covid-19 as a number of cases and number of death"
      ]
    },
    {
      "cell_type": "code",
      "metadata": {
        "id": "eixfyrSFAsuc",
        "colab_type": "code",
        "colab": {
          "base_uri": "https://localhost:8080/",
          "height": 34
        },
        "outputId": "74a3e9d6-03fd-4aca-f9c1-b984a94b58b3"
      },
      "source": [
        "covid_situation['clean_confirmed_cases'].dtype"
      ],
      "execution_count": 28,
      "outputs": [
        {
          "output_type": "execute_result",
          "data": {
            "text/plain": [
              "dtype('float64')"
            ]
          },
          "metadata": {
            "tags": []
          },
          "execution_count": 28
        }
      ]
    },
    {
      "cell_type": "code",
      "metadata": {
        "id": "uZDEyp1fAsq_",
        "colab_type": "code",
        "colab": {
          "base_uri": "https://localhost:8080/",
          "height": 669
        },
        "outputId": "f3280bf1-9576-4415-d8bd-f1c8efd24aec"
      },
      "source": [
        "# new dataset\n",
        "covid_countries=covid_situation[covid_situation['clean_confirmed_cases']>10000]\n",
        "covid_countries.head(20)\n"
      ],
      "execution_count": 29,
      "outputs": [
        {
          "output_type": "execute_result",
          "data": {
            "text/html": [
              "<div>\n",
              "<style scoped>\n",
              "    .dataframe tbody tr th:only-of-type {\n",
              "        vertical-align: middle;\n",
              "    }\n",
              "\n",
              "    .dataframe tbody tr th {\n",
              "        vertical-align: top;\n",
              "    }\n",
              "\n",
              "    .dataframe thead th {\n",
              "        text-align: right;\n",
              "    }\n",
              "</style>\n",
              "<table border=\"1\" class=\"dataframe\">\n",
              "  <thead>\n",
              "    <tr style=\"text-align: right;\">\n",
              "      <th></th>\n",
              "      <th>reported_date</th>\n",
              "      <th>reporting_country_territory</th>\n",
              "      <th>confirmed_cases</th>\n",
              "      <th>new_confirmed_cases</th>\n",
              "      <th>total_deaths</th>\n",
              "      <th>new_total_deaths</th>\n",
              "      <th>clean_confirmed_cases</th>\n",
              "      <th>new_reported_date</th>\n",
              "      <th>month</th>\n",
              "    </tr>\n",
              "  </thead>\n",
              "  <tbody>\n",
              "    <tr>\n",
              "      <th>0</th>\n",
              "      <td>4/5/2020</td>\n",
              "      <td>China</td>\n",
              "      <td>82875</td>\n",
              "      <td>73.0</td>\n",
              "      <td>3335.0</td>\n",
              "      <td>4.0</td>\n",
              "      <td>82875.0</td>\n",
              "      <td>2020-04-05</td>\n",
              "      <td>4</td>\n",
              "    </tr>\n",
              "    <tr>\n",
              "      <th>1</th>\n",
              "      <td>4/5/2020</td>\n",
              "      <td>Republic of Korea</td>\n",
              "      <td>10156</td>\n",
              "      <td>94.0</td>\n",
              "      <td>177.0</td>\n",
              "      <td>3.0</td>\n",
              "      <td>10156.0</td>\n",
              "      <td>2020-04-05</td>\n",
              "      <td>4</td>\n",
              "    </tr>\n",
              "    <tr>\n",
              "      <th>19</th>\n",
              "      <td>4/5/2020</td>\n",
              "      <td>Italy</td>\n",
              "      <td>119827</td>\n",
              "      <td>4585.0</td>\n",
              "      <td>14681.0</td>\n",
              "      <td>764.0</td>\n",
              "      <td>119827.0</td>\n",
              "      <td>2020-04-05</td>\n",
              "      <td>4</td>\n",
              "    </tr>\n",
              "    <tr>\n",
              "      <th>20</th>\n",
              "      <td>4/5/2020</td>\n",
              "      <td>Spain</td>\n",
              "      <td>117710</td>\n",
              "      <td>7472.0</td>\n",
              "      <td>10935.0</td>\n",
              "      <td>932.0</td>\n",
              "      <td>117710.0</td>\n",
              "      <td>2020-04-05</td>\n",
              "      <td>4</td>\n",
              "    </tr>\n",
              "    <tr>\n",
              "      <th>21</th>\n",
              "      <td>4/5/2020</td>\n",
              "      <td>Germany</td>\n",
              "      <td>85778</td>\n",
              "      <td>6082.0</td>\n",
              "      <td>1158.0</td>\n",
              "      <td>141.0</td>\n",
              "      <td>85778.0</td>\n",
              "      <td>2020-04-05</td>\n",
              "      <td>4</td>\n",
              "    </tr>\n",
              "    <tr>\n",
              "      <th>22</th>\n",
              "      <td>4/5/2020</td>\n",
              "      <td>France</td>\n",
              "      <td>63536</td>\n",
              "      <td>5209.0</td>\n",
              "      <td>6493.0</td>\n",
              "      <td>2003.0</td>\n",
              "      <td>63536.0</td>\n",
              "      <td>2020-04-05</td>\n",
              "      <td>4</td>\n",
              "    </tr>\n",
              "    <tr>\n",
              "      <th>23</th>\n",
              "      <td>4/5/2020</td>\n",
              "      <td>United Kingdom</td>\n",
              "      <td>38172</td>\n",
              "      <td>4450.0</td>\n",
              "      <td>3605.0</td>\n",
              "      <td>684.0</td>\n",
              "      <td>38172.0</td>\n",
              "      <td>2020-04-05</td>\n",
              "      <td>4</td>\n",
              "    </tr>\n",
              "    <tr>\n",
              "      <th>24</th>\n",
              "      <td>4/5/2020</td>\n",
              "      <td>Turkey</td>\n",
              "      <td>20921</td>\n",
              "      <td>2786.0</td>\n",
              "      <td>425.0</td>\n",
              "      <td>69.0</td>\n",
              "      <td>20921.0</td>\n",
              "      <td>2020-04-05</td>\n",
              "      <td>4</td>\n",
              "    </tr>\n",
              "    <tr>\n",
              "      <th>25</th>\n",
              "      <td>4/5/2020</td>\n",
              "      <td>Switzerland</td>\n",
              "      <td>19706</td>\n",
              "      <td>862.0</td>\n",
              "      <td>607.0</td>\n",
              "      <td>71.0</td>\n",
              "      <td>19706.0</td>\n",
              "      <td>2020-04-05</td>\n",
              "      <td>4</td>\n",
              "    </tr>\n",
              "    <tr>\n",
              "      <th>26</th>\n",
              "      <td>4/5/2020</td>\n",
              "      <td>Belgium</td>\n",
              "      <td>16770</td>\n",
              "      <td>1422.0</td>\n",
              "      <td>1143.0</td>\n",
              "      <td>132.0</td>\n",
              "      <td>16770.0</td>\n",
              "      <td>2020-04-05</td>\n",
              "      <td>4</td>\n",
              "    </tr>\n",
              "    <tr>\n",
              "      <th>27</th>\n",
              "      <td>4/5/2020</td>\n",
              "      <td>Netherlands</td>\n",
              "      <td>15723</td>\n",
              "      <td>1026.0</td>\n",
              "      <td>1487.0</td>\n",
              "      <td>148.0</td>\n",
              "      <td>15723.0</td>\n",
              "      <td>2020-04-05</td>\n",
              "      <td>4</td>\n",
              "    </tr>\n",
              "    <tr>\n",
              "      <th>28</th>\n",
              "      <td>4/5/2020</td>\n",
              "      <td>Austria</td>\n",
              "      <td>11525</td>\n",
              "      <td>396.0</td>\n",
              "      <td>168.0</td>\n",
              "      <td>10.0</td>\n",
              "      <td>11525.0</td>\n",
              "      <td>2020-04-05</td>\n",
              "      <td>4</td>\n",
              "    </tr>\n",
              "    <tr>\n",
              "      <th>89</th>\n",
              "      <td>4/5/2020</td>\n",
              "      <td>Iran (Islamic Republic of)</td>\n",
              "      <td>53183</td>\n",
              "      <td>2715.0</td>\n",
              "      <td>3294.0</td>\n",
              "      <td>134.0</td>\n",
              "      <td>53183.0</td>\n",
              "      <td>2020-04-05</td>\n",
              "      <td>4</td>\n",
              "    </tr>\n",
              "    <tr>\n",
              "      <th>110</th>\n",
              "      <td>4/5/2020</td>\n",
              "      <td>United States of America</td>\n",
              "      <td>241703</td>\n",
              "      <td>28103.0</td>\n",
              "      <td>5854.0</td>\n",
              "      <td>1061.0</td>\n",
              "      <td>241703.0</td>\n",
              "      <td>2020-04-05</td>\n",
              "      <td>4</td>\n",
              "    </tr>\n",
              "    <tr>\n",
              "      <th>111</th>\n",
              "      <td>4/5/2020</td>\n",
              "      <td>Canada</td>\n",
              "      <td>11732</td>\n",
              "      <td>1618.0</td>\n",
              "      <td>152.0</td>\n",
              "      <td>25.0</td>\n",
              "      <td>11732.0</td>\n",
              "      <td>2020-04-05</td>\n",
              "      <td>4</td>\n",
              "    </tr>\n",
              "    <tr>\n",
              "      <th>205</th>\n",
              "      <td>4/4/2020</td>\n",
              "      <td>China</td>\n",
              "      <td>82802</td>\n",
              "      <td>78.0</td>\n",
              "      <td>3331.0</td>\n",
              "      <td>4.0</td>\n",
              "      <td>82802.0</td>\n",
              "      <td>2020-04-04</td>\n",
              "      <td>4</td>\n",
              "    </tr>\n",
              "    <tr>\n",
              "      <th>206</th>\n",
              "      <td>4/4/2020</td>\n",
              "      <td>Republic of Korea</td>\n",
              "      <td>10062</td>\n",
              "      <td>86.0</td>\n",
              "      <td>174.0</td>\n",
              "      <td>5.0</td>\n",
              "      <td>10062.0</td>\n",
              "      <td>2020-04-04</td>\n",
              "      <td>4</td>\n",
              "    </tr>\n",
              "    <tr>\n",
              "      <th>224</th>\n",
              "      <td>4/4/2020</td>\n",
              "      <td>Italy</td>\n",
              "      <td>115242</td>\n",
              "      <td>4668.0</td>\n",
              "      <td>13917.0</td>\n",
              "      <td>760.0</td>\n",
              "      <td>115242.0</td>\n",
              "      <td>2020-04-04</td>\n",
              "      <td>4</td>\n",
              "    </tr>\n",
              "    <tr>\n",
              "      <th>225</th>\n",
              "      <td>4/4/2020</td>\n",
              "      <td>Spain</td>\n",
              "      <td>110238</td>\n",
              "      <td>8102.0</td>\n",
              "      <td>10003.0</td>\n",
              "      <td>950.0</td>\n",
              "      <td>110238.0</td>\n",
              "      <td>2020-04-04</td>\n",
              "      <td>4</td>\n",
              "    </tr>\n",
              "    <tr>\n",
              "      <th>226</th>\n",
              "      <td>4/4/2020</td>\n",
              "      <td>Germany</td>\n",
              "      <td>79696</td>\n",
              "      <td>6174.0</td>\n",
              "      <td>1017.0</td>\n",
              "      <td>145.0</td>\n",
              "      <td>79696.0</td>\n",
              "      <td>2020-04-04</td>\n",
              "      <td>4</td>\n",
              "    </tr>\n",
              "  </tbody>\n",
              "</table>\n",
              "</div>"
            ],
            "text/plain": [
              "    reported_date reporting_country_territory  ... new_reported_date  month\n",
              "0        4/5/2020                       China  ...        2020-04-05      4\n",
              "1        4/5/2020           Republic of Korea  ...        2020-04-05      4\n",
              "19       4/5/2020                       Italy  ...        2020-04-05      4\n",
              "20       4/5/2020                       Spain  ...        2020-04-05      4\n",
              "21       4/5/2020                     Germany  ...        2020-04-05      4\n",
              "22       4/5/2020                      France  ...        2020-04-05      4\n",
              "23       4/5/2020              United Kingdom  ...        2020-04-05      4\n",
              "24       4/5/2020                      Turkey  ...        2020-04-05      4\n",
              "25       4/5/2020                 Switzerland  ...        2020-04-05      4\n",
              "26       4/5/2020                     Belgium  ...        2020-04-05      4\n",
              "27       4/5/2020                 Netherlands  ...        2020-04-05      4\n",
              "28       4/5/2020                     Austria  ...        2020-04-05      4\n",
              "89       4/5/2020  Iran (Islamic Republic of)  ...        2020-04-05      4\n",
              "110      4/5/2020    United States of America  ...        2020-04-05      4\n",
              "111      4/5/2020                      Canada  ...        2020-04-05      4\n",
              "205      4/4/2020                       China  ...        2020-04-04      4\n",
              "206      4/4/2020           Republic of Korea  ...        2020-04-04      4\n",
              "224      4/4/2020                       Italy  ...        2020-04-04      4\n",
              "225      4/4/2020                       Spain  ...        2020-04-04      4\n",
              "226      4/4/2020                     Germany  ...        2020-04-04      4\n",
              "\n",
              "[20 rows x 9 columns]"
            ]
          },
          "metadata": {
            "tags": []
          },
          "execution_count": 29
        }
      ]
    },
    {
      "cell_type": "markdown",
      "metadata": {
        "id": "5ZetrS4aB-yd",
        "colab_type": "text"
      },
      "source": [
        "I am interested in 10 countries are China, USA,Spain,Italy,Germany,France,United Kingdom,Iran,Turkey,Switzerland. This also shows us number of cases and number of deaths are very high at those countries compared to others"
      ]
    },
    {
      "cell_type": "code",
      "metadata": {
        "id": "lkLEz5e6AspC",
        "colab_type": "code",
        "colab": {}
      },
      "source": [
        "# Engage tha data with top 12 countries only.\n",
        "countries=['China','United States of America','Switzerland','France','Germany','United Kingdom','Iran (Islamic Republic of)','Turkey','Italy','Spain']"
      ],
      "execution_count": 30,
      "outputs": []
    },
    {
      "cell_type": "code",
      "metadata": {
        "id": "nQLDOobMAsl2",
        "colab_type": "code",
        "colab": {
          "base_uri": "https://localhost:8080/",
          "height": 359
        },
        "outputId": "a1ad5944-b789-4158-a799-86cfca7eae44"
      },
      "source": [
        "top_countries = covid_countries[covid_countries.reporting_country_territory.isin(countries)].head(10)\n",
        "top_countries"
      ],
      "execution_count": 31,
      "outputs": [
        {
          "output_type": "execute_result",
          "data": {
            "text/html": [
              "<div>\n",
              "<style scoped>\n",
              "    .dataframe tbody tr th:only-of-type {\n",
              "        vertical-align: middle;\n",
              "    }\n",
              "\n",
              "    .dataframe tbody tr th {\n",
              "        vertical-align: top;\n",
              "    }\n",
              "\n",
              "    .dataframe thead th {\n",
              "        text-align: right;\n",
              "    }\n",
              "</style>\n",
              "<table border=\"1\" class=\"dataframe\">\n",
              "  <thead>\n",
              "    <tr style=\"text-align: right;\">\n",
              "      <th></th>\n",
              "      <th>reported_date</th>\n",
              "      <th>reporting_country_territory</th>\n",
              "      <th>confirmed_cases</th>\n",
              "      <th>new_confirmed_cases</th>\n",
              "      <th>total_deaths</th>\n",
              "      <th>new_total_deaths</th>\n",
              "      <th>clean_confirmed_cases</th>\n",
              "      <th>new_reported_date</th>\n",
              "      <th>month</th>\n",
              "    </tr>\n",
              "  </thead>\n",
              "  <tbody>\n",
              "    <tr>\n",
              "      <th>0</th>\n",
              "      <td>4/5/2020</td>\n",
              "      <td>China</td>\n",
              "      <td>82875</td>\n",
              "      <td>73.0</td>\n",
              "      <td>3335.0</td>\n",
              "      <td>4.0</td>\n",
              "      <td>82875.0</td>\n",
              "      <td>2020-04-05</td>\n",
              "      <td>4</td>\n",
              "    </tr>\n",
              "    <tr>\n",
              "      <th>19</th>\n",
              "      <td>4/5/2020</td>\n",
              "      <td>Italy</td>\n",
              "      <td>119827</td>\n",
              "      <td>4585.0</td>\n",
              "      <td>14681.0</td>\n",
              "      <td>764.0</td>\n",
              "      <td>119827.0</td>\n",
              "      <td>2020-04-05</td>\n",
              "      <td>4</td>\n",
              "    </tr>\n",
              "    <tr>\n",
              "      <th>20</th>\n",
              "      <td>4/5/2020</td>\n",
              "      <td>Spain</td>\n",
              "      <td>117710</td>\n",
              "      <td>7472.0</td>\n",
              "      <td>10935.0</td>\n",
              "      <td>932.0</td>\n",
              "      <td>117710.0</td>\n",
              "      <td>2020-04-05</td>\n",
              "      <td>4</td>\n",
              "    </tr>\n",
              "    <tr>\n",
              "      <th>21</th>\n",
              "      <td>4/5/2020</td>\n",
              "      <td>Germany</td>\n",
              "      <td>85778</td>\n",
              "      <td>6082.0</td>\n",
              "      <td>1158.0</td>\n",
              "      <td>141.0</td>\n",
              "      <td>85778.0</td>\n",
              "      <td>2020-04-05</td>\n",
              "      <td>4</td>\n",
              "    </tr>\n",
              "    <tr>\n",
              "      <th>22</th>\n",
              "      <td>4/5/2020</td>\n",
              "      <td>France</td>\n",
              "      <td>63536</td>\n",
              "      <td>5209.0</td>\n",
              "      <td>6493.0</td>\n",
              "      <td>2003.0</td>\n",
              "      <td>63536.0</td>\n",
              "      <td>2020-04-05</td>\n",
              "      <td>4</td>\n",
              "    </tr>\n",
              "    <tr>\n",
              "      <th>23</th>\n",
              "      <td>4/5/2020</td>\n",
              "      <td>United Kingdom</td>\n",
              "      <td>38172</td>\n",
              "      <td>4450.0</td>\n",
              "      <td>3605.0</td>\n",
              "      <td>684.0</td>\n",
              "      <td>38172.0</td>\n",
              "      <td>2020-04-05</td>\n",
              "      <td>4</td>\n",
              "    </tr>\n",
              "    <tr>\n",
              "      <th>24</th>\n",
              "      <td>4/5/2020</td>\n",
              "      <td>Turkey</td>\n",
              "      <td>20921</td>\n",
              "      <td>2786.0</td>\n",
              "      <td>425.0</td>\n",
              "      <td>69.0</td>\n",
              "      <td>20921.0</td>\n",
              "      <td>2020-04-05</td>\n",
              "      <td>4</td>\n",
              "    </tr>\n",
              "    <tr>\n",
              "      <th>25</th>\n",
              "      <td>4/5/2020</td>\n",
              "      <td>Switzerland</td>\n",
              "      <td>19706</td>\n",
              "      <td>862.0</td>\n",
              "      <td>607.0</td>\n",
              "      <td>71.0</td>\n",
              "      <td>19706.0</td>\n",
              "      <td>2020-04-05</td>\n",
              "      <td>4</td>\n",
              "    </tr>\n",
              "    <tr>\n",
              "      <th>89</th>\n",
              "      <td>4/5/2020</td>\n",
              "      <td>Iran (Islamic Republic of)</td>\n",
              "      <td>53183</td>\n",
              "      <td>2715.0</td>\n",
              "      <td>3294.0</td>\n",
              "      <td>134.0</td>\n",
              "      <td>53183.0</td>\n",
              "      <td>2020-04-05</td>\n",
              "      <td>4</td>\n",
              "    </tr>\n",
              "    <tr>\n",
              "      <th>110</th>\n",
              "      <td>4/5/2020</td>\n",
              "      <td>United States of America</td>\n",
              "      <td>241703</td>\n",
              "      <td>28103.0</td>\n",
              "      <td>5854.0</td>\n",
              "      <td>1061.0</td>\n",
              "      <td>241703.0</td>\n",
              "      <td>2020-04-05</td>\n",
              "      <td>4</td>\n",
              "    </tr>\n",
              "  </tbody>\n",
              "</table>\n",
              "</div>"
            ],
            "text/plain": [
              "    reported_date reporting_country_territory  ... new_reported_date  month\n",
              "0        4/5/2020                       China  ...        2020-04-05      4\n",
              "19       4/5/2020                       Italy  ...        2020-04-05      4\n",
              "20       4/5/2020                       Spain  ...        2020-04-05      4\n",
              "21       4/5/2020                     Germany  ...        2020-04-05      4\n",
              "22       4/5/2020                      France  ...        2020-04-05      4\n",
              "23       4/5/2020              United Kingdom  ...        2020-04-05      4\n",
              "24       4/5/2020                      Turkey  ...        2020-04-05      4\n",
              "25       4/5/2020                 Switzerland  ...        2020-04-05      4\n",
              "89       4/5/2020  Iran (Islamic Republic of)  ...        2020-04-05      4\n",
              "110      4/5/2020    United States of America  ...        2020-04-05      4\n",
              "\n",
              "[10 rows x 9 columns]"
            ]
          },
          "metadata": {
            "tags": []
          },
          "execution_count": 31
        }
      ]
    },
    {
      "cell_type": "code",
      "metadata": {
        "id": "mSkDoPWdAsjM",
        "colab_type": "code",
        "colab": {
          "base_uri": "https://localhost:8080/",
          "height": 359
        },
        "outputId": "bcd045b6-2a89-4fa2-a4f1-31d3745cb048"
      },
      "source": [
        "# Let's find the Longitude abd lontitude of those countries\n",
        "# Create a new dataset\n",
        "Covid_19={'country': ['China','italy','spain','germany','france','united kingdom','turkey','switzerland','iran','USA'],\n",
        "        'confirmed_cases': [82875,119827,117710,85778,63536,38172,20921,19706,53183,241703],\n",
        "        'latitude':[30.5928,41.8719,40.4637,51.1657,46.2276,55.3781,38.9637,46.8182,32.4279,40.7128],\n",
        "        'longitude':[114.3055,712.5674,3.7492,10.4515,2.2137,3.4360,35.2433,8.2275,53.6860,74.0060]\n",
        "        }\n",
        "\n",
        "df=pd.DataFrame(Covid_19,columns=['country','confirmed_cases','latitude','longitude'])\n",
        "df"
      ],
      "execution_count": 32,
      "outputs": [
        {
          "output_type": "execute_result",
          "data": {
            "text/html": [
              "<div>\n",
              "<style scoped>\n",
              "    .dataframe tbody tr th:only-of-type {\n",
              "        vertical-align: middle;\n",
              "    }\n",
              "\n",
              "    .dataframe tbody tr th {\n",
              "        vertical-align: top;\n",
              "    }\n",
              "\n",
              "    .dataframe thead th {\n",
              "        text-align: right;\n",
              "    }\n",
              "</style>\n",
              "<table border=\"1\" class=\"dataframe\">\n",
              "  <thead>\n",
              "    <tr style=\"text-align: right;\">\n",
              "      <th></th>\n",
              "      <th>country</th>\n",
              "      <th>confirmed_cases</th>\n",
              "      <th>latitude</th>\n",
              "      <th>longitude</th>\n",
              "    </tr>\n",
              "  </thead>\n",
              "  <tbody>\n",
              "    <tr>\n",
              "      <th>0</th>\n",
              "      <td>China</td>\n",
              "      <td>82875</td>\n",
              "      <td>30.5928</td>\n",
              "      <td>114.3055</td>\n",
              "    </tr>\n",
              "    <tr>\n",
              "      <th>1</th>\n",
              "      <td>italy</td>\n",
              "      <td>119827</td>\n",
              "      <td>41.8719</td>\n",
              "      <td>712.5674</td>\n",
              "    </tr>\n",
              "    <tr>\n",
              "      <th>2</th>\n",
              "      <td>spain</td>\n",
              "      <td>117710</td>\n",
              "      <td>40.4637</td>\n",
              "      <td>3.7492</td>\n",
              "    </tr>\n",
              "    <tr>\n",
              "      <th>3</th>\n",
              "      <td>germany</td>\n",
              "      <td>85778</td>\n",
              "      <td>51.1657</td>\n",
              "      <td>10.4515</td>\n",
              "    </tr>\n",
              "    <tr>\n",
              "      <th>4</th>\n",
              "      <td>france</td>\n",
              "      <td>63536</td>\n",
              "      <td>46.2276</td>\n",
              "      <td>2.2137</td>\n",
              "    </tr>\n",
              "    <tr>\n",
              "      <th>5</th>\n",
              "      <td>united kingdom</td>\n",
              "      <td>38172</td>\n",
              "      <td>55.3781</td>\n",
              "      <td>3.4360</td>\n",
              "    </tr>\n",
              "    <tr>\n",
              "      <th>6</th>\n",
              "      <td>turkey</td>\n",
              "      <td>20921</td>\n",
              "      <td>38.9637</td>\n",
              "      <td>35.2433</td>\n",
              "    </tr>\n",
              "    <tr>\n",
              "      <th>7</th>\n",
              "      <td>switzerland</td>\n",
              "      <td>19706</td>\n",
              "      <td>46.8182</td>\n",
              "      <td>8.2275</td>\n",
              "    </tr>\n",
              "    <tr>\n",
              "      <th>8</th>\n",
              "      <td>iran</td>\n",
              "      <td>53183</td>\n",
              "      <td>32.4279</td>\n",
              "      <td>53.6860</td>\n",
              "    </tr>\n",
              "    <tr>\n",
              "      <th>9</th>\n",
              "      <td>USA</td>\n",
              "      <td>241703</td>\n",
              "      <td>40.7128</td>\n",
              "      <td>74.0060</td>\n",
              "    </tr>\n",
              "  </tbody>\n",
              "</table>\n",
              "</div>"
            ],
            "text/plain": [
              "          country  confirmed_cases  latitude  longitude\n",
              "0           China            82875   30.5928   114.3055\n",
              "1           italy           119827   41.8719   712.5674\n",
              "2           spain           117710   40.4637     3.7492\n",
              "3         germany            85778   51.1657    10.4515\n",
              "4          france            63536   46.2276     2.2137\n",
              "5  united kingdom            38172   55.3781     3.4360\n",
              "6          turkey            20921   38.9637    35.2433\n",
              "7     switzerland            19706   46.8182     8.2275\n",
              "8            iran            53183   32.4279    53.6860\n",
              "9             USA           241703   40.7128    74.0060"
            ]
          },
          "metadata": {
            "tags": []
          },
          "execution_count": 32
        }
      ]
    },
    {
      "cell_type": "code",
      "metadata": {
        "id": "uY6SNXMDAsgf",
        "colab_type": "code",
        "colab": {
          "base_uri": "https://localhost:8080/",
          "height": 542
        },
        "outputId": "9a769068-3d97-49d7-b45f-4d35117a4ae0"
      },
      "source": [
        "import plotly.graph_objects as go\n",
        "from plotly.subplots import make_subplots\n",
        "import pandas as pd\n",
        "\n",
        "# Initialize figure with subplots\n",
        "fig = make_subplots(\n",
        "    rows=2, cols=2,\n",
        "    column_widths=[0.6, 0.4],\n",
        "    row_heights=[0.4, 0.6],\n",
        "    specs=[[{\"type\": \"scattergeo\", \"rowspan\": 2}, {\"type\": \"bar\"}],\n",
        "           [            None                    , {\"type\": \"surface\"}]])\n",
        "\n",
        "# Add scattergeo globe map of volcano locations\n",
        "fig.add_trace(\n",
        "    go.Scattergeo(lat=df[\"latitude\"],\n",
        "                  lon=df[\"longitude\"],\n",
        "                  mode=\"markers\",\n",
        "                  hoverinfo=\"text\",\n",
        "                  showlegend=False,\n",
        "                  marker=dict(color=\"crimson\", size=10, opacity=0.9)),\n",
        "    row=1, col=1\n",
        ")\n",
        "\n",
        "# Add locations bar chart\n",
        "fig.add_trace(\n",
        "    go.Bar(x=df[\"country\"],y=df[\"confirmed_cases\"], marker=dict(color=\"crimson\"), showlegend=False),\n",
        "    row=1, col=2\n",
        ")\n",
        "\n",
        "# Update geo subplot properties\n",
        "fig.update_geos(\n",
        "    projection_type=\"orthographic\",\n",
        "    landcolor=\"white\",\n",
        "    oceancolor=\"MidnightBlue\",\n",
        "    showocean=True,\n",
        "    lakecolor=\"LightBlue\"\n",
        ")\n",
        "\n",
        "# Rotate x-axis labels\n",
        "fig.update_xaxes(tickangle=45)\n",
        "\n",
        "# Set theme, margin, and annotation in layout\n",
        "fig.update_layout(\n",
        "    template=\"plotly_dark\",\n",
        "    margin=dict(r=10, t=25, b=40, l=60),\n",
        "    annotations=[\n",
        "        dict(\n",
        "            text=\"Source: WHO-Covid_19\",\n",
        "            showarrow=False,\n",
        "            xref=\"paper\",\n",
        "            yref=\"paper\",\n",
        "            x=0,\n",
        "            y=0)\n",
        "    ]\n",
        ")\n",
        "\n",
        "fig.show()"
      ],
      "execution_count": 33,
      "outputs": [
        {
          "output_type": "display_data",
          "data": {
            "text/html": [
              "<html>\n",
              "<head><meta charset=\"utf-8\" /></head>\n",
              "<body>\n",
              "    <div>\n",
              "            <script src=\"https://cdnjs.cloudflare.com/ajax/libs/mathjax/2.7.5/MathJax.js?config=TeX-AMS-MML_SVG\"></script><script type=\"text/javascript\">if (window.MathJax) {MathJax.Hub.Config({SVG: {font: \"STIX-Web\"}});}</script>\n",
              "                <script type=\"text/javascript\">window.PlotlyConfig = {MathJaxConfig: 'local'};</script>\n",
              "        <script src=\"https://cdn.plot.ly/plotly-latest.min.js\"></script>    \n",
              "            <div id=\"88d4bdb5-52bb-43d7-a603-ac1ca21b34d6\" class=\"plotly-graph-div\" style=\"height:525px; width:100%;\"></div>\n",
              "            <script type=\"text/javascript\">\n",
              "                \n",
              "                    window.PLOTLYENV=window.PLOTLYENV || {};\n",
              "                    \n",
              "                if (document.getElementById(\"88d4bdb5-52bb-43d7-a603-ac1ca21b34d6\")) {\n",
              "                    Plotly.newPlot(\n",
              "                        '88d4bdb5-52bb-43d7-a603-ac1ca21b34d6',\n",
              "                        [{\"geo\": \"geo\", \"hoverinfo\": \"text\", \"lat\": [30.5928, 41.8719, 40.4637, 51.1657, 46.2276, 55.3781, 38.9637, 46.8182, 32.4279, 40.7128], \"lon\": [114.3055, 712.5674, 3.7492, 10.4515, 2.2137, 3.436, 35.2433, 8.2275, 53.686, 74.006], \"marker\": {\"color\": \"crimson\", \"opacity\": 0.9, \"size\": 10}, \"mode\": \"markers\", \"showlegend\": false, \"type\": \"scattergeo\"}, {\"marker\": {\"color\": \"crimson\"}, \"showlegend\": false, \"type\": \"bar\", \"x\": [\"China\", \"italy\", \"spain\", \"germany\", \"france\", \"united kingdom\", \"turkey\", \"switzerland\", \"iran\", \"USA\"], \"xaxis\": \"x\", \"y\": [82875, 119827, 117710, 85778, 63536, 38172, 20921, 19706, 53183, 241703], \"yaxis\": \"y\"}],\n",
              "                        {\"annotations\": [{\"showarrow\": false, \"text\": \"Source: WHO-Covid_19\", \"x\": 0, \"xref\": \"paper\", \"y\": 0, \"yref\": \"paper\"}], \"geo\": {\"domain\": {\"x\": [0.0, 0.54], \"y\": [0.0, 1.0]}, \"lakecolor\": \"LightBlue\", \"landcolor\": \"white\", \"oceancolor\": \"MidnightBlue\", \"projection\": {\"type\": \"orthographic\"}, \"showocean\": true}, \"margin\": {\"b\": 40, \"l\": 60, \"r\": 10, \"t\": 25}, \"scene\": {\"domain\": {\"x\": [0.64, 1.0], \"y\": [0.0, 0.51]}}, \"template\": {\"data\": {\"bar\": [{\"error_x\": {\"color\": \"#f2f5fa\"}, \"error_y\": {\"color\": \"#f2f5fa\"}, \"marker\": {\"line\": {\"color\": \"rgb(17,17,17)\", \"width\": 0.5}}, \"type\": \"bar\"}], \"barpolar\": [{\"marker\": {\"line\": {\"color\": \"rgb(17,17,17)\", \"width\": 0.5}}, \"type\": \"barpolar\"}], \"carpet\": [{\"aaxis\": {\"endlinecolor\": \"#A2B1C6\", \"gridcolor\": \"#506784\", \"linecolor\": \"#506784\", \"minorgridcolor\": \"#506784\", \"startlinecolor\": \"#A2B1C6\"}, \"baxis\": {\"endlinecolor\": \"#A2B1C6\", \"gridcolor\": \"#506784\", \"linecolor\": \"#506784\", \"minorgridcolor\": \"#506784\", \"startlinecolor\": \"#A2B1C6\"}, \"type\": \"carpet\"}], \"choropleth\": [{\"colorbar\": {\"outlinewidth\": 0, \"ticks\": \"\"}, \"type\": \"choropleth\"}], \"contour\": [{\"colorbar\": {\"outlinewidth\": 0, \"ticks\": \"\"}, \"colorscale\": [[0.0, \"#0d0887\"], [0.1111111111111111, \"#46039f\"], [0.2222222222222222, \"#7201a8\"], [0.3333333333333333, \"#9c179e\"], [0.4444444444444444, \"#bd3786\"], [0.5555555555555556, \"#d8576b\"], [0.6666666666666666, \"#ed7953\"], [0.7777777777777778, \"#fb9f3a\"], [0.8888888888888888, \"#fdca26\"], [1.0, \"#f0f921\"]], \"type\": \"contour\"}], \"contourcarpet\": [{\"colorbar\": {\"outlinewidth\": 0, \"ticks\": \"\"}, \"type\": \"contourcarpet\"}], \"heatmap\": [{\"colorbar\": {\"outlinewidth\": 0, \"ticks\": \"\"}, \"colorscale\": [[0.0, \"#0d0887\"], [0.1111111111111111, \"#46039f\"], [0.2222222222222222, \"#7201a8\"], [0.3333333333333333, \"#9c179e\"], [0.4444444444444444, \"#bd3786\"], [0.5555555555555556, \"#d8576b\"], [0.6666666666666666, \"#ed7953\"], [0.7777777777777778, \"#fb9f3a\"], [0.8888888888888888, \"#fdca26\"], [1.0, \"#f0f921\"]], \"type\": \"heatmap\"}], \"heatmapgl\": [{\"colorbar\": {\"outlinewidth\": 0, \"ticks\": \"\"}, \"colorscale\": [[0.0, \"#0d0887\"], [0.1111111111111111, \"#46039f\"], [0.2222222222222222, \"#7201a8\"], [0.3333333333333333, \"#9c179e\"], [0.4444444444444444, \"#bd3786\"], [0.5555555555555556, \"#d8576b\"], [0.6666666666666666, \"#ed7953\"], [0.7777777777777778, \"#fb9f3a\"], [0.8888888888888888, \"#fdca26\"], [1.0, \"#f0f921\"]], \"type\": \"heatmapgl\"}], \"histogram\": [{\"marker\": {\"colorbar\": {\"outlinewidth\": 0, \"ticks\": \"\"}}, \"type\": \"histogram\"}], \"histogram2d\": [{\"colorbar\": {\"outlinewidth\": 0, \"ticks\": \"\"}, \"colorscale\": [[0.0, \"#0d0887\"], [0.1111111111111111, \"#46039f\"], [0.2222222222222222, \"#7201a8\"], [0.3333333333333333, \"#9c179e\"], [0.4444444444444444, \"#bd3786\"], [0.5555555555555556, \"#d8576b\"], [0.6666666666666666, \"#ed7953\"], [0.7777777777777778, \"#fb9f3a\"], [0.8888888888888888, \"#fdca26\"], [1.0, \"#f0f921\"]], \"type\": \"histogram2d\"}], \"histogram2dcontour\": [{\"colorbar\": {\"outlinewidth\": 0, \"ticks\": \"\"}, \"colorscale\": [[0.0, \"#0d0887\"], [0.1111111111111111, \"#46039f\"], [0.2222222222222222, \"#7201a8\"], [0.3333333333333333, \"#9c179e\"], [0.4444444444444444, \"#bd3786\"], [0.5555555555555556, \"#d8576b\"], [0.6666666666666666, \"#ed7953\"], [0.7777777777777778, \"#fb9f3a\"], [0.8888888888888888, \"#fdca26\"], [1.0, \"#f0f921\"]], \"type\": \"histogram2dcontour\"}], \"mesh3d\": [{\"colorbar\": {\"outlinewidth\": 0, \"ticks\": \"\"}, \"type\": \"mesh3d\"}], \"parcoords\": [{\"line\": {\"colorbar\": {\"outlinewidth\": 0, \"ticks\": \"\"}}, \"type\": \"parcoords\"}], \"pie\": [{\"automargin\": true, \"type\": \"pie\"}], \"scatter\": [{\"marker\": {\"line\": {\"color\": \"#283442\"}}, \"type\": \"scatter\"}], \"scatter3d\": [{\"line\": {\"colorbar\": {\"outlinewidth\": 0, \"ticks\": \"\"}}, \"marker\": {\"colorbar\": {\"outlinewidth\": 0, \"ticks\": \"\"}}, \"type\": \"scatter3d\"}], \"scattercarpet\": [{\"marker\": {\"colorbar\": {\"outlinewidth\": 0, \"ticks\": \"\"}}, \"type\": \"scattercarpet\"}], \"scattergeo\": [{\"marker\": {\"colorbar\": {\"outlinewidth\": 0, \"ticks\": \"\"}}, \"type\": \"scattergeo\"}], \"scattergl\": [{\"marker\": {\"line\": {\"color\": \"#283442\"}}, \"type\": \"scattergl\"}], \"scattermapbox\": [{\"marker\": {\"colorbar\": {\"outlinewidth\": 0, \"ticks\": \"\"}}, \"type\": \"scattermapbox\"}], \"scatterpolar\": [{\"marker\": {\"colorbar\": {\"outlinewidth\": 0, \"ticks\": \"\"}}, \"type\": \"scatterpolar\"}], \"scatterpolargl\": [{\"marker\": {\"colorbar\": {\"outlinewidth\": 0, \"ticks\": \"\"}}, \"type\": \"scatterpolargl\"}], \"scatterternary\": [{\"marker\": {\"colorbar\": {\"outlinewidth\": 0, \"ticks\": \"\"}}, \"type\": \"scatterternary\"}], \"surface\": [{\"colorbar\": {\"outlinewidth\": 0, \"ticks\": \"\"}, \"colorscale\": [[0.0, \"#0d0887\"], [0.1111111111111111, \"#46039f\"], [0.2222222222222222, \"#7201a8\"], [0.3333333333333333, \"#9c179e\"], [0.4444444444444444, \"#bd3786\"], [0.5555555555555556, \"#d8576b\"], [0.6666666666666666, \"#ed7953\"], [0.7777777777777778, \"#fb9f3a\"], [0.8888888888888888, \"#fdca26\"], [1.0, \"#f0f921\"]], \"type\": \"surface\"}], \"table\": [{\"cells\": {\"fill\": {\"color\": \"#506784\"}, \"line\": {\"color\": \"rgb(17,17,17)\"}}, \"header\": {\"fill\": {\"color\": \"#2a3f5f\"}, \"line\": {\"color\": \"rgb(17,17,17)\"}}, \"type\": \"table\"}]}, \"layout\": {\"annotationdefaults\": {\"arrowcolor\": \"#f2f5fa\", \"arrowhead\": 0, \"arrowwidth\": 1}, \"coloraxis\": {\"colorbar\": {\"outlinewidth\": 0, \"ticks\": \"\"}}, \"colorscale\": {\"diverging\": [[0, \"#8e0152\"], [0.1, \"#c51b7d\"], [0.2, \"#de77ae\"], [0.3, \"#f1b6da\"], [0.4, \"#fde0ef\"], [0.5, \"#f7f7f7\"], [0.6, \"#e6f5d0\"], [0.7, \"#b8e186\"], [0.8, \"#7fbc41\"], [0.9, \"#4d9221\"], [1, \"#276419\"]], \"sequential\": [[0.0, \"#0d0887\"], [0.1111111111111111, \"#46039f\"], [0.2222222222222222, \"#7201a8\"], [0.3333333333333333, \"#9c179e\"], [0.4444444444444444, \"#bd3786\"], [0.5555555555555556, \"#d8576b\"], [0.6666666666666666, \"#ed7953\"], [0.7777777777777778, \"#fb9f3a\"], [0.8888888888888888, \"#fdca26\"], [1.0, \"#f0f921\"]], \"sequentialminus\": [[0.0, \"#0d0887\"], [0.1111111111111111, \"#46039f\"], [0.2222222222222222, \"#7201a8\"], [0.3333333333333333, \"#9c179e\"], [0.4444444444444444, \"#bd3786\"], [0.5555555555555556, \"#d8576b\"], [0.6666666666666666, \"#ed7953\"], [0.7777777777777778, \"#fb9f3a\"], [0.8888888888888888, \"#fdca26\"], [1.0, \"#f0f921\"]]}, \"colorway\": [\"#636efa\", \"#EF553B\", \"#00cc96\", \"#ab63fa\", \"#FFA15A\", \"#19d3f3\", \"#FF6692\", \"#B6E880\", \"#FF97FF\", \"#FECB52\"], \"font\": {\"color\": \"#f2f5fa\"}, \"geo\": {\"bgcolor\": \"rgb(17,17,17)\", \"lakecolor\": \"rgb(17,17,17)\", \"landcolor\": \"rgb(17,17,17)\", \"showlakes\": true, \"showland\": true, \"subunitcolor\": \"#506784\"}, \"hoverlabel\": {\"align\": \"left\"}, \"hovermode\": \"closest\", \"mapbox\": {\"style\": \"dark\"}, \"paper_bgcolor\": \"rgb(17,17,17)\", \"plot_bgcolor\": \"rgb(17,17,17)\", \"polar\": {\"angularaxis\": {\"gridcolor\": \"#506784\", \"linecolor\": \"#506784\", \"ticks\": \"\"}, \"bgcolor\": \"rgb(17,17,17)\", \"radialaxis\": {\"gridcolor\": \"#506784\", \"linecolor\": \"#506784\", \"ticks\": \"\"}}, \"scene\": {\"xaxis\": {\"backgroundcolor\": \"rgb(17,17,17)\", \"gridcolor\": \"#506784\", \"gridwidth\": 2, \"linecolor\": \"#506784\", \"showbackground\": true, \"ticks\": \"\", \"zerolinecolor\": \"#C8D4E3\"}, \"yaxis\": {\"backgroundcolor\": \"rgb(17,17,17)\", \"gridcolor\": \"#506784\", \"gridwidth\": 2, \"linecolor\": \"#506784\", \"showbackground\": true, \"ticks\": \"\", \"zerolinecolor\": \"#C8D4E3\"}, \"zaxis\": {\"backgroundcolor\": \"rgb(17,17,17)\", \"gridcolor\": \"#506784\", \"gridwidth\": 2, \"linecolor\": \"#506784\", \"showbackground\": true, \"ticks\": \"\", \"zerolinecolor\": \"#C8D4E3\"}}, \"shapedefaults\": {\"line\": {\"color\": \"#f2f5fa\"}}, \"sliderdefaults\": {\"bgcolor\": \"#C8D4E3\", \"bordercolor\": \"rgb(17,17,17)\", \"borderwidth\": 1, \"tickwidth\": 0}, \"ternary\": {\"aaxis\": {\"gridcolor\": \"#506784\", \"linecolor\": \"#506784\", \"ticks\": \"\"}, \"baxis\": {\"gridcolor\": \"#506784\", \"linecolor\": \"#506784\", \"ticks\": \"\"}, \"bgcolor\": \"rgb(17,17,17)\", \"caxis\": {\"gridcolor\": \"#506784\", \"linecolor\": \"#506784\", \"ticks\": \"\"}}, \"title\": {\"x\": 0.05}, \"updatemenudefaults\": {\"bgcolor\": \"#506784\", \"borderwidth\": 0}, \"xaxis\": {\"automargin\": true, \"gridcolor\": \"#283442\", \"linecolor\": \"#506784\", \"ticks\": \"\", \"title\": {\"standoff\": 15}, \"zerolinecolor\": \"#283442\", \"zerolinewidth\": 2}, \"yaxis\": {\"automargin\": true, \"gridcolor\": \"#283442\", \"linecolor\": \"#506784\", \"ticks\": \"\", \"title\": {\"standoff\": 15}, \"zerolinecolor\": \"#283442\", \"zerolinewidth\": 2}}}, \"xaxis\": {\"anchor\": \"y\", \"domain\": [0.64, 1.0], \"tickangle\": 45}, \"yaxis\": {\"anchor\": \"x\", \"domain\": [0.66, 1.0]}},\n",
              "                        {\"responsive\": true}\n",
              "                    ).then(function(){\n",
              "                            \n",
              "var gd = document.getElementById('88d4bdb5-52bb-43d7-a603-ac1ca21b34d6');\n",
              "var x = new MutationObserver(function (mutations, observer) {{\n",
              "        var display = window.getComputedStyle(gd).display;\n",
              "        if (!display || display === 'none') {{\n",
              "            console.log([gd, 'removed!']);\n",
              "            Plotly.purge(gd);\n",
              "            observer.disconnect();\n",
              "        }}\n",
              "}});\n",
              "\n",
              "// Listen for the removal of the full notebook cells\n",
              "var notebookContainer = gd.closest('#notebook-container');\n",
              "if (notebookContainer) {{\n",
              "    x.observe(notebookContainer, {childList: true});\n",
              "}}\n",
              "\n",
              "// Listen for the clearing of the current output cell\n",
              "var outputEl = gd.closest('.output');\n",
              "if (outputEl) {{\n",
              "    x.observe(outputEl, {childList: true});\n",
              "}}\n",
              "\n",
              "                        })\n",
              "                };\n",
              "                \n",
              "            </script>\n",
              "        </div>\n",
              "</body>\n",
              "</html>"
            ]
          },
          "metadata": {
            "tags": []
          }
        }
      ]
    },
    {
      "cell_type": "markdown",
      "metadata": {
        "id": "djFy06vWCYye",
        "colab_type": "text"
      },
      "source": [
        "Based on the bar graph, USA is the most affected country since January , 2020 as a number of confirmed cases. Then Italy, Spain, and Germany are coming. Since Covid-19 has been a part of our lives, we have gotten serious actions such as closing all private and public schools, most of business, restaurants and shopping areas, limiting or stopping face to face communication, staying at home for weeks and even shotting down some cities or states of countries. \n",
        "\n",
        "All those serious actions and limitations would have some consequances and effects on society and people' lives. Thus, second part will be about those effects and will analysis how serious they are."
      ]
    },
    {
      "cell_type": "markdown",
      "metadata": {
        "id": "GnrwDOh9EZIP",
        "colab_type": "text"
      },
      "source": [
        "## 2) Consequence of Covid-19\n",
        "\n",
        "I have two nice datasets. \n",
        "\n",
        "First datasets is about the people who are confirmed by the symptoms of depressive and anxious disorders. This dataset is made and gained  at some states in USAd during covid-19 period. I will critisize and make graph on the symptom of depressive orders based one age and gender.\n",
        "\n",
        "The second dataset is about a survey which is gained most popular states all over USA, and survey consists of 500 participants from each states. I will study the consequances of Covid-19 on society who people life will be affected and on psychology who people feel; anxious and nervious, depressive, lonely, and hopeless about the future,"
      ]
    },
    {
      "cell_type": "markdown",
      "metadata": {
        "id": "ZIJXUHH4EtG7",
        "colab_type": "text"
      },
      "source": [
        "### 2.1)  Covid-19 Dataset related to Sypmtoms of Depressive Disorders "
      ]
    },
    {
      "cell_type": "code",
      "metadata": {
        "id": "EUG5ezN9Asd0",
        "colab_type": "code",
        "colab": {
          "base_uri": "https://localhost:8080/",
          "height": 85
        },
        "outputId": "ac8aa7cc-efba-4ae8-869c-f35e07702725"
      },
      "source": [
        "# Load Libraries\n",
        "import pandas as pd\n",
        "import numpy as np\n",
        "import seaborn as sns\n",
        "import matplotlib.pyplot as plt"
      ],
      "execution_count": 34,
      "outputs": [
        {
          "output_type": "stream",
          "text": [
            "/usr/local/lib/python3.6/dist-packages/statsmodels/tools/_testing.py:19: FutureWarning:\n",
            "\n",
            "pandas.util.testing is deprecated. Use the functions in the public API at pandas.testing instead.\n",
            "\n"
          ],
          "name": "stderr"
        }
      ]
    },
    {
      "cell_type": "code",
      "metadata": {
        "id": "pKVzbIYgE3ME",
        "colab_type": "code",
        "colab": {
          "base_uri": "https://localhost:8080/",
          "height": 204
        },
        "outputId": "e8863c48-d147-4c95-c5b3-3be04048be0d"
      },
      "source": [
        "#Load the data\n",
        "url= 'https://data.cdc.gov/resource/8pt5-q6wp.csv'\n",
        "symptoms=pd.read_csv(url)\n",
        "symptoms.head()"
      ],
      "execution_count": 35,
      "outputs": [
        {
          "output_type": "execute_result",
          "data": {
            "text/html": [
              "<div>\n",
              "<style scoped>\n",
              "    .dataframe tbody tr th:only-of-type {\n",
              "        vertical-align: middle;\n",
              "    }\n",
              "\n",
              "    .dataframe tbody tr th {\n",
              "        vertical-align: top;\n",
              "    }\n",
              "\n",
              "    .dataframe thead th {\n",
              "        text-align: right;\n",
              "    }\n",
              "</style>\n",
              "<table border=\"1\" class=\"dataframe\">\n",
              "  <thead>\n",
              "    <tr style=\"text-align: right;\">\n",
              "      <th></th>\n",
              "      <th>indicator</th>\n",
              "      <th>group</th>\n",
              "      <th>state</th>\n",
              "      <th>subgroup</th>\n",
              "      <th>week</th>\n",
              "      <th>week_label</th>\n",
              "      <th>value</th>\n",
              "      <th>lowci</th>\n",
              "      <th>highci</th>\n",
              "      <th>confidence_interval</th>\n",
              "      <th>quartile_range</th>\n",
              "    </tr>\n",
              "  </thead>\n",
              "  <tbody>\n",
              "    <tr>\n",
              "      <th>0</th>\n",
              "      <td>Symptoms of Depressive Disorder</td>\n",
              "      <td>National Estimate</td>\n",
              "      <td>United States</td>\n",
              "      <td>United States</td>\n",
              "      <td>1</td>\n",
              "      <td>Apr 23 - May 5</td>\n",
              "      <td>23.5</td>\n",
              "      <td>22.7</td>\n",
              "      <td>24.3</td>\n",
              "      <td>22.7 - 24.3</td>\n",
              "      <td>NaN</td>\n",
              "    </tr>\n",
              "    <tr>\n",
              "      <th>1</th>\n",
              "      <td>Symptoms of Depressive Disorder</td>\n",
              "      <td>By Age</td>\n",
              "      <td>United States</td>\n",
              "      <td>18 - 29 years</td>\n",
              "      <td>1</td>\n",
              "      <td>Apr 23 - May 5</td>\n",
              "      <td>32.7</td>\n",
              "      <td>30.2</td>\n",
              "      <td>35.2</td>\n",
              "      <td>30.2 - 35.2</td>\n",
              "      <td>NaN</td>\n",
              "    </tr>\n",
              "    <tr>\n",
              "      <th>2</th>\n",
              "      <td>Symptoms of Depressive Disorder</td>\n",
              "      <td>By Age</td>\n",
              "      <td>United States</td>\n",
              "      <td>30 - 39 years</td>\n",
              "      <td>1</td>\n",
              "      <td>Apr 23 - May 5</td>\n",
              "      <td>25.7</td>\n",
              "      <td>24.1</td>\n",
              "      <td>27.3</td>\n",
              "      <td>24.1 - 27.3</td>\n",
              "      <td>NaN</td>\n",
              "    </tr>\n",
              "    <tr>\n",
              "      <th>3</th>\n",
              "      <td>Symptoms of Depressive Disorder</td>\n",
              "      <td>By Age</td>\n",
              "      <td>United States</td>\n",
              "      <td>40 - 49 years</td>\n",
              "      <td>1</td>\n",
              "      <td>Apr 23 - May 5</td>\n",
              "      <td>24.8</td>\n",
              "      <td>23.3</td>\n",
              "      <td>26.2</td>\n",
              "      <td>23.3 - 26.2</td>\n",
              "      <td>NaN</td>\n",
              "    </tr>\n",
              "    <tr>\n",
              "      <th>4</th>\n",
              "      <td>Symptoms of Depressive Disorder</td>\n",
              "      <td>By Age</td>\n",
              "      <td>United States</td>\n",
              "      <td>50 - 59 years</td>\n",
              "      <td>1</td>\n",
              "      <td>Apr 23 - May 5</td>\n",
              "      <td>23.2</td>\n",
              "      <td>21.5</td>\n",
              "      <td>25.0</td>\n",
              "      <td>21.5 - 25.0</td>\n",
              "      <td>NaN</td>\n",
              "    </tr>\n",
              "  </tbody>\n",
              "</table>\n",
              "</div>"
            ],
            "text/plain": [
              "                         indicator  ... quartile_range\n",
              "0  Symptoms of Depressive Disorder  ...            NaN\n",
              "1  Symptoms of Depressive Disorder  ...            NaN\n",
              "2  Symptoms of Depressive Disorder  ...            NaN\n",
              "3  Symptoms of Depressive Disorder  ...            NaN\n",
              "4  Symptoms of Depressive Disorder  ...            NaN\n",
              "\n",
              "[5 rows x 11 columns]"
            ]
          },
          "metadata": {
            "tags": []
          },
          "execution_count": 35
        }
      ]
    },
    {
      "cell_type": "code",
      "metadata": {
        "id": "AU-C_fQeE3JK",
        "colab_type": "code",
        "colab": {
          "base_uri": "https://localhost:8080/",
          "height": 34
        },
        "outputId": "bdda8227-e133-467c-ee9b-70cab846695e"
      },
      "source": [
        "symptoms.shape"
      ],
      "execution_count": 36,
      "outputs": [
        {
          "output_type": "execute_result",
          "data": {
            "text/plain": [
              "(1000, 11)"
            ]
          },
          "metadata": {
            "tags": []
          },
          "execution_count": 36
        }
      ]
    },
    {
      "cell_type": "code",
      "metadata": {
        "id": "t4qhYsJKE3Ge",
        "colab_type": "code",
        "colab": {
          "base_uri": "https://localhost:8080/",
          "height": 221
        },
        "outputId": "47f253cc-0c05-4cde-a3c1-39e10ad2c6b8"
      },
      "source": [
        "# Check the missing values\n",
        "symptoms.isnull().sum()"
      ],
      "execution_count": 37,
      "outputs": [
        {
          "output_type": "execute_result",
          "data": {
            "text/plain": [
              "indicator                0\n",
              "group                    0\n",
              "state                    0\n",
              "subgroup                 0\n",
              "week                     0\n",
              "week_label               0\n",
              "value                    0\n",
              "lowci                    0\n",
              "highci                   0\n",
              "confidence_interval      0\n",
              "quartile_range         285\n",
              "dtype: int64"
            ]
          },
          "metadata": {
            "tags": []
          },
          "execution_count": 37
        }
      ]
    },
    {
      "cell_type": "markdown",
      "metadata": {
        "id": "0THG7teNFFWx",
        "colab_type": "text"
      },
      "source": [
        "Very clean data. I do not need some columns, so I will arrage my dataset with the columns where I am particullary interested in"
      ]
    },
    {
      "cell_type": "code",
      "metadata": {
        "id": "nDZzputJE3Dm",
        "colab_type": "code",
        "colab": {
          "base_uri": "https://localhost:8080/",
          "height": 68
        },
        "outputId": "4ea9864c-fe5d-4c70-a935-9a721bf2066d"
      },
      "source": [
        "symptoms.columns"
      ],
      "execution_count": 38,
      "outputs": [
        {
          "output_type": "execute_result",
          "data": {
            "text/plain": [
              "Index(['indicator', 'group', 'state', 'subgroup', 'week', 'week_label',\n",
              "       'value', 'lowci', 'highci', 'confidence_interval', 'quartile_range'],\n",
              "      dtype='object')"
            ]
          },
          "metadata": {
            "tags": []
          },
          "execution_count": 38
        }
      ]
    },
    {
      "cell_type": "code",
      "metadata": {
        "id": "O0E0sycnE3A6",
        "colab_type": "code",
        "colab": {
          "base_uri": "https://localhost:8080/",
          "height": 204
        },
        "outputId": "55d3c9b2-6445-4f30-892f-9960c376b5ba"
      },
      "source": [
        "column_name=['indicator', 'group', 'state', 'subgroup', 'week', 'week_label',\n",
        "       'value']\n",
        "clean_symptoms=symptoms[column_name]\n",
        "clean_symptoms.head()"
      ],
      "execution_count": 39,
      "outputs": [
        {
          "output_type": "execute_result",
          "data": {
            "text/html": [
              "<div>\n",
              "<style scoped>\n",
              "    .dataframe tbody tr th:only-of-type {\n",
              "        vertical-align: middle;\n",
              "    }\n",
              "\n",
              "    .dataframe tbody tr th {\n",
              "        vertical-align: top;\n",
              "    }\n",
              "\n",
              "    .dataframe thead th {\n",
              "        text-align: right;\n",
              "    }\n",
              "</style>\n",
              "<table border=\"1\" class=\"dataframe\">\n",
              "  <thead>\n",
              "    <tr style=\"text-align: right;\">\n",
              "      <th></th>\n",
              "      <th>indicator</th>\n",
              "      <th>group</th>\n",
              "      <th>state</th>\n",
              "      <th>subgroup</th>\n",
              "      <th>week</th>\n",
              "      <th>week_label</th>\n",
              "      <th>value</th>\n",
              "    </tr>\n",
              "  </thead>\n",
              "  <tbody>\n",
              "    <tr>\n",
              "      <th>0</th>\n",
              "      <td>Symptoms of Depressive Disorder</td>\n",
              "      <td>National Estimate</td>\n",
              "      <td>United States</td>\n",
              "      <td>United States</td>\n",
              "      <td>1</td>\n",
              "      <td>Apr 23 - May 5</td>\n",
              "      <td>23.5</td>\n",
              "    </tr>\n",
              "    <tr>\n",
              "      <th>1</th>\n",
              "      <td>Symptoms of Depressive Disorder</td>\n",
              "      <td>By Age</td>\n",
              "      <td>United States</td>\n",
              "      <td>18 - 29 years</td>\n",
              "      <td>1</td>\n",
              "      <td>Apr 23 - May 5</td>\n",
              "      <td>32.7</td>\n",
              "    </tr>\n",
              "    <tr>\n",
              "      <th>2</th>\n",
              "      <td>Symptoms of Depressive Disorder</td>\n",
              "      <td>By Age</td>\n",
              "      <td>United States</td>\n",
              "      <td>30 - 39 years</td>\n",
              "      <td>1</td>\n",
              "      <td>Apr 23 - May 5</td>\n",
              "      <td>25.7</td>\n",
              "    </tr>\n",
              "    <tr>\n",
              "      <th>3</th>\n",
              "      <td>Symptoms of Depressive Disorder</td>\n",
              "      <td>By Age</td>\n",
              "      <td>United States</td>\n",
              "      <td>40 - 49 years</td>\n",
              "      <td>1</td>\n",
              "      <td>Apr 23 - May 5</td>\n",
              "      <td>24.8</td>\n",
              "    </tr>\n",
              "    <tr>\n",
              "      <th>4</th>\n",
              "      <td>Symptoms of Depressive Disorder</td>\n",
              "      <td>By Age</td>\n",
              "      <td>United States</td>\n",
              "      <td>50 - 59 years</td>\n",
              "      <td>1</td>\n",
              "      <td>Apr 23 - May 5</td>\n",
              "      <td>23.2</td>\n",
              "    </tr>\n",
              "  </tbody>\n",
              "</table>\n",
              "</div>"
            ],
            "text/plain": [
              "                         indicator              group  ...      week_label value\n",
              "0  Symptoms of Depressive Disorder  National Estimate  ...  Apr 23 - May 5  23.5\n",
              "1  Symptoms of Depressive Disorder             By Age  ...  Apr 23 - May 5  32.7\n",
              "2  Symptoms of Depressive Disorder             By Age  ...  Apr 23 - May 5  25.7\n",
              "3  Symptoms of Depressive Disorder             By Age  ...  Apr 23 - May 5  24.8\n",
              "4  Symptoms of Depressive Disorder             By Age  ...  Apr 23 - May 5  23.2\n",
              "\n",
              "[5 rows x 7 columns]"
            ]
          },
          "metadata": {
            "tags": []
          },
          "execution_count": 39
        }
      ]
    },
    {
      "cell_type": "markdown",
      "metadata": {
        "id": "-E3k6Rk3FZGo",
        "colab_type": "text"
      },
      "source": [
        "#### 2.1.1 Let's explore the data what we have\n",
        "\n",
        "Indicator and group columns have different categorical row values. Let's figure out what we have"
      ]
    },
    {
      "cell_type": "markdown",
      "metadata": {
        "id": "3By9f6fyFl4m",
        "colab_type": "text"
      },
      "source": [
        "-- How many types of disorder catagories are at the data"
      ]
    },
    {
      "cell_type": "code",
      "metadata": {
        "id": "ZrJjF9i1E294",
        "colab_type": "code",
        "colab": {
          "base_uri": "https://localhost:8080/",
          "height": 85
        },
        "outputId": "bc3d3f56-7ac3-4177-d1ec-ceba02bd90f6"
      },
      "source": [
        "# Let's check the indicator group\n",
        "clean_symptoms['indicator'].value_counts()"
      ],
      "execution_count": 40,
      "outputs": [
        {
          "output_type": "execute_result",
          "data": {
            "text/plain": [
              "Symptoms of Anxiety Disorder                           350\n",
              "Symptoms of Depressive Disorder                        350\n",
              "Symptoms of Anxiety Disorder or Depressive Disorder    300\n",
              "Name: indicator, dtype: int64"
            ]
          },
          "metadata": {
            "tags": []
          },
          "execution_count": 40
        }
      ]
    },
    {
      "cell_type": "markdown",
      "metadata": {
        "id": "W9Zzg89eJKOZ",
        "colab_type": "text"
      },
      "source": [
        "Three catogeries and almost the same numbers of rows for each one. I want to create data sets for each one to visualize."
      ]
    },
    {
      "cell_type": "markdown",
      "metadata": {
        "id": "W4FoKkZjJMiD",
        "colab_type": "text"
      },
      "source": [
        "--what type of categories there are at the column 'group'"
      ]
    },
    {
      "cell_type": "code",
      "metadata": {
        "id": "RJ7mLVXdEXUm",
        "colab_type": "code",
        "colab": {
          "base_uri": "https://localhost:8080/",
          "height": 136
        },
        "outputId": "0875fb5a-3b64-41e4-d0f2-6e8bed507397"
      },
      "source": [
        "clean_symptoms['group'].value_counts()"
      ],
      "execution_count": 41,
      "outputs": [
        {
          "output_type": "execute_result",
          "data": {
            "text/plain": [
              "By State                      715\n",
              "By Age                        105\n",
              "By Race/Hispanic ethnicity     75\n",
              "By Education                   60\n",
              "By Gender                      30\n",
              "National Estimate              15\n",
              "Name: group, dtype: int64"
            ]
          },
          "metadata": {
            "tags": []
          },
          "execution_count": 41
        }
      ]
    },
    {
      "cell_type": "markdown",
      "metadata": {
        "id": "gLM4gW6vJY-E",
        "colab_type": "text"
      },
      "source": [
        "There are  6 type of categories at the group column. We should think separate as we analysis the data as well"
      ]
    },
    {
      "cell_type": "markdown",
      "metadata": {
        "id": "RREwSrplKaNY",
        "colab_type": "text"
      },
      "source": [
        "#### 2.1.2 Symptoms of Depressive Disorder\n",
        "\n",
        "Three categorical datasets we might figure out. However, I want to only focus on symptoms of depressive disorder and create a new dataset. "
      ]
    },
    {
      "cell_type": "code",
      "metadata": {
        "id": "D4EVjq2aEXR7",
        "colab_type": "code",
        "colab": {
          "base_uri": "https://localhost:8080/",
          "height": 142
        },
        "outputId": "a83843ba-4084-4beb-c65c-b94c46c279ad"
      },
      "source": [
        "symptomsofdepressive=clean_symptoms[clean_symptoms['indicator']=='Symptoms of Depressive Disorder']\n",
        "symptomsofdepressive.head(3)"
      ],
      "execution_count": 42,
      "outputs": [
        {
          "output_type": "execute_result",
          "data": {
            "text/html": [
              "<div>\n",
              "<style scoped>\n",
              "    .dataframe tbody tr th:only-of-type {\n",
              "        vertical-align: middle;\n",
              "    }\n",
              "\n",
              "    .dataframe tbody tr th {\n",
              "        vertical-align: top;\n",
              "    }\n",
              "\n",
              "    .dataframe thead th {\n",
              "        text-align: right;\n",
              "    }\n",
              "</style>\n",
              "<table border=\"1\" class=\"dataframe\">\n",
              "  <thead>\n",
              "    <tr style=\"text-align: right;\">\n",
              "      <th></th>\n",
              "      <th>indicator</th>\n",
              "      <th>group</th>\n",
              "      <th>state</th>\n",
              "      <th>subgroup</th>\n",
              "      <th>week</th>\n",
              "      <th>week_label</th>\n",
              "      <th>value</th>\n",
              "    </tr>\n",
              "  </thead>\n",
              "  <tbody>\n",
              "    <tr>\n",
              "      <th>0</th>\n",
              "      <td>Symptoms of Depressive Disorder</td>\n",
              "      <td>National Estimate</td>\n",
              "      <td>United States</td>\n",
              "      <td>United States</td>\n",
              "      <td>1</td>\n",
              "      <td>Apr 23 - May 5</td>\n",
              "      <td>23.5</td>\n",
              "    </tr>\n",
              "    <tr>\n",
              "      <th>1</th>\n",
              "      <td>Symptoms of Depressive Disorder</td>\n",
              "      <td>By Age</td>\n",
              "      <td>United States</td>\n",
              "      <td>18 - 29 years</td>\n",
              "      <td>1</td>\n",
              "      <td>Apr 23 - May 5</td>\n",
              "      <td>32.7</td>\n",
              "    </tr>\n",
              "    <tr>\n",
              "      <th>2</th>\n",
              "      <td>Symptoms of Depressive Disorder</td>\n",
              "      <td>By Age</td>\n",
              "      <td>United States</td>\n",
              "      <td>30 - 39 years</td>\n",
              "      <td>1</td>\n",
              "      <td>Apr 23 - May 5</td>\n",
              "      <td>25.7</td>\n",
              "    </tr>\n",
              "  </tbody>\n",
              "</table>\n",
              "</div>"
            ],
            "text/plain": [
              "                         indicator              group  ...      week_label value\n",
              "0  Symptoms of Depressive Disorder  National Estimate  ...  Apr 23 - May 5  23.5\n",
              "1  Symptoms of Depressive Disorder             By Age  ...  Apr 23 - May 5  32.7\n",
              "2  Symptoms of Depressive Disorder             By Age  ...  Apr 23 - May 5  25.7\n",
              "\n",
              "[3 rows x 7 columns]"
            ]
          },
          "metadata": {
            "tags": []
          },
          "execution_count": 42
        }
      ]
    },
    {
      "cell_type": "markdown",
      "metadata": {
        "id": "D5pYKu85LYXB",
        "colab_type": "text"
      },
      "source": [
        "Group column has too many catogeries. I have to separate them as well."
      ]
    },
    {
      "cell_type": "code",
      "metadata": {
        "id": "z6gM6BWrEXPJ",
        "colab_type": "code",
        "colab": {
          "base_uri": "https://localhost:8080/",
          "height": 359
        },
        "outputId": "0134fc3e-48ad-490d-ce27-991064d3beed"
      },
      "source": [
        "#Explore the data by age \n",
        "symptomsofdepressive[symptomsofdepressive['group']=='By Age'].head(10)"
      ],
      "execution_count": 43,
      "outputs": [
        {
          "output_type": "execute_result",
          "data": {
            "text/html": [
              "<div>\n",
              "<style scoped>\n",
              "    .dataframe tbody tr th:only-of-type {\n",
              "        vertical-align: middle;\n",
              "    }\n",
              "\n",
              "    .dataframe tbody tr th {\n",
              "        vertical-align: top;\n",
              "    }\n",
              "\n",
              "    .dataframe thead th {\n",
              "        text-align: right;\n",
              "    }\n",
              "</style>\n",
              "<table border=\"1\" class=\"dataframe\">\n",
              "  <thead>\n",
              "    <tr style=\"text-align: right;\">\n",
              "      <th></th>\n",
              "      <th>indicator</th>\n",
              "      <th>group</th>\n",
              "      <th>state</th>\n",
              "      <th>subgroup</th>\n",
              "      <th>week</th>\n",
              "      <th>week_label</th>\n",
              "      <th>value</th>\n",
              "    </tr>\n",
              "  </thead>\n",
              "  <tbody>\n",
              "    <tr>\n",
              "      <th>1</th>\n",
              "      <td>Symptoms of Depressive Disorder</td>\n",
              "      <td>By Age</td>\n",
              "      <td>United States</td>\n",
              "      <td>18 - 29 years</td>\n",
              "      <td>1</td>\n",
              "      <td>Apr 23 - May 5</td>\n",
              "      <td>32.7</td>\n",
              "    </tr>\n",
              "    <tr>\n",
              "      <th>2</th>\n",
              "      <td>Symptoms of Depressive Disorder</td>\n",
              "      <td>By Age</td>\n",
              "      <td>United States</td>\n",
              "      <td>30 - 39 years</td>\n",
              "      <td>1</td>\n",
              "      <td>Apr 23 - May 5</td>\n",
              "      <td>25.7</td>\n",
              "    </tr>\n",
              "    <tr>\n",
              "      <th>3</th>\n",
              "      <td>Symptoms of Depressive Disorder</td>\n",
              "      <td>By Age</td>\n",
              "      <td>United States</td>\n",
              "      <td>40 - 49 years</td>\n",
              "      <td>1</td>\n",
              "      <td>Apr 23 - May 5</td>\n",
              "      <td>24.8</td>\n",
              "    </tr>\n",
              "    <tr>\n",
              "      <th>4</th>\n",
              "      <td>Symptoms of Depressive Disorder</td>\n",
              "      <td>By Age</td>\n",
              "      <td>United States</td>\n",
              "      <td>50 - 59 years</td>\n",
              "      <td>1</td>\n",
              "      <td>Apr 23 - May 5</td>\n",
              "      <td>23.2</td>\n",
              "    </tr>\n",
              "    <tr>\n",
              "      <th>5</th>\n",
              "      <td>Symptoms of Depressive Disorder</td>\n",
              "      <td>By Age</td>\n",
              "      <td>United States</td>\n",
              "      <td>60 - 69 years</td>\n",
              "      <td>1</td>\n",
              "      <td>Apr 23 - May 5</td>\n",
              "      <td>18.4</td>\n",
              "    </tr>\n",
              "    <tr>\n",
              "      <th>6</th>\n",
              "      <td>Symptoms of Depressive Disorder</td>\n",
              "      <td>By Age</td>\n",
              "      <td>United States</td>\n",
              "      <td>70 - 79 years</td>\n",
              "      <td>1</td>\n",
              "      <td>Apr 23 - May 5</td>\n",
              "      <td>13.6</td>\n",
              "    </tr>\n",
              "    <tr>\n",
              "      <th>7</th>\n",
              "      <td>Symptoms of Depressive Disorder</td>\n",
              "      <td>By Age</td>\n",
              "      <td>United States</td>\n",
              "      <td>80 years and above</td>\n",
              "      <td>1</td>\n",
              "      <td>Apr 23 - May 5</td>\n",
              "      <td>14.4</td>\n",
              "    </tr>\n",
              "    <tr>\n",
              "      <th>211</th>\n",
              "      <td>Symptoms of Depressive Disorder</td>\n",
              "      <td>By Age</td>\n",
              "      <td>United States</td>\n",
              "      <td>18 - 29 years</td>\n",
              "      <td>2</td>\n",
              "      <td>May 7 - May 12</td>\n",
              "      <td>36.2</td>\n",
              "    </tr>\n",
              "    <tr>\n",
              "      <th>212</th>\n",
              "      <td>Symptoms of Depressive Disorder</td>\n",
              "      <td>By Age</td>\n",
              "      <td>United States</td>\n",
              "      <td>30 - 39 years</td>\n",
              "      <td>2</td>\n",
              "      <td>May 7 - May 12</td>\n",
              "      <td>27.7</td>\n",
              "    </tr>\n",
              "    <tr>\n",
              "      <th>213</th>\n",
              "      <td>Symptoms of Depressive Disorder</td>\n",
              "      <td>By Age</td>\n",
              "      <td>United States</td>\n",
              "      <td>40 - 49 years</td>\n",
              "      <td>2</td>\n",
              "      <td>May 7 - May 12</td>\n",
              "      <td>25.5</td>\n",
              "    </tr>\n",
              "  </tbody>\n",
              "</table>\n",
              "</div>"
            ],
            "text/plain": [
              "                           indicator   group  ...      week_label value\n",
              "1    Symptoms of Depressive Disorder  By Age  ...  Apr 23 - May 5  32.7\n",
              "2    Symptoms of Depressive Disorder  By Age  ...  Apr 23 - May 5  25.7\n",
              "3    Symptoms of Depressive Disorder  By Age  ...  Apr 23 - May 5  24.8\n",
              "4    Symptoms of Depressive Disorder  By Age  ...  Apr 23 - May 5  23.2\n",
              "5    Symptoms of Depressive Disorder  By Age  ...  Apr 23 - May 5  18.4\n",
              "6    Symptoms of Depressive Disorder  By Age  ...  Apr 23 - May 5  13.6\n",
              "7    Symptoms of Depressive Disorder  By Age  ...  Apr 23 - May 5  14.4\n",
              "211  Symptoms of Depressive Disorder  By Age  ...  May 7 - May 12  36.2\n",
              "212  Symptoms of Depressive Disorder  By Age  ...  May 7 - May 12  27.7\n",
              "213  Symptoms of Depressive Disorder  By Age  ...  May 7 - May 12  25.5\n",
              "\n",
              "[10 rows x 7 columns]"
            ]
          },
          "metadata": {
            "tags": []
          },
          "execution_count": 43
        }
      ]
    },
    {
      "cell_type": "code",
      "metadata": {
        "id": "unRgRVTuEXLz",
        "colab_type": "code",
        "colab": {
          "base_uri": "https://localhost:8080/",
          "height": 265
        },
        "outputId": "88ce52b8-cb44-40a7-98b4-391d6a6c80ca"
      },
      "source": [
        "# in general distribution of number of case\n",
        "ax= sns.kdeplot(symptomsofdepressive['value'],shade=True, color='r');"
      ],
      "execution_count": 44,
      "outputs": [
        {
          "output_type": "display_data",
          "data": {
            "image/png": "[encoded data removed]",
            "text/plain": [
              "<Figure size 432x288 with 1 Axes>"
            ]
          },
          "metadata": {
            "tags": [],
            "needs_background": "light"
          }
        }
      ]
    },
    {
      "cell_type": "markdown",
      "metadata": {
        "id": "u-XtdPPvLoQk",
        "colab_type": "text"
      },
      "source": [
        "Most number of symtomps of depressive disorder occurs around 25 in general."
      ]
    },
    {
      "cell_type": "markdown",
      "metadata": {
        "id": "kiMdHViqLkW4",
        "colab_type": "text"
      },
      "source": [
        "##### 2.1.2.1 Age\n",
        "Let's look at case numbers of the each age group per weeks"
      ]
    },
    {
      "cell_type": "code",
      "metadata": {
        "id": "vcVItR4MEXHp",
        "colab_type": "code",
        "colab": {
          "base_uri": "https://localhost:8080/",
          "height": 0
        },
        "outputId": "4946ba73-0e3b-46cb-d04c-6d41aa2f0c12"
      },
      "source": [
        "symptomsofdepressive[symptomsofdepressive['week']==1]['value'].plot(kind='density',figsize=(16,4), color='Blue', xlim=(-5, 60),  );\n",
        "symptomsofdepressive[symptomsofdepressive['week']==2]['value'].plot(kind='density',figsize=(16,4), color='Yellow', xlim=(-5, 60) );\n",
        "symptomsofdepressive[symptomsofdepressive['week']==3]['value'].plot(kind='density',figsize=(16,4), color='Red', xlim=(-5, 60) );\n",
        "symptomsofdepressive[symptomsofdepressive['week']==4]['value'].plot(kind='density',figsize=(16,4), color='Green', xlim=(-5, 60) );\n",
        "symptomsofdepressive[symptomsofdepressive['week']==5]['value'].plot(kind='density',figsize=(16,4), color='Orange', xlim=(-5, 60) );\n",
        "plt.xlabel('Number of Cases')\n",
        "plt.ylabel('Density')\n",
        "plt.title('Symptoms of Depressive');"
      ],
      "execution_count": 45,
      "outputs": [
        {
          "output_type": "display_data",
          "data": {
            "image/png": "[encoded data removed]",
            "text/plain": [
              "<Figure size 1152x288 with 1 Axes>"
            ]
          },
          "metadata": {
            "tags": [],
            "needs_background": "light"
          }
        }
      ]
    },
    {
      "cell_type": "markdown",
      "metadata": {
        "id": "zYSQhWpmL1gs",
        "colab_type": "text"
      },
      "source": [
        "Week1 has most case number around 20 while week5 has the most number of cases close to 30. That makes sense because more weeks we have, more cases could be increased"
      ]
    },
    {
      "cell_type": "markdown",
      "metadata": {
        "id": "KUfHtAFnMPM5",
        "colab_type": "text"
      },
      "source": [
        "##### 2.1.2.2 Age\n",
        "\n",
        "Now, I am interested in looking by gender"
      ]
    },
    {
      "cell_type": "code",
      "metadata": {
        "id": "pP3nqAl6EXFJ",
        "colab_type": "code",
        "colab": {
          "base_uri": "https://localhost:8080/",
          "height": 204
        },
        "outputId": "fcf04828-f4c3-49f7-c9de-efe6d9aa9b5e"
      },
      "source": [
        "#Explore the data by gender\n",
        "symptomsofdepressive[symptomsofdepressive['group']=='By Gender'].head()"
      ],
      "execution_count": 46,
      "outputs": [
        {
          "output_type": "execute_result",
          "data": {
            "text/html": [
              "<div>\n",
              "<style scoped>\n",
              "    .dataframe tbody tr th:only-of-type {\n",
              "        vertical-align: middle;\n",
              "    }\n",
              "\n",
              "    .dataframe tbody tr th {\n",
              "        vertical-align: top;\n",
              "    }\n",
              "\n",
              "    .dataframe thead th {\n",
              "        text-align: right;\n",
              "    }\n",
              "</style>\n",
              "<table border=\"1\" class=\"dataframe\">\n",
              "  <thead>\n",
              "    <tr style=\"text-align: right;\">\n",
              "      <th></th>\n",
              "      <th>indicator</th>\n",
              "      <th>group</th>\n",
              "      <th>state</th>\n",
              "      <th>subgroup</th>\n",
              "      <th>week</th>\n",
              "      <th>week_label</th>\n",
              "      <th>value</th>\n",
              "    </tr>\n",
              "  </thead>\n",
              "  <tbody>\n",
              "    <tr>\n",
              "      <th>8</th>\n",
              "      <td>Symptoms of Depressive Disorder</td>\n",
              "      <td>By Gender</td>\n",
              "      <td>United States</td>\n",
              "      <td>Male</td>\n",
              "      <td>1</td>\n",
              "      <td>Apr 23 - May 5</td>\n",
              "      <td>20.8</td>\n",
              "    </tr>\n",
              "    <tr>\n",
              "      <th>9</th>\n",
              "      <td>Symptoms of Depressive Disorder</td>\n",
              "      <td>By Gender</td>\n",
              "      <td>United States</td>\n",
              "      <td>Female</td>\n",
              "      <td>1</td>\n",
              "      <td>Apr 23 - May 5</td>\n",
              "      <td>26.1</td>\n",
              "    </tr>\n",
              "    <tr>\n",
              "      <th>218</th>\n",
              "      <td>Symptoms of Depressive Disorder</td>\n",
              "      <td>By Gender</td>\n",
              "      <td>United States</td>\n",
              "      <td>Male</td>\n",
              "      <td>2</td>\n",
              "      <td>May 7 - May 12</td>\n",
              "      <td>22.3</td>\n",
              "    </tr>\n",
              "    <tr>\n",
              "      <th>219</th>\n",
              "      <td>Symptoms of Depressive Disorder</td>\n",
              "      <td>By Gender</td>\n",
              "      <td>United States</td>\n",
              "      <td>Female</td>\n",
              "      <td>2</td>\n",
              "      <td>May 7 - May 12</td>\n",
              "      <td>25.8</td>\n",
              "    </tr>\n",
              "    <tr>\n",
              "      <th>428</th>\n",
              "      <td>Symptoms of Depressive Disorder</td>\n",
              "      <td>By Gender</td>\n",
              "      <td>United States</td>\n",
              "      <td>Male</td>\n",
              "      <td>3</td>\n",
              "      <td>May 14 - May 19</td>\n",
              "      <td>22.1</td>\n",
              "    </tr>\n",
              "  </tbody>\n",
              "</table>\n",
              "</div>"
            ],
            "text/plain": [
              "                           indicator      group  ...       week_label value\n",
              "8    Symptoms of Depressive Disorder  By Gender  ...   Apr 23 - May 5  20.8\n",
              "9    Symptoms of Depressive Disorder  By Gender  ...   Apr 23 - May 5  26.1\n",
              "218  Symptoms of Depressive Disorder  By Gender  ...   May 7 - May 12  22.3\n",
              "219  Symptoms of Depressive Disorder  By Gender  ...   May 7 - May 12  25.8\n",
              "428  Symptoms of Depressive Disorder  By Gender  ...  May 14 - May 19  22.1\n",
              "\n",
              "[5 rows x 7 columns]"
            ]
          },
          "metadata": {
            "tags": []
          },
          "execution_count": 46
        }
      ]
    },
    {
      "cell_type": "code",
      "metadata": {
        "id": "2ejsYZzvMaiF",
        "colab_type": "code",
        "colab": {}
      },
      "source": [
        "# Do two data sets\n",
        "female=np.array(symptomsofdepressive[symptomsofdepressive['subgroup']=='Female']['value'])\n",
        "male=np.array(symptomsofdepressive[symptomsofdepressive['subgroup']=='Male']['value'])"
      ],
      "execution_count": 47,
      "outputs": []
    },
    {
      "cell_type": "code",
      "metadata": {
        "id": "YtAOvbO7Mady",
        "colab_type": "code",
        "colab": {
          "base_uri": "https://localhost:8080/",
          "height": 369
        },
        "outputId": "64d03c66-ac0f-49e2-ded4-3c341b14f7dc"
      },
      "source": [
        "fig, ax = plt.subplots(figsize=(10,5))\n",
        "label=['week 1','week 2','week 3','week 4','week 5']\n",
        "x=np.arange(len(label))\n",
        "width=0.5\n",
        "rects1 = ax.bar(x, female, width, label='Men')\n",
        "rects2 = ax.bar(x, male, width, label='Women')\n",
        "\n",
        "#  Add some text for labels, title and custom x-axis tick labels, etc.\n",
        "ax.set_ylabel('number of cases')\n",
        "ax.set_title('number of cases by gender')\n",
        "ax.set_xticks(x)\n",
        "ax.set_xticklabels(label)\n",
        "ax.legend(loc='lower left', frameon=False)\n",
        "\n",
        "\n",
        "def autolabel(rects):\n",
        "    \"\"\"Attach a text label above each bar in *rects*, displaying its height.\"\"\"\n",
        "    for rect in rects:\n",
        "        height = rect.get_height()\n",
        "        ax.annotate('{}'.format(height),\n",
        "                    xy=(rect.get_x() + rect.get_width() / 2, height ),\n",
        "                    xytext=(0, 3),  # 3 points vertical offset\n",
        "                    textcoords=\"offset points\",\n",
        "                    ha='center', va='bottom')\n",
        "autolabel(rects1)\n",
        "autolabel(rects2)\n",
        "fig.tight_layout()\n",
        "plt.show()"
      ],
      "execution_count": 48,
      "outputs": [
        {
          "output_type": "display_data",
          "data": {
            "image/png": "[encoded data removed]",
            "text/plain": [
              "<Figure size 720x360 with 1 Axes>"
            ]
          },
          "metadata": {
            "tags": [],
            "needs_background": "light"
          }
        }
      ]
    },
    {
      "cell_type": "markdown",
      "metadata": {
        "id": "zcSp50jrMrY_",
        "colab_type": "text"
      },
      "source": [
        "Number of males is higher hand female."
      ]
    },
    {
      "cell_type": "markdown",
      "metadata": {
        "id": "zb7cQv_lPazi",
        "colab_type": "text"
      },
      "source": [
        ""
      ]
    },
    {
      "cell_type": "markdown",
      "metadata": {
        "id": "8eEomEGqOTR6",
        "colab_type": "text"
      },
      "source": [
        "### 2.2 Survey Related to Covid-19"
      ]
    },
    {
      "cell_type": "markdown",
      "metadata": {
        "id": "RYP4akujSDIo",
        "colab_type": "text"
      },
      "source": [
        "#### 2.2.1 Social Life"
      ]
    },
    {
      "cell_type": "code",
      "metadata": {
        "id": "Uwb8BtArMaQb",
        "colab_type": "code",
        "colab": {}
      },
      "source": [
        "import pandas as pd\n",
        "import numpy as np\n",
        "import seaborn as sns\n",
        "import matplotlib.pyplot as plt"
      ],
      "execution_count": 49,
      "outputs": []
    },
    {
      "cell_type": "code",
      "metadata": {
        "id": "_7OuZx5NMaLp",
        "colab_type": "code",
        "colab": {
          "base_uri": "https://localhost:8080/",
          "height": 204
        },
        "outputId": "3018d642-4fbf-4a7f-8ffb-33fd15068bc2"
      },
      "source": [
        "survey=pd.read_csv('/content/Covid_survey_soc.csv')\n",
        "survey.head()"
      ],
      "execution_count": 52,
      "outputs": [
        {
          "output_type": "execute_result",
          "data": {
            "text/html": [
              "<div>\n",
              "<style scoped>\n",
              "    .dataframe tbody tr th:only-of-type {\n",
              "        vertical-align: middle;\n",
              "    }\n",
              "\n",
              "    .dataframe tbody tr th {\n",
              "        vertical-align: top;\n",
              "    }\n",
              "\n",
              "    .dataframe thead th {\n",
              "        text-align: right;\n",
              "    }\n",
              "</style>\n",
              "<table border=\"1\" class=\"dataframe\">\n",
              "  <thead>\n",
              "    <tr style=\"text-align: right;\">\n",
              "      <th></th>\n",
              "      <th>State</th>\n",
              "      <th>Question-1A</th>\n",
              "      <th>Question-1B</th>\n",
              "      <th>Question-2A</th>\n",
              "      <th>Question-2B</th>\n",
              "      <th>Qestion-3A</th>\n",
              "      <th>Qestion-3B</th>\n",
              "      <th>Question-4A</th>\n",
              "      <th>Question-4B</th>\n",
              "      <th>Question-4C</th>\n",
              "      <th>Question-4D</th>\n",
              "      <th>Question-4E</th>\n",
              "    </tr>\n",
              "  </thead>\n",
              "  <tbody>\n",
              "    <tr>\n",
              "      <th>0</th>\n",
              "      <td>New York</td>\n",
              "      <td>4</td>\n",
              "      <td>4</td>\n",
              "      <td>2</td>\n",
              "      <td>1</td>\n",
              "      <td>1</td>\n",
              "      <td>1</td>\n",
              "      <td>1</td>\n",
              "      <td>1</td>\n",
              "      <td>1</td>\n",
              "      <td>1</td>\n",
              "      <td>1</td>\n",
              "    </tr>\n",
              "    <tr>\n",
              "      <th>1</th>\n",
              "      <td>New York</td>\n",
              "      <td>2</td>\n",
              "      <td>2</td>\n",
              "      <td>1</td>\n",
              "      <td>1</td>\n",
              "      <td>2</td>\n",
              "      <td>1</td>\n",
              "      <td>1</td>\n",
              "      <td>1</td>\n",
              "      <td>2</td>\n",
              "      <td>1</td>\n",
              "      <td>1</td>\n",
              "    </tr>\n",
              "    <tr>\n",
              "      <th>2</th>\n",
              "      <td>New York</td>\n",
              "      <td>2</td>\n",
              "      <td>2</td>\n",
              "      <td>1</td>\n",
              "      <td>1</td>\n",
              "      <td>2</td>\n",
              "      <td>2</td>\n",
              "      <td>1</td>\n",
              "      <td>1</td>\n",
              "      <td>1</td>\n",
              "      <td>2</td>\n",
              "      <td>1</td>\n",
              "    </tr>\n",
              "    <tr>\n",
              "      <th>3</th>\n",
              "      <td>New York</td>\n",
              "      <td>3</td>\n",
              "      <td>3</td>\n",
              "      <td>2</td>\n",
              "      <td>2</td>\n",
              "      <td>2</td>\n",
              "      <td>2</td>\n",
              "      <td>1</td>\n",
              "      <td>1</td>\n",
              "      <td>1</td>\n",
              "      <td>1</td>\n",
              "      <td>1</td>\n",
              "    </tr>\n",
              "    <tr>\n",
              "      <th>4</th>\n",
              "      <td>New York</td>\n",
              "      <td>2</td>\n",
              "      <td>3</td>\n",
              "      <td>1</td>\n",
              "      <td>1</td>\n",
              "      <td>2</td>\n",
              "      <td>2</td>\n",
              "      <td>1</td>\n",
              "      <td>1</td>\n",
              "      <td>2</td>\n",
              "      <td>1</td>\n",
              "      <td>1</td>\n",
              "    </tr>\n",
              "  </tbody>\n",
              "</table>\n",
              "</div>"
            ],
            "text/plain": [
              "       State  Question-1A  Question-1B  ...  Question-4C  Question-4D  Question-4E\n",
              "0   New York            4            4  ...            1            1            1\n",
              "1   New York            2            2  ...            2            1            1\n",
              "2   New York            2            2  ...            1            2            1\n",
              "3   New York            3            3  ...            1            1            1\n",
              "4   New York            2            3  ...            2            1            1\n",
              "\n",
              "[5 rows x 12 columns]"
            ]
          },
          "metadata": {
            "tags": []
          },
          "execution_count": 52
        }
      ]
    },
    {
      "cell_type": "code",
      "metadata": {
        "id": "oRg9xpkiSVZR",
        "colab_type": "code",
        "colab": {
          "base_uri": "https://localhost:8080/",
          "height": 68
        },
        "outputId": "1c928ef3-8e0f-4d33-c5b4-7a95d4f1be2c"
      },
      "source": [
        "# Let's look at the shape and states names\n",
        "print(survey.shape)\n",
        "print(survey['State'].value_counts().head())"
      ],
      "execution_count": 53,
      "outputs": [
        {
          "output_type": "stream",
          "text": [
            "(395, 12)\n",
            " New York    395\n",
            "Name: State, dtype: int64\n"
          ],
          "name": "stdout"
        }
      ]
    },
    {
      "cell_type": "code",
      "metadata": {
        "id": "9Q0WAGFeSVR0",
        "colab_type": "code",
        "colab": {
          "base_uri": "https://localhost:8080/",
          "height": 34
        },
        "outputId": "941e2ea4-8fb5-436f-87ea-0e91c2ab7e40"
      },
      "source": [
        "# Look at the type of state\n",
        "survey['State'].dtype"
      ],
      "execution_count": 54,
      "outputs": [
        {
          "output_type": "execute_result",
          "data": {
            "text/plain": [
              "dtype('O')"
            ]
          },
          "metadata": {
            "tags": []
          },
          "execution_count": 54
        }
      ]
    },
    {
      "cell_type": "code",
      "metadata": {
        "id": "w4jQA5QuSVKT",
        "colab_type": "code",
        "colab": {
          "base_uri": "https://localhost:8080/",
          "height": 238
        },
        "outputId": "167a390f-5067-4ce5-e8da-2df96575031e"
      },
      "source": [
        "# Any missing numbers\n",
        "survey.isnull().sum()"
      ],
      "execution_count": 55,
      "outputs": [
        {
          "output_type": "execute_result",
          "data": {
            "text/plain": [
              "State          0\n",
              "Question-1A    0\n",
              "Question-1B    0\n",
              "Question-2A    0\n",
              "Question-2B    0\n",
              "Qestion-3A     0\n",
              "Qestion-3B     0\n",
              "Question-4A    0\n",
              "Question-4B    0\n",
              "Question-4C    0\n",
              "Question-4D    0\n",
              "Question-4E    0\n",
              "dtype: int64"
            ]
          },
          "metadata": {
            "tags": []
          },
          "execution_count": 55
        }
      ]
    },
    {
      "cell_type": "code",
      "metadata": {
        "id": "gNa17W6bSVC0",
        "colab_type": "code",
        "colab": {
          "base_uri": "https://localhost:8080/",
          "height": 669
        },
        "outputId": "87d4dec5-7cdb-425e-ae7f-02b5de14dd5e"
      },
      "source": [
        "# Any strange entry\n",
        "survey.sample(20)\n",
        "survey.head(20)\n",
        "survey.tail(20)"
      ],
      "execution_count": 56,
      "outputs": [
        {
          "output_type": "execute_result",
          "data": {
            "text/html": [
              "<div>\n",
              "<style scoped>\n",
              "    .dataframe tbody tr th:only-of-type {\n",
              "        vertical-align: middle;\n",
              "    }\n",
              "\n",
              "    .dataframe tbody tr th {\n",
              "        vertical-align: top;\n",
              "    }\n",
              "\n",
              "    .dataframe thead th {\n",
              "        text-align: right;\n",
              "    }\n",
              "</style>\n",
              "<table border=\"1\" class=\"dataframe\">\n",
              "  <thead>\n",
              "    <tr style=\"text-align: right;\">\n",
              "      <th></th>\n",
              "      <th>State</th>\n",
              "      <th>Question-1A</th>\n",
              "      <th>Question-1B</th>\n",
              "      <th>Question-2A</th>\n",
              "      <th>Question-2B</th>\n",
              "      <th>Qestion-3A</th>\n",
              "      <th>Qestion-3B</th>\n",
              "      <th>Question-4A</th>\n",
              "      <th>Question-4B</th>\n",
              "      <th>Question-4C</th>\n",
              "      <th>Question-4D</th>\n",
              "      <th>Question-4E</th>\n",
              "    </tr>\n",
              "  </thead>\n",
              "  <tbody>\n",
              "    <tr>\n",
              "      <th>375</th>\n",
              "      <td>New York</td>\n",
              "      <td>2</td>\n",
              "      <td>3</td>\n",
              "      <td>1</td>\n",
              "      <td>2</td>\n",
              "      <td>2</td>\n",
              "      <td>2</td>\n",
              "      <td>3</td>\n",
              "      <td>3</td>\n",
              "      <td>1</td>\n",
              "      <td>3</td>\n",
              "      <td>1</td>\n",
              "    </tr>\n",
              "    <tr>\n",
              "      <th>376</th>\n",
              "      <td>New York</td>\n",
              "      <td>4</td>\n",
              "      <td>4</td>\n",
              "      <td>2</td>\n",
              "      <td>3</td>\n",
              "      <td>2</td>\n",
              "      <td>2</td>\n",
              "      <td>2</td>\n",
              "      <td>3</td>\n",
              "      <td>1</td>\n",
              "      <td>3</td>\n",
              "      <td>1</td>\n",
              "    </tr>\n",
              "    <tr>\n",
              "      <th>377</th>\n",
              "      <td>New York</td>\n",
              "      <td>1</td>\n",
              "      <td>1</td>\n",
              "      <td>1</td>\n",
              "      <td>1</td>\n",
              "      <td>2</td>\n",
              "      <td>2</td>\n",
              "      <td>1</td>\n",
              "      <td>2</td>\n",
              "      <td>3</td>\n",
              "      <td>2</td>\n",
              "      <td>1</td>\n",
              "    </tr>\n",
              "    <tr>\n",
              "      <th>378</th>\n",
              "      <td>New York</td>\n",
              "      <td>2</td>\n",
              "      <td>2</td>\n",
              "      <td>2</td>\n",
              "      <td>2</td>\n",
              "      <td>1</td>\n",
              "      <td>1</td>\n",
              "      <td>1</td>\n",
              "      <td>1</td>\n",
              "      <td>1</td>\n",
              "      <td>1</td>\n",
              "      <td>1</td>\n",
              "    </tr>\n",
              "    <tr>\n",
              "      <th>379</th>\n",
              "      <td>New York</td>\n",
              "      <td>3</td>\n",
              "      <td>3</td>\n",
              "      <td>2</td>\n",
              "      <td>1</td>\n",
              "      <td>2</td>\n",
              "      <td>2</td>\n",
              "      <td>4</td>\n",
              "      <td>3</td>\n",
              "      <td>3</td>\n",
              "      <td>4</td>\n",
              "      <td>1</td>\n",
              "    </tr>\n",
              "    <tr>\n",
              "      <th>380</th>\n",
              "      <td>New York</td>\n",
              "      <td>2</td>\n",
              "      <td>2</td>\n",
              "      <td>1</td>\n",
              "      <td>1</td>\n",
              "      <td>2</td>\n",
              "      <td>2</td>\n",
              "      <td>1</td>\n",
              "      <td>1</td>\n",
              "      <td>1</td>\n",
              "      <td>1</td>\n",
              "      <td>1</td>\n",
              "    </tr>\n",
              "    <tr>\n",
              "      <th>381</th>\n",
              "      <td>New York</td>\n",
              "      <td>3</td>\n",
              "      <td>4</td>\n",
              "      <td>1</td>\n",
              "      <td>1</td>\n",
              "      <td>2</td>\n",
              "      <td>2</td>\n",
              "      <td>1</td>\n",
              "      <td>1</td>\n",
              "      <td>1</td>\n",
              "      <td>1</td>\n",
              "      <td>1</td>\n",
              "    </tr>\n",
              "    <tr>\n",
              "      <th>382</th>\n",
              "      <td>New York</td>\n",
              "      <td>3</td>\n",
              "      <td>3</td>\n",
              "      <td>1</td>\n",
              "      <td>1</td>\n",
              "      <td>2</td>\n",
              "      <td>2</td>\n",
              "      <td>4</td>\n",
              "      <td>4</td>\n",
              "      <td>3</td>\n",
              "      <td>2</td>\n",
              "      <td>1</td>\n",
              "    </tr>\n",
              "    <tr>\n",
              "      <th>383</th>\n",
              "      <td>New York</td>\n",
              "      <td>1</td>\n",
              "      <td>1</td>\n",
              "      <td>2</td>\n",
              "      <td>2</td>\n",
              "      <td>2</td>\n",
              "      <td>2</td>\n",
              "      <td>1</td>\n",
              "      <td>1</td>\n",
              "      <td>1</td>\n",
              "      <td>1</td>\n",
              "      <td>1</td>\n",
              "    </tr>\n",
              "    <tr>\n",
              "      <th>384</th>\n",
              "      <td>New York</td>\n",
              "      <td>4</td>\n",
              "      <td>4</td>\n",
              "      <td>1</td>\n",
              "      <td>1</td>\n",
              "      <td>2</td>\n",
              "      <td>2</td>\n",
              "      <td>4</td>\n",
              "      <td>4</td>\n",
              "      <td>4</td>\n",
              "      <td>4</td>\n",
              "      <td>3</td>\n",
              "    </tr>\n",
              "    <tr>\n",
              "      <th>385</th>\n",
              "      <td>New York</td>\n",
              "      <td>1</td>\n",
              "      <td>1</td>\n",
              "      <td>1</td>\n",
              "      <td>1</td>\n",
              "      <td>2</td>\n",
              "      <td>2</td>\n",
              "      <td>1</td>\n",
              "      <td>1</td>\n",
              "      <td>1</td>\n",
              "      <td>1</td>\n",
              "      <td>1</td>\n",
              "    </tr>\n",
              "    <tr>\n",
              "      <th>386</th>\n",
              "      <td>New York</td>\n",
              "      <td>3</td>\n",
              "      <td>2</td>\n",
              "      <td>2</td>\n",
              "      <td>2</td>\n",
              "      <td>2</td>\n",
              "      <td>1</td>\n",
              "      <td>1</td>\n",
              "      <td>2</td>\n",
              "      <td>1</td>\n",
              "      <td>2</td>\n",
              "      <td>1</td>\n",
              "    </tr>\n",
              "    <tr>\n",
              "      <th>387</th>\n",
              "      <td>New York</td>\n",
              "      <td>5</td>\n",
              "      <td>4</td>\n",
              "      <td>3</td>\n",
              "      <td>3</td>\n",
              "      <td>2</td>\n",
              "      <td>2</td>\n",
              "      <td>1</td>\n",
              "      <td>3</td>\n",
              "      <td>1</td>\n",
              "      <td>4</td>\n",
              "      <td>1</td>\n",
              "    </tr>\n",
              "    <tr>\n",
              "      <th>388</th>\n",
              "      <td>New York</td>\n",
              "      <td>2</td>\n",
              "      <td>2</td>\n",
              "      <td>1</td>\n",
              "      <td>1</td>\n",
              "      <td>2</td>\n",
              "      <td>1</td>\n",
              "      <td>2</td>\n",
              "      <td>2</td>\n",
              "      <td>2</td>\n",
              "      <td>2</td>\n",
              "      <td>1</td>\n",
              "    </tr>\n",
              "    <tr>\n",
              "      <th>389</th>\n",
              "      <td>New York</td>\n",
              "      <td>3</td>\n",
              "      <td>3</td>\n",
              "      <td>1</td>\n",
              "      <td>2</td>\n",
              "      <td>1</td>\n",
              "      <td>1</td>\n",
              "      <td>1</td>\n",
              "      <td>2</td>\n",
              "      <td>1</td>\n",
              "      <td>2</td>\n",
              "      <td>2</td>\n",
              "    </tr>\n",
              "    <tr>\n",
              "      <th>390</th>\n",
              "      <td>New York</td>\n",
              "      <td>5</td>\n",
              "      <td>3</td>\n",
              "      <td>2</td>\n",
              "      <td>2</td>\n",
              "      <td>2</td>\n",
              "      <td>2</td>\n",
              "      <td>1</td>\n",
              "      <td>1</td>\n",
              "      <td>1</td>\n",
              "      <td>1</td>\n",
              "      <td>1</td>\n",
              "    </tr>\n",
              "    <tr>\n",
              "      <th>391</th>\n",
              "      <td>New York</td>\n",
              "      <td>4</td>\n",
              "      <td>4</td>\n",
              "      <td>1</td>\n",
              "      <td>1</td>\n",
              "      <td>2</td>\n",
              "      <td>2</td>\n",
              "      <td>1</td>\n",
              "      <td>1</td>\n",
              "      <td>1</td>\n",
              "      <td>1</td>\n",
              "      <td>1</td>\n",
              "    </tr>\n",
              "    <tr>\n",
              "      <th>392</th>\n",
              "      <td>New York</td>\n",
              "      <td>3</td>\n",
              "      <td>4</td>\n",
              "      <td>2</td>\n",
              "      <td>3</td>\n",
              "      <td>2</td>\n",
              "      <td>2</td>\n",
              "      <td>1</td>\n",
              "      <td>1</td>\n",
              "      <td>1</td>\n",
              "      <td>4</td>\n",
              "      <td>1</td>\n",
              "    </tr>\n",
              "    <tr>\n",
              "      <th>393</th>\n",
              "      <td>New York</td>\n",
              "      <td>5</td>\n",
              "      <td>5</td>\n",
              "      <td>3</td>\n",
              "      <td>3</td>\n",
              "      <td>2</td>\n",
              "      <td>2</td>\n",
              "      <td>2</td>\n",
              "      <td>1</td>\n",
              "      <td>1</td>\n",
              "      <td>4</td>\n",
              "      <td>1</td>\n",
              "    </tr>\n",
              "    <tr>\n",
              "      <th>394</th>\n",
              "      <td>New York</td>\n",
              "      <td>2</td>\n",
              "      <td>2</td>\n",
              "      <td>1</td>\n",
              "      <td>1</td>\n",
              "      <td>2</td>\n",
              "      <td>1</td>\n",
              "      <td>1</td>\n",
              "      <td>3</td>\n",
              "      <td>1</td>\n",
              "      <td>2</td>\n",
              "      <td>1</td>\n",
              "    </tr>\n",
              "  </tbody>\n",
              "</table>\n",
              "</div>"
            ],
            "text/plain": [
              "         State  Question-1A  Question-1B  ...  Question-4C  Question-4D  Question-4E\n",
              "375   New York            2            3  ...            1            3            1\n",
              "376   New York            4            4  ...            1            3            1\n",
              "377   New York            1            1  ...            3            2            1\n",
              "378   New York            2            2  ...            1            1            1\n",
              "379   New York            3            3  ...            3            4            1\n",
              "380   New York            2            2  ...            1            1            1\n",
              "381   New York            3            4  ...            1            1            1\n",
              "382   New York            3            3  ...            3            2            1\n",
              "383   New York            1            1  ...            1            1            1\n",
              "384   New York            4            4  ...            4            4            3\n",
              "385   New York            1            1  ...            1            1            1\n",
              "386   New York            3            2  ...            1            2            1\n",
              "387   New York            5            4  ...            1            4            1\n",
              "388   New York            2            2  ...            2            2            1\n",
              "389   New York            3            3  ...            1            2            2\n",
              "390   New York            5            3  ...            1            1            1\n",
              "391   New York            4            4  ...            1            1            1\n",
              "392   New York            3            4  ...            1            4            1\n",
              "393   New York            5            5  ...            1            4            1\n",
              "394   New York            2            2  ...            1            2            1\n",
              "\n",
              "[20 rows x 12 columns]"
            ]
          },
          "metadata": {
            "tags": []
          },
          "execution_count": 56
        }
      ]
    },
    {
      "cell_type": "markdown",
      "metadata": {
        "id": "DDwWpZGXSrhW",
        "colab_type": "text"
      },
      "source": [
        "Looks very clean and ready to play with data"
      ]
    },
    {
      "cell_type": "markdown",
      "metadata": {
        "id": "AHS_p3LhStRJ",
        "colab_type": "text"
      },
      "source": [
        "Here is the survey question I am looking for:\n",
        "\n",
        "*   Question-1A: In the past month, how often did you talk with any of your neighbors?\n",
        "\n",
        "*    Question-1B: During a typical month prior to March 1, 2020, when COVID-19 began spreading in the United States, how often did you talk\n",
        "with any of your neighbors?\n",
        "\n",
        "*   Question-2A: In the past month, how often did you communicate with friends and family by phone, text, email, app, or using the Internet?\n",
        "\n",
        "*    Question-2B: During a typical month prior to March 1, 2020, when COVID-19 began spreading in the United States, how often did you\n",
        "communicate with friends and family by phone, text, email, app, or using the Internet?\n",
        "\n",
        "*    Question-3A: In the past month, did you spend any time volunteering for any organization or association, or not?\n",
        "\n",
        "*    Question-3B: During a typical month prior to March 1, 2020, when COVID-19 began spreading in the United States, did you spend any time\n",
        "volunteering for any organization or association, or not?\n",
        "\n",
        "Question 1 and 2 have the answer options :\n",
        "\n",
        "- 1 : Basically every day\n",
        "- 2 : A few times a week\n",
        "- 3 : A few times a month \n",
        "- 4 : Once a month \n",
        "- 5 : Not at all\n",
        "- 6 : Not sure \n",
        "- 7 : Skipped on the web\n",
        "\n",
        "Question 3 answer options:\n",
        "\n",
        "- 1 : Yes\n",
        "- 2 : No\n",
        "- 3 : Not Sure\n",
        "- 4 : Skip on the web\n"
      ]
    },
    {
      "cell_type": "code",
      "metadata": {
        "id": "D_tYStKESU7e",
        "colab_type": "code",
        "colab": {
          "base_uri": "https://localhost:8080/",
          "height": 34
        },
        "outputId": "7fe899ba-5314-4340-e165-c15610196856"
      },
      "source": [
        "#Check the data type\n",
        "survey['Question-1A'].dtype"
      ],
      "execution_count": 57,
      "outputs": [
        {
          "output_type": "execute_result",
          "data": {
            "text/plain": [
              "dtype('int64')"
            ]
          },
          "metadata": {
            "tags": []
          },
          "execution_count": 57
        }
      ]
    },
    {
      "cell_type": "code",
      "metadata": {
        "id": "oL_FSTYOSU1R",
        "colab_type": "code",
        "colab": {
          "base_uri": "https://localhost:8080/",
          "height": 34
        },
        "outputId": "938b0c54-a4d9-49ae-e841-c67d6a6b5be5"
      },
      "source": [
        "# Change the data types as categorical variables\n",
        "a=3\n",
        "str(a)"
      ],
      "execution_count": 58,
      "outputs": [
        {
          "output_type": "execute_result",
          "data": {
            "text/plain": [
              "'3'"
            ]
          },
          "metadata": {
            "tags": []
          },
          "execution_count": 58
        }
      ]
    },
    {
      "cell_type": "code",
      "metadata": {
        "id": "MeVU9IBpSUty",
        "colab_type": "code",
        "colab": {
          "base_uri": "https://localhost:8080/",
          "height": 34
        },
        "outputId": "0c35e95b-2a01-4066-feab-0aebea980dfb"
      },
      "source": [
        "# Write a function\n",
        "def my_number(a):\n",
        "  return str(a)\n",
        "my_number(a)"
      ],
      "execution_count": 59,
      "outputs": [
        {
          "output_type": "execute_result",
          "data": {
            "text/plain": [
              "'3'"
            ]
          },
          "metadata": {
            "tags": []
          },
          "execution_count": 59
        }
      ]
    },
    {
      "cell_type": "code",
      "metadata": {
        "id": "Qcqbzn0VSUnu",
        "colab_type": "code",
        "colab": {
          "base_uri": "https://localhost:8080/",
          "height": 142
        },
        "outputId": "b122800f-7c65-4ebe-abc1-1e8642bb5132"
      },
      "source": [
        "survey['Q-1A']=survey['Question-1A'].apply(my_number)\n",
        "survey.sample()\n",
        "survey[['Question-1A','Q-1A']].sample(3)"
      ],
      "execution_count": 60,
      "outputs": [
        {
          "output_type": "execute_result",
          "data": {
            "text/html": [
              "<div>\n",
              "<style scoped>\n",
              "    .dataframe tbody tr th:only-of-type {\n",
              "        vertical-align: middle;\n",
              "    }\n",
              "\n",
              "    .dataframe tbody tr th {\n",
              "        vertical-align: top;\n",
              "    }\n",
              "\n",
              "    .dataframe thead th {\n",
              "        text-align: right;\n",
              "    }\n",
              "</style>\n",
              "<table border=\"1\" class=\"dataframe\">\n",
              "  <thead>\n",
              "    <tr style=\"text-align: right;\">\n",
              "      <th></th>\n",
              "      <th>Question-1A</th>\n",
              "      <th>Q-1A</th>\n",
              "    </tr>\n",
              "  </thead>\n",
              "  <tbody>\n",
              "    <tr>\n",
              "      <th>344</th>\n",
              "      <td>2</td>\n",
              "      <td>2</td>\n",
              "    </tr>\n",
              "    <tr>\n",
              "      <th>10</th>\n",
              "      <td>2</td>\n",
              "      <td>2</td>\n",
              "    </tr>\n",
              "    <tr>\n",
              "      <th>253</th>\n",
              "      <td>3</td>\n",
              "      <td>3</td>\n",
              "    </tr>\n",
              "  </tbody>\n",
              "</table>\n",
              "</div>"
            ],
            "text/plain": [
              "     Question-1A Q-1A\n",
              "344            2    2\n",
              "10             2    2\n",
              "253            3    3"
            ]
          },
          "metadata": {
            "tags": []
          },
          "execution_count": 60
        }
      ]
    },
    {
      "cell_type": "code",
      "metadata": {
        "id": "VgqhXPDPMaG-",
        "colab_type": "code",
        "colab": {
          "base_uri": "https://localhost:8080/",
          "height": 142
        },
        "outputId": "47aa7d1f-efd9-451d-d1c7-a05d21e8e9db"
      },
      "source": [
        "# Let's change the data type for column 'Question-1B'\n",
        "\n",
        "survey['Q-1B']=survey['Question-1B'].apply(my_number)\n",
        "survey.sample()\n",
        "survey[['Question-1B','Q-1B']].sample(3)"
      ],
      "execution_count": 61,
      "outputs": [
        {
          "output_type": "execute_result",
          "data": {
            "text/html": [
              "<div>\n",
              "<style scoped>\n",
              "    .dataframe tbody tr th:only-of-type {\n",
              "        vertical-align: middle;\n",
              "    }\n",
              "\n",
              "    .dataframe tbody tr th {\n",
              "        vertical-align: top;\n",
              "    }\n",
              "\n",
              "    .dataframe thead th {\n",
              "        text-align: right;\n",
              "    }\n",
              "</style>\n",
              "<table border=\"1\" class=\"dataframe\">\n",
              "  <thead>\n",
              "    <tr style=\"text-align: right;\">\n",
              "      <th></th>\n",
              "      <th>Question-1B</th>\n",
              "      <th>Q-1B</th>\n",
              "    </tr>\n",
              "  </thead>\n",
              "  <tbody>\n",
              "    <tr>\n",
              "      <th>112</th>\n",
              "      <td>2</td>\n",
              "      <td>2</td>\n",
              "    </tr>\n",
              "    <tr>\n",
              "      <th>343</th>\n",
              "      <td>4</td>\n",
              "      <td>4</td>\n",
              "    </tr>\n",
              "    <tr>\n",
              "      <th>166</th>\n",
              "      <td>2</td>\n",
              "      <td>2</td>\n",
              "    </tr>\n",
              "  </tbody>\n",
              "</table>\n",
              "</div>"
            ],
            "text/plain": [
              "     Question-1B Q-1B\n",
              "112            2    2\n",
              "343            4    4\n",
              "166            2    2"
            ]
          },
          "metadata": {
            "tags": []
          },
          "execution_count": 61
        }
      ]
    },
    {
      "cell_type": "code",
      "metadata": {
        "id": "0P8N4lhyMaDo",
        "colab_type": "code",
        "colab": {
          "base_uri": "https://localhost:8080/",
          "height": 153
        },
        "outputId": "f18c62c2-93d1-4696-ca79-7f6436fec570"
      },
      "source": [
        "# Create a new dataset\n",
        "\n",
        "concretion=survey[['State','Q-1A','Q-1B']]\n",
        "concretion['Q-1A'].value_counts().sort_index()"
      ],
      "execution_count": 62,
      "outputs": [
        {
          "output_type": "execute_result",
          "data": {
            "text/plain": [
              "1      53\n",
              "2     134\n",
              "3     103\n",
              "4      50\n",
              "5      49\n",
              "77      4\n",
              "98      2\n",
              "Name: Q-1A, dtype: int64"
            ]
          },
          "metadata": {
            "tags": []
          },
          "execution_count": 62
        }
      ]
    },
    {
      "cell_type": "code",
      "metadata": {
        "id": "IVyZ_-WaTFRZ",
        "colab_type": "code",
        "colab": {
          "base_uri": "https://localhost:8080/",
          "height": 153
        },
        "outputId": "3cf6eb09-f529-409a-c1ec-89d489c51be1"
      },
      "source": [
        "concretion['Q-1B'].value_counts().sort_index()"
      ],
      "execution_count": 63,
      "outputs": [
        {
          "output_type": "execute_result",
          "data": {
            "text/plain": [
              "1      52\n",
              "2     138\n",
              "3     104\n",
              "4      44\n",
              "5      48\n",
              "77      7\n",
              "98      2\n",
              "Name: Q-1B, dtype: int64"
            ]
          },
          "metadata": {
            "tags": []
          },
          "execution_count": 63
        }
      ]
    },
    {
      "cell_type": "code",
      "metadata": {
        "id": "gqJ2zotKTFKz",
        "colab_type": "code",
        "colab": {}
      },
      "source": [
        "# add the same groups in a list\n",
        "numbers=['1','2','3','4','5','6','7']\n",
        "Q1a=[53,134,103,50,49,4,2]\n",
        "Q1b=[52,138,104,44,48,7,2]"
      ],
      "execution_count": 64,
      "outputs": []
    },
    {
      "cell_type": "code",
      "metadata": {
        "id": "nO4evcVvTFEe",
        "colab_type": "code",
        "colab": {
          "base_uri": "https://localhost:8080/",
          "height": 542
        },
        "outputId": "93f25752-7e16-46cc-dc82-2d983e6ffec8"
      },
      "source": [
        "import plotly.graph_objects as go\n",
        "\n",
        "\n",
        "fig = go.Figure(data=[\n",
        "    go.Bar(name='Before Covid-19 began', x=numbers, y=Q1a),\n",
        "    go.Bar(name='When Covid-19 began', x=numbers, y=Q1b)\n",
        "])    \n",
        "# Change the bar mode\n",
        "fig.update_layout(barmode='group',title_text='The Effect of Covid-19 on Neighbors Relationships')\n",
        "fig.show()"
      ],
      "execution_count": 65,
      "outputs": [
        {
          "output_type": "display_data",
          "data": {
            "text/html": [
              "<html>\n",
              "<head><meta charset=\"utf-8\" /></head>\n",
              "<body>\n",
              "    <div>\n",
              "            <script src=\"https://cdnjs.cloudflare.com/ajax/libs/mathjax/2.7.5/MathJax.js?config=TeX-AMS-MML_SVG\"></script><script type=\"text/javascript\">if (window.MathJax) {MathJax.Hub.Config({SVG: {font: \"STIX-Web\"}});}</script>\n",
              "                <script type=\"text/javascript\">window.PlotlyConfig = {MathJaxConfig: 'local'};</script>\n",
              "        <script src=\"https://cdn.plot.ly/plotly-latest.min.js\"></script>    \n",
              "            <div id=\"0e31c72c-9557-4bf2-a8f2-4c7497f614ac\" class=\"plotly-graph-div\" style=\"height:525px; width:100%;\"></div>\n",
              "            <script type=\"text/javascript\">\n",
              "                \n",
              "                    window.PLOTLYENV=window.PLOTLYENV || {};\n",
              "                    \n",
              "                if (document.getElementById(\"0e31c72c-9557-4bf2-a8f2-4c7497f614ac\")) {\n",
              "                    Plotly.newPlot(\n",
              "                        '0e31c72c-9557-4bf2-a8f2-4c7497f614ac',\n",
              "                        [{\"name\": \"Before Covid-19 began\", \"type\": \"bar\", \"x\": [\"1\", \"2\", \"3\", \"4\", \"5\", \"6\", \"7\"], \"y\": [53, 134, 103, 50, 49, 4, 2]}, {\"name\": \"When Covid-19 began\", \"type\": \"bar\", \"x\": [\"1\", \"2\", \"3\", \"4\", \"5\", \"6\", \"7\"], \"y\": [52, 138, 104, 44, 48, 7, 2]}],\n",
              "                        {\"barmode\": \"group\", \"template\": {\"data\": {\"bar\": [{\"error_x\": {\"color\": \"#2a3f5f\"}, \"error_y\": {\"color\": \"#2a3f5f\"}, \"marker\": {\"line\": {\"color\": \"#E5ECF6\", \"width\": 0.5}}, \"type\": \"bar\"}], \"barpolar\": [{\"marker\": {\"line\": {\"color\": \"#E5ECF6\", \"width\": 0.5}}, \"type\": \"barpolar\"}], \"carpet\": [{\"aaxis\": {\"endlinecolor\": \"#2a3f5f\", \"gridcolor\": \"white\", \"linecolor\": \"white\", \"minorgridcolor\": \"white\", \"startlinecolor\": \"#2a3f5f\"}, \"baxis\": {\"endlinecolor\": \"#2a3f5f\", \"gridcolor\": \"white\", \"linecolor\": \"white\", \"minorgridcolor\": \"white\", \"startlinecolor\": \"#2a3f5f\"}, \"type\": \"carpet\"}], \"choropleth\": [{\"colorbar\": {\"outlinewidth\": 0, \"ticks\": \"\"}, \"type\": \"choropleth\"}], \"contour\": [{\"colorbar\": {\"outlinewidth\": 0, \"ticks\": \"\"}, \"colorscale\": [[0.0, \"#0d0887\"], [0.1111111111111111, \"#46039f\"], [0.2222222222222222, \"#7201a8\"], [0.3333333333333333, \"#9c179e\"], [0.4444444444444444, \"#bd3786\"], [0.5555555555555556, \"#d8576b\"], [0.6666666666666666, \"#ed7953\"], [0.7777777777777778, \"#fb9f3a\"], [0.8888888888888888, \"#fdca26\"], [1.0, \"#f0f921\"]], \"type\": \"contour\"}], \"contourcarpet\": [{\"colorbar\": {\"outlinewidth\": 0, \"ticks\": \"\"}, \"type\": \"contourcarpet\"}], \"heatmap\": [{\"colorbar\": {\"outlinewidth\": 0, \"ticks\": \"\"}, \"colorscale\": [[0.0, \"#0d0887\"], [0.1111111111111111, \"#46039f\"], [0.2222222222222222, \"#7201a8\"], [0.3333333333333333, \"#9c179e\"], [0.4444444444444444, \"#bd3786\"], [0.5555555555555556, \"#d8576b\"], [0.6666666666666666, \"#ed7953\"], [0.7777777777777778, \"#fb9f3a\"], [0.8888888888888888, \"#fdca26\"], [1.0, \"#f0f921\"]], \"type\": \"heatmap\"}], \"heatmapgl\": [{\"colorbar\": {\"outlinewidth\": 0, \"ticks\": \"\"}, \"colorscale\": [[0.0, \"#0d0887\"], [0.1111111111111111, \"#46039f\"], [0.2222222222222222, \"#7201a8\"], [0.3333333333333333, \"#9c179e\"], [0.4444444444444444, \"#bd3786\"], [0.5555555555555556, \"#d8576b\"], [0.6666666666666666, \"#ed7953\"], [0.7777777777777778, \"#fb9f3a\"], [0.8888888888888888, \"#fdca26\"], [1.0, \"#f0f921\"]], \"type\": \"heatmapgl\"}], \"histogram\": [{\"marker\": {\"colorbar\": {\"outlinewidth\": 0, \"ticks\": \"\"}}, \"type\": \"histogram\"}], \"histogram2d\": [{\"colorbar\": {\"outlinewidth\": 0, \"ticks\": \"\"}, \"colorscale\": [[0.0, \"#0d0887\"], [0.1111111111111111, \"#46039f\"], [0.2222222222222222, \"#7201a8\"], [0.3333333333333333, \"#9c179e\"], [0.4444444444444444, \"#bd3786\"], [0.5555555555555556, \"#d8576b\"], [0.6666666666666666, \"#ed7953\"], [0.7777777777777778, \"#fb9f3a\"], [0.8888888888888888, \"#fdca26\"], [1.0, \"#f0f921\"]], \"type\": \"histogram2d\"}], \"histogram2dcontour\": [{\"colorbar\": {\"outlinewidth\": 0, \"ticks\": \"\"}, \"colorscale\": [[0.0, \"#0d0887\"], [0.1111111111111111, \"#46039f\"], [0.2222222222222222, \"#7201a8\"], [0.3333333333333333, \"#9c179e\"], [0.4444444444444444, \"#bd3786\"], [0.5555555555555556, \"#d8576b\"], [0.6666666666666666, \"#ed7953\"], [0.7777777777777778, \"#fb9f3a\"], [0.8888888888888888, \"#fdca26\"], [1.0, \"#f0f921\"]], \"type\": \"histogram2dcontour\"}], \"mesh3d\": [{\"colorbar\": {\"outlinewidth\": 0, \"ticks\": \"\"}, \"type\": \"mesh3d\"}], \"parcoords\": [{\"line\": {\"colorbar\": {\"outlinewidth\": 0, \"ticks\": \"\"}}, \"type\": \"parcoords\"}], \"pie\": [{\"automargin\": true, \"type\": \"pie\"}], \"scatter\": [{\"marker\": {\"colorbar\": {\"outlinewidth\": 0, \"ticks\": \"\"}}, \"type\": \"scatter\"}], \"scatter3d\": [{\"line\": {\"colorbar\": {\"outlinewidth\": 0, \"ticks\": \"\"}}, \"marker\": {\"colorbar\": {\"outlinewidth\": 0, \"ticks\": \"\"}}, \"type\": \"scatter3d\"}], \"scattercarpet\": [{\"marker\": {\"colorbar\": {\"outlinewidth\": 0, \"ticks\": \"\"}}, \"type\": \"scattercarpet\"}], \"scattergeo\": [{\"marker\": {\"colorbar\": {\"outlinewidth\": 0, \"ticks\": \"\"}}, \"type\": \"scattergeo\"}], \"scattergl\": [{\"marker\": {\"colorbar\": {\"outlinewidth\": 0, \"ticks\": \"\"}}, \"type\": \"scattergl\"}], \"scattermapbox\": [{\"marker\": {\"colorbar\": {\"outlinewidth\": 0, \"ticks\": \"\"}}, \"type\": \"scattermapbox\"}], \"scatterpolar\": [{\"marker\": {\"colorbar\": {\"outlinewidth\": 0, \"ticks\": \"\"}}, \"type\": \"scatterpolar\"}], \"scatterpolargl\": [{\"marker\": {\"colorbar\": {\"outlinewidth\": 0, \"ticks\": \"\"}}, \"type\": \"scatterpolargl\"}], \"scatterternary\": [{\"marker\": {\"colorbar\": {\"outlinewidth\": 0, \"ticks\": \"\"}}, \"type\": \"scatterternary\"}], \"surface\": [{\"colorbar\": {\"outlinewidth\": 0, \"ticks\": \"\"}, \"colorscale\": [[0.0, \"#0d0887\"], [0.1111111111111111, \"#46039f\"], [0.2222222222222222, \"#7201a8\"], [0.3333333333333333, \"#9c179e\"], [0.4444444444444444, \"#bd3786\"], [0.5555555555555556, \"#d8576b\"], [0.6666666666666666, \"#ed7953\"], [0.7777777777777778, \"#fb9f3a\"], [0.8888888888888888, \"#fdca26\"], [1.0, \"#f0f921\"]], \"type\": \"surface\"}], \"table\": [{\"cells\": {\"fill\": {\"color\": \"#EBF0F8\"}, \"line\": {\"color\": \"white\"}}, \"header\": {\"fill\": {\"color\": \"#C8D4E3\"}, \"line\": {\"color\": \"white\"}}, \"type\": \"table\"}]}, \"layout\": {\"annotationdefaults\": {\"arrowcolor\": \"#2a3f5f\", \"arrowhead\": 0, \"arrowwidth\": 1}, \"coloraxis\": {\"colorbar\": {\"outlinewidth\": 0, \"ticks\": \"\"}}, \"colorscale\": {\"diverging\": [[0, \"#8e0152\"], [0.1, \"#c51b7d\"], [0.2, \"#de77ae\"], [0.3, \"#f1b6da\"], [0.4, \"#fde0ef\"], [0.5, \"#f7f7f7\"], [0.6, \"#e6f5d0\"], [0.7, \"#b8e186\"], [0.8, \"#7fbc41\"], [0.9, \"#4d9221\"], [1, \"#276419\"]], \"sequential\": [[0.0, \"#0d0887\"], [0.1111111111111111, \"#46039f\"], [0.2222222222222222, \"#7201a8\"], [0.3333333333333333, \"#9c179e\"], [0.4444444444444444, \"#bd3786\"], [0.5555555555555556, \"#d8576b\"], [0.6666666666666666, \"#ed7953\"], [0.7777777777777778, \"#fb9f3a\"], [0.8888888888888888, \"#fdca26\"], [1.0, \"#f0f921\"]], \"sequentialminus\": [[0.0, \"#0d0887\"], [0.1111111111111111, \"#46039f\"], [0.2222222222222222, \"#7201a8\"], [0.3333333333333333, \"#9c179e\"], [0.4444444444444444, \"#bd3786\"], [0.5555555555555556, \"#d8576b\"], [0.6666666666666666, \"#ed7953\"], [0.7777777777777778, \"#fb9f3a\"], [0.8888888888888888, \"#fdca26\"], [1.0, \"#f0f921\"]]}, \"colorway\": [\"#636efa\", \"#EF553B\", \"#00cc96\", \"#ab63fa\", \"#FFA15A\", \"#19d3f3\", \"#FF6692\", \"#B6E880\", \"#FF97FF\", \"#FECB52\"], \"font\": {\"color\": \"#2a3f5f\"}, \"geo\": {\"bgcolor\": \"white\", \"lakecolor\": \"white\", \"landcolor\": \"#E5ECF6\", \"showlakes\": true, \"showland\": true, \"subunitcolor\": \"white\"}, \"hoverlabel\": {\"align\": \"left\"}, \"hovermode\": \"closest\", \"mapbox\": {\"style\": \"light\"}, \"paper_bgcolor\": \"white\", \"plot_bgcolor\": \"#E5ECF6\", \"polar\": {\"angularaxis\": {\"gridcolor\": \"white\", \"linecolor\": \"white\", \"ticks\": \"\"}, \"bgcolor\": \"#E5ECF6\", \"radialaxis\": {\"gridcolor\": \"white\", \"linecolor\": \"white\", \"ticks\": \"\"}}, \"scene\": {\"xaxis\": {\"backgroundcolor\": \"#E5ECF6\", \"gridcolor\": \"white\", \"gridwidth\": 2, \"linecolor\": \"white\", \"showbackground\": true, \"ticks\": \"\", \"zerolinecolor\": \"white\"}, \"yaxis\": {\"backgroundcolor\": \"#E5ECF6\", \"gridcolor\": \"white\", \"gridwidth\": 2, \"linecolor\": \"white\", \"showbackground\": true, \"ticks\": \"\", \"zerolinecolor\": \"white\"}, \"zaxis\": {\"backgroundcolor\": \"#E5ECF6\", \"gridcolor\": \"white\", \"gridwidth\": 2, \"linecolor\": \"white\", \"showbackground\": true, \"ticks\": \"\", \"zerolinecolor\": \"white\"}}, \"shapedefaults\": {\"line\": {\"color\": \"#2a3f5f\"}}, \"ternary\": {\"aaxis\": {\"gridcolor\": \"white\", \"linecolor\": \"white\", \"ticks\": \"\"}, \"baxis\": {\"gridcolor\": \"white\", \"linecolor\": \"white\", \"ticks\": \"\"}, \"bgcolor\": \"#E5ECF6\", \"caxis\": {\"gridcolor\": \"white\", \"linecolor\": \"white\", \"ticks\": \"\"}}, \"title\": {\"x\": 0.05}, \"xaxis\": {\"automargin\": true, \"gridcolor\": \"white\", \"linecolor\": \"white\", \"ticks\": \"\", \"title\": {\"standoff\": 15}, \"zerolinecolor\": \"white\", \"zerolinewidth\": 2}, \"yaxis\": {\"automargin\": true, \"gridcolor\": \"white\", \"linecolor\": \"white\", \"ticks\": \"\", \"title\": {\"standoff\": 15}, \"zerolinecolor\": \"white\", \"zerolinewidth\": 2}}}, \"title\": {\"text\": \"The Effect of Covid-19 on Neighbors Relationships\"}},\n",
              "                        {\"responsive\": true}\n",
              "                    ).then(function(){\n",
              "                            \n",
              "var gd = document.getElementById('0e31c72c-9557-4bf2-a8f2-4c7497f614ac');\n",
              "var x = new MutationObserver(function (mutations, observer) {{\n",
              "        var display = window.getComputedStyle(gd).display;\n",
              "        if (!display || display === 'none') {{\n",
              "            console.log([gd, 'removed!']);\n",
              "            Plotly.purge(gd);\n",
              "            observer.disconnect();\n",
              "        }}\n",
              "}});\n",
              "\n",
              "// Listen for the removal of the full notebook cells\n",
              "var notebookContainer = gd.closest('#notebook-container');\n",
              "if (notebookContainer) {{\n",
              "    x.observe(notebookContainer, {childList: true});\n",
              "}}\n",
              "\n",
              "// Listen for the clearing of the current output cell\n",
              "var outputEl = gd.closest('.output');\n",
              "if (outputEl) {{\n",
              "    x.observe(outputEl, {childList: true});\n",
              "}}\n",
              "\n",
              "                        })\n",
              "                };\n",
              "                \n",
              "            </script>\n",
              "        </div>\n",
              "</body>\n",
              "</html>"
            ]
          },
          "metadata": {
            "tags": []
          }
        }
      ]
    },
    {
      "cell_type": "markdown",
      "metadata": {
        "id": "-s4UTBQKTW8y",
        "colab_type": "text"
      },
      "source": [
        "##### 2.2.1.1 Compare Question 2A with Question 2B\n",
        "\n",
        "*   Question-2A: In the past month, how often did you communicate with friends and family by phone, text, email, app, or using the Internet?\n",
        "\n",
        "*    Question-2B: During a typical month prior to March 1, 2020, when COVID-19 began spreading in the United States, how often did you\n",
        "communicate with friends and family by phone, text, email, app, or using the Internet?"
      ]
    },
    {
      "cell_type": "code",
      "metadata": {
        "id": "l7FeWygfTE-G",
        "colab_type": "code",
        "colab": {
          "base_uri": "https://localhost:8080/",
          "height": 111
        },
        "outputId": "8f4ed201-9772-446b-d493-524d0fed6cf4"
      },
      "source": [
        "# New Dataset\n",
        "concretion_2=survey[['State','Question-2A','Question-2B']]\n",
        "concretion_2.head(2)\n"
      ],
      "execution_count": 66,
      "outputs": [
        {
          "output_type": "execute_result",
          "data": {
            "text/html": [
              "<div>\n",
              "<style scoped>\n",
              "    .dataframe tbody tr th:only-of-type {\n",
              "        vertical-align: middle;\n",
              "    }\n",
              "\n",
              "    .dataframe tbody tr th {\n",
              "        vertical-align: top;\n",
              "    }\n",
              "\n",
              "    .dataframe thead th {\n",
              "        text-align: right;\n",
              "    }\n",
              "</style>\n",
              "<table border=\"1\" class=\"dataframe\">\n",
              "  <thead>\n",
              "    <tr style=\"text-align: right;\">\n",
              "      <th></th>\n",
              "      <th>State</th>\n",
              "      <th>Question-2A</th>\n",
              "      <th>Question-2B</th>\n",
              "    </tr>\n",
              "  </thead>\n",
              "  <tbody>\n",
              "    <tr>\n",
              "      <th>0</th>\n",
              "      <td>New York</td>\n",
              "      <td>2</td>\n",
              "      <td>1</td>\n",
              "    </tr>\n",
              "    <tr>\n",
              "      <th>1</th>\n",
              "      <td>New York</td>\n",
              "      <td>1</td>\n",
              "      <td>1</td>\n",
              "    </tr>\n",
              "  </tbody>\n",
              "</table>\n",
              "</div>"
            ],
            "text/plain": [
              "       State  Question-2A  Question-2B\n",
              "0   New York            2            1\n",
              "1   New York            1            1"
            ]
          },
          "metadata": {
            "tags": []
          },
          "execution_count": 66
        }
      ]
    },
    {
      "cell_type": "code",
      "metadata": {
        "id": "D6BPKgbnTE3a",
        "colab_type": "code",
        "colab": {
          "base_uri": "https://localhost:8080/",
          "height": 142
        },
        "outputId": "65eee98f-c350-4f9e-e4d2-bc822fb5607a"
      },
      "source": [
        "# Change the type of variables as string\n",
        "survey['Q-2A']=survey['Question-2A'].apply(my_number)\n",
        "survey.sample()\n",
        "survey[['Question-2A','Q-2A']].sample(3)"
      ],
      "execution_count": 67,
      "outputs": [
        {
          "output_type": "execute_result",
          "data": {
            "text/html": [
              "<div>\n",
              "<style scoped>\n",
              "    .dataframe tbody tr th:only-of-type {\n",
              "        vertical-align: middle;\n",
              "    }\n",
              "\n",
              "    .dataframe tbody tr th {\n",
              "        vertical-align: top;\n",
              "    }\n",
              "\n",
              "    .dataframe thead th {\n",
              "        text-align: right;\n",
              "    }\n",
              "</style>\n",
              "<table border=\"1\" class=\"dataframe\">\n",
              "  <thead>\n",
              "    <tr style=\"text-align: right;\">\n",
              "      <th></th>\n",
              "      <th>Question-2A</th>\n",
              "      <th>Q-2A</th>\n",
              "    </tr>\n",
              "  </thead>\n",
              "  <tbody>\n",
              "    <tr>\n",
              "      <th>40</th>\n",
              "      <td>2</td>\n",
              "      <td>2</td>\n",
              "    </tr>\n",
              "    <tr>\n",
              "      <th>92</th>\n",
              "      <td>1</td>\n",
              "      <td>1</td>\n",
              "    </tr>\n",
              "    <tr>\n",
              "      <th>228</th>\n",
              "      <td>3</td>\n",
              "      <td>3</td>\n",
              "    </tr>\n",
              "  </tbody>\n",
              "</table>\n",
              "</div>"
            ],
            "text/plain": [
              "     Question-2A Q-2A\n",
              "40             2    2\n",
              "92             1    1\n",
              "228            3    3"
            ]
          },
          "metadata": {
            "tags": []
          },
          "execution_count": 67
        }
      ]
    },
    {
      "cell_type": "code",
      "metadata": {
        "id": "Hi3e7P6QTExC",
        "colab_type": "code",
        "colab": {
          "base_uri": "https://localhost:8080/",
          "height": 142
        },
        "outputId": "9725deff-2d8c-4be3-ebb0-08f7c4307bef"
      },
      "source": [
        "# Change the type of variables as string\n",
        "survey['Q-2B']=survey['Question-2B'].apply(my_number)\n",
        "survey.sample()\n",
        "survey[['Question-2B','Q-2B']].sample(3)"
      ],
      "execution_count": 68,
      "outputs": [
        {
          "output_type": "execute_result",
          "data": {
            "text/html": [
              "<div>\n",
              "<style scoped>\n",
              "    .dataframe tbody tr th:only-of-type {\n",
              "        vertical-align: middle;\n",
              "    }\n",
              "\n",
              "    .dataframe tbody tr th {\n",
              "        vertical-align: top;\n",
              "    }\n",
              "\n",
              "    .dataframe thead th {\n",
              "        text-align: right;\n",
              "    }\n",
              "</style>\n",
              "<table border=\"1\" class=\"dataframe\">\n",
              "  <thead>\n",
              "    <tr style=\"text-align: right;\">\n",
              "      <th></th>\n",
              "      <th>Question-2B</th>\n",
              "      <th>Q-2B</th>\n",
              "    </tr>\n",
              "  </thead>\n",
              "  <tbody>\n",
              "    <tr>\n",
              "      <th>331</th>\n",
              "      <td>1</td>\n",
              "      <td>1</td>\n",
              "    </tr>\n",
              "    <tr>\n",
              "      <th>268</th>\n",
              "      <td>1</td>\n",
              "      <td>1</td>\n",
              "    </tr>\n",
              "    <tr>\n",
              "      <th>81</th>\n",
              "      <td>1</td>\n",
              "      <td>1</td>\n",
              "    </tr>\n",
              "  </tbody>\n",
              "</table>\n",
              "</div>"
            ],
            "text/plain": [
              "     Question-2B Q-2B\n",
              "331            1    1\n",
              "268            1    1\n",
              "81             1    1"
            ]
          },
          "metadata": {
            "tags": []
          },
          "execution_count": 68
        }
      ]
    },
    {
      "cell_type": "code",
      "metadata": {
        "id": "iO3oiIvlTEq4",
        "colab_type": "code",
        "colab": {
          "base_uri": "https://localhost:8080/",
          "height": 153
        },
        "outputId": "e316d936-6921-4712-f3f5-7ea9cb639659"
      },
      "source": [
        "# Find the total nombers for each categories\n",
        "survey['Q-2A'].value_counts().sort_index()"
      ],
      "execution_count": 69,
      "outputs": [
        {
          "output_type": "execute_result",
          "data": {
            "text/plain": [
              "1     267\n",
              "2      95\n",
              "3      20\n",
              "4       2\n",
              "5       8\n",
              "77      1\n",
              "98      2\n",
              "Name: Q-2A, dtype: int64"
            ]
          },
          "metadata": {
            "tags": []
          },
          "execution_count": 69
        }
      ]
    },
    {
      "cell_type": "code",
      "metadata": {
        "id": "M3x4wCfqTEk1",
        "colab_type": "code",
        "colab": {
          "base_uri": "https://localhost:8080/",
          "height": 153
        },
        "outputId": "a82ac46f-da5b-4127-eabf-44bb3cdc222f"
      },
      "source": [
        "survey['Q-2B'].value_counts().sort_index()"
      ],
      "execution_count": 70,
      "outputs": [
        {
          "output_type": "execute_result",
          "data": {
            "text/plain": [
              "1     220\n",
              "2     128\n",
              "3      33\n",
              "4       7\n",
              "5       4\n",
              "77      1\n",
              "98      2\n",
              "Name: Q-2B, dtype: int64"
            ]
          },
          "metadata": {
            "tags": []
          },
          "execution_count": 70
        }
      ]
    },
    {
      "cell_type": "code",
      "metadata": {
        "id": "aczyXfNITEef",
        "colab_type": "code",
        "colab": {}
      },
      "source": [
        "Q2a=[267,95,20,2,8,1,2]\n",
        "Q2b=[220,128,33,7,4,1,2]"
      ],
      "execution_count": 71,
      "outputs": []
    },
    {
      "cell_type": "code",
      "metadata": {
        "id": "BBddJpczTEYf",
        "colab_type": "code",
        "colab": {
          "base_uri": "https://localhost:8080/",
          "height": 542
        },
        "outputId": "3f4783b5-d1dd-4d20-a3c2-26829f890d72"
      },
      "source": [
        "import plotly.graph_objects as go\n",
        "from plotly.subplots import make_subplots\n",
        "labels=['Basically every day',' A few times a week', 'A few times a month',\n",
        "        'Once a month','Not at all','Not sure','Skipped on the web']\n",
        "fig = make_subplots(1, 2, specs=[[{'type':'domain'}, {'type':'domain'}]],\n",
        "                    subplot_titles=['Before Covid-19 began', 'When Covid-19 began'])\n",
        "fig.add_trace(go.Pie(labels=labels, values=Q2a, scalegroup='one',\n",
        "                     name='Before Covid-19 began'), 1, 1)\n",
        "fig.add_trace(go.Pie(labels=labels, values=Q2b, scalegroup='one',\n",
        "                     name='When Covid-19 began'), 1, 2)\n",
        "\n",
        "fig.update_layout(title_text='The Effect of Covid-19 on Friends and Family Relationships')\n",
        "fig.show()"
      ],
      "execution_count": 72,
      "outputs": [
        {
          "output_type": "display_data",
          "data": {
            "text/html": [
              "<html>\n",
              "<head><meta charset=\"utf-8\" /></head>\n",
              "<body>\n",
              "    <div>\n",
              "            <script src=\"https://cdnjs.cloudflare.com/ajax/libs/mathjax/2.7.5/MathJax.js?config=TeX-AMS-MML_SVG\"></script><script type=\"text/javascript\">if (window.MathJax) {MathJax.Hub.Config({SVG: {font: \"STIX-Web\"}});}</script>\n",
              "                <script type=\"text/javascript\">window.PlotlyConfig = {MathJaxConfig: 'local'};</script>\n",
              "        <script src=\"https://cdn.plot.ly/plotly-latest.min.js\"></script>    \n",
              "            <div id=\"1a8e9f4b-8147-4078-ba07-0a2867daabfd\" class=\"plotly-graph-div\" style=\"height:525px; width:100%;\"></div>\n",
              "            <script type=\"text/javascript\">\n",
              "                \n",
              "                    window.PLOTLYENV=window.PLOTLYENV || {};\n",
              "                    \n",
              "                if (document.getElementById(\"1a8e9f4b-8147-4078-ba07-0a2867daabfd\")) {\n",
              "                    Plotly.newPlot(\n",
              "                        '1a8e9f4b-8147-4078-ba07-0a2867daabfd',\n",
              "                        [{\"domain\": {\"x\": [0.0, 0.45], \"y\": [0.0, 1.0]}, \"labels\": [\"Basically every day\", \" A few times a week\", \"A few times a month\", \"Once a month\", \"Not at all\", \"Not sure\", \"Skipped on the web\"], \"name\": \"Before Covid-19 began\", \"scalegroup\": \"one\", \"type\": \"pie\", \"values\": [267, 95, 20, 2, 8, 1, 2]}, {\"domain\": {\"x\": [0.55, 1.0], \"y\": [0.0, 1.0]}, \"labels\": [\"Basically every day\", \" A few times a week\", \"A few times a month\", \"Once a month\", \"Not at all\", \"Not sure\", \"Skipped on the web\"], \"name\": \"When Covid-19 began\", \"scalegroup\": \"one\", \"type\": \"pie\", \"values\": [220, 128, 33, 7, 4, 1, 2]}],\n",
              "                        {\"annotations\": [{\"font\": {\"size\": 16}, \"showarrow\": false, \"text\": \"Before Covid-19 began\", \"x\": 0.225, \"xanchor\": \"center\", \"xref\": \"paper\", \"y\": 1.0, \"yanchor\": \"bottom\", \"yref\": \"paper\"}, {\"font\": {\"size\": 16}, \"showarrow\": false, \"text\": \"When Covid-19 began\", \"x\": 0.775, \"xanchor\": \"center\", \"xref\": \"paper\", \"y\": 1.0, \"yanchor\": \"bottom\", \"yref\": \"paper\"}], \"template\": {\"data\": {\"bar\": [{\"error_x\": {\"color\": \"#2a3f5f\"}, \"error_y\": {\"color\": \"#2a3f5f\"}, \"marker\": {\"line\": {\"color\": \"#E5ECF6\", \"width\": 0.5}}, \"type\": \"bar\"}], \"barpolar\": [{\"marker\": {\"line\": {\"color\": \"#E5ECF6\", \"width\": 0.5}}, \"type\": \"barpolar\"}], \"carpet\": [{\"aaxis\": {\"endlinecolor\": \"#2a3f5f\", \"gridcolor\": \"white\", \"linecolor\": \"white\", \"minorgridcolor\": \"white\", \"startlinecolor\": \"#2a3f5f\"}, \"baxis\": {\"endlinecolor\": \"#2a3f5f\", \"gridcolor\": \"white\", \"linecolor\": \"white\", \"minorgridcolor\": \"white\", \"startlinecolor\": \"#2a3f5f\"}, \"type\": \"carpet\"}], \"choropleth\": [{\"colorbar\": {\"outlinewidth\": 0, \"ticks\": \"\"}, \"type\": \"choropleth\"}], \"contour\": [{\"colorbar\": {\"outlinewidth\": 0, \"ticks\": \"\"}, \"colorscale\": [[0.0, \"#0d0887\"], [0.1111111111111111, \"#46039f\"], [0.2222222222222222, \"#7201a8\"], [0.3333333333333333, \"#9c179e\"], [0.4444444444444444, \"#bd3786\"], [0.5555555555555556, \"#d8576b\"], [0.6666666666666666, \"#ed7953\"], [0.7777777777777778, \"#fb9f3a\"], [0.8888888888888888, \"#fdca26\"], [1.0, \"#f0f921\"]], \"type\": \"contour\"}], \"contourcarpet\": [{\"colorbar\": {\"outlinewidth\": 0, \"ticks\": \"\"}, \"type\": \"contourcarpet\"}], \"heatmap\": [{\"colorbar\": {\"outlinewidth\": 0, \"ticks\": \"\"}, \"colorscale\": [[0.0, \"#0d0887\"], [0.1111111111111111, \"#46039f\"], [0.2222222222222222, \"#7201a8\"], [0.3333333333333333, \"#9c179e\"], [0.4444444444444444, \"#bd3786\"], [0.5555555555555556, \"#d8576b\"], [0.6666666666666666, \"#ed7953\"], [0.7777777777777778, \"#fb9f3a\"], [0.8888888888888888, \"#fdca26\"], [1.0, \"#f0f921\"]], \"type\": \"heatmap\"}], \"heatmapgl\": [{\"colorbar\": {\"outlinewidth\": 0, \"ticks\": \"\"}, \"colorscale\": [[0.0, \"#0d0887\"], [0.1111111111111111, \"#46039f\"], [0.2222222222222222, \"#7201a8\"], [0.3333333333333333, \"#9c179e\"], [0.4444444444444444, \"#bd3786\"], [0.5555555555555556, \"#d8576b\"], [0.6666666666666666, \"#ed7953\"], [0.7777777777777778, \"#fb9f3a\"], [0.8888888888888888, \"#fdca26\"], [1.0, \"#f0f921\"]], \"type\": \"heatmapgl\"}], \"histogram\": [{\"marker\": {\"colorbar\": {\"outlinewidth\": 0, \"ticks\": \"\"}}, \"type\": \"histogram\"}], \"histogram2d\": [{\"colorbar\": {\"outlinewidth\": 0, \"ticks\": \"\"}, \"colorscale\": [[0.0, \"#0d0887\"], [0.1111111111111111, \"#46039f\"], [0.2222222222222222, \"#7201a8\"], [0.3333333333333333, \"#9c179e\"], [0.4444444444444444, \"#bd3786\"], [0.5555555555555556, \"#d8576b\"], [0.6666666666666666, \"#ed7953\"], [0.7777777777777778, \"#fb9f3a\"], [0.8888888888888888, \"#fdca26\"], [1.0, \"#f0f921\"]], \"type\": \"histogram2d\"}], \"histogram2dcontour\": [{\"colorbar\": {\"outlinewidth\": 0, \"ticks\": \"\"}, \"colorscale\": [[0.0, \"#0d0887\"], [0.1111111111111111, \"#46039f\"], [0.2222222222222222, \"#7201a8\"], [0.3333333333333333, \"#9c179e\"], [0.4444444444444444, \"#bd3786\"], [0.5555555555555556, \"#d8576b\"], [0.6666666666666666, \"#ed7953\"], [0.7777777777777778, \"#fb9f3a\"], [0.8888888888888888, \"#fdca26\"], [1.0, \"#f0f921\"]], \"type\": \"histogram2dcontour\"}], \"mesh3d\": [{\"colorbar\": {\"outlinewidth\": 0, \"ticks\": \"\"}, \"type\": \"mesh3d\"}], \"parcoords\": [{\"line\": {\"colorbar\": {\"outlinewidth\": 0, \"ticks\": \"\"}}, \"type\": \"parcoords\"}], \"pie\": [{\"automargin\": true, \"type\": \"pie\"}], \"scatter\": [{\"marker\": {\"colorbar\": {\"outlinewidth\": 0, \"ticks\": \"\"}}, \"type\": \"scatter\"}], \"scatter3d\": [{\"line\": {\"colorbar\": {\"outlinewidth\": 0, \"ticks\": \"\"}}, \"marker\": {\"colorbar\": {\"outlinewidth\": 0, \"ticks\": \"\"}}, \"type\": \"scatter3d\"}], \"scattercarpet\": [{\"marker\": {\"colorbar\": {\"outlinewidth\": 0, \"ticks\": \"\"}}, \"type\": \"scattercarpet\"}], \"scattergeo\": [{\"marker\": {\"colorbar\": {\"outlinewidth\": 0, \"ticks\": \"\"}}, \"type\": \"scattergeo\"}], \"scattergl\": [{\"marker\": {\"colorbar\": {\"outlinewidth\": 0, \"ticks\": \"\"}}, \"type\": \"scattergl\"}], \"scattermapbox\": [{\"marker\": {\"colorbar\": {\"outlinewidth\": 0, \"ticks\": \"\"}}, \"type\": \"scattermapbox\"}], \"scatterpolar\": [{\"marker\": {\"colorbar\": {\"outlinewidth\": 0, \"ticks\": \"\"}}, \"type\": \"scatterpolar\"}], \"scatterpolargl\": [{\"marker\": {\"colorbar\": {\"outlinewidth\": 0, \"ticks\": \"\"}}, \"type\": \"scatterpolargl\"}], \"scatterternary\": [{\"marker\": {\"colorbar\": {\"outlinewidth\": 0, \"ticks\": \"\"}}, \"type\": \"scatterternary\"}], \"surface\": [{\"colorbar\": {\"outlinewidth\": 0, \"ticks\": \"\"}, \"colorscale\": [[0.0, \"#0d0887\"], [0.1111111111111111, \"#46039f\"], [0.2222222222222222, \"#7201a8\"], [0.3333333333333333, \"#9c179e\"], [0.4444444444444444, \"#bd3786\"], [0.5555555555555556, \"#d8576b\"], [0.6666666666666666, \"#ed7953\"], [0.7777777777777778, \"#fb9f3a\"], [0.8888888888888888, \"#fdca26\"], [1.0, \"#f0f921\"]], \"type\": \"surface\"}], \"table\": [{\"cells\": {\"fill\": {\"color\": \"#EBF0F8\"}, \"line\": {\"color\": \"white\"}}, \"header\": {\"fill\": {\"color\": \"#C8D4E3\"}, \"line\": {\"color\": \"white\"}}, \"type\": \"table\"}]}, \"layout\": {\"annotationdefaults\": {\"arrowcolor\": \"#2a3f5f\", \"arrowhead\": 0, \"arrowwidth\": 1}, \"coloraxis\": {\"colorbar\": {\"outlinewidth\": 0, \"ticks\": \"\"}}, \"colorscale\": {\"diverging\": [[0, \"#8e0152\"], [0.1, \"#c51b7d\"], [0.2, \"#de77ae\"], [0.3, \"#f1b6da\"], [0.4, \"#fde0ef\"], [0.5, \"#f7f7f7\"], [0.6, \"#e6f5d0\"], [0.7, \"#b8e186\"], [0.8, \"#7fbc41\"], [0.9, \"#4d9221\"], [1, \"#276419\"]], \"sequential\": [[0.0, \"#0d0887\"], [0.1111111111111111, \"#46039f\"], [0.2222222222222222, \"#7201a8\"], [0.3333333333333333, \"#9c179e\"], [0.4444444444444444, \"#bd3786\"], [0.5555555555555556, \"#d8576b\"], [0.6666666666666666, \"#ed7953\"], [0.7777777777777778, \"#fb9f3a\"], [0.8888888888888888, \"#fdca26\"], [1.0, \"#f0f921\"]], \"sequentialminus\": [[0.0, \"#0d0887\"], [0.1111111111111111, \"#46039f\"], [0.2222222222222222, \"#7201a8\"], [0.3333333333333333, \"#9c179e\"], [0.4444444444444444, \"#bd3786\"], [0.5555555555555556, \"#d8576b\"], [0.6666666666666666, \"#ed7953\"], [0.7777777777777778, \"#fb9f3a\"], [0.8888888888888888, \"#fdca26\"], [1.0, \"#f0f921\"]]}, \"colorway\": [\"#636efa\", \"#EF553B\", \"#00cc96\", \"#ab63fa\", \"#FFA15A\", \"#19d3f3\", \"#FF6692\", \"#B6E880\", \"#FF97FF\", \"#FECB52\"], \"font\": {\"color\": \"#2a3f5f\"}, \"geo\": {\"bgcolor\": \"white\", \"lakecolor\": \"white\", \"landcolor\": \"#E5ECF6\", \"showlakes\": true, \"showland\": true, \"subunitcolor\": \"white\"}, \"hoverlabel\": {\"align\": \"left\"}, \"hovermode\": \"closest\", \"mapbox\": {\"style\": \"light\"}, \"paper_bgcolor\": \"white\", \"plot_bgcolor\": \"#E5ECF6\", \"polar\": {\"angularaxis\": {\"gridcolor\": \"white\", \"linecolor\": \"white\", \"ticks\": \"\"}, \"bgcolor\": \"#E5ECF6\", \"radialaxis\": {\"gridcolor\": \"white\", \"linecolor\": \"white\", \"ticks\": \"\"}}, \"scene\": {\"xaxis\": {\"backgroundcolor\": \"#E5ECF6\", \"gridcolor\": \"white\", \"gridwidth\": 2, \"linecolor\": \"white\", \"showbackground\": true, \"ticks\": \"\", \"zerolinecolor\": \"white\"}, \"yaxis\": {\"backgroundcolor\": \"#E5ECF6\", \"gridcolor\": \"white\", \"gridwidth\": 2, \"linecolor\": \"white\", \"showbackground\": true, \"ticks\": \"\", \"zerolinecolor\": \"white\"}, \"zaxis\": {\"backgroundcolor\": \"#E5ECF6\", \"gridcolor\": \"white\", \"gridwidth\": 2, \"linecolor\": \"white\", \"showbackground\": true, \"ticks\": \"\", \"zerolinecolor\": \"white\"}}, \"shapedefaults\": {\"line\": {\"color\": \"#2a3f5f\"}}, \"ternary\": {\"aaxis\": {\"gridcolor\": \"white\", \"linecolor\": \"white\", \"ticks\": \"\"}, \"baxis\": {\"gridcolor\": \"white\", \"linecolor\": \"white\", \"ticks\": \"\"}, \"bgcolor\": \"#E5ECF6\", \"caxis\": {\"gridcolor\": \"white\", \"linecolor\": \"white\", \"ticks\": \"\"}}, \"title\": {\"x\": 0.05}, \"xaxis\": {\"automargin\": true, \"gridcolor\": \"white\", \"linecolor\": \"white\", \"ticks\": \"\", \"title\": {\"standoff\": 15}, \"zerolinecolor\": \"white\", \"zerolinewidth\": 2}, \"yaxis\": {\"automargin\": true, \"gridcolor\": \"white\", \"linecolor\": \"white\", \"ticks\": \"\", \"title\": {\"standoff\": 15}, \"zerolinecolor\": \"white\", \"zerolinewidth\": 2}}}, \"title\": {\"text\": \"The Effect of Covid-19 on Friends and Family Relationships\"}},\n",
              "                        {\"responsive\": true}\n",
              "                    ).then(function(){\n",
              "                            \n",
              "var gd = document.getElementById('1a8e9f4b-8147-4078-ba07-0a2867daabfd');\n",
              "var x = new MutationObserver(function (mutations, observer) {{\n",
              "        var display = window.getComputedStyle(gd).display;\n",
              "        if (!display || display === 'none') {{\n",
              "            console.log([gd, 'removed!']);\n",
              "            Plotly.purge(gd);\n",
              "            observer.disconnect();\n",
              "        }}\n",
              "}});\n",
              "\n",
              "// Listen for the removal of the full notebook cells\n",
              "var notebookContainer = gd.closest('#notebook-container');\n",
              "if (notebookContainer) {{\n",
              "    x.observe(notebookContainer, {childList: true});\n",
              "}}\n",
              "\n",
              "// Listen for the clearing of the current output cell\n",
              "var outputEl = gd.closest('.output');\n",
              "if (outputEl) {{\n",
              "    x.observe(outputEl, {childList: true});\n",
              "}}\n",
              "\n",
              "                        })\n",
              "                };\n",
              "                \n",
              "            </script>\n",
              "        </div>\n",
              "</body>\n",
              "</html>"
            ]
          },
          "metadata": {
            "tags": []
          }
        }
      ]
    },
    {
      "cell_type": "markdown",
      "metadata": {
        "id": "xdsyvXheUD9m",
        "colab_type": "text"
      },
      "source": [
        "##### 2.2.1.2 Compare Question 3A with Question 3B\n",
        "\n",
        "*    Question-3A: In the past month, did you spend any time volunteering for any organization or association, or not?\n",
        "\n",
        "*    Question-3B: During a typical month prior to March 1, 2020, when COVID-19 began spreading in the United States, did you spend any time\n",
        "volunteering for any organization or association, or not?\n"
      ]
    },
    {
      "cell_type": "code",
      "metadata": {
        "id": "AdYyQDGITDZu",
        "colab_type": "code",
        "colab": {
          "base_uri": "https://localhost:8080/",
          "height": 142
        },
        "outputId": "cddb0994-0067-4616-8deb-4d9dbad8265b"
      },
      "source": [
        "# Create a new dataset\n",
        "# Change the type of variables as string\n",
        "survey['Q-3A']=survey['Qestion-3A'].apply(my_number)\n",
        "survey.sample()\n",
        "survey[['Qestion-3A','Q-3A']].sample(3)"
      ],
      "execution_count": 73,
      "outputs": [
        {
          "output_type": "execute_result",
          "data": {
            "text/html": [
              "<div>\n",
              "<style scoped>\n",
              "    .dataframe tbody tr th:only-of-type {\n",
              "        vertical-align: middle;\n",
              "    }\n",
              "\n",
              "    .dataframe tbody tr th {\n",
              "        vertical-align: top;\n",
              "    }\n",
              "\n",
              "    .dataframe thead th {\n",
              "        text-align: right;\n",
              "    }\n",
              "</style>\n",
              "<table border=\"1\" class=\"dataframe\">\n",
              "  <thead>\n",
              "    <tr style=\"text-align: right;\">\n",
              "      <th></th>\n",
              "      <th>Qestion-3A</th>\n",
              "      <th>Q-3A</th>\n",
              "    </tr>\n",
              "  </thead>\n",
              "  <tbody>\n",
              "    <tr>\n",
              "      <th>321</th>\n",
              "      <td>2</td>\n",
              "      <td>2</td>\n",
              "    </tr>\n",
              "    <tr>\n",
              "      <th>334</th>\n",
              "      <td>2</td>\n",
              "      <td>2</td>\n",
              "    </tr>\n",
              "    <tr>\n",
              "      <th>265</th>\n",
              "      <td>2</td>\n",
              "      <td>2</td>\n",
              "    </tr>\n",
              "  </tbody>\n",
              "</table>\n",
              "</div>"
            ],
            "text/plain": [
              "     Qestion-3A Q-3A\n",
              "321           2    2\n",
              "334           2    2\n",
              "265           2    2"
            ]
          },
          "metadata": {
            "tags": []
          },
          "execution_count": 73
        }
      ]
    },
    {
      "cell_type": "code",
      "metadata": {
        "id": "L-k9gGuJTDTo",
        "colab_type": "code",
        "colab": {
          "base_uri": "https://localhost:8080/",
          "height": 142
        },
        "outputId": "1a5b1e75-8952-4e97-db74-fe63a4e745dd"
      },
      "source": [
        "# Convert the data types\n",
        "survey['Q-3B']=survey['Qestion-3B'].apply(my_number)\n",
        "survey.sample()\n",
        "survey[['Qestion-3B','Q-3B']].sample(3)"
      ],
      "execution_count": 74,
      "outputs": [
        {
          "output_type": "execute_result",
          "data": {
            "text/html": [
              "<div>\n",
              "<style scoped>\n",
              "    .dataframe tbody tr th:only-of-type {\n",
              "        vertical-align: middle;\n",
              "    }\n",
              "\n",
              "    .dataframe tbody tr th {\n",
              "        vertical-align: top;\n",
              "    }\n",
              "\n",
              "    .dataframe thead th {\n",
              "        text-align: right;\n",
              "    }\n",
              "</style>\n",
              "<table border=\"1\" class=\"dataframe\">\n",
              "  <thead>\n",
              "    <tr style=\"text-align: right;\">\n",
              "      <th></th>\n",
              "      <th>Qestion-3B</th>\n",
              "      <th>Q-3B</th>\n",
              "    </tr>\n",
              "  </thead>\n",
              "  <tbody>\n",
              "    <tr>\n",
              "      <th>230</th>\n",
              "      <td>2</td>\n",
              "      <td>2</td>\n",
              "    </tr>\n",
              "    <tr>\n",
              "      <th>55</th>\n",
              "      <td>2</td>\n",
              "      <td>2</td>\n",
              "    </tr>\n",
              "    <tr>\n",
              "      <th>32</th>\n",
              "      <td>2</td>\n",
              "      <td>2</td>\n",
              "    </tr>\n",
              "  </tbody>\n",
              "</table>\n",
              "</div>"
            ],
            "text/plain": [
              "     Qestion-3B Q-3B\n",
              "230           2    2\n",
              "55            2    2\n",
              "32            2    2"
            ]
          },
          "metadata": {
            "tags": []
          },
          "execution_count": 74
        }
      ]
    },
    {
      "cell_type": "code",
      "metadata": {
        "id": "B9EdvEX0TDM5",
        "colab_type": "code",
        "colab": {
          "base_uri": "https://localhost:8080/",
          "height": 85
        },
        "outputId": "507269a4-2833-46ea-a2ad-2aa87ca50492"
      },
      "source": [
        "# Find the total numbers for each categories\n",
        "survey['Q-3A'].value_counts().sort_index()"
      ],
      "execution_count": 75,
      "outputs": [
        {
          "output_type": "execute_result",
          "data": {
            "text/plain": [
              "1      55\n",
              "2     338\n",
              "77      2\n",
              "Name: Q-3A, dtype: int64"
            ]
          },
          "metadata": {
            "tags": []
          },
          "execution_count": 75
        }
      ]
    },
    {
      "cell_type": "code",
      "metadata": {
        "id": "O-58jdSQTDHC",
        "colab_type": "code",
        "colab": {
          "base_uri": "https://localhost:8080/",
          "height": 102
        },
        "outputId": "5b7dba9d-7a6f-48a5-f135-b824a6099eaa"
      },
      "source": [
        "# Find the total nombers for each categories\n",
        "survey['Q-3B'].value_counts().sort_index()"
      ],
      "execution_count": 76,
      "outputs": [
        {
          "output_type": "execute_result",
          "data": {
            "text/plain": [
              "1     104\n",
              "2     287\n",
              "77      3\n",
              "98      1\n",
              "Name: Q-3B, dtype: int64"
            ]
          },
          "metadata": {
            "tags": []
          },
          "execution_count": 76
        }
      ]
    },
    {
      "cell_type": "code",
      "metadata": {
        "id": "sPOoQoc-TDAu",
        "colab_type": "code",
        "colab": {}
      },
      "source": [
        "Q3a=[55,338,2,0]\n",
        "Q3b=[104,287,3,1]\n",
        "labels=['yes','No','Not Sure','Skipped on the web']"
      ],
      "execution_count": 77,
      "outputs": []
    },
    {
      "cell_type": "code",
      "metadata": {
        "id": "ANvczLNUTC6L",
        "colab_type": "code",
        "colab": {
          "base_uri": "https://localhost:8080/",
          "height": 817
        },
        "outputId": "4fb1798b-86c0-4b46-80cd-538dd2c484b3"
      },
      "source": [
        "# Graph and table\n",
        "import plotly.graph_objects as go\n",
        "import plotly.figure_factory as ff\n",
        "\n",
        "# Add table data\n",
        "table_data = [['Question','yes','No','Not Sure'],\n",
        "              ['In the past month, <br>did you spend any time<br>volunteering for any <br>organization or association?', 55,338,2],\n",
        "              ['When COVID-19 began <br>spreading in the United States,<br>did you spend any time<br>volunteering <br>for any organization<br>or association?', 104,287,3]]\n",
        "\n",
        "# Initialize a figure with ff.create_table(table_data)\n",
        "fig = ff.create_table(table_data, height_constant=60)\n",
        "\n",
        "# Add graph data\n",
        "labels=['yes','No','Not Sure']\n",
        "Q3a=[55,338,2,]\n",
        "Q3b=[104,287,3]\n",
        "\n",
        "# Make traces for graph\n",
        "trace1 = go.Bar(x=labels, y=Q3a, xaxis='x2', yaxis='y2',\n",
        "                marker=dict(color='#0099ff'),\n",
        "                name='Before Covid-19 began')\n",
        "trace2 = go.Bar(x=labels, y=Q3b, xaxis='x2', yaxis='y2',\n",
        "                marker=dict(color='#404040'),\n",
        "                name='When Covid-19 began')\n",
        "\n",
        "# Add trace data to figure\n",
        "fig.add_traces([trace1, trace2])\n",
        "\n",
        "# initialize xaxis2 and yaxis2\n",
        "fig['layout']['xaxis2'] = {}\n",
        "fig['layout']['yaxis2'] = {}\n",
        "\n",
        "# Edit layout for subplots\n",
        "fig.layout.yaxis.update({'domain': [0, .45]})\n",
        "fig.layout.yaxis2.update({'domain': [.6, 1]})\n",
        "\n",
        "# The graph's yaxis2 MUST BE anchored to the graph's xaxis2 and vice versa\n",
        "fig.layout.yaxis2.update({'anchor': 'x2'})\n",
        "fig.layout.xaxis2.update({'anchor': 'y2'})\n",
        "fig.layout.yaxis2.update({'title': 'Goals'})\n",
        "\n",
        "# Update the margins to add a title and see graph x-labels.\n",
        "fig.layout.margin.update({'t':75, 'l':50})\n",
        "fig.layout.update({'title': 'The Effect of Covid-19 on Volunteering for Any Organization or Association'})\n",
        "\n",
        "# Update the height because adding a graph vertically will interact with\n",
        "# the plot height calculated for the table\n",
        "fig.layout.update({'height':800})\n",
        "\n",
        "# Plot!\n",
        "fig.show()"
      ],
      "execution_count": 78,
      "outputs": [
        {
          "output_type": "display_data",
          "data": {
            "text/html": [
              "<html>\n",
              "<head><meta charset=\"utf-8\" /></head>\n",
              "<body>\n",
              "    <div>\n",
              "            <script src=\"https://cdnjs.cloudflare.com/ajax/libs/mathjax/2.7.5/MathJax.js?config=TeX-AMS-MML_SVG\"></script><script type=\"text/javascript\">if (window.MathJax) {MathJax.Hub.Config({SVG: {font: \"STIX-Web\"}});}</script>\n",
              "                <script type=\"text/javascript\">window.PlotlyConfig = {MathJaxConfig: 'local'};</script>\n",
              "        <script src=\"https://cdn.plot.ly/plotly-latest.min.js\"></script>    \n",
              "            <div id=\"9d74211f-8f24-48fa-b2ec-dfa59077bbe4\" class=\"plotly-graph-div\" style=\"height:800px; width:100%;\"></div>\n",
              "            <script type=\"text/javascript\">\n",
              "                \n",
              "                    window.PLOTLYENV=window.PLOTLYENV || {};\n",
              "                    \n",
              "                if (document.getElementById(\"9d74211f-8f24-48fa-b2ec-dfa59077bbe4\")) {\n",
              "                    Plotly.newPlot(\n",
              "                        '9d74211f-8f24-48fa-b2ec-dfa59077bbe4',\n",
              "                        [{\"colorscale\": [[0, \"#00083e\"], [0.5, \"#ededee\"], [1, \"#ffffff\"]], \"hoverinfo\": \"none\", \"opacity\": 0.75, \"showscale\": false, \"type\": \"heatmap\", \"z\": [[0, 0, 0, 0], [0.5, 0.5, 0.5, 0.5], [1, 1, 1, 1]]}, {\"marker\": {\"color\": \"#0099ff\"}, \"name\": \"Before Covid-19 began\", \"type\": \"bar\", \"x\": [\"yes\", \"No\", \"Not Sure\"], \"xaxis\": \"x2\", \"y\": [55, 338, 2], \"yaxis\": \"y2\"}, {\"marker\": {\"color\": \"#404040\"}, \"name\": \"When Covid-19 began\", \"type\": \"bar\", \"x\": [\"yes\", \"No\", \"Not Sure\"], \"xaxis\": \"x2\", \"y\": [104, 287, 3], \"yaxis\": \"y2\"}],\n",
              "                        {\"annotations\": [{\"align\": \"left\", \"font\": {\"color\": \"#ffffff\"}, \"showarrow\": false, \"text\": \"<b>Question</b>\", \"x\": -0.45, \"xanchor\": \"left\", \"xref\": \"x\", \"y\": 0, \"yref\": \"y\"}, {\"align\": \"left\", \"font\": {\"color\": \"#ffffff\"}, \"showarrow\": false, \"text\": \"<b>yes</b>\", \"x\": 0.55, \"xanchor\": \"left\", \"xref\": \"x\", \"y\": 0, \"yref\": \"y\"}, {\"align\": \"left\", \"font\": {\"color\": \"#ffffff\"}, \"showarrow\": false, \"text\": \"<b>No</b>\", \"x\": 1.55, \"xanchor\": \"left\", \"xref\": \"x\", \"y\": 0, \"yref\": \"y\"}, {\"align\": \"left\", \"font\": {\"color\": \"#ffffff\"}, \"showarrow\": false, \"text\": \"<b>Not Sure</b>\", \"x\": 2.55, \"xanchor\": \"left\", \"xref\": \"x\", \"y\": 0, \"yref\": \"y\"}, {\"align\": \"left\", \"font\": {\"color\": \"#000000\"}, \"showarrow\": false, \"text\": \"In the past month, <br>did you spend any time<br>volunteering for any <br>organization or association?\", \"x\": -0.45, \"xanchor\": \"left\", \"xref\": \"x\", \"y\": 1, \"yref\": \"y\"}, {\"align\": \"left\", \"font\": {\"color\": \"#000000\"}, \"showarrow\": false, \"text\": \"55\", \"x\": 0.55, \"xanchor\": \"left\", \"xref\": \"x\", \"y\": 1, \"yref\": \"y\"}, {\"align\": \"left\", \"font\": {\"color\": \"#000000\"}, \"showarrow\": false, \"text\": \"338\", \"x\": 1.55, \"xanchor\": \"left\", \"xref\": \"x\", \"y\": 1, \"yref\": \"y\"}, {\"align\": \"left\", \"font\": {\"color\": \"#000000\"}, \"showarrow\": false, \"text\": \"2\", \"x\": 2.55, \"xanchor\": \"left\", \"xref\": \"x\", \"y\": 1, \"yref\": \"y\"}, {\"align\": \"left\", \"font\": {\"color\": \"#000000\"}, \"showarrow\": false, \"text\": \"When COVID-19 began <br>spreading in the United States,<br>did you spend any time<br>volunteering <br>for any organization<br>or association?\", \"x\": -0.45, \"xanchor\": \"left\", \"xref\": \"x\", \"y\": 2, \"yref\": \"y\"}, {\"align\": \"left\", \"font\": {\"color\": \"#000000\"}, \"showarrow\": false, \"text\": \"104\", \"x\": 0.55, \"xanchor\": \"left\", \"xref\": \"x\", \"y\": 2, \"yref\": \"y\"}, {\"align\": \"left\", \"font\": {\"color\": \"#000000\"}, \"showarrow\": false, \"text\": \"287\", \"x\": 1.55, \"xanchor\": \"left\", \"xref\": \"x\", \"y\": 2, \"yref\": \"y\"}, {\"align\": \"left\", \"font\": {\"color\": \"#000000\"}, \"showarrow\": false, \"text\": \"3\", \"x\": 2.55, \"xanchor\": \"left\", \"xref\": \"x\", \"y\": 2, \"yref\": \"y\"}], \"height\": 800, \"margin\": {\"b\": 0, \"l\": 50, \"r\": 0, \"t\": 75}, \"template\": {\"data\": {\"bar\": [{\"error_x\": {\"color\": \"#2a3f5f\"}, \"error_y\": {\"color\": \"#2a3f5f\"}, \"marker\": {\"line\": {\"color\": \"#E5ECF6\", \"width\": 0.5}}, \"type\": \"bar\"}], \"barpolar\": [{\"marker\": {\"line\": {\"color\": \"#E5ECF6\", \"width\": 0.5}}, \"type\": \"barpolar\"}], \"carpet\": [{\"aaxis\": {\"endlinecolor\": \"#2a3f5f\", \"gridcolor\": \"white\", \"linecolor\": \"white\", \"minorgridcolor\": \"white\", \"startlinecolor\": \"#2a3f5f\"}, \"baxis\": {\"endlinecolor\": \"#2a3f5f\", \"gridcolor\": \"white\", \"linecolor\": \"white\", \"minorgridcolor\": \"white\", \"startlinecolor\": \"#2a3f5f\"}, \"type\": \"carpet\"}], \"choropleth\": [{\"colorbar\": {\"outlinewidth\": 0, \"ticks\": \"\"}, \"type\": \"choropleth\"}], \"contour\": [{\"colorbar\": {\"outlinewidth\": 0, \"ticks\": \"\"}, \"colorscale\": [[0.0, \"#0d0887\"], [0.1111111111111111, \"#46039f\"], [0.2222222222222222, \"#7201a8\"], [0.3333333333333333, \"#9c179e\"], [0.4444444444444444, \"#bd3786\"], [0.5555555555555556, \"#d8576b\"], [0.6666666666666666, \"#ed7953\"], [0.7777777777777778, \"#fb9f3a\"], [0.8888888888888888, \"#fdca26\"], [1.0, \"#f0f921\"]], \"type\": \"contour\"}], \"contourcarpet\": [{\"colorbar\": {\"outlinewidth\": 0, \"ticks\": \"\"}, \"type\": \"contourcarpet\"}], \"heatmap\": [{\"colorbar\": {\"outlinewidth\": 0, \"ticks\": \"\"}, \"colorscale\": [[0.0, \"#0d0887\"], [0.1111111111111111, \"#46039f\"], [0.2222222222222222, \"#7201a8\"], [0.3333333333333333, \"#9c179e\"], [0.4444444444444444, \"#bd3786\"], [0.5555555555555556, \"#d8576b\"], [0.6666666666666666, \"#ed7953\"], [0.7777777777777778, \"#fb9f3a\"], [0.8888888888888888, \"#fdca26\"], [1.0, \"#f0f921\"]], \"type\": \"heatmap\"}], \"heatmapgl\": [{\"colorbar\": {\"outlinewidth\": 0, \"ticks\": \"\"}, \"colorscale\": [[0.0, \"#0d0887\"], [0.1111111111111111, \"#46039f\"], [0.2222222222222222, \"#7201a8\"], [0.3333333333333333, \"#9c179e\"], [0.4444444444444444, \"#bd3786\"], [0.5555555555555556, \"#d8576b\"], [0.6666666666666666, \"#ed7953\"], [0.7777777777777778, \"#fb9f3a\"], [0.8888888888888888, \"#fdca26\"], [1.0, \"#f0f921\"]], \"type\": \"heatmapgl\"}], \"histogram\": [{\"marker\": {\"colorbar\": {\"outlinewidth\": 0, \"ticks\": \"\"}}, \"type\": \"histogram\"}], \"histogram2d\": [{\"colorbar\": {\"outlinewidth\": 0, \"ticks\": \"\"}, \"colorscale\": [[0.0, \"#0d0887\"], [0.1111111111111111, \"#46039f\"], [0.2222222222222222, \"#7201a8\"], [0.3333333333333333, \"#9c179e\"], [0.4444444444444444, \"#bd3786\"], [0.5555555555555556, \"#d8576b\"], [0.6666666666666666, \"#ed7953\"], [0.7777777777777778, \"#fb9f3a\"], [0.8888888888888888, \"#fdca26\"], [1.0, \"#f0f921\"]], \"type\": \"histogram2d\"}], \"histogram2dcontour\": [{\"colorbar\": {\"outlinewidth\": 0, \"ticks\": \"\"}, \"colorscale\": [[0.0, \"#0d0887\"], [0.1111111111111111, \"#46039f\"], [0.2222222222222222, \"#7201a8\"], [0.3333333333333333, \"#9c179e\"], [0.4444444444444444, \"#bd3786\"], [0.5555555555555556, \"#d8576b\"], [0.6666666666666666, \"#ed7953\"], [0.7777777777777778, \"#fb9f3a\"], [0.8888888888888888, \"#fdca26\"], [1.0, \"#f0f921\"]], \"type\": \"histogram2dcontour\"}], \"mesh3d\": [{\"colorbar\": {\"outlinewidth\": 0, \"ticks\": \"\"}, \"type\": \"mesh3d\"}], \"parcoords\": [{\"line\": {\"colorbar\": {\"outlinewidth\": 0, \"ticks\": \"\"}}, \"type\": \"parcoords\"}], \"pie\": [{\"automargin\": true, \"type\": \"pie\"}], \"scatter\": [{\"marker\": {\"colorbar\": {\"outlinewidth\": 0, \"ticks\": \"\"}}, \"type\": \"scatter\"}], \"scatter3d\": [{\"line\": {\"colorbar\": {\"outlinewidth\": 0, \"ticks\": \"\"}}, \"marker\": {\"colorbar\": {\"outlinewidth\": 0, \"ticks\": \"\"}}, \"type\": \"scatter3d\"}], \"scattercarpet\": [{\"marker\": {\"colorbar\": {\"outlinewidth\": 0, \"ticks\": \"\"}}, \"type\": \"scattercarpet\"}], \"scattergeo\": [{\"marker\": {\"colorbar\": {\"outlinewidth\": 0, \"ticks\": \"\"}}, \"type\": \"scattergeo\"}], \"scattergl\": [{\"marker\": {\"colorbar\": {\"outlinewidth\": 0, \"ticks\": \"\"}}, \"type\": \"scattergl\"}], \"scattermapbox\": [{\"marker\": {\"colorbar\": {\"outlinewidth\": 0, \"ticks\": \"\"}}, \"type\": \"scattermapbox\"}], \"scatterpolar\": [{\"marker\": {\"colorbar\": {\"outlinewidth\": 0, \"ticks\": \"\"}}, \"type\": \"scatterpolar\"}], \"scatterpolargl\": [{\"marker\": {\"colorbar\": {\"outlinewidth\": 0, \"ticks\": \"\"}}, \"type\": \"scatterpolargl\"}], \"scatterternary\": [{\"marker\": {\"colorbar\": {\"outlinewidth\": 0, \"ticks\": \"\"}}, \"type\": \"scatterternary\"}], \"surface\": [{\"colorbar\": {\"outlinewidth\": 0, \"ticks\": \"\"}, \"colorscale\": [[0.0, \"#0d0887\"], [0.1111111111111111, \"#46039f\"], [0.2222222222222222, \"#7201a8\"], [0.3333333333333333, \"#9c179e\"], [0.4444444444444444, \"#bd3786\"], [0.5555555555555556, \"#d8576b\"], [0.6666666666666666, \"#ed7953\"], [0.7777777777777778, \"#fb9f3a\"], [0.8888888888888888, \"#fdca26\"], [1.0, \"#f0f921\"]], \"type\": \"surface\"}], \"table\": [{\"cells\": {\"fill\": {\"color\": \"#EBF0F8\"}, \"line\": {\"color\": \"white\"}}, \"header\": {\"fill\": {\"color\": \"#C8D4E3\"}, \"line\": {\"color\": \"white\"}}, \"type\": \"table\"}]}, \"layout\": {\"annotationdefaults\": {\"arrowcolor\": \"#2a3f5f\", \"arrowhead\": 0, \"arrowwidth\": 1}, \"coloraxis\": {\"colorbar\": {\"outlinewidth\": 0, \"ticks\": \"\"}}, \"colorscale\": {\"diverging\": [[0, \"#8e0152\"], [0.1, \"#c51b7d\"], [0.2, \"#de77ae\"], [0.3, \"#f1b6da\"], [0.4, \"#fde0ef\"], [0.5, \"#f7f7f7\"], [0.6, \"#e6f5d0\"], [0.7, \"#b8e186\"], [0.8, \"#7fbc41\"], [0.9, \"#4d9221\"], [1, \"#276419\"]], \"sequential\": [[0.0, \"#0d0887\"], [0.1111111111111111, \"#46039f\"], [0.2222222222222222, \"#7201a8\"], [0.3333333333333333, \"#9c179e\"], [0.4444444444444444, \"#bd3786\"], [0.5555555555555556, \"#d8576b\"], [0.6666666666666666, \"#ed7953\"], [0.7777777777777778, \"#fb9f3a\"], [0.8888888888888888, \"#fdca26\"], [1.0, \"#f0f921\"]], \"sequentialminus\": [[0.0, \"#0d0887\"], [0.1111111111111111, \"#46039f\"], [0.2222222222222222, \"#7201a8\"], [0.3333333333333333, \"#9c179e\"], [0.4444444444444444, \"#bd3786\"], [0.5555555555555556, \"#d8576b\"], [0.6666666666666666, \"#ed7953\"], [0.7777777777777778, \"#fb9f3a\"], [0.8888888888888888, \"#fdca26\"], [1.0, \"#f0f921\"]]}, \"colorway\": [\"#636efa\", \"#EF553B\", \"#00cc96\", \"#ab63fa\", \"#FFA15A\", \"#19d3f3\", \"#FF6692\", \"#B6E880\", \"#FF97FF\", \"#FECB52\"], \"font\": {\"color\": \"#2a3f5f\"}, \"geo\": {\"bgcolor\": \"white\", \"lakecolor\": \"white\", \"landcolor\": \"#E5ECF6\", \"showlakes\": true, \"showland\": true, \"subunitcolor\": \"white\"}, \"hoverlabel\": {\"align\": \"left\"}, \"hovermode\": \"closest\", \"mapbox\": {\"style\": \"light\"}, \"paper_bgcolor\": \"white\", \"plot_bgcolor\": \"#E5ECF6\", \"polar\": {\"angularaxis\": {\"gridcolor\": \"white\", \"linecolor\": \"white\", \"ticks\": \"\"}, \"bgcolor\": \"#E5ECF6\", \"radialaxis\": {\"gridcolor\": \"white\", \"linecolor\": \"white\", \"ticks\": \"\"}}, \"scene\": {\"xaxis\": {\"backgroundcolor\": \"#E5ECF6\", \"gridcolor\": \"white\", \"gridwidth\": 2, \"linecolor\": \"white\", \"showbackground\": true, \"ticks\": \"\", \"zerolinecolor\": \"white\"}, \"yaxis\": {\"backgroundcolor\": \"#E5ECF6\", \"gridcolor\": \"white\", \"gridwidth\": 2, \"linecolor\": \"white\", \"showbackground\": true, \"ticks\": \"\", \"zerolinecolor\": \"white\"}, \"zaxis\": {\"backgroundcolor\": \"#E5ECF6\", \"gridcolor\": \"white\", \"gridwidth\": 2, \"linecolor\": \"white\", \"showbackground\": true, \"ticks\": \"\", \"zerolinecolor\": \"white\"}}, \"shapedefaults\": {\"line\": {\"color\": \"#2a3f5f\"}}, \"ternary\": {\"aaxis\": {\"gridcolor\": \"white\", \"linecolor\": \"white\", \"ticks\": \"\"}, \"baxis\": {\"gridcolor\": \"white\", \"linecolor\": \"white\", \"ticks\": \"\"}, \"bgcolor\": \"#E5ECF6\", \"caxis\": {\"gridcolor\": \"white\", \"linecolor\": \"white\", \"ticks\": \"\"}}, \"title\": {\"x\": 0.05}, \"xaxis\": {\"automargin\": true, \"gridcolor\": \"white\", \"linecolor\": \"white\", \"ticks\": \"\", \"title\": {\"standoff\": 15}, \"zerolinecolor\": \"white\", \"zerolinewidth\": 2}, \"yaxis\": {\"automargin\": true, \"gridcolor\": \"white\", \"linecolor\": \"white\", \"ticks\": \"\", \"title\": {\"standoff\": 15}, \"zerolinecolor\": \"white\", \"zerolinewidth\": 2}}}, \"title\": {\"text\": \"The Effect of Covid-19 on Volunteering for Any Organization or Association\"}, \"xaxis\": {\"dtick\": 1, \"gridwidth\": 2, \"showticklabels\": false, \"tick0\": -0.5, \"ticks\": \"\", \"zeroline\": false}, \"xaxis2\": {\"anchor\": \"y2\"}, \"yaxis\": {\"autorange\": \"reversed\", \"domain\": [0, 0.45], \"dtick\": 1, \"gridwidth\": 2, \"showticklabels\": false, \"tick0\": 0.5, \"ticks\": \"\", \"zeroline\": false}, \"yaxis2\": {\"anchor\": \"x2\", \"domain\": [0.6, 1], \"title\": {\"text\": \"Goals\"}}},\n",
              "                        {\"responsive\": true}\n",
              "                    ).then(function(){\n",
              "                            \n",
              "var gd = document.getElementById('9d74211f-8f24-48fa-b2ec-dfa59077bbe4');\n",
              "var x = new MutationObserver(function (mutations, observer) {{\n",
              "        var display = window.getComputedStyle(gd).display;\n",
              "        if (!display || display === 'none') {{\n",
              "            console.log([gd, 'removed!']);\n",
              "            Plotly.purge(gd);\n",
              "            observer.disconnect();\n",
              "        }}\n",
              "}});\n",
              "\n",
              "// Listen for the removal of the full notebook cells\n",
              "var notebookContainer = gd.closest('#notebook-container');\n",
              "if (notebookContainer) {{\n",
              "    x.observe(notebookContainer, {childList: true});\n",
              "}}\n",
              "\n",
              "// Listen for the clearing of the current output cell\n",
              "var outputEl = gd.closest('.output');\n",
              "if (outputEl) {{\n",
              "    x.observe(outputEl, {childList: true});\n",
              "}}\n",
              "\n",
              "                        })\n",
              "                };\n",
              "                \n",
              "            </script>\n",
              "        </div>\n",
              "</body>\n",
              "</html>"
            ]
          },
          "metadata": {
            "tags": []
          }
        }
      ]
    },
    {
      "cell_type": "markdown",
      "metadata": {
        "id": "AYQNWjj1Ut9Z",
        "colab_type": "text"
      },
      "source": [
        "#### 2.2.2 Pyschological Effects"
      ]
    },
    {
      "cell_type": "markdown",
      "metadata": {
        "id": "RspQ-5TzU7Nd",
        "colab_type": "text"
      },
      "source": [
        "##### 2.2.2.1 Feelings\n",
        "\n",
        "* Question-4: In the past 7 days, how often have you?\n",
        "                \n",
        "     4.A ) Felt nervous, anxious, or on edge\n",
        "\n",
        "     4.B  ) Felt depressed \n",
        "\n",
        "     4.C  ) Felt lonely\n",
        "\n",
        "     4.D  ) Felt hopeless about the future\n",
        "\n",
        "     4.E  ) Had physical reactions such as sweating, trouble breathing,\n",
        "nausea or a pounding heart when thinking about your\n",
        "experience with the coronavirus pandemic\n",
        "\n",
        "\n",
        " Question Answer options: \n",
        "\n",
        "- 1 : Not at all or less than 1 day\n",
        "- 2 : 1-2 days\n",
        "- 3 : 3-4 days\n",
        "- 4 : 5-7 days"
      ]
    },
    {
      "cell_type": "code",
      "metadata": {
        "id": "Z05vtlAMTC0U",
        "colab_type": "code",
        "colab": {
          "base_uri": "https://localhost:8080/",
          "height": 102
        },
        "outputId": "c61161f1-0ed7-4d59-85e1-98613b7b6b78"
      },
      "source": [
        "# Column names\n",
        "survey.columns"
      ],
      "execution_count": 79,
      "outputs": [
        {
          "output_type": "execute_result",
          "data": {
            "text/plain": [
              "Index(['State', 'Question-1A', 'Question-1B', 'Question-2A', 'Question-2B',\n",
              "       'Qestion-3A', 'Qestion-3B', 'Question-4A', 'Question-4B', 'Question-4C',\n",
              "       'Question-4D', 'Question-4E', 'Q-1A', 'Q-1B', 'Q-2A', 'Q-2B', 'Q-3A',\n",
              "       'Q-3B'],\n",
              "      dtype='object')"
            ]
          },
          "metadata": {
            "tags": []
          },
          "execution_count": 79
        }
      ]
    },
    {
      "cell_type": "code",
      "metadata": {
        "id": "_BqSesLjTCuu",
        "colab_type": "code",
        "colab": {
          "base_uri": "https://localhost:8080/",
          "height": 142
        },
        "outputId": "29674cac-c72f-48b5-93ba-950053c38f41"
      },
      "source": [
        "# I need to all columns with staring Question-4, and their values to create a new dataset\n",
        "\n",
        "concretion_4=survey[['State', 'Question-4A', 'Question-4B', 'Question-4C',\n",
        "       'Question-4D', 'Question-4E']]\n",
        "concretion_4.head(3)"
      ],
      "execution_count": 80,
      "outputs": [
        {
          "output_type": "execute_result",
          "data": {
            "text/html": [
              "<div>\n",
              "<style scoped>\n",
              "    .dataframe tbody tr th:only-of-type {\n",
              "        vertical-align: middle;\n",
              "    }\n",
              "\n",
              "    .dataframe tbody tr th {\n",
              "        vertical-align: top;\n",
              "    }\n",
              "\n",
              "    .dataframe thead th {\n",
              "        text-align: right;\n",
              "    }\n",
              "</style>\n",
              "<table border=\"1\" class=\"dataframe\">\n",
              "  <thead>\n",
              "    <tr style=\"text-align: right;\">\n",
              "      <th></th>\n",
              "      <th>State</th>\n",
              "      <th>Question-4A</th>\n",
              "      <th>Question-4B</th>\n",
              "      <th>Question-4C</th>\n",
              "      <th>Question-4D</th>\n",
              "      <th>Question-4E</th>\n",
              "    </tr>\n",
              "  </thead>\n",
              "  <tbody>\n",
              "    <tr>\n",
              "      <th>0</th>\n",
              "      <td>New York</td>\n",
              "      <td>1</td>\n",
              "      <td>1</td>\n",
              "      <td>1</td>\n",
              "      <td>1</td>\n",
              "      <td>1</td>\n",
              "    </tr>\n",
              "    <tr>\n",
              "      <th>1</th>\n",
              "      <td>New York</td>\n",
              "      <td>1</td>\n",
              "      <td>1</td>\n",
              "      <td>2</td>\n",
              "      <td>1</td>\n",
              "      <td>1</td>\n",
              "    </tr>\n",
              "    <tr>\n",
              "      <th>2</th>\n",
              "      <td>New York</td>\n",
              "      <td>1</td>\n",
              "      <td>1</td>\n",
              "      <td>1</td>\n",
              "      <td>2</td>\n",
              "      <td>1</td>\n",
              "    </tr>\n",
              "  </tbody>\n",
              "</table>\n",
              "</div>"
            ],
            "text/plain": [
              "       State  Question-4A  Question-4B  Question-4C  Question-4D  Question-4E\n",
              "0   New York            1            1            1            1            1\n",
              "1   New York            1            1            2            1            1\n",
              "2   New York            1            1            1            2            1"
            ]
          },
          "metadata": {
            "tags": []
          },
          "execution_count": 80
        }
      ]
    },
    {
      "cell_type": "code",
      "metadata": {
        "id": "1R448fK8TCoy",
        "colab_type": "code",
        "colab": {
          "base_uri": "https://localhost:8080/",
          "height": 142
        },
        "outputId": "90e5cc92-b4f3-4c96-fd63-1445331e66bf"
      },
      "source": [
        "# Convert the Data Type\n",
        "survey['Q-4A']=survey['Question-4A'].apply(my_number)\n",
        "survey.sample()\n",
        "survey[['Question-4A','Q-4A']].sample(3)"
      ],
      "execution_count": 81,
      "outputs": [
        {
          "output_type": "execute_result",
          "data": {
            "text/html": [
              "<div>\n",
              "<style scoped>\n",
              "    .dataframe tbody tr th:only-of-type {\n",
              "        vertical-align: middle;\n",
              "    }\n",
              "\n",
              "    .dataframe tbody tr th {\n",
              "        vertical-align: top;\n",
              "    }\n",
              "\n",
              "    .dataframe thead th {\n",
              "        text-align: right;\n",
              "    }\n",
              "</style>\n",
              "<table border=\"1\" class=\"dataframe\">\n",
              "  <thead>\n",
              "    <tr style=\"text-align: right;\">\n",
              "      <th></th>\n",
              "      <th>Question-4A</th>\n",
              "      <th>Q-4A</th>\n",
              "    </tr>\n",
              "  </thead>\n",
              "  <tbody>\n",
              "    <tr>\n",
              "      <th>300</th>\n",
              "      <td>1</td>\n",
              "      <td>1</td>\n",
              "    </tr>\n",
              "    <tr>\n",
              "      <th>301</th>\n",
              "      <td>1</td>\n",
              "      <td>1</td>\n",
              "    </tr>\n",
              "    <tr>\n",
              "      <th>65</th>\n",
              "      <td>2</td>\n",
              "      <td>2</td>\n",
              "    </tr>\n",
              "  </tbody>\n",
              "</table>\n",
              "</div>"
            ],
            "text/plain": [
              "     Question-4A Q-4A\n",
              "300            1    1\n",
              "301            1    1\n",
              "65             2    2"
            ]
          },
          "metadata": {
            "tags": []
          },
          "execution_count": 81
        }
      ]
    },
    {
      "cell_type": "code",
      "metadata": {
        "id": "CQPrglj_TCjH",
        "colab_type": "code",
        "colab": {
          "base_uri": "https://localhost:8080/",
          "height": 142
        },
        "outputId": "53ca3a46-756d-4c38-c459-5465087b2260"
      },
      "source": [
        "# Convert the Data Type\n",
        "survey['Q-4B']=survey['Question-4B'].apply(my_number)\n",
        "survey.sample()\n",
        "survey[['Question-4B','Q-4B']].sample(3)"
      ],
      "execution_count": 82,
      "outputs": [
        {
          "output_type": "execute_result",
          "data": {
            "text/html": [
              "<div>\n",
              "<style scoped>\n",
              "    .dataframe tbody tr th:only-of-type {\n",
              "        vertical-align: middle;\n",
              "    }\n",
              "\n",
              "    .dataframe tbody tr th {\n",
              "        vertical-align: top;\n",
              "    }\n",
              "\n",
              "    .dataframe thead th {\n",
              "        text-align: right;\n",
              "    }\n",
              "</style>\n",
              "<table border=\"1\" class=\"dataframe\">\n",
              "  <thead>\n",
              "    <tr style=\"text-align: right;\">\n",
              "      <th></th>\n",
              "      <th>Question-4B</th>\n",
              "      <th>Q-4B</th>\n",
              "    </tr>\n",
              "  </thead>\n",
              "  <tbody>\n",
              "    <tr>\n",
              "      <th>255</th>\n",
              "      <td>2</td>\n",
              "      <td>2</td>\n",
              "    </tr>\n",
              "    <tr>\n",
              "      <th>109</th>\n",
              "      <td>1</td>\n",
              "      <td>1</td>\n",
              "    </tr>\n",
              "    <tr>\n",
              "      <th>191</th>\n",
              "      <td>1</td>\n",
              "      <td>1</td>\n",
              "    </tr>\n",
              "  </tbody>\n",
              "</table>\n",
              "</div>"
            ],
            "text/plain": [
              "     Question-4B Q-4B\n",
              "255            2    2\n",
              "109            1    1\n",
              "191            1    1"
            ]
          },
          "metadata": {
            "tags": []
          },
          "execution_count": 82
        }
      ]
    },
    {
      "cell_type": "code",
      "metadata": {
        "id": "28smO-y3TCdH",
        "colab_type": "code",
        "colab": {
          "base_uri": "https://localhost:8080/",
          "height": 142
        },
        "outputId": "88822bf3-c892-45a0-b8ff-367abb3c568d"
      },
      "source": [
        "# Convert the Data Type\n",
        "survey['Q-4C']=survey['Question-4C'].apply(my_number)\n",
        "survey.sample()\n",
        "survey[['Question-4C','Q-4C']].sample(3)"
      ],
      "execution_count": 83,
      "outputs": [
        {
          "output_type": "execute_result",
          "data": {
            "text/html": [
              "<div>\n",
              "<style scoped>\n",
              "    .dataframe tbody tr th:only-of-type {\n",
              "        vertical-align: middle;\n",
              "    }\n",
              "\n",
              "    .dataframe tbody tr th {\n",
              "        vertical-align: top;\n",
              "    }\n",
              "\n",
              "    .dataframe thead th {\n",
              "        text-align: right;\n",
              "    }\n",
              "</style>\n",
              "<table border=\"1\" class=\"dataframe\">\n",
              "  <thead>\n",
              "    <tr style=\"text-align: right;\">\n",
              "      <th></th>\n",
              "      <th>Question-4C</th>\n",
              "      <th>Q-4C</th>\n",
              "    </tr>\n",
              "  </thead>\n",
              "  <tbody>\n",
              "    <tr>\n",
              "      <th>68</th>\n",
              "      <td>1</td>\n",
              "      <td>1</td>\n",
              "    </tr>\n",
              "    <tr>\n",
              "      <th>76</th>\n",
              "      <td>3</td>\n",
              "      <td>3</td>\n",
              "    </tr>\n",
              "    <tr>\n",
              "      <th>334</th>\n",
              "      <td>1</td>\n",
              "      <td>1</td>\n",
              "    </tr>\n",
              "  </tbody>\n",
              "</table>\n",
              "</div>"
            ],
            "text/plain": [
              "     Question-4C Q-4C\n",
              "68             1    1\n",
              "76             3    3\n",
              "334            1    1"
            ]
          },
          "metadata": {
            "tags": []
          },
          "execution_count": 83
        }
      ]
    },
    {
      "cell_type": "code",
      "metadata": {
        "id": "kEWGsgiOTCXX",
        "colab_type": "code",
        "colab": {
          "base_uri": "https://localhost:8080/",
          "height": 142
        },
        "outputId": "ef4c2eb3-68ef-4003-f899-295a77dfdcdb"
      },
      "source": [
        "# Convert the Data Type\n",
        "survey['Q-4D']=survey['Question-4D'].apply(my_number)\n",
        "survey.sample()\n",
        "survey[['Question-4D','Q-4D']].sample(3)"
      ],
      "execution_count": 84,
      "outputs": [
        {
          "output_type": "execute_result",
          "data": {
            "text/html": [
              "<div>\n",
              "<style scoped>\n",
              "    .dataframe tbody tr th:only-of-type {\n",
              "        vertical-align: middle;\n",
              "    }\n",
              "\n",
              "    .dataframe tbody tr th {\n",
              "        vertical-align: top;\n",
              "    }\n",
              "\n",
              "    .dataframe thead th {\n",
              "        text-align: right;\n",
              "    }\n",
              "</style>\n",
              "<table border=\"1\" class=\"dataframe\">\n",
              "  <thead>\n",
              "    <tr style=\"text-align: right;\">\n",
              "      <th></th>\n",
              "      <th>Question-4D</th>\n",
              "      <th>Q-4D</th>\n",
              "    </tr>\n",
              "  </thead>\n",
              "  <tbody>\n",
              "    <tr>\n",
              "      <th>14</th>\n",
              "      <td>1</td>\n",
              "      <td>1</td>\n",
              "    </tr>\n",
              "    <tr>\n",
              "      <th>125</th>\n",
              "      <td>1</td>\n",
              "      <td>1</td>\n",
              "    </tr>\n",
              "    <tr>\n",
              "      <th>349</th>\n",
              "      <td>2</td>\n",
              "      <td>2</td>\n",
              "    </tr>\n",
              "  </tbody>\n",
              "</table>\n",
              "</div>"
            ],
            "text/plain": [
              "     Question-4D Q-4D\n",
              "14             1    1\n",
              "125            1    1\n",
              "349            2    2"
            ]
          },
          "metadata": {
            "tags": []
          },
          "execution_count": 84
        }
      ]
    },
    {
      "cell_type": "code",
      "metadata": {
        "id": "rvnqEGjpTCRa",
        "colab_type": "code",
        "colab": {
          "base_uri": "https://localhost:8080/",
          "height": 142
        },
        "outputId": "b2d33322-aef8-449a-d9a2-a7d6fd1d4a0e"
      },
      "source": [
        "# Convert the Data Type\n",
        "survey['Q-4E']=survey['Question-4E'].apply(my_number)\n",
        "survey.sample()\n",
        "survey[['Question-4E','Q-4E']].sample(3)"
      ],
      "execution_count": 85,
      "outputs": [
        {
          "output_type": "execute_result",
          "data": {
            "text/html": [
              "<div>\n",
              "<style scoped>\n",
              "    .dataframe tbody tr th:only-of-type {\n",
              "        vertical-align: middle;\n",
              "    }\n",
              "\n",
              "    .dataframe tbody tr th {\n",
              "        vertical-align: top;\n",
              "    }\n",
              "\n",
              "    .dataframe thead th {\n",
              "        text-align: right;\n",
              "    }\n",
              "</style>\n",
              "<table border=\"1\" class=\"dataframe\">\n",
              "  <thead>\n",
              "    <tr style=\"text-align: right;\">\n",
              "      <th></th>\n",
              "      <th>Question-4E</th>\n",
              "      <th>Q-4E</th>\n",
              "    </tr>\n",
              "  </thead>\n",
              "  <tbody>\n",
              "    <tr>\n",
              "      <th>286</th>\n",
              "      <td>1</td>\n",
              "      <td>1</td>\n",
              "    </tr>\n",
              "    <tr>\n",
              "      <th>340</th>\n",
              "      <td>1</td>\n",
              "      <td>1</td>\n",
              "    </tr>\n",
              "    <tr>\n",
              "      <th>173</th>\n",
              "      <td>2</td>\n",
              "      <td>2</td>\n",
              "    </tr>\n",
              "  </tbody>\n",
              "</table>\n",
              "</div>"
            ],
            "text/plain": [
              "     Question-4E Q-4E\n",
              "286            1    1\n",
              "340            1    1\n",
              "173            2    2"
            ]
          },
          "metadata": {
            "tags": []
          },
          "execution_count": 85
        }
      ]
    },
    {
      "cell_type": "code",
      "metadata": {
        "id": "gSrmXStAVXtU",
        "colab_type": "code",
        "colab": {
          "base_uri": "https://localhost:8080/",
          "height": 119
        },
        "outputId": "97573fbd-80db-4205-c7d3-4aa67f86ecc0"
      },
      "source": [
        "# Create new lists\n",
        "survey['Q-4A'].value_counts().sort_index()"
      ],
      "execution_count": 86,
      "outputs": [
        {
          "output_type": "execute_result",
          "data": {
            "text/plain": [
              "1     242\n",
              "2      76\n",
              "3      37\n",
              "4      38\n",
              "98      2\n",
              "Name: Q-4A, dtype: int64"
            ]
          },
          "metadata": {
            "tags": []
          },
          "execution_count": 86
        }
      ]
    },
    {
      "cell_type": "code",
      "metadata": {
        "id": "TTg6whm8VXk2",
        "colab_type": "code",
        "colab": {
          "base_uri": "https://localhost:8080/",
          "height": 136
        },
        "outputId": "f0ee6d6a-16fd-498a-c899-068416eb6fcf"
      },
      "source": [
        "survey['Q-4B'].value_counts().sort_index()"
      ],
      "execution_count": 87,
      "outputs": [
        {
          "output_type": "execute_result",
          "data": {
            "text/plain": [
              "1     227\n",
              "2      87\n",
              "3      38\n",
              "4      41\n",
              "77      1\n",
              "98      1\n",
              "Name: Q-4B, dtype: int64"
            ]
          },
          "metadata": {
            "tags": []
          },
          "execution_count": 87
        }
      ]
    },
    {
      "cell_type": "code",
      "metadata": {
        "id": "eFR8MVBkVXcb",
        "colab_type": "code",
        "colab": {
          "base_uri": "https://localhost:8080/",
          "height": 136
        },
        "outputId": "c4b5a245-8f32-498c-bfe9-f4a17092793b"
      },
      "source": [
        "survey['Q-4C'].value_counts().sort_index()"
      ],
      "execution_count": 88,
      "outputs": [
        {
          "output_type": "execute_result",
          "data": {
            "text/plain": [
              "1     236\n",
              "2      84\n",
              "3      40\n",
              "4      31\n",
              "77      1\n",
              "98      3\n",
              "Name: Q-4C, dtype: int64"
            ]
          },
          "metadata": {
            "tags": []
          },
          "execution_count": 88
        }
      ]
    },
    {
      "cell_type": "code",
      "metadata": {
        "id": "kKeZzwbAVXI5",
        "colab_type": "code",
        "colab": {
          "base_uri": "https://localhost:8080/",
          "height": 136
        },
        "outputId": "ff595be0-3668-4c07-a859-5ce72f11d13c"
      },
      "source": [
        "survey['Q-4D'].value_counts().sort_index()"
      ],
      "execution_count": 89,
      "outputs": [
        {
          "output_type": "execute_result",
          "data": {
            "text/plain": [
              "1     223\n",
              "2      88\n",
              "3      40\n",
              "4      41\n",
              "77      1\n",
              "98      2\n",
              "Name: Q-4D, dtype: int64"
            ]
          },
          "metadata": {
            "tags": []
          },
          "execution_count": 89
        }
      ]
    },
    {
      "cell_type": "code",
      "metadata": {
        "id": "UXpsJydLVXAp",
        "colab_type": "code",
        "colab": {
          "base_uri": "https://localhost:8080/",
          "height": 136
        },
        "outputId": "7ee154d3-e5ce-49ae-9756-cbe0ed2317a3"
      },
      "source": [
        "survey['Q-4E'].value_counts().sort_index()"
      ],
      "execution_count": 90,
      "outputs": [
        {
          "output_type": "execute_result",
          "data": {
            "text/plain": [
              "1     347\n",
              "2      32\n",
              "3       8\n",
              "4       6\n",
              "77      1\n",
              "98      1\n",
              "Name: Q-4E, dtype: int64"
            ]
          },
          "metadata": {
            "tags": []
          },
          "execution_count": 90
        }
      ]
    },
    {
      "cell_type": "code",
      "metadata": {
        "id": "tudVxMDQVW3g",
        "colab_type": "code",
        "colab": {}
      },
      "source": [
        "a=[242,76,37,38]\n",
        "b=[227,87,38,41]\n",
        "c=[236,84,80,31]\n",
        "d=[227,87,38,41]\n",
        "e=[347,32,8,6]"
      ],
      "execution_count": 91,
      "outputs": []
    },
    {
      "cell_type": "code",
      "metadata": {
        "id": "xNWwEnKuVWu0",
        "colab_type": "code",
        "colab": {
          "base_uri": "https://localhost:8080/",
          "height": 542
        },
        "outputId": "70a6340f-f2f6-40d9-d334-dad9b5dae3c4"
      },
      "source": [
        "import plotly.graph_objects as go\n",
        "\n",
        "Labels = ['Not at all or less than 1 day','1-2 days','3-4 days','5-7 days']\n",
        "\n",
        "fig = go.Figure()\n",
        "fig.add_trace(go.Bar(\n",
        "    x=Labels,\n",
        "    y=[242,76,37,38],\n",
        "    name='Felt Nervous or Anxious',\n",
        "    marker_color='indianred'\n",
        "))\n",
        "fig.add_trace(go.Bar(\n",
        "    x=Labels,\n",
        "    y=[227,87,38,41],\n",
        "    name='Felt Depressed',\n",
        "    marker_color='Sandy brown'\n",
        "))\n",
        "fig.add_trace(go.Bar(\n",
        "    x=Labels,\n",
        "    y=[236,84,80,31],\n",
        "    name='Felt Lonely',\n",
        "    marker_color='darks almon'\n",
        "))\n",
        "fig.add_trace(go.Bar(\n",
        "    x=Labels,\n",
        "    y=[227,87,38,41],\n",
        "    name='Felt Hopeless <br>about the Future',\n",
        "    marker_color='light salmon'\n",
        "))\n",
        "fig.add_trace(go.Bar(\n",
        "    x=Labels,\n",
        "    y=[347,32,8,6],\n",
        "    name='Had Physical Reactions',\n",
        "    marker_color='orange'\n",
        "))\n",
        "\n",
        "# Here we modify the tickangle of the xaxis, resulting in rotated labels.\n",
        "fig.update_layout(barmode='group', xaxis_tickangle=-45)\n",
        "fig.layout.update({'title': 'The Effect of Covid-19 on Feeling of A Person'})\n",
        "fig.show()"
      ],
      "execution_count": 92,
      "outputs": [
        {
          "output_type": "display_data",
          "data": {
            "text/html": [
              "<html>\n",
              "<head><meta charset=\"utf-8\" /></head>\n",
              "<body>\n",
              "    <div>\n",
              "            <script src=\"https://cdnjs.cloudflare.com/ajax/libs/mathjax/2.7.5/MathJax.js?config=TeX-AMS-MML_SVG\"></script><script type=\"text/javascript\">if (window.MathJax) {MathJax.Hub.Config({SVG: {font: \"STIX-Web\"}});}</script>\n",
              "                <script type=\"text/javascript\">window.PlotlyConfig = {MathJaxConfig: 'local'};</script>\n",
              "        <script src=\"https://cdn.plot.ly/plotly-latest.min.js\"></script>    \n",
              "            <div id=\"b38693ac-2044-479b-81e7-6385ebab0ae4\" class=\"plotly-graph-div\" style=\"height:525px; width:100%;\"></div>\n",
              "            <script type=\"text/javascript\">\n",
              "                \n",
              "                    window.PLOTLYENV=window.PLOTLYENV || {};\n",
              "                    \n",
              "                if (document.getElementById(\"b38693ac-2044-479b-81e7-6385ebab0ae4\")) {\n",
              "                    Plotly.newPlot(\n",
              "                        'b38693ac-2044-479b-81e7-6385ebab0ae4',\n",
              "                        [{\"marker\": {\"color\": \"indianred\"}, \"name\": \"Felt Nervous or Anxious\", \"type\": \"bar\", \"x\": [\"Not at all or less than 1 day\", \"1-2 days\", \"3-4 days\", \"5-7 days\"], \"y\": [242, 76, 37, 38]}, {\"marker\": {\"color\": \"Sandy brown\"}, \"name\": \"Felt Depressed\", \"type\": \"bar\", \"x\": [\"Not at all or less than 1 day\", \"1-2 days\", \"3-4 days\", \"5-7 days\"], \"y\": [227, 87, 38, 41]}, {\"marker\": {\"color\": \"darks almon\"}, \"name\": \"Felt Lonely\", \"type\": \"bar\", \"x\": [\"Not at all or less than 1 day\", \"1-2 days\", \"3-4 days\", \"5-7 days\"], \"y\": [236, 84, 80, 31]}, {\"marker\": {\"color\": \"light salmon\"}, \"name\": \"Felt Hopeless <br>about the Future\", \"type\": \"bar\", \"x\": [\"Not at all or less than 1 day\", \"1-2 days\", \"3-4 days\", \"5-7 days\"], \"y\": [227, 87, 38, 41]}, {\"marker\": {\"color\": \"orange\"}, \"name\": \"Had Physical Reactions\", \"type\": \"bar\", \"x\": [\"Not at all or less than 1 day\", \"1-2 days\", \"3-4 days\", \"5-7 days\"], \"y\": [347, 32, 8, 6]}],\n",
              "                        {\"barmode\": \"group\", \"template\": {\"data\": {\"bar\": [{\"error_x\": {\"color\": \"#2a3f5f\"}, \"error_y\": {\"color\": \"#2a3f5f\"}, \"marker\": {\"line\": {\"color\": \"#E5ECF6\", \"width\": 0.5}}, \"type\": \"bar\"}], \"barpolar\": [{\"marker\": {\"line\": {\"color\": \"#E5ECF6\", \"width\": 0.5}}, \"type\": \"barpolar\"}], \"carpet\": [{\"aaxis\": {\"endlinecolor\": \"#2a3f5f\", \"gridcolor\": \"white\", \"linecolor\": \"white\", \"minorgridcolor\": \"white\", \"startlinecolor\": \"#2a3f5f\"}, \"baxis\": {\"endlinecolor\": \"#2a3f5f\", \"gridcolor\": \"white\", \"linecolor\": \"white\", \"minorgridcolor\": \"white\", \"startlinecolor\": \"#2a3f5f\"}, \"type\": \"carpet\"}], \"choropleth\": [{\"colorbar\": {\"outlinewidth\": 0, \"ticks\": \"\"}, \"type\": \"choropleth\"}], \"contour\": [{\"colorbar\": {\"outlinewidth\": 0, \"ticks\": \"\"}, \"colorscale\": [[0.0, \"#0d0887\"], [0.1111111111111111, \"#46039f\"], [0.2222222222222222, \"#7201a8\"], [0.3333333333333333, \"#9c179e\"], [0.4444444444444444, \"#bd3786\"], [0.5555555555555556, \"#d8576b\"], [0.6666666666666666, \"#ed7953\"], [0.7777777777777778, \"#fb9f3a\"], [0.8888888888888888, \"#fdca26\"], [1.0, \"#f0f921\"]], \"type\": \"contour\"}], \"contourcarpet\": [{\"colorbar\": {\"outlinewidth\": 0, \"ticks\": \"\"}, \"type\": \"contourcarpet\"}], \"heatmap\": [{\"colorbar\": {\"outlinewidth\": 0, \"ticks\": \"\"}, \"colorscale\": [[0.0, \"#0d0887\"], [0.1111111111111111, \"#46039f\"], [0.2222222222222222, \"#7201a8\"], [0.3333333333333333, \"#9c179e\"], [0.4444444444444444, \"#bd3786\"], [0.5555555555555556, \"#d8576b\"], [0.6666666666666666, \"#ed7953\"], [0.7777777777777778, \"#fb9f3a\"], [0.8888888888888888, \"#fdca26\"], [1.0, \"#f0f921\"]], \"type\": \"heatmap\"}], \"heatmapgl\": [{\"colorbar\": {\"outlinewidth\": 0, \"ticks\": \"\"}, \"colorscale\": [[0.0, \"#0d0887\"], [0.1111111111111111, \"#46039f\"], [0.2222222222222222, \"#7201a8\"], [0.3333333333333333, \"#9c179e\"], [0.4444444444444444, \"#bd3786\"], [0.5555555555555556, \"#d8576b\"], [0.6666666666666666, \"#ed7953\"], [0.7777777777777778, \"#fb9f3a\"], [0.8888888888888888, \"#fdca26\"], [1.0, \"#f0f921\"]], \"type\": \"heatmapgl\"}], \"histogram\": [{\"marker\": {\"colorbar\": {\"outlinewidth\": 0, \"ticks\": \"\"}}, \"type\": \"histogram\"}], \"histogram2d\": [{\"colorbar\": {\"outlinewidth\": 0, \"ticks\": \"\"}, \"colorscale\": [[0.0, \"#0d0887\"], [0.1111111111111111, \"#46039f\"], [0.2222222222222222, \"#7201a8\"], [0.3333333333333333, \"#9c179e\"], [0.4444444444444444, \"#bd3786\"], [0.5555555555555556, \"#d8576b\"], [0.6666666666666666, \"#ed7953\"], [0.7777777777777778, \"#fb9f3a\"], [0.8888888888888888, \"#fdca26\"], [1.0, \"#f0f921\"]], \"type\": \"histogram2d\"}], \"histogram2dcontour\": [{\"colorbar\": {\"outlinewidth\": 0, \"ticks\": \"\"}, \"colorscale\": [[0.0, \"#0d0887\"], [0.1111111111111111, \"#46039f\"], [0.2222222222222222, \"#7201a8\"], [0.3333333333333333, \"#9c179e\"], [0.4444444444444444, \"#bd3786\"], [0.5555555555555556, \"#d8576b\"], [0.6666666666666666, \"#ed7953\"], [0.7777777777777778, \"#fb9f3a\"], [0.8888888888888888, \"#fdca26\"], [1.0, \"#f0f921\"]], \"type\": \"histogram2dcontour\"}], \"mesh3d\": [{\"colorbar\": {\"outlinewidth\": 0, \"ticks\": \"\"}, \"type\": \"mesh3d\"}], \"parcoords\": [{\"line\": {\"colorbar\": {\"outlinewidth\": 0, \"ticks\": \"\"}}, \"type\": \"parcoords\"}], \"pie\": [{\"automargin\": true, \"type\": \"pie\"}], \"scatter\": [{\"marker\": {\"colorbar\": {\"outlinewidth\": 0, \"ticks\": \"\"}}, \"type\": \"scatter\"}], \"scatter3d\": [{\"line\": {\"colorbar\": {\"outlinewidth\": 0, \"ticks\": \"\"}}, \"marker\": {\"colorbar\": {\"outlinewidth\": 0, \"ticks\": \"\"}}, \"type\": \"scatter3d\"}], \"scattercarpet\": [{\"marker\": {\"colorbar\": {\"outlinewidth\": 0, \"ticks\": \"\"}}, \"type\": \"scattercarpet\"}], \"scattergeo\": [{\"marker\": {\"colorbar\": {\"outlinewidth\": 0, \"ticks\": \"\"}}, \"type\": \"scattergeo\"}], \"scattergl\": [{\"marker\": {\"colorbar\": {\"outlinewidth\": 0, \"ticks\": \"\"}}, \"type\": \"scattergl\"}], \"scattermapbox\": [{\"marker\": {\"colorbar\": {\"outlinewidth\": 0, \"ticks\": \"\"}}, \"type\": \"scattermapbox\"}], \"scatterpolar\": [{\"marker\": {\"colorbar\": {\"outlinewidth\": 0, \"ticks\": \"\"}}, \"type\": \"scatterpolar\"}], \"scatterpolargl\": [{\"marker\": {\"colorbar\": {\"outlinewidth\": 0, \"ticks\": \"\"}}, \"type\": \"scatterpolargl\"}], \"scatterternary\": [{\"marker\": {\"colorbar\": {\"outlinewidth\": 0, \"ticks\": \"\"}}, \"type\": \"scatterternary\"}], \"surface\": [{\"colorbar\": {\"outlinewidth\": 0, \"ticks\": \"\"}, \"colorscale\": [[0.0, \"#0d0887\"], [0.1111111111111111, \"#46039f\"], [0.2222222222222222, \"#7201a8\"], [0.3333333333333333, \"#9c179e\"], [0.4444444444444444, \"#bd3786\"], [0.5555555555555556, \"#d8576b\"], [0.6666666666666666, \"#ed7953\"], [0.7777777777777778, \"#fb9f3a\"], [0.8888888888888888, \"#fdca26\"], [1.0, \"#f0f921\"]], \"type\": \"surface\"}], \"table\": [{\"cells\": {\"fill\": {\"color\": \"#EBF0F8\"}, \"line\": {\"color\": \"white\"}}, \"header\": {\"fill\": {\"color\": \"#C8D4E3\"}, \"line\": {\"color\": \"white\"}}, \"type\": \"table\"}]}, \"layout\": {\"annotationdefaults\": {\"arrowcolor\": \"#2a3f5f\", \"arrowhead\": 0, \"arrowwidth\": 1}, \"coloraxis\": {\"colorbar\": {\"outlinewidth\": 0, \"ticks\": \"\"}}, \"colorscale\": {\"diverging\": [[0, \"#8e0152\"], [0.1, \"#c51b7d\"], [0.2, \"#de77ae\"], [0.3, \"#f1b6da\"], [0.4, \"#fde0ef\"], [0.5, \"#f7f7f7\"], [0.6, \"#e6f5d0\"], [0.7, \"#b8e186\"], [0.8, \"#7fbc41\"], [0.9, \"#4d9221\"], [1, \"#276419\"]], \"sequential\": [[0.0, \"#0d0887\"], [0.1111111111111111, \"#46039f\"], [0.2222222222222222, \"#7201a8\"], [0.3333333333333333, \"#9c179e\"], [0.4444444444444444, \"#bd3786\"], [0.5555555555555556, \"#d8576b\"], [0.6666666666666666, \"#ed7953\"], [0.7777777777777778, \"#fb9f3a\"], [0.8888888888888888, \"#fdca26\"], [1.0, \"#f0f921\"]], \"sequentialminus\": [[0.0, \"#0d0887\"], [0.1111111111111111, \"#46039f\"], [0.2222222222222222, \"#7201a8\"], [0.3333333333333333, \"#9c179e\"], [0.4444444444444444, \"#bd3786\"], [0.5555555555555556, \"#d8576b\"], [0.6666666666666666, \"#ed7953\"], [0.7777777777777778, \"#fb9f3a\"], [0.8888888888888888, \"#fdca26\"], [1.0, \"#f0f921\"]]}, \"colorway\": [\"#636efa\", \"#EF553B\", \"#00cc96\", \"#ab63fa\", \"#FFA15A\", \"#19d3f3\", \"#FF6692\", \"#B6E880\", \"#FF97FF\", \"#FECB52\"], \"font\": {\"color\": \"#2a3f5f\"}, \"geo\": {\"bgcolor\": \"white\", \"lakecolor\": \"white\", \"landcolor\": \"#E5ECF6\", \"showlakes\": true, \"showland\": true, \"subunitcolor\": \"white\"}, \"hoverlabel\": {\"align\": \"left\"}, \"hovermode\": \"closest\", \"mapbox\": {\"style\": \"light\"}, \"paper_bgcolor\": \"white\", \"plot_bgcolor\": \"#E5ECF6\", \"polar\": {\"angularaxis\": {\"gridcolor\": \"white\", \"linecolor\": \"white\", \"ticks\": \"\"}, \"bgcolor\": \"#E5ECF6\", \"radialaxis\": {\"gridcolor\": \"white\", \"linecolor\": \"white\", \"ticks\": \"\"}}, \"scene\": {\"xaxis\": {\"backgroundcolor\": \"#E5ECF6\", \"gridcolor\": \"white\", \"gridwidth\": 2, \"linecolor\": \"white\", \"showbackground\": true, \"ticks\": \"\", \"zerolinecolor\": \"white\"}, \"yaxis\": {\"backgroundcolor\": \"#E5ECF6\", \"gridcolor\": \"white\", \"gridwidth\": 2, \"linecolor\": \"white\", \"showbackground\": true, \"ticks\": \"\", \"zerolinecolor\": \"white\"}, \"zaxis\": {\"backgroundcolor\": \"#E5ECF6\", \"gridcolor\": \"white\", \"gridwidth\": 2, \"linecolor\": \"white\", \"showbackground\": true, \"ticks\": \"\", \"zerolinecolor\": \"white\"}}, \"shapedefaults\": {\"line\": {\"color\": \"#2a3f5f\"}}, \"ternary\": {\"aaxis\": {\"gridcolor\": \"white\", \"linecolor\": \"white\", \"ticks\": \"\"}, \"baxis\": {\"gridcolor\": \"white\", \"linecolor\": \"white\", \"ticks\": \"\"}, \"bgcolor\": \"#E5ECF6\", \"caxis\": {\"gridcolor\": \"white\", \"linecolor\": \"white\", \"ticks\": \"\"}}, \"title\": {\"x\": 0.05}, \"xaxis\": {\"automargin\": true, \"gridcolor\": \"white\", \"linecolor\": \"white\", \"ticks\": \"\", \"title\": {\"standoff\": 15}, \"zerolinecolor\": \"white\", \"zerolinewidth\": 2}, \"yaxis\": {\"automargin\": true, \"gridcolor\": \"white\", \"linecolor\": \"white\", \"ticks\": \"\", \"title\": {\"standoff\": 15}, \"zerolinecolor\": \"white\", \"zerolinewidth\": 2}}}, \"title\": {\"text\": \"The Effect of Covid-19 on Feeling of A Person\"}, \"xaxis\": {\"tickangle\": -45}},\n",
              "                        {\"responsive\": true}\n",
              "                    ).then(function(){\n",
              "                            \n",
              "var gd = document.getElementById('b38693ac-2044-479b-81e7-6385ebab0ae4');\n",
              "var x = new MutationObserver(function (mutations, observer) {{\n",
              "        var display = window.getComputedStyle(gd).display;\n",
              "        if (!display || display === 'none') {{\n",
              "            console.log([gd, 'removed!']);\n",
              "            Plotly.purge(gd);\n",
              "            observer.disconnect();\n",
              "        }}\n",
              "}});\n",
              "\n",
              "// Listen for the removal of the full notebook cells\n",
              "var notebookContainer = gd.closest('#notebook-container');\n",
              "if (notebookContainer) {{\n",
              "    x.observe(notebookContainer, {childList: true});\n",
              "}}\n",
              "\n",
              "// Listen for the clearing of the current output cell\n",
              "var outputEl = gd.closest('.output');\n",
              "if (outputEl) {{\n",
              "    x.observe(outputEl, {childList: true});\n",
              "}}\n",
              "\n",
              "                        })\n",
              "                };\n",
              "                \n",
              "            </script>\n",
              "        </div>\n",
              "</body>\n",
              "</html>"
            ]
          },
          "metadata": {
            "tags": []
          }
        }
      ]
    },
    {
      "cell_type": "markdown",
      "metadata": {
        "id": "5-KXSwQtVwQp",
        "colab_type": "text"
      },
      "source": [
        "##### 2.2.2.2 Nervousness and Anxiousness by Gender\n",
        "   People who feel nervous and anxious in last 7 days are mostly women or men. \n",
        "\n",
        "I assume during this period, female might feel anxious and nevious more common than men feel.\n",
        "   \n",
        "   Null Hypothesis: Number of female and number of male feel anxious and nervous during a few days, and both gender's means are equal.\n",
        "\n",
        "    mean1=mean2 \n",
        "   \n",
        "   Alternative Hypothesis: Female means are not equal to male mean. Number of females who feel anxious and nervous during 3-4 days are not close or equal to number of males."
      ]
    },
    {
      "cell_type": "code",
      "metadata": {
        "id": "yewcoobuVWmU",
        "colab_type": "code",
        "colab": {
          "base_uri": "https://localhost:8080/",
          "height": 204
        },
        "outputId": "53b73162-3749-4ab4-c6fb-9bcf23b3ac44"
      },
      "source": [
        "psychology=pd.read_csv('/content/COVID_W3_psychology_survey.csv')\n",
        "psychology.head()"
      ],
      "execution_count": 93,
      "outputs": [
        {
          "output_type": "execute_result",
          "data": {
            "text/html": [
              "<div>\n",
              "<style scoped>\n",
              "    .dataframe tbody tr th:only-of-type {\n",
              "        vertical-align: middle;\n",
              "    }\n",
              "\n",
              "    .dataframe tbody tr th {\n",
              "        vertical-align: top;\n",
              "    }\n",
              "\n",
              "    .dataframe thead th {\n",
              "        text-align: right;\n",
              "    }\n",
              "</style>\n",
              "<table border=\"1\" class=\"dataframe\">\n",
              "  <thead>\n",
              "    <tr style=\"text-align: right;\">\n",
              "      <th></th>\n",
              "      <th>State</th>\n",
              "      <th>Question -4A</th>\n",
              "      <th>Question -4B</th>\n",
              "      <th>Question -4C</th>\n",
              "      <th>Question -4D</th>\n",
              "      <th>Question -4E</th>\n",
              "      <th>Age</th>\n",
              "      <th>Gender</th>\n",
              "      <th>EDUCATION</th>\n",
              "      <th>Hh_Banner</th>\n",
              "    </tr>\n",
              "  </thead>\n",
              "  <tbody>\n",
              "    <tr>\n",
              "      <th>0</th>\n",
              "      <td>Maryland</td>\n",
              "      <td>1</td>\n",
              "      <td>1</td>\n",
              "      <td>1</td>\n",
              "      <td>1</td>\n",
              "      <td>1</td>\n",
              "      <td>55-64</td>\n",
              "      <td>2</td>\n",
              "      <td>6</td>\n",
              "      <td>1</td>\n",
              "    </tr>\n",
              "    <tr>\n",
              "      <th>1</th>\n",
              "      <td>Azinona</td>\n",
              "      <td>1</td>\n",
              "      <td>1</td>\n",
              "      <td>1</td>\n",
              "      <td>1</td>\n",
              "      <td>1</td>\n",
              "      <td>65-74</td>\n",
              "      <td>1</td>\n",
              "      <td>6</td>\n",
              "      <td>5</td>\n",
              "    </tr>\n",
              "    <tr>\n",
              "      <th>2</th>\n",
              "      <td>Montana</td>\n",
              "      <td>1</td>\n",
              "      <td>1</td>\n",
              "      <td>2</td>\n",
              "      <td>2</td>\n",
              "      <td>1</td>\n",
              "      <td>45-54</td>\n",
              "      <td>2</td>\n",
              "      <td>6</td>\n",
              "      <td>1</td>\n",
              "    </tr>\n",
              "    <tr>\n",
              "      <th>3</th>\n",
              "      <td>Illinois-Indiana-Wisconsin</td>\n",
              "      <td>2</td>\n",
              "      <td>2</td>\n",
              "      <td>3</td>\n",
              "      <td>3</td>\n",
              "      <td>1</td>\n",
              "      <td>18-24</td>\n",
              "      <td>2</td>\n",
              "      <td>4</td>\n",
              "      <td>5</td>\n",
              "    </tr>\n",
              "    <tr>\n",
              "      <th>4</th>\n",
              "      <td>Maryland</td>\n",
              "      <td>1</td>\n",
              "      <td>1</td>\n",
              "      <td>1</td>\n",
              "      <td>2</td>\n",
              "      <td>1</td>\n",
              "      <td>55-64</td>\n",
              "      <td>1</td>\n",
              "      <td>7</td>\n",
              "      <td>2</td>\n",
              "    </tr>\n",
              "  </tbody>\n",
              "</table>\n",
              "</div>"
            ],
            "text/plain": [
              "                        State  Question -4A  ... EDUCATION  Hh_Banner\n",
              "0                    Maryland             1  ...         6          1\n",
              "1                     Azinona             1  ...         6          5\n",
              "2                     Montana             1  ...         6          1\n",
              "3  Illinois-Indiana-Wisconsin             2  ...         4          5\n",
              "4                    Maryland             1  ...         7          2\n",
              "\n",
              "[5 rows x 10 columns]"
            ]
          },
          "metadata": {
            "tags": []
          },
          "execution_count": 93
        }
      ]
    },
    {
      "cell_type": "code",
      "metadata": {
        "id": "rrKhiZSPVWdi",
        "colab_type": "code",
        "colab": {
          "base_uri": "https://localhost:8080/",
          "height": 34
        },
        "outputId": "357b6454-fbc8-4048-8104-a7bb05cf0e7c"
      },
      "source": [
        "psychology.shape"
      ],
      "execution_count": 94,
      "outputs": [
        {
          "output_type": "execute_result",
          "data": {
            "text/plain": [
              "(7505, 10)"
            ]
          },
          "metadata": {
            "tags": []
          },
          "execution_count": 94
        }
      ]
    },
    {
      "cell_type": "code",
      "metadata": {
        "id": "X6SAi3gyVsMi",
        "colab_type": "code",
        "colab": {
          "base_uri": "https://localhost:8080/",
          "height": 204
        },
        "outputId": "bec231ac-58d3-4967-9ec2-07a6506eeea1"
      },
      "source": [
        "#Create sex dataset\n",
        "female=psychology[psychology['Gender']==2]\n",
        "female.head()"
      ],
      "execution_count": 95,
      "outputs": [
        {
          "output_type": "execute_result",
          "data": {
            "text/html": [
              "<div>\n",
              "<style scoped>\n",
              "    .dataframe tbody tr th:only-of-type {\n",
              "        vertical-align: middle;\n",
              "    }\n",
              "\n",
              "    .dataframe tbody tr th {\n",
              "        vertical-align: top;\n",
              "    }\n",
              "\n",
              "    .dataframe thead th {\n",
              "        text-align: right;\n",
              "    }\n",
              "</style>\n",
              "<table border=\"1\" class=\"dataframe\">\n",
              "  <thead>\n",
              "    <tr style=\"text-align: right;\">\n",
              "      <th></th>\n",
              "      <th>State</th>\n",
              "      <th>Question -4A</th>\n",
              "      <th>Question -4B</th>\n",
              "      <th>Question -4C</th>\n",
              "      <th>Question -4D</th>\n",
              "      <th>Question -4E</th>\n",
              "      <th>Age</th>\n",
              "      <th>Gender</th>\n",
              "      <th>EDUCATION</th>\n",
              "      <th>Hh_Banner</th>\n",
              "    </tr>\n",
              "  </thead>\n",
              "  <tbody>\n",
              "    <tr>\n",
              "      <th>0</th>\n",
              "      <td>Maryland</td>\n",
              "      <td>1</td>\n",
              "      <td>1</td>\n",
              "      <td>1</td>\n",
              "      <td>1</td>\n",
              "      <td>1</td>\n",
              "      <td>55-64</td>\n",
              "      <td>2</td>\n",
              "      <td>6</td>\n",
              "      <td>1</td>\n",
              "    </tr>\n",
              "    <tr>\n",
              "      <th>2</th>\n",
              "      <td>Montana</td>\n",
              "      <td>1</td>\n",
              "      <td>1</td>\n",
              "      <td>2</td>\n",
              "      <td>2</td>\n",
              "      <td>1</td>\n",
              "      <td>45-54</td>\n",
              "      <td>2</td>\n",
              "      <td>6</td>\n",
              "      <td>1</td>\n",
              "    </tr>\n",
              "    <tr>\n",
              "      <th>3</th>\n",
              "      <td>Illinois-Indiana-Wisconsin</td>\n",
              "      <td>2</td>\n",
              "      <td>2</td>\n",
              "      <td>3</td>\n",
              "      <td>3</td>\n",
              "      <td>1</td>\n",
              "      <td>18-24</td>\n",
              "      <td>2</td>\n",
              "      <td>4</td>\n",
              "      <td>5</td>\n",
              "    </tr>\n",
              "    <tr>\n",
              "      <th>5</th>\n",
              "      <td>Ohio</td>\n",
              "      <td>2</td>\n",
              "      <td>3</td>\n",
              "      <td>4</td>\n",
              "      <td>3</td>\n",
              "      <td>2</td>\n",
              "      <td>18-24</td>\n",
              "      <td>2</td>\n",
              "      <td>5</td>\n",
              "      <td>5</td>\n",
              "    </tr>\n",
              "    <tr>\n",
              "      <th>6</th>\n",
              "      <td>Ohio</td>\n",
              "      <td>2</td>\n",
              "      <td>4</td>\n",
              "      <td>4</td>\n",
              "      <td>1</td>\n",
              "      <td>3</td>\n",
              "      <td>25-34</td>\n",
              "      <td>2</td>\n",
              "      <td>4</td>\n",
              "      <td>2</td>\n",
              "    </tr>\n",
              "  </tbody>\n",
              "</table>\n",
              "</div>"
            ],
            "text/plain": [
              "                        State  Question -4A  ... EDUCATION  Hh_Banner\n",
              "0                    Maryland             1  ...         6          1\n",
              "2                     Montana             1  ...         6          1\n",
              "3  Illinois-Indiana-Wisconsin             2  ...         4          5\n",
              "5                        Ohio             2  ...         5          5\n",
              "6                        Ohio             2  ...         4          2\n",
              "\n",
              "[5 rows x 10 columns]"
            ]
          },
          "metadata": {
            "tags": []
          },
          "execution_count": 95
        }
      ]
    },
    {
      "cell_type": "code",
      "metadata": {
        "id": "smiDh361VsCw",
        "colab_type": "code",
        "colab": {
          "base_uri": "https://localhost:8080/",
          "height": 111
        },
        "outputId": "4afd231e-44c3-4f4a-f67b-1fbc9d65b695"
      },
      "source": [
        "#Create sex dataset\n",
        "male=psychology[psychology['Gender']==1]\n",
        "male.head(2)"
      ],
      "execution_count": 96,
      "outputs": [
        {
          "output_type": "execute_result",
          "data": {
            "text/html": [
              "<div>\n",
              "<style scoped>\n",
              "    .dataframe tbody tr th:only-of-type {\n",
              "        vertical-align: middle;\n",
              "    }\n",
              "\n",
              "    .dataframe tbody tr th {\n",
              "        vertical-align: top;\n",
              "    }\n",
              "\n",
              "    .dataframe thead th {\n",
              "        text-align: right;\n",
              "    }\n",
              "</style>\n",
              "<table border=\"1\" class=\"dataframe\">\n",
              "  <thead>\n",
              "    <tr style=\"text-align: right;\">\n",
              "      <th></th>\n",
              "      <th>State</th>\n",
              "      <th>Question -4A</th>\n",
              "      <th>Question -4B</th>\n",
              "      <th>Question -4C</th>\n",
              "      <th>Question -4D</th>\n",
              "      <th>Question -4E</th>\n",
              "      <th>Age</th>\n",
              "      <th>Gender</th>\n",
              "      <th>EDUCATION</th>\n",
              "      <th>Hh_Banner</th>\n",
              "    </tr>\n",
              "  </thead>\n",
              "  <tbody>\n",
              "    <tr>\n",
              "      <th>1</th>\n",
              "      <td>Azinona</td>\n",
              "      <td>1</td>\n",
              "      <td>1</td>\n",
              "      <td>1</td>\n",
              "      <td>1</td>\n",
              "      <td>1</td>\n",
              "      <td>65-74</td>\n",
              "      <td>1</td>\n",
              "      <td>6</td>\n",
              "      <td>5</td>\n",
              "    </tr>\n",
              "    <tr>\n",
              "      <th>4</th>\n",
              "      <td>Maryland</td>\n",
              "      <td>1</td>\n",
              "      <td>1</td>\n",
              "      <td>1</td>\n",
              "      <td>2</td>\n",
              "      <td>1</td>\n",
              "      <td>55-64</td>\n",
              "      <td>1</td>\n",
              "      <td>7</td>\n",
              "      <td>2</td>\n",
              "    </tr>\n",
              "  </tbody>\n",
              "</table>\n",
              "</div>"
            ],
            "text/plain": [
              "      State  Question -4A Question -4B  ...  Gender EDUCATION  Hh_Banner\n",
              "1   Azinona             1            1  ...       1         6          5\n",
              "4  Maryland             1            1  ...       1         7          2\n",
              "\n",
              "[2 rows x 10 columns]"
            ]
          },
          "metadata": {
            "tags": []
          },
          "execution_count": 96
        }
      ]
    },
    {
      "cell_type": "markdown",
      "metadata": {
        "id": "pU_HBzx7Wed2",
        "colab_type": "text"
      },
      "source": [
        "Question 4A has 6 categories:\n",
        "\n",
        "* Not at all or less than 1 day\n",
        "\n",
        "* 1-2 days\n",
        "\n",
        "* 3-4 days\n",
        "\n",
        "* 5-7 days\n",
        "\n",
        "* Not Sure\n",
        "\n",
        "* Skipped on the web\n",
        "\n",
        "Based on this categories, I will look at the category '3-4', and I will compare to means of both genders"
      ]
    },
    {
      "cell_type": "markdown",
      "metadata": {
        "id": "-5dGC5McWpH2",
        "colab_type": "text"
      },
      "source": [
        "###### Female"
      ]
    },
    {
      "cell_type": "code",
      "metadata": {
        "id": "eWZap4ZGVr4j",
        "colab_type": "code",
        "colab": {
          "base_uri": "https://localhost:8080/",
          "height": 204
        },
        "outputId": "ce095172-6d8e-485e-b5d2-716352e3520f"
      },
      "source": [
        "female.sample(5)"
      ],
      "execution_count": 97,
      "outputs": [
        {
          "output_type": "execute_result",
          "data": {
            "text/html": [
              "<div>\n",
              "<style scoped>\n",
              "    .dataframe tbody tr th:only-of-type {\n",
              "        vertical-align: middle;\n",
              "    }\n",
              "\n",
              "    .dataframe tbody tr th {\n",
              "        vertical-align: top;\n",
              "    }\n",
              "\n",
              "    .dataframe thead th {\n",
              "        text-align: right;\n",
              "    }\n",
              "</style>\n",
              "<table border=\"1\" class=\"dataframe\">\n",
              "  <thead>\n",
              "    <tr style=\"text-align: right;\">\n",
              "      <th></th>\n",
              "      <th>State</th>\n",
              "      <th>Question -4A</th>\n",
              "      <th>Question -4B</th>\n",
              "      <th>Question -4C</th>\n",
              "      <th>Question -4D</th>\n",
              "      <th>Question -4E</th>\n",
              "      <th>Age</th>\n",
              "      <th>Gender</th>\n",
              "      <th>EDUCATION</th>\n",
              "      <th>Hh_Banner</th>\n",
              "    </tr>\n",
              "  </thead>\n",
              "  <tbody>\n",
              "    <tr>\n",
              "      <th>4136</th>\n",
              "      <td>Pennsylvania</td>\n",
              "      <td>1</td>\n",
              "      <td>1</td>\n",
              "      <td>1</td>\n",
              "      <td>1</td>\n",
              "      <td>1</td>\n",
              "      <td>25-34</td>\n",
              "      <td>2</td>\n",
              "      <td>2</td>\n",
              "      <td>3</td>\n",
              "    </tr>\n",
              "    <tr>\n",
              "      <th>4432</th>\n",
              "      <td>Colorado</td>\n",
              "      <td>2</td>\n",
              "      <td>2</td>\n",
              "      <td>1</td>\n",
              "      <td>2</td>\n",
              "      <td>1</td>\n",
              "      <td>65-74</td>\n",
              "      <td>2</td>\n",
              "      <td>6</td>\n",
              "      <td>1</td>\n",
              "    </tr>\n",
              "    <tr>\n",
              "      <th>5340</th>\n",
              "      <td>Alabama</td>\n",
              "      <td>1</td>\n",
              "      <td>2</td>\n",
              "      <td>2</td>\n",
              "      <td>1</td>\n",
              "      <td>1</td>\n",
              "      <td>25-34</td>\n",
              "      <td>2</td>\n",
              "      <td>5</td>\n",
              "      <td>2</td>\n",
              "    </tr>\n",
              "    <tr>\n",
              "      <th>1028</th>\n",
              "      <td>Ohio</td>\n",
              "      <td>1</td>\n",
              "      <td>2</td>\n",
              "      <td>1</td>\n",
              "      <td>2</td>\n",
              "      <td>1</td>\n",
              "      <td>65-74</td>\n",
              "      <td>2</td>\n",
              "      <td>5</td>\n",
              "      <td>1</td>\n",
              "    </tr>\n",
              "    <tr>\n",
              "      <th>757</th>\n",
              "      <td>Minnesota</td>\n",
              "      <td>2</td>\n",
              "      <td>2</td>\n",
              "      <td>1</td>\n",
              "      <td>2</td>\n",
              "      <td>1</td>\n",
              "      <td>18-24</td>\n",
              "      <td>2</td>\n",
              "      <td>3</td>\n",
              "      <td>5</td>\n",
              "    </tr>\n",
              "  </tbody>\n",
              "</table>\n",
              "</div>"
            ],
            "text/plain": [
              "             State  Question -4A Question -4B  ...  Gender EDUCATION  Hh_Banner\n",
              "4136  Pennsylvania             1            1  ...       2         2          3\n",
              "4432      Colorado             2            2  ...       2         6          1\n",
              "5340       Alabama             1            2  ...       2         5          2\n",
              "1028          Ohio             1            2  ...       2         5          1\n",
              "757      Minnesota             2            2  ...       2         3          5\n",
              "\n",
              "[5 rows x 10 columns]"
            ]
          },
          "metadata": {
            "tags": []
          },
          "execution_count": 97
        }
      ]
    },
    {
      "cell_type": "code",
      "metadata": {
        "id": "CXCyJQ99Vrvs",
        "colab_type": "code",
        "colab": {}
      },
      "source": [
        "# convert the categorical values as 0 or 1\n",
        "female['Question_new_4A']=np.where(female['Question -4A']==3,1,0)"
      ],
      "execution_count": 98,
      "outputs": []
    },
    {
      "cell_type": "code",
      "metadata": {
        "id": "ORvALJjyW7z4",
        "colab_type": "code",
        "colab": {
          "base_uri": "https://localhost:8080/",
          "height": 204
        },
        "outputId": "9f5e3030-955c-4733-ca90-79a13f7fecda"
      },
      "source": [
        "female[['Question -4A','Question_new_4A']].sample(5)"
      ],
      "execution_count": 99,
      "outputs": [
        {
          "output_type": "execute_result",
          "data": {
            "text/html": [
              "<div>\n",
              "<style scoped>\n",
              "    .dataframe tbody tr th:only-of-type {\n",
              "        vertical-align: middle;\n",
              "    }\n",
              "\n",
              "    .dataframe tbody tr th {\n",
              "        vertical-align: top;\n",
              "    }\n",
              "\n",
              "    .dataframe thead th {\n",
              "        text-align: right;\n",
              "    }\n",
              "</style>\n",
              "<table border=\"1\" class=\"dataframe\">\n",
              "  <thead>\n",
              "    <tr style=\"text-align: right;\">\n",
              "      <th></th>\n",
              "      <th>Question -4A</th>\n",
              "      <th>Question_new_4A</th>\n",
              "    </tr>\n",
              "  </thead>\n",
              "  <tbody>\n",
              "    <tr>\n",
              "      <th>3744</th>\n",
              "      <td>1</td>\n",
              "      <td>0</td>\n",
              "    </tr>\n",
              "    <tr>\n",
              "      <th>7447</th>\n",
              "      <td>2</td>\n",
              "      <td>0</td>\n",
              "    </tr>\n",
              "    <tr>\n",
              "      <th>6199</th>\n",
              "      <td>1</td>\n",
              "      <td>0</td>\n",
              "    </tr>\n",
              "    <tr>\n",
              "      <th>712</th>\n",
              "      <td>4</td>\n",
              "      <td>0</td>\n",
              "    </tr>\n",
              "    <tr>\n",
              "      <th>2622</th>\n",
              "      <td>2</td>\n",
              "      <td>0</td>\n",
              "    </tr>\n",
              "  </tbody>\n",
              "</table>\n",
              "</div>"
            ],
            "text/plain": [
              "      Question -4A  Question_new_4A\n",
              "3744             1                0\n",
              "7447             2                0\n",
              "6199             1                0\n",
              "712              4                0\n",
              "2622             2                0"
            ]
          },
          "metadata": {
            "tags": []
          },
          "execution_count": 99
        }
      ]
    },
    {
      "cell_type": "code",
      "metadata": {
        "id": "THeY5AoZW7pM",
        "colab_type": "code",
        "colab": {}
      },
      "source": [
        "# do same thing for male\n",
        "male['Question_new_4A']=np.where(male['Question -4A']==3,1,0)"
      ],
      "execution_count": 100,
      "outputs": []
    },
    {
      "cell_type": "code",
      "metadata": {
        "id": "W0mIaz_JW7et",
        "colab_type": "code",
        "colab": {
          "base_uri": "https://localhost:8080/",
          "height": 204
        },
        "outputId": "24ebc92d-aaf8-4e80-a3c5-606541fad9be"
      },
      "source": [
        "male[['Question -4A','Question_new_4A']].head()"
      ],
      "execution_count": 101,
      "outputs": [
        {
          "output_type": "execute_result",
          "data": {
            "text/html": [
              "<div>\n",
              "<style scoped>\n",
              "    .dataframe tbody tr th:only-of-type {\n",
              "        vertical-align: middle;\n",
              "    }\n",
              "\n",
              "    .dataframe tbody tr th {\n",
              "        vertical-align: top;\n",
              "    }\n",
              "\n",
              "    .dataframe thead th {\n",
              "        text-align: right;\n",
              "    }\n",
              "</style>\n",
              "<table border=\"1\" class=\"dataframe\">\n",
              "  <thead>\n",
              "    <tr style=\"text-align: right;\">\n",
              "      <th></th>\n",
              "      <th>Question -4A</th>\n",
              "      <th>Question_new_4A</th>\n",
              "    </tr>\n",
              "  </thead>\n",
              "  <tbody>\n",
              "    <tr>\n",
              "      <th>1</th>\n",
              "      <td>1</td>\n",
              "      <td>0</td>\n",
              "    </tr>\n",
              "    <tr>\n",
              "      <th>4</th>\n",
              "      <td>1</td>\n",
              "      <td>0</td>\n",
              "    </tr>\n",
              "    <tr>\n",
              "      <th>10</th>\n",
              "      <td>1</td>\n",
              "      <td>0</td>\n",
              "    </tr>\n",
              "    <tr>\n",
              "      <th>11</th>\n",
              "      <td>3</td>\n",
              "      <td>1</td>\n",
              "    </tr>\n",
              "    <tr>\n",
              "      <th>13</th>\n",
              "      <td>2</td>\n",
              "      <td>0</td>\n",
              "    </tr>\n",
              "  </tbody>\n",
              "</table>\n",
              "</div>"
            ],
            "text/plain": [
              "    Question -4A  Question_new_4A\n",
              "1              1                0\n",
              "4              1                0\n",
              "10             1                0\n",
              "11             3                1\n",
              "13             2                0"
            ]
          },
          "metadata": {
            "tags": []
          },
          "execution_count": 101
        }
      ]
    },
    {
      "cell_type": "code",
      "metadata": {
        "id": "btEK05vYW7US",
        "colab_type": "code",
        "colab": {
          "base_uri": "https://localhost:8080/",
          "height": 34
        },
        "outputId": "688da758-ab5e-4eee-8d40-7f09a5576ccd"
      },
      "source": [
        "# t-test\n",
        "from scipy.stats import ttest_ind\n",
        "ttest_ind(female['Question_new_4A'], male['Question_new_4A'], nan_policy='omit')"
      ],
      "execution_count": 102,
      "outputs": [
        {
          "output_type": "execute_result",
          "data": {
            "text/plain": [
              "Ttest_indResult(statistic=3.5890475845801997, pvalue=0.000334006608969499)"
            ]
          },
          "metadata": {
            "tags": []
          },
          "execution_count": 102
        }
      ]
    },
    {
      "cell_type": "markdown",
      "metadata": {
        "id": "NXKmH-MAXPV0",
        "colab_type": "text"
      },
      "source": [
        "Based on the p_value and statistics, I will reject the Null hyphotesis. I can conclude 95 % confidently that there are significantly mean differences between two population.\n",
        "\n",
        "Let's look at the more close and let's see what is happening. Which gender has more anxiouness and nervousness."
      ]
    },
    {
      "cell_type": "code",
      "metadata": {
        "id": "BXc9HRRZXMJd",
        "colab_type": "code",
        "colab": {
          "base_uri": "https://localhost:8080/",
          "height": 34
        },
        "outputId": "5707bf56-905f-4a93-fea1-6c9a195fc0a1"
      },
      "source": [
        "# check the data type\n",
        "female['Question -4A'].dtype"
      ],
      "execution_count": 103,
      "outputs": [
        {
          "output_type": "execute_result",
          "data": {
            "text/plain": [
              "dtype('int64')"
            ]
          },
          "metadata": {
            "tags": []
          },
          "execution_count": 103
        }
      ]
    },
    {
      "cell_type": "code",
      "metadata": {
        "id": "GSfOFssLXL9x",
        "colab_type": "code",
        "colab": {
          "base_uri": "https://localhost:8080/",
          "height": 34
        },
        "outputId": "839c38d1-0b4e-4d19-9291-f6cd8741c0ea"
      },
      "source": [
        "female['Gender'].dtype"
      ],
      "execution_count": 104,
      "outputs": [
        {
          "output_type": "execute_result",
          "data": {
            "text/plain": [
              "dtype('int64')"
            ]
          },
          "metadata": {
            "tags": []
          },
          "execution_count": 104
        }
      ]
    },
    {
      "cell_type": "markdown",
      "metadata": {
        "id": "IkOF-9pNXW_t",
        "colab_type": "text"
      },
      "source": [
        "Thus, it is interger. I need string to make categorical comparison."
      ]
    },
    {
      "cell_type": "code",
      "metadata": {
        "id": "7uCevhKsXLzc",
        "colab_type": "code",
        "colab": {
          "base_uri": "https://localhost:8080/",
          "height": 34
        },
        "outputId": "33a4d204-2b12-4b23-81bc-06a359e00a55"
      },
      "source": [
        "# create a function\n",
        "def number_type(a):\n",
        "  return str(a)\n",
        "number_type(3)"
      ],
      "execution_count": 105,
      "outputs": [
        {
          "output_type": "execute_result",
          "data": {
            "text/plain": [
              "'3'"
            ]
          },
          "metadata": {
            "tags": []
          },
          "execution_count": 105
        }
      ]
    },
    {
      "cell_type": "code",
      "metadata": {
        "id": "ddm3u4SoXLpC",
        "colab_type": "code",
        "colab": {}
      },
      "source": [
        "female['Question4A']=female['Question -4A'].apply(number_type)"
      ],
      "execution_count": 106,
      "outputs": []
    },
    {
      "cell_type": "code",
      "metadata": {
        "id": "kgvC6SBNW7Jr",
        "colab_type": "code",
        "colab": {
          "base_uri": "https://localhost:8080/",
          "height": 204
        },
        "outputId": "eb5f18d6-7cfc-4a6e-a903-bf1e4bccdc1f"
      },
      "source": [
        "female[['Question4A','Question -4A']].head()"
      ],
      "execution_count": 107,
      "outputs": [
        {
          "output_type": "execute_result",
          "data": {
            "text/html": [
              "<div>\n",
              "<style scoped>\n",
              "    .dataframe tbody tr th:only-of-type {\n",
              "        vertical-align: middle;\n",
              "    }\n",
              "\n",
              "    .dataframe tbody tr th {\n",
              "        vertical-align: top;\n",
              "    }\n",
              "\n",
              "    .dataframe thead th {\n",
              "        text-align: right;\n",
              "    }\n",
              "</style>\n",
              "<table border=\"1\" class=\"dataframe\">\n",
              "  <thead>\n",
              "    <tr style=\"text-align: right;\">\n",
              "      <th></th>\n",
              "      <th>Question4A</th>\n",
              "      <th>Question -4A</th>\n",
              "    </tr>\n",
              "  </thead>\n",
              "  <tbody>\n",
              "    <tr>\n",
              "      <th>0</th>\n",
              "      <td>1</td>\n",
              "      <td>1</td>\n",
              "    </tr>\n",
              "    <tr>\n",
              "      <th>2</th>\n",
              "      <td>1</td>\n",
              "      <td>1</td>\n",
              "    </tr>\n",
              "    <tr>\n",
              "      <th>3</th>\n",
              "      <td>2</td>\n",
              "      <td>2</td>\n",
              "    </tr>\n",
              "    <tr>\n",
              "      <th>5</th>\n",
              "      <td>2</td>\n",
              "      <td>2</td>\n",
              "    </tr>\n",
              "    <tr>\n",
              "      <th>6</th>\n",
              "      <td>2</td>\n",
              "      <td>2</td>\n",
              "    </tr>\n",
              "  </tbody>\n",
              "</table>\n",
              "</div>"
            ],
            "text/plain": [
              "  Question4A  Question -4A\n",
              "0          1             1\n",
              "2          1             1\n",
              "3          2             2\n",
              "5          2             2\n",
              "6          2             2"
            ]
          },
          "metadata": {
            "tags": []
          },
          "execution_count": 107
        }
      ]
    },
    {
      "cell_type": "code",
      "metadata": {
        "id": "I5rjt3tlXh7F",
        "colab_type": "code",
        "colab": {}
      },
      "source": [
        "# Same for male\n",
        "male['Question4A']=male['Question -4A'].apply(number_type)"
      ],
      "execution_count": 108,
      "outputs": []
    },
    {
      "cell_type": "code",
      "metadata": {
        "id": "ynTi42zaXhot",
        "colab_type": "code",
        "colab": {
          "base_uri": "https://localhost:8080/",
          "height": 204
        },
        "outputId": "06f9229a-4e96-4751-f831-e210de974423"
      },
      "source": [
        "male[['Question4A','Question -4A']].head()"
      ],
      "execution_count": 109,
      "outputs": [
        {
          "output_type": "execute_result",
          "data": {
            "text/html": [
              "<div>\n",
              "<style scoped>\n",
              "    .dataframe tbody tr th:only-of-type {\n",
              "        vertical-align: middle;\n",
              "    }\n",
              "\n",
              "    .dataframe tbody tr th {\n",
              "        vertical-align: top;\n",
              "    }\n",
              "\n",
              "    .dataframe thead th {\n",
              "        text-align: right;\n",
              "    }\n",
              "</style>\n",
              "<table border=\"1\" class=\"dataframe\">\n",
              "  <thead>\n",
              "    <tr style=\"text-align: right;\">\n",
              "      <th></th>\n",
              "      <th>Question4A</th>\n",
              "      <th>Question -4A</th>\n",
              "    </tr>\n",
              "  </thead>\n",
              "  <tbody>\n",
              "    <tr>\n",
              "      <th>1</th>\n",
              "      <td>1</td>\n",
              "      <td>1</td>\n",
              "    </tr>\n",
              "    <tr>\n",
              "      <th>4</th>\n",
              "      <td>1</td>\n",
              "      <td>1</td>\n",
              "    </tr>\n",
              "    <tr>\n",
              "      <th>10</th>\n",
              "      <td>1</td>\n",
              "      <td>1</td>\n",
              "    </tr>\n",
              "    <tr>\n",
              "      <th>11</th>\n",
              "      <td>3</td>\n",
              "      <td>3</td>\n",
              "    </tr>\n",
              "    <tr>\n",
              "      <th>13</th>\n",
              "      <td>2</td>\n",
              "      <td>2</td>\n",
              "    </tr>\n",
              "  </tbody>\n",
              "</table>\n",
              "</div>"
            ],
            "text/plain": [
              "   Question4A  Question -4A\n",
              "1           1             1\n",
              "4           1             1\n",
              "10          1             1\n",
              "11          3             3\n",
              "13          2             2"
            ]
          },
          "metadata": {
            "tags": []
          },
          "execution_count": 109
        }
      ]
    },
    {
      "cell_type": "code",
      "metadata": {
        "id": "NDQ4RF5yXhX-",
        "colab_type": "code",
        "colab": {
          "base_uri": "https://localhost:8080/",
          "height": 542
        },
        "outputId": "d32dc46e-17f9-4d56-c518-6a529a75a194"
      },
      "source": [
        "import plotly.graph_objects as go\n",
        "import numpy as np\n",
        "\n",
        "\n",
        "fig = go.Figure()\n",
        "fig.add_trace(go.Histogram(\n",
        "    x=female['Question4A'],\n",
        "    name='Female', # name used in legend and hover labels\n",
        "    xbins=dict( # bins used for histogram\n",
        "        start=0,\n",
        "        end=6.0,\n",
        "        size=0.5\n",
        "    ),\n",
        "    marker_color='#EB89B5',\n",
        "    opacity=0.75\n",
        "))\n",
        "fig.add_trace(go.Histogram(\n",
        "    x=male['Question4A'],\n",
        "    name='Male',\n",
        "    xbins=dict(\n",
        "        start=0,\n",
        "        end=4,\n",
        "        size=0.5\n",
        "    ),\n",
        "    marker_color='#330C73',\n",
        "    opacity=0.5\n",
        "))\n",
        "\n",
        "fig.update_layout(\n",
        "    title_text='Nervousness and Anxiousness by Gender', # title of plot\n",
        "    xaxis_title_text='How you feel', # xaxis label\n",
        "    yaxis_title_text='Count', # yaxis label\n",
        "    bargap=0.2, # gap between bars of adjacent location coordinates\n",
        "    bargroupgap=0.1 # gap between bars of the same location coordinates\n",
        ")\n",
        "\n",
        "fig.show()"
      ],
      "execution_count": 110,
      "outputs": [
        {
          "output_type": "display_data",
          "data": {
            "text/html": [
              "<html>\n",
              "<head><meta charset=\"utf-8\" /></head>\n",
              "<body>\n",
              "    <div>\n",
              "            <script src=\"https://cdnjs.cloudflare.com/ajax/libs/mathjax/2.7.5/MathJax.js?config=TeX-AMS-MML_SVG\"></script><script type=\"text/javascript\">if (window.MathJax) {MathJax.Hub.Config({SVG: {font: \"STIX-Web\"}});}</script>\n",
              "                <script type=\"text/javascript\">window.PlotlyConfig = {MathJaxConfig: 'local'};</script>\n",
              "        <script src=\"https://cdn.plot.ly/plotly-latest.min.js\"></script>    \n",
              "            <div id=\"a5dbc3b6-d3d5-4c0d-a51c-000d13af8623\" class=\"plotly-graph-div\" style=\"height:525px; width:100%;\"></div>\n",
              "            <script type=\"text/javascript\">\n",
              "                \n",
              "                    window.PLOTLYENV=window.PLOTLYENV || {};\n",
              "                    \n",
              "                if (document.getElementById(\"a5dbc3b6-d3d5-4c0d-a51c-000d13af8623\")) {\n",
              "                    Plotly.newPlot(\n",
              "                        'a5dbc3b6-d3d5-4c0d-a51c-000d13af8623',\n",
              "                        [{\"marker\": {\"color\": \"#EB89B5\"}, \"name\": \"Female\", \"opacity\": 0.75, \"type\": \"histogram\", \"x\": [\"1\", \"1\", \"2\", \"2\", \"2\", \"2\", \"2\", \"1\", \"3\", \"1\", \"1\", \"1\", \"1\", \"3\", \"2\", \"2\", \"3\", \"1\", \"1\", \"3\", \"4\", \"1\", \"4\", \"1\", \"2\", \"2\", \"2\", \"1\", \"4\", \"1\", \"2\", \"2\", \"4\", \"1\", \"1\", \"1\", \"1\", \"1\", \"1\", \"2\", \"2\", \"3\", \"1\", \"2\", \"1\", \"3\", \"1\", \"1\", \"1\", \"1\", \"1\", \"2\", \"3\", \"1\", \"1\", \"1\", \"2\", \"1\", \"2\", \"1\", \"2\", \"2\", \"1\", \"1\", \"2\", \"2\", \"1\", \"98\", \"3\", \"4\", \"1\", \"2\", \"77\", \"1\", \"1\", \"4\", \"2\", \"1\", \"2\", \"1\", \"1\", \"2\", \"1\", \"1\", \"2\", \"1\", \"1\", \"2\", \"3\", \"1\", \"2\", \"1\", \"3\", \"2\", \"1\", \"1\", \"3\", \"1\", \"1\", \"1\", \"1\", \"1\", \"4\", \"1\", \"1\", \"1\", \"1\", \"3\", \"2\", \"1\", \"2\", \"1\", \"1\", \"1\", \"1\", \"1\", \"3\", \"1\", \"3\", \"2\", \"1\", \"2\", \"1\", \"1\", \"2\", \"4\", \"2\", \"2\", \"1\", \"1\", \"1\", \"1\", \"1\", \"1\", \"4\", \"1\", \"2\", \"1\", \"1\", \"1\", \"98\", \"1\", \"2\", \"1\", \"4\", \"2\", \"2\", \"1\", \"2\", \"1\", \"1\", \"1\", \"1\", \"1\", \"1\", \"1\", \"1\", \"4\", \"2\", \"1\", \"3\", \"2\", \"3\", \"2\", \"1\", \"1\", \"2\", \"3\", \"1\", \"4\", \"1\", \"2\", \"2\", \"1\", \"3\", \"1\", \"1\", \"4\", \"3\", \"1\", \"1\", \"1\", \"1\", \"2\", \"2\", \"1\", \"1\", \"1\", \"4\", \"4\", \"1\", \"3\", \"3\", \"1\", \"2\", \"1\", \"3\", \"2\", \"1\", \"4\", \"1\", \"1\", \"1\", \"1\", \"1\", \"1\", \"1\", \"1\", \"1\", \"1\", \"2\", \"1\", \"3\", \"2\", \"1\", \"3\", \"1\", \"1\", \"1\", \"1\", \"2\", \"1\", \"3\", \"77\", \"3\", \"2\", \"1\", \"1\", \"4\", \"4\", \"1\", \"1\", \"2\", \"1\", \"98\", \"1\", \"2\", \"1\", \"1\", \"3\", \"1\", \"3\", \"1\", \"1\", \"1\", \"1\", \"1\", \"1\", \"4\", \"1\", \"2\", \"3\", \"2\", \"1\", \"2\", \"2\", \"2\", \"1\", \"2\", \"1\", \"2\", \"1\", \"1\", \"1\", \"2\", \"1\", \"1\", \"1\", \"1\", \"1\", \"1\", \"4\", \"4\", \"4\", \"1\", \"2\", \"1\", \"1\", \"1\", \"2\", \"1\", \"1\", \"4\", \"1\", \"1\", \"1\", \"1\", \"1\", \"1\", \"1\", \"1\", \"2\", \"1\", \"3\", \"2\", \"3\", \"2\", \"2\", \"2\", \"3\", \"2\", \"4\", \"4\", \"1\", \"1\", \"1\", \"2\", \"1\", \"1\", \"1\", \"1\", \"1\", \"3\", \"1\", \"98\", \"1\", \"1\", \"2\", \"4\", \"1\", \"1\", \"2\", \"1\", \"2\", \"1\", \"1\", \"3\", \"2\", \"3\", \"1\", \"1\", \"2\", \"1\", \"1\", \"2\", \"1\", \"3\", \"3\", \"1\", \"1\", \"2\", \"2\", \"1\", \"1\", \"3\", \"1\", \"1\", \"1\", \"1\", \"2\", \"1\", \"4\", \"1\", \"2\", \"1\", \"1\", \"1\", \"1\", \"2\", \"2\", \"2\", \"2\", \"1\", \"1\", \"1\", \"1\", \"1\", \"3\", \"1\", \"2\", \"4\", \"2\", \"2\", \"2\", \"1\", \"3\", \"1\", \"3\", \"3\", \"1\", \"1\", \"1\", \"1\", \"1\", \"1\", \"1\", \"1\", \"1\", \"3\", \"1\", \"3\", \"1\", \"1\", \"3\", \"3\", \"3\", \"2\", \"3\", \"1\", \"1\", \"1\", \"1\", \"1\", \"1\", \"1\", \"1\", \"4\", \"4\", \"2\", \"2\", \"1\", \"1\", \"4\", \"1\", \"4\", \"2\", \"4\", \"2\", \"1\", \"1\", \"1\", \"2\", \"3\", \"3\", \"2\", \"2\", \"1\", \"2\", \"1\", \"1\", \"2\", \"3\", \"1\", \"1\", \"3\", \"1\", \"2\", \"1\", \"3\", \"1\", \"1\", \"1\", \"2\", \"1\", \"3\", \"1\", \"1\", \"2\", \"1\", \"1\", \"1\", \"1\", \"1\", \"1\", \"1\", \"1\", \"1\", \"2\", \"1\", \"1\", \"2\", \"1\", \"1\", \"1\", \"1\", \"1\", \"1\", \"1\", \"2\", \"2\", \"1\", \"2\", \"1\", \"1\", \"1\", \"1\", \"1\", \"1\", \"3\", \"3\", \"1\", \"2\", \"3\", \"2\", \"1\", \"4\", \"2\", \"2\", \"1\", \"1\", \"1\", \"1\", \"3\", \"1\", \"1\", \"1\", \"1\", \"2\", \"1\", \"1\", \"1\", \"1\", \"2\", \"2\", \"1\", \"1\", \"1\", \"2\", \"1\", \"98\", \"1\", \"3\", \"1\", \"1\", \"2\", \"1\", \"1\", \"1\", \"1\", \"1\", \"4\", \"1\", \"1\", \"1\", \"3\", \"1\", \"1\", \"1\", \"2\", \"1\", \"1\", \"2\", \"1\", \"4\", \"1\", \"1\", \"1\", \"3\", \"1\", \"3\", \"1\", \"1\", \"1\", \"1\", \"1\", \"2\", \"2\", \"1\", \"1\", \"2\", \"2\", \"1\", \"2\", \"1\", \"1\", \"1\", \"1\", \"1\", \"3\", \"1\", \"1\", \"1\", \"1\", \"1\", \"1\", \"3\", \"1\", \"1\", \"1\", \"1\", \"2\", \"2\", \"1\", \"2\", \"2\", \"1\", \"1\", \"1\", \"2\", \"2\", \"2\", \"1\", \"1\", \"2\", \"4\", \"3\", \"1\", \"1\", \"1\", \"2\", \"1\", \"2\", \"1\", \"4\", \"2\", \"2\", \"1\", \"1\", \"4\", \"2\", \"1\", \"2\", \"2\", \"2\", \"1\", \"1\", \"1\", \"1\", \"1\", \"1\", \"2\", \"2\", \"1\", \"4\", \"2\", \"1\", \"1\", \"1\", \"2\", \"2\", \"2\", \"1\", \"2\", \"2\", \"2\", \"2\", \"2\", \"3\", \"2\", \"2\", \"1\", \"2\", \"4\", \"1\", \"1\", \"1\", \"1\", \"2\", \"2\", \"1\", \"2\", \"1\", \"1\", \"1\", \"1\", \"2\", \"1\", \"1\", \"3\", \"4\", \"1\", \"3\", \"2\", \"1\", \"1\", \"4\", \"1\", \"2\", \"2\", \"2\", \"1\", \"4\", \"2\", \"4\", \"1\", \"1\", \"1\", \"2\", \"1\", \"1\", \"1\", \"4\", \"4\", \"1\", \"1\", \"1\", \"1\", \"1\", \"1\", \"2\", \"2\", \"2\", \"1\", \"2\", \"2\", \"2\", \"1\", \"1\", \"2\", \"1\", \"1\", \"2\", \"1\", \"4\", \"4\", \"2\", \"2\", \"1\", \"1\", \"1\", \"1\", \"1\", \"1\", \"1\", \"4\", \"1\", \"2\", \"3\", \"3\", \"2\", \"2\", \"1\", \"1\", \"2\", \"2\", \"1\", \"3\", \"2\", \"4\", \"4\", \"1\", \"1\", \"1\", \"3\", \"1\", \"1\", \"1\", \"1\", \"1\", \"1\", \"1\", \"4\", \"2\", \"1\", \"1\", \"1\", \"1\", \"1\", \"1\", \"1\", \"2\", \"1\", \"1\", \"3\", \"1\", \"3\", \"3\", \"1\", \"1\", \"1\", \"1\", \"1\", \"1\", \"77\", \"2\", \"1\", \"1\", \"1\", \"1\", \"1\", \"1\", \"1\", \"2\", \"1\", \"2\", \"3\", \"3\", \"1\", \"1\", \"3\", \"2\", \"2\", \"1\", \"3\", \"1\", \"1\", \"2\", \"1\", \"1\", \"1\", \"3\", \"2\", \"1\", \"1\", \"1\", \"1\", \"4\", \"3\", \"1\", \"1\", \"1\", \"1\", \"1\", \"3\", \"1\", \"2\", \"1\", \"1\", \"2\", \"1\", \"3\", \"1\", \"1\", \"1\", \"2\", \"2\", \"2\", \"1\", \"3\", \"2\", \"1\", \"1\", \"3\", \"2\", \"4\", \"1\", \"1\", \"3\", \"4\", \"1\", \"1\", \"1\", \"1\", \"1\", \"1\", \"1\", \"1\", \"3\", \"1\", \"2\", \"1\", \"2\", \"1\", \"1\", \"1\", \"1\", \"1\", \"1\", \"1\", \"1\", \"1\", \"1\", \"1\", \"1\", \"2\", \"2\", \"3\", \"1\", \"1\", \"1\", \"1\", \"2\", \"2\", \"1\", \"1\", \"1\", \"2\", \"1\", \"2\", \"2\", \"1\", \"2\", \"1\", \"2\", \"1\", \"98\", \"1\", \"2\", \"1\", \"3\", \"2\", \"2\", \"1\", \"1\", \"1\", \"1\", \"4\", \"1\", \"1\", \"2\", \"1\", \"4\", \"1\", \"1\", \"1\", \"1\", \"1\", \"1\", \"1\", \"2\", \"4\", \"1\", \"2\", \"1\", \"1\", \"4\", \"1\", \"1\", \"1\", \"1\", \"1\", \"98\", \"1\", \"2\", \"1\", \"1\", \"4\", \"1\", \"1\", \"1\", \"1\", \"2\", \"2\", \"1\", \"1\", \"1\", \"2\", \"1\", \"1\", \"2\", \"1\", \"4\", \"1\", \"1\", \"1\", \"2\", \"1\", \"1\", \"1\", \"2\", \"2\", \"1\", \"3\", \"1\", \"1\", \"2\", \"1\", \"1\", \"2\", \"2\", \"1\", \"1\", \"4\", \"1\", \"2\", \"1\", \"1\", \"1\", \"3\", \"1\", \"4\", \"4\", \"2\", \"1\", \"2\", \"1\", \"2\", \"2\", \"1\", \"1\", \"3\", \"2\", \"2\", \"1\", \"1\", \"1\", \"2\", \"2\", \"2\", \"1\", \"2\", \"1\", \"1\", \"1\", \"2\", \"1\", \"1\", \"1\", \"2\", \"1\", \"1\", \"1\", \"2\", \"1\", \"1\", \"1\", \"1\", \"4\", \"3\", \"4\", \"2\", \"2\", \"1\", \"2\", \"1\", \"1\", \"1\", \"1\", \"3\", \"1\", \"1\", \"2\", \"2\", \"1\", \"4\", \"4\", \"1\", \"1\", \"3\", \"1\", \"2\", \"3\", \"1\", \"2\", \"4\", \"4\", \"1\", \"3\", \"2\", \"1\", \"1\", \"1\", \"3\", \"2\", \"3\", \"3\", \"1\", \"1\", \"1\", \"1\", \"1\", \"2\", \"1\", \"1\", \"1\", \"2\", \"1\", \"3\", \"2\", \"1\", \"4\", \"1\", \"2\", \"2\", \"3\", \"1\", \"3\", \"1\", \"1\", \"4\", \"2\", \"1\", \"4\", \"1\", \"1\", \"3\", \"3\", \"1\", \"2\", \"4\", \"1\", \"1\", \"2\", \"1\", \"1\", \"2\", \"1\", \"1\", \"4\", \"2\", \"1\", \"4\", \"1\", \"1\", \"1\", \"2\", \"4\", \"1\", \"1\", \"2\", \"2\", \"3\", \"1\", \"1\", \"4\", \"1\", \"1\", \"1\", \"1\", \"3\", \"2\", \"2\", \"2\", \"3\", \"1\", \"1\", \"1\", \"1\", \"1\", \"1\", \"1\", \"4\", \"1\", \"2\", \"2\", \"2\", \"2\", \"1\", \"2\", \"4\", \"1\", \"1\", \"2\", \"2\", \"1\", \"2\", \"1\", \"1\", \"1\", \"1\", \"1\", \"1\", \"2\", \"1\", \"2\", \"3\", \"1\", \"3\", \"1\", \"3\", \"1\", \"1\", \"2\", \"1\", \"1\", \"2\", \"1\", \"2\", \"1\", \"4\", \"1\", \"1\", \"2\", \"2\", \"1\", \"1\", \"1\", \"1\", \"1\", \"2\", \"4\", \"1\", \"2\", \"1\", \"1\", \"1\", \"1\", \"2\", \"1\", \"1\", \"1\", \"2\", \"2\", \"1\", \"1\", \"1\", \"2\", \"2\", \"2\", \"1\", \"1\", \"2\", \"2\", \"4\", \"1\", \"1\", \"2\", \"1\", \"2\", \"1\", \"1\", \"1\", \"1\", \"1\", \"4\", \"1\", \"1\", \"4\", \"4\", \"3\", \"1\", \"2\", \"1\", \"1\", \"4\", \"1\", \"2\", \"2\", \"1\", \"1\", \"4\", \"1\", \"1\", \"1\", \"1\", \"1\", \"1\", \"4\", \"1\", \"3\", \"2\", \"1\", \"1\", \"2\", \"3\", \"1\", \"1\", \"2\", \"1\", \"1\", \"4\", \"1\", \"2\", \"3\", \"1\", \"2\", \"2\", \"1\", \"1\", \"2\", \"3\", \"1\", \"2\", \"1\", \"3\", \"1\", \"1\", \"1\", \"2\", \"1\", \"2\", \"3\", \"1\", \"1\", \"1\", \"4\", \"2\", \"1\", \"2\", \"1\", \"1\", \"1\", \"2\", \"1\", \"1\", \"2\", \"1\", \"1\", \"1\", \"1\", \"3\", \"2\", \"2\", \"2\", \"1\", \"1\", \"1\", \"1\", \"1\", \"1\", \"1\", \"1\", \"1\", \"4\", \"1\", \"4\", \"3\", \"2\", \"2\", \"1\", \"4\", \"1\", \"1\", \"3\", \"2\", \"1\", \"1\", \"3\", \"3\", \"98\", \"1\", \"1\", \"1\", \"4\", \"3\", \"1\", \"1\", \"1\", \"1\", \"3\", \"2\", \"2\", \"1\", \"1\", \"1\", \"1\", \"4\", \"1\", \"1\", \"1\", \"2\", \"3\", \"1\", \"1\", \"2\", \"1\", \"3\", \"2\", \"1\", \"1\", \"1\", \"1\", \"3\", \"2\", \"2\", \"3\", \"3\", \"4\", \"3\", \"1\", \"2\", \"1\", \"1\", \"1\", \"2\", \"3\", \"1\", \"4\", \"2\", \"2\", \"2\", \"3\", \"2\", \"3\", \"3\", \"1\", \"2\", \"1\", \"1\", \"1\", \"1\", \"4\", \"4\", \"1\", \"3\", \"3\", \"2\", \"1\", \"2\", \"1\", \"1\", \"1\", \"1\", \"1\", \"2\", \"1\", \"2\", \"4\", \"4\", \"3\", \"1\", \"3\", \"1\", \"1\", \"1\", \"1\", \"1\", \"98\", \"2\", \"3\", \"4\", \"2\", \"1\", \"1\", \"1\", \"1\", \"1\", \"1\", \"4\", \"1\", \"3\", \"4\", \"1\", \"2\", \"1\", \"1\", \"1\", \"1\", \"1\", \"2\", \"1\", \"1\", \"1\", \"1\", \"1\", \"2\", \"1\", \"1\", \"1\", \"3\", \"2\", \"1\", \"1\", \"2\", \"1\", \"1\", \"3\", \"3\", \"2\", \"2\", \"4\", \"1\", \"1\", \"3\", \"2\", \"1\", \"1\", \"3\", \"1\", \"2\", \"3\", \"2\", \"1\", \"1\", \"2\", \"2\", \"1\", \"2\", \"4\", \"1\", \"3\", \"1\", \"3\", \"1\", \"2\", \"1\", \"2\", \"3\", \"2\", \"1\", \"2\", \"1\", \"1\", \"3\", \"1\", \"1\", \"2\", \"2\", \"1\", \"1\", \"2\", \"2\", \"1\", \"2\", \"1\", \"1\", \"1\", \"3\", \"4\", \"3\", \"1\", \"1\", \"2\", \"1\", \"1\", \"1\", \"1\", \"1\", \"1\", \"1\", \"1\", \"4\", \"1\", \"2\", \"1\", \"1\", \"2\", \"2\", \"3\", \"1\", \"3\", \"2\", \"1\", \"3\", \"1\", \"2\", \"1\", \"1\", \"1\", \"3\", \"1\", \"1\", \"1\", \"1\", \"2\", \"1\", \"1\", \"2\", \"1\", \"2\", \"2\", \"1\", \"1\", \"2\", \"1\", \"1\", \"1\", \"3\", \"2\", \"1\", \"1\", \"2\", \"1\", \"1\", \"1\", \"2\", \"1\", \"1\", \"77\", \"2\", \"1\", \"1\", \"1\", \"2\", \"1\", \"3\", \"2\", \"1\", \"2\", \"1\", \"2\", \"2\", \"1\", \"4\", \"1\", \"2\", \"1\", \"3\", \"1\", \"1\", \"2\", \"1\", \"2\", \"2\", \"4\", \"1\", \"2\", \"4\", \"2\", \"4\", \"4\", \"1\", \"4\", \"3\", \"2\", \"2\", \"2\", \"1\", \"1\", \"2\", \"2\", \"2\", \"3\", \"1\", \"1\", \"1\", \"2\", \"2\", \"2\", \"1\", \"1\", \"2\", \"1\", \"1\", \"2\", \"1\", \"1\", \"1\", \"1\", \"1\", \"1\", \"1\", \"2\", \"2\", \"1\", \"1\", \"2\", \"1\", \"2\", \"3\", \"1\", \"2\", \"3\", \"2\", \"3\", \"4\", \"1\", \"1\", \"1\", \"1\", \"1\", \"3\", \"1\", \"1\", \"1\", \"2\", \"1\", \"1\", \"1\", \"1\", \"1\", \"1\", \"1\", \"1\", \"1\", \"1\", \"1\", \"1\", \"1\", \"1\", \"3\", \"2\", \"3\", \"1\", \"1\", \"2\", \"1\", \"1\", \"1\", \"2\", \"2\", \"2\", \"1\", \"2\", \"1\", \"3\", \"1\", \"1\", \"1\", \"1\", \"1\", \"1\", \"1\", \"2\", \"1\", \"1\", \"1\", \"4\", \"3\", \"2\", \"3\", \"1\", \"2\", \"3\", \"4\", \"2\", \"4\", \"2\", \"2\", \"2\", \"1\", \"2\", \"1\", \"3\", \"1\", \"1\", \"1\", \"1\", \"1\", \"1\", \"4\", \"2\", \"4\", \"1\", \"1\", \"1\", \"1\", \"1\", \"1\", \"3\", \"1\", \"1\", \"1\", \"2\", \"1\", \"98\", \"1\", \"2\", \"1\", \"2\", \"4\", \"1\", \"1\", \"1\", \"2\", \"2\", \"1\", \"4\", \"2\", \"4\", \"1\", \"3\", \"1\", \"1\", \"3\", \"1\", \"2\", \"1\", \"1\", \"1\", \"1\", \"2\", \"1\", \"1\", \"2\", \"1\", \"1\", \"1\", \"1\", \"3\", \"2\", \"2\", \"1\", \"1\", \"1\", \"1\", \"2\", \"1\", \"1\", \"1\", \"4\", \"1\", \"2\", \"1\", \"1\", \"1\", \"1\", \"4\", \"3\", \"1\", \"1\", \"1\", \"2\", \"1\", \"1\", \"1\", \"1\", \"1\", \"3\", \"1\", \"3\", \"1\", \"3\", \"3\", \"1\", \"1\", \"2\", \"2\", \"2\", \"1\", \"3\", \"1\", \"2\", \"98\", \"1\", \"1\", \"1\", \"1\", \"1\", \"1\", \"2\", \"2\", \"1\", \"1\", \"4\", \"2\", \"1\", \"1\", \"2\", \"1\", \"1\", \"1\", \"1\", \"2\", \"1\", \"1\", \"1\", \"1\", \"2\", \"2\", \"1\", \"1\", \"1\", \"1\", \"4\", \"1\", \"1\", \"1\", \"3\", \"1\", \"1\", \"2\", \"1\", \"2\", \"4\", \"1\", \"1\", \"2\", \"3\", \"2\", \"1\", \"1\", \"1\", \"4\", \"1\", \"1\", \"1\", \"1\", \"1\", \"1\", \"3\", \"2\", \"2\", \"1\", \"3\", \"1\", \"2\", \"1\", \"4\", \"4\", \"1\", \"2\", \"3\", \"1\", \"3\", \"2\", \"1\", \"2\", \"1\", \"1\", \"3\", \"2\", \"1\", \"4\", \"1\", \"4\", \"1\", \"4\", \"1\", \"1\", \"1\", \"2\", \"1\", \"1\", \"1\", \"1\", \"1\", \"1\", \"1\", \"1\", \"1\", \"1\", \"1\", \"1\", \"2\", \"3\", \"2\", \"3\", \"1\", \"3\", \"1\", \"1\", \"2\", \"1\", \"1\", \"1\", \"2\", \"1\", \"1\", \"1\", \"2\", \"1\", \"1\", \"1\", \"2\", \"1\", \"1\", \"1\", \"4\", \"3\", \"3\", \"1\", \"1\", \"2\", \"3\", \"1\", \"3\", \"1\", \"1\", \"4\", \"1\", \"2\", \"1\", \"1\", \"1\", \"1\", \"1\", \"2\", \"1\", \"2\", \"1\", \"1\", \"1\", \"2\", \"1\", \"1\", \"1\", \"1\", \"2\", \"2\", \"2\", \"1\", \"1\", \"2\", \"2\", \"1\", \"1\", \"1\", \"1\", \"1\", \"2\", \"1\", \"1\", \"3\", \"3\", \"1\", \"1\", \"1\", \"1\", \"3\", \"2\", \"1\", \"4\", \"1\", \"1\", \"2\", \"2\", \"3\", \"1\", \"1\", \"1\", \"1\", \"2\", \"2\", \"1\", \"1\", \"2\", \"3\", \"1\", \"1\", \"3\", \"2\", \"1\", \"1\", \"4\", \"1\", \"3\", \"2\", \"3\", \"1\", \"3\", \"1\", \"1\", \"1\", \"2\", \"1\", \"1\", \"1\", \"1\", \"2\", \"3\", \"4\", \"2\", \"1\", \"1\", \"1\", \"1\", \"1\", \"1\", \"4\", \"3\", \"1\", \"2\", \"2\", \"3\", \"1\", \"2\", \"1\", \"1\", \"2\", \"1\", \"4\", \"2\", \"2\", \"1\", \"1\", \"1\", \"1\", \"1\", \"1\", \"1\", \"1\", \"1\", \"2\", \"1\", \"1\", \"1\", \"1\", \"1\", \"2\", \"2\", \"1\", \"2\", \"1\", \"1\", \"98\", \"3\", \"2\", \"1\", \"1\", \"3\", \"2\", \"2\", \"1\", \"1\", \"1\", \"1\", \"1\", \"1\", \"3\", \"1\", \"1\", \"1\", \"2\", \"1\", \"1\", \"1\", \"4\", \"2\", \"3\", \"1\", \"4\", \"2\", \"1\", \"3\", \"1\", \"1\", \"1\", \"1\", \"1\", \"2\", \"1\", \"2\", \"1\", \"1\", \"1\", \"1\", \"3\", \"1\", \"2\", \"1\", \"1\", \"3\", \"4\", \"2\", \"1\", \"2\", \"1\", \"1\", \"1\", \"2\", \"3\", \"1\", \"1\", \"1\", \"1\", \"2\", \"1\", \"2\", \"2\", \"4\", \"1\", \"1\", \"1\", \"3\", \"2\", \"2\", \"2\", \"2\", \"1\", \"3\", \"1\", \"1\", \"2\", \"2\", \"1\", \"1\", \"1\", \"2\", \"3\", \"1\", \"3\", \"1\", \"2\", \"1\", \"1\", \"1\", \"1\", \"1\", \"2\", \"3\", \"1\", \"2\", \"1\", \"2\", \"1\", \"4\", \"4\", \"2\", \"1\", \"1\", \"1\", \"1\", \"1\", \"1\", \"3\", \"1\", \"4\", \"1\", \"1\", \"1\", \"1\", \"1\", \"1\", \"1\", \"2\", \"2\", \"2\", \"1\", \"1\", \"1\", \"1\", \"1\", \"1\", \"4\", \"2\", \"1\", \"1\", \"1\", \"1\", \"1\", \"2\", \"4\", \"1\", \"1\", \"2\", \"1\", \"4\", \"2\", \"1\", \"1\", \"1\", \"1\", \"1\", \"2\", \"1\", \"3\", \"1\", \"1\", \"3\", \"2\", \"1\", \"2\", \"2\", \"1\", \"1\", \"2\", \"2\", \"1\", \"1\", \"4\", \"4\", \"2\", \"4\", \"1\", \"1\", \"1\", \"1\", \"1\", \"2\", \"3\", \"3\", \"4\", \"2\", \"2\", \"1\", \"1\", \"3\", \"1\", \"4\", \"4\", \"1\", \"1\", \"2\", \"1\", \"1\", \"1\", \"4\", \"3\", \"1\", \"3\", \"1\", \"2\", \"4\", \"4\", \"1\", \"4\", \"2\", \"1\", \"1\", \"1\", \"1\", \"1\", \"1\", \"1\", \"1\", \"1\", \"2\", \"1\", \"3\", \"1\", \"1\", \"3\", \"4\", \"3\", \"2\", \"3\", \"1\", \"2\", \"1\", \"4\", \"3\", \"2\", \"1\", \"1\", \"2\", \"3\", \"3\", \"1\", \"1\", \"1\", \"1\", \"4\", \"2\", \"1\", \"3\", \"1\", \"1\", \"1\", \"1\", \"2\", \"2\", \"1\", \"2\", \"2\", \"1\", \"1\", \"2\", \"2\", \"1\", \"2\", \"3\", \"2\", \"3\", \"2\", \"1\", \"1\", \"2\", \"1\", \"1\", \"1\", \"2\", \"1\", \"1\", \"1\", \"1\", \"1\", \"1\", \"2\", \"1\", \"3\", \"2\", \"1\", \"3\", \"2\", \"1\", \"1\", \"1\", \"1\", \"1\", \"1\", \"2\", \"1\", \"1\", \"2\", \"1\", \"3\", \"2\", \"4\", \"2\", \"1\", \"1\", \"4\", \"3\", \"3\", \"2\", \"1\", \"3\", \"1\", \"1\", \"2\", \"1\", \"2\", \"3\", \"1\", \"3\", \"2\", \"1\", \"1\", \"2\", \"3\", \"1\", \"2\", \"1\", \"3\", \"1\", \"2\", \"1\", \"1\", \"2\", \"1\", \"3\", \"1\", \"2\", \"4\", \"1\", \"1\", \"1\", \"1\", \"2\", \"4\", \"1\", \"2\", \"3\", \"1\", \"1\", \"4\", \"1\", \"1\", \"1\", \"1\", \"1\", \"1\", \"2\", \"1\", \"1\", \"1\", \"1\", \"1\", \"1\", \"1\", \"98\", \"1\", \"4\", \"1\", \"1\", \"1\", \"2\", \"2\", \"1\", \"1\", \"1\", \"1\", \"2\", \"1\", \"2\", \"1\", \"1\", \"1\", \"1\", \"4\", \"3\", \"2\", \"1\", \"1\", \"2\", \"1\", \"1\", \"1\", \"1\", \"1\", \"1\", \"1\", \"1\", \"2\", \"1\", \"2\", \"3\", \"4\", \"3\", \"1\", \"2\", \"1\", \"1\", \"1\", \"2\", \"3\", \"3\", \"1\", \"2\", \"2\", \"1\", \"3\", \"1\", \"1\", \"3\", \"1\", \"4\", \"1\", \"2\", \"1\", \"1\", \"1\", \"3\", \"2\", \"1\", \"1\", \"3\", \"1\", \"1\", \"2\", \"3\", \"2\", \"1\", \"4\", \"1\", \"1\", \"1\", \"1\", \"2\", \"1\", \"2\", \"1\", \"1\", \"3\", \"1\", \"1\", \"4\", \"3\", \"1\", \"1\", \"1\", \"1\", \"2\", \"2\", \"3\", \"1\", \"3\", \"2\", \"1\", \"1\", \"1\", \"4\", \"1\", \"1\", \"2\", \"1\", \"2\", \"4\", \"4\", \"1\", \"2\", \"1\", \"3\", \"1\", \"2\", \"1\", \"1\", \"1\", \"3\", \"2\", \"1\", \"1\", \"3\", \"1\", \"4\", \"1\", \"1\", \"2\", \"1\", \"4\", \"4\", \"2\", \"1\", \"1\", \"4\", \"1\", \"1\", \"2\", \"1\", \"1\", \"1\", \"1\", \"1\", \"1\", \"1\", \"1\", \"2\", \"1\", \"1\", \"2\", \"2\", \"1\", \"4\", \"1\", \"1\", \"1\", \"1\", \"2\", \"1\", \"2\", \"1\", \"1\", \"1\", \"1\", \"1\", \"2\", \"1\", \"1\", \"1\", \"3\", \"1\", \"2\", \"2\", \"1\", \"1\", \"1\", \"1\", \"3\", \"2\", \"3\", \"1\", \"2\", \"3\", \"2\", \"2\", \"2\", \"3\", \"1\", \"1\", \"1\", \"3\", \"4\", \"2\", \"2\", \"1\", \"1\", \"1\", \"1\", \"3\", \"1\", \"3\", \"4\", \"1\", \"1\", \"3\", \"3\", \"2\", \"1\", \"4\", \"1\", \"4\", \"2\", \"2\", \"3\", \"2\", \"2\", \"1\", \"1\", \"2\", \"1\", \"3\", \"1\", \"1\", \"1\", \"1\", \"1\", \"1\", \"1\", \"1\", \"3\", \"2\", \"2\", \"3\", \"2\", \"1\", \"3\", \"1\", \"2\", \"2\", \"1\", \"2\", \"2\", \"3\", \"1\", \"1\", \"4\", \"2\", \"1\", \"2\", \"2\", \"2\", \"1\", \"2\", \"1\", \"2\", \"2\", \"2\", \"1\", \"2\", \"1\", \"2\", \"1\", \"1\", \"1\", \"1\", \"1\", \"2\", \"1\", \"1\", \"4\", \"3\", \"4\", \"2\", \"1\", \"1\", \"2\", \"1\", \"1\", \"1\", \"1\", \"3\", \"4\", \"1\", \"1\", \"1\", \"1\", \"1\", \"1\", \"1\", \"2\", \"3\", \"1\", \"1\", \"1\", \"1\", \"4\", \"1\", \"1\", \"1\", \"1\", \"1\", \"1\", \"3\", \"1\", \"4\", \"2\", \"1\", \"1\", \"1\", \"3\", \"1\", \"1\", \"3\", \"1\", \"2\", \"1\", \"3\", \"1\", \"1\", \"2\", \"1\", \"1\", \"3\", \"1\", \"1\", \"1\", \"2\", \"2\", \"2\", \"2\", \"1\", \"4\", \"3\", \"2\", \"3\", \"1\", \"3\", \"4\", \"1\", \"1\", \"1\", \"1\", \"1\", \"4\", \"1\", \"1\", \"3\", \"1\", \"1\", \"2\", \"2\", \"1\", \"2\", \"1\", \"3\", \"2\", \"2\", \"1\", \"2\", \"1\", \"1\", \"1\", \"1\", \"1\", \"2\", \"3\", \"1\", \"1\", \"2\", \"1\", \"2\", \"1\", \"1\", \"1\", \"3\", \"2\", \"2\", \"1\", \"3\", \"1\", \"2\", \"1\", \"2\", \"2\", \"1\", \"1\", \"1\", \"2\", \"2\", \"1\", \"1\", \"1\", \"1\", \"2\", \"2\", \"1\", \"1\", \"1\", \"3\", \"1\", \"1\", \"2\", \"1\", \"1\", \"1\", \"1\", \"1\", \"1\", \"1\", \"1\", \"1\", \"1\", \"1\", \"2\", \"2\", \"4\", \"2\", \"4\", \"1\", \"3\", \"2\", \"1\", \"3\", \"2\", \"2\", \"4\", \"1\", \"1\", \"1\", \"1\", \"1\", \"3\", \"4\", \"1\", \"1\", \"4\", \"1\", \"1\", \"4\", \"1\", \"98\", \"2\", \"1\", \"2\", \"2\", \"4\", \"1\", \"1\", \"1\", \"1\", \"4\", \"4\", \"1\", \"1\", \"1\", \"1\", \"1\", \"1\", \"1\", \"1\", \"1\", \"2\", \"1\", \"2\", \"2\", \"2\", \"1\", \"1\", \"1\", \"1\", \"1\", \"2\", \"4\", \"1\", \"1\", \"1\", \"1\", \"1\", \"1\", \"1\", \"1\", \"1\", \"4\", \"1\", \"1\", \"1\", \"4\", \"1\", \"2\", \"1\", \"3\", \"2\", \"1\", \"2\", \"1\", \"1\", \"1\", \"1\", \"2\", \"1\", \"1\", \"4\", \"1\", \"2\", \"1\", \"1\", \"1\", \"2\", \"2\", \"2\", \"1\", \"1\", \"1\", \"1\", \"1\", \"3\", \"1\", \"1\", \"2\", \"1\", \"1\", \"1\", \"2\", \"1\", \"4\", \"1\", \"1\", \"4\", \"1\", \"1\", \"1\", \"4\", \"3\", \"1\", \"1\", \"1\", \"1\", \"1\", \"2\", \"1\", \"2\", \"1\", \"4\", \"1\", \"4\", \"4\", \"2\", \"1\", \"1\", \"2\", \"1\", \"1\", \"1\", \"1\", \"1\", \"1\", \"1\", \"1\", \"1\", \"1\", \"2\", \"2\", \"2\", \"2\", \"2\", \"1\", \"1\", \"1\", \"2\", \"1\", \"1\", \"2\", \"1\", \"1\", \"1\", \"1\", \"1\", \"1\", \"1\", \"2\", \"2\", \"1\", \"3\", \"1\", \"1\", \"2\", \"1\", \"1\", \"1\", \"1\", \"1\", \"1\", \"1\", \"1\", \"1\", \"2\", \"1\", \"1\", \"1\", \"2\", \"1\", \"1\", \"2\", \"4\", \"2\", \"4\", \"2\", \"2\", \"1\", \"3\", \"2\", \"1\", \"2\", \"1\", \"2\", \"4\", \"1\", \"1\", \"3\", \"4\", \"1\", \"2\", \"1\", \"1\", \"2\", \"2\", \"1\", \"2\", \"1\", \"1\", \"4\", \"3\", \"2\", \"1\", \"3\", \"1\", \"1\", \"1\", \"1\", \"1\", \"2\", \"3\", \"2\", \"2\", \"4\", \"1\", \"1\", \"3\", \"1\", \"1\", \"1\", \"3\", \"1\", \"2\", \"1\", \"2\", \"2\", \"2\", \"4\", \"1\", \"1\", \"1\", \"2\", \"3\", \"1\", \"1\", \"1\", \"1\", \"1\", \"1\", \"1\", \"1\", \"4\", \"4\", \"1\", \"3\", \"2\", \"1\", \"1\", \"1\", \"2\", \"4\", \"1\", \"2\", \"3\", \"1\", \"2\", \"1\", \"1\", \"4\", \"1\", \"3\", \"1\", \"1\", \"2\", \"1\", \"4\", \"1\", \"1\", \"2\", \"1\", \"1\", \"3\", \"1\", \"1\", \"2\", \"4\", \"4\", \"1\", \"2\", \"2\", \"1\", \"2\", \"1\", \"1\", \"2\", \"2\", \"1\", \"1\", \"2\", \"4\", \"1\", \"3\", \"1\", \"2\", \"3\", \"2\", \"1\", \"1\", \"1\", \"4\", \"2\", \"4\", \"1\", \"1\", \"1\", \"1\", \"2\", \"1\", \"1\", \"2\", \"1\", \"3\", \"1\", \"2\", \"1\", \"1\", \"2\", \"2\", \"3\", \"1\", \"1\", \"1\", \"1\", \"1\", \"4\", \"1\", \"4\", \"3\", \"1\", \"1\", \"4\", \"1\", \"1\", \"4\", \"2\", \"1\", \"1\", \"1\", \"1\", \"1\", \"1\", \"3\", \"1\", \"1\", \"2\", \"1\", \"1\", \"1\", \"4\", \"1\", \"1\", \"1\", \"1\", \"1\", \"4\", \"1\", \"3\", \"1\", \"2\", \"2\", \"2\", \"3\", \"1\", \"1\", \"2\", \"1\", \"2\", \"1\", \"1\", \"2\", \"1\", \"2\", \"1\", \"1\", \"1\", \"1\", \"3\", \"2\", \"1\", \"1\", \"3\", \"1\", \"2\", \"2\", \"4\", \"1\", \"2\", \"1\", \"3\", \"1\", \"1\", \"1\", \"1\", \"1\", \"1\", \"1\", \"1\", \"1\", \"3\", \"1\", \"2\", \"1\", \"1\", \"2\", \"1\", \"98\", \"1\", \"1\", \"1\", \"4\", \"3\", \"2\", \"2\", \"2\", \"2\", \"4\", \"1\", \"1\", \"1\", \"4\", \"1\", \"1\", \"2\", \"1\", \"2\", \"1\", \"1\", \"1\", \"1\", \"1\", \"3\", \"2\", \"2\", \"1\", \"1\", \"2\", \"2\", \"2\", \"1\", \"4\", \"4\", \"1\", \"3\", \"1\", \"1\", \"2\", \"4\", \"1\", \"1\", \"1\", \"2\", \"4\", \"1\", \"1\", \"1\", \"4\", \"1\", \"1\", \"1\", \"2\", \"1\", \"3\", \"1\", \"1\", \"2\", \"1\", \"4\", \"1\", \"1\", \"2\", \"3\", \"3\", \"3\", \"2\", \"1\", \"1\", \"1\", \"1\", \"1\", \"1\", \"4\", \"1\", \"1\", \"1\", \"1\", \"3\", \"1\", \"1\", \"1\", \"1\", \"4\", \"2\", \"3\", \"2\", \"1\", \"2\", \"2\", \"2\", \"3\", \"3\", \"1\", \"2\", \"2\", \"1\", \"1\", \"1\", \"1\", \"2\", \"1\", \"2\", \"1\", \"1\", \"1\", \"1\", \"2\", \"1\", \"1\", \"2\", \"1\", \"2\", \"2\", \"2\", \"2\", \"4\", \"1\", \"1\", \"2\", \"2\", \"1\", \"1\", \"1\", \"1\", \"1\", \"4\", \"77\", \"2\", \"3\", \"1\", \"1\", \"4\", \"2\", \"1\", \"1\", \"1\", \"1\", \"2\", \"3\", \"1\", \"2\", \"1\", \"1\", \"4\", \"1\", \"4\", \"1\", \"2\", \"1\", \"4\", \"2\", \"2\", \"1\", \"4\", \"1\", \"1\", \"1\", \"3\", \"4\", \"1\", \"1\", \"2\", \"2\", \"1\", \"1\", \"1\", \"1\", \"1\", \"1\", \"3\", \"2\", \"1\", \"4\", \"1\", \"1\", \"1\", \"1\", \"2\", \"1\", \"4\", \"1\", \"1\", \"2\", \"2\", \"1\", \"3\", \"1\", \"1\", \"1\", \"2\", \"2\", \"1\", \"1\", \"3\", \"2\", \"1\", \"1\", \"4\", \"2\", \"1\", \"1\", \"1\", \"1\", \"1\", \"4\", \"2\", \"1\", \"4\", \"2\", \"1\", \"4\", \"2\", \"3\", \"1\", \"3\", \"3\", \"2\", \"4\", \"4\", \"2\", \"1\", \"2\", \"1\", \"1\", \"1\", \"1\", \"1\", \"2\", \"1\", \"1\", \"1\", \"1\", \"1\", \"1\", \"1\", \"1\", \"3\", \"1\", \"1\", \"4\", \"2\", \"2\", \"1\", \"4\", \"2\", \"1\", \"1\", \"2\", \"1\", \"1\", \"1\", \"1\", \"1\", \"1\", \"4\", \"1\", \"4\", \"3\", \"1\", \"1\", \"4\", \"2\", \"1\", \"2\", \"4\", \"2\", \"1\", \"1\", \"1\", \"1\", \"2\", \"3\", \"2\", \"1\", \"1\", \"1\", \"1\", \"1\", \"1\", \"1\", \"1\", \"4\", \"1\", \"1\", \"3\", \"1\", \"1\", \"4\", \"1\", \"1\", \"1\", \"1\", \"3\", \"2\", \"3\", \"1\", \"1\", \"1\", \"3\", \"2\", \"3\", \"1\", \"4\", \"2\", \"1\", \"3\", \"2\", \"1\", \"1\", \"2\", \"1\", \"2\", \"2\", \"1\", \"1\", \"77\", \"3\", \"1\", \"1\", \"1\", \"2\", \"3\", \"1\", \"1\", \"2\", \"4\", \"1\", \"1\", \"1\", \"2\", \"4\", \"2\", \"2\", \"1\", \"2\", \"2\", \"1\", \"2\", \"4\", \"3\", \"1\", \"2\", \"1\", \"1\", \"2\", \"2\", \"1\", \"1\", \"1\", \"2\", \"1\", \"4\", \"1\", \"1\", \"1\", \"1\", \"4\", \"1\", \"3\", \"1\", \"1\", \"2\", \"2\", \"2\", \"4\", \"4\", \"2\", \"3\", \"1\", \"1\", \"2\", \"1\", \"3\", \"4\", \"1\", \"1\", \"1\", \"1\", \"2\", \"1\", \"1\", \"1\", \"3\", \"2\", \"1\", \"1\", \"1\", \"4\", \"1\", \"3\", \"77\", \"1\", \"1\", \"1\", \"1\", \"1\", \"1\", \"1\", \"2\", \"1\", \"2\", \"1\", \"1\", \"3\", \"1\", \"1\", \"4\", \"1\", \"1\", \"3\", \"1\", \"1\", \"1\", \"3\", \"1\", \"1\", \"1\", \"3\", \"1\", \"2\", \"1\", \"2\", \"2\", \"1\", \"1\", \"1\", \"2\", \"1\", \"1\", \"1\", \"1\", \"1\", \"1\", \"1\", \"4\", \"1\", \"1\", \"1\", \"2\", \"1\", \"1\", \"2\", \"1\", \"4\", \"1\", \"3\", \"1\", \"1\", \"1\", \"1\", \"1\", \"4\", \"2\", \"3\", \"1\", \"1\", \"1\", \"1\", \"1\", \"3\", \"77\", \"1\", \"1\", \"1\", \"1\", \"1\", \"1\", \"1\", \"1\", \"1\", \"3\", \"2\", \"2\", \"1\", \"3\", \"1\", \"1\", \"4\", \"1\", \"1\", \"3\", \"1\", \"3\", \"1\", \"3\", \"1\", \"2\", \"1\", \"1\", \"1\", \"1\", \"1\", \"3\", \"1\", \"1\", \"1\", \"3\", \"3\", \"4\", \"3\", \"2\", \"3\", \"4\", \"3\", \"1\", \"2\", \"4\", \"3\", \"2\", \"1\", \"1\", \"4\", \"3\", \"1\", \"3\", \"3\", \"2\", \"1\", \"1\", \"1\", \"2\", \"1\", \"2\", \"2\", \"1\", \"1\", \"3\", \"2\", \"1\", \"1\", \"4\", \"2\", \"2\", \"1\", \"1\", \"1\", \"2\", \"1\", \"2\", \"3\", \"3\", \"1\", \"2\", \"1\", \"1\", \"1\", \"1\", \"2\", \"3\", \"1\", \"1\", \"1\", \"2\", \"1\", \"2\", \"1\", \"3\", \"4\", \"1\", \"1\", \"1\", \"1\", \"3\", \"3\", \"2\", \"3\", \"1\", \"1\", \"2\", \"2\", \"1\", \"2\", \"1\", \"1\", \"1\", \"1\", \"1\", \"1\", \"2\", \"2\", \"2\", \"3\", \"2\", \"1\", \"4\", \"1\", \"2\", \"3\", \"2\", \"1\", \"4\", \"1\", \"2\", \"1\", \"2\", \"2\", \"2\", \"1\", \"1\", \"1\", \"1\", \"2\", \"2\", \"2\", \"4\", \"1\", \"1\", \"1\", \"1\", \"1\", \"4\", \"2\", \"1\", \"1\", \"2\", \"1\", \"1\", \"2\", \"3\", \"1\", \"1\", \"1\", \"2\", \"1\", \"2\", \"1\", \"1\", \"1\", \"3\", \"2\", \"3\", \"2\", \"1\", \"1\", \"1\", \"1\", \"2\", \"2\", \"1\", \"1\", \"1\", \"2\", \"3\", \"1\", \"1\", \"1\", \"1\", \"1\", \"1\", \"1\", \"1\", \"3\", \"2\", \"2\", \"1\", \"1\", \"4\", \"2\", \"1\", \"1\", \"1\", \"1\", \"3\", \"1\", \"1\", \"1\", \"4\", \"2\", \"1\", \"4\", \"1\", \"2\", \"1\", \"1\", \"2\", \"1\", \"3\", \"1\", \"3\", \"4\", \"1\", \"1\", \"2\", \"2\", \"1\", \"2\", \"3\", \"1\", \"1\", \"2\", \"1\", \"3\", \"1\", \"1\", \"2\", \"1\", \"2\", \"1\", \"1\", \"1\", \"4\", \"1\", \"4\", \"1\", \"1\", \"1\", \"1\", \"1\", \"1\", \"1\", \"4\", \"1\", \"1\", \"2\", \"1\", \"1\", \"1\", \"4\", \"2\", \"3\", \"2\", \"1\", \"1\", \"1\", \"1\", \"1\", \"4\", \"1\", \"1\", \"1\", \"4\", \"1\", \"2\", \"2\", \"3\", \"2\", \"1\", \"4\", \"2\", \"4\", \"1\", \"1\", \"1\", \"1\", \"1\", \"4\", \"2\", \"1\", \"1\", \"1\", \"1\", \"1\", \"3\", \"1\", \"1\", \"4\", \"1\", \"3\", \"2\", \"1\", \"1\", \"1\", \"2\", \"1\", \"2\", \"1\", \"1\", \"1\", \"1\", \"1\", \"1\", \"1\", \"1\", \"1\", \"1\", \"2\", \"1\", \"2\", \"3\", \"1\", \"2\", \"1\", \"1\", \"1\", \"2\", \"2\", \"3\", \"1\", \"1\", \"1\", \"3\", \"1\", \"2\", \"1\", \"1\", \"1\", \"2\", \"1\", \"3\", \"1\", \"1\", \"1\", \"1\", \"1\", \"1\", \"1\", \"2\", \"1\", \"1\", \"1\", \"1\", \"3\", \"1\", \"3\", \"1\", \"1\", \"4\", \"1\", \"2\", \"1\", \"2\", \"3\", \"3\", \"3\", \"4\", \"1\", \"1\", \"2\", \"1\", \"1\", \"1\", \"3\", \"1\", \"1\", \"2\", \"4\", \"1\", \"1\", \"2\", \"3\", \"1\", \"1\", \"3\", \"1\", \"1\", \"1\", \"1\", \"2\", \"1\", \"2\", \"1\", \"3\", \"1\", \"1\", \"1\", \"3\", \"2\", \"1\", \"1\", \"1\", \"1\", \"1\", \"1\", \"1\", \"2\", \"2\", \"2\", \"3\", \"2\", \"4\", \"3\", \"1\", \"3\", \"1\", \"98\", \"1\", \"1\", \"1\", \"3\", \"2\", \"4\", \"1\", \"1\", \"1\", \"1\", \"1\", \"1\", \"1\", \"1\", \"1\", \"3\", \"4\", \"4\", \"1\", \"1\", \"2\", \"2\", \"4\", \"1\", \"4\", \"4\", \"1\", \"2\", \"2\", \"1\", \"1\", \"1\", \"2\", \"1\", \"4\", \"1\", \"1\", \"2\", \"2\", \"2\", \"1\", \"3\", \"2\", \"3\", \"2\", \"3\", \"2\", \"1\", \"3\", \"1\", \"1\", \"1\", \"2\", \"1\", \"4\", \"1\", \"2\", \"3\", \"1\", \"2\", \"1\", \"1\", \"2\", \"1\", \"2\", \"1\", \"1\", \"4\", \"1\", \"1\", \"2\", \"1\", \"1\", \"1\", \"4\", \"2\", \"1\", \"1\", \"4\", \"3\", \"1\", \"1\", \"2\", \"2\", \"2\", \"1\", \"1\", \"1\", \"2\", \"2\", \"1\", \"1\", \"2\", \"2\", \"1\", \"1\", \"4\", \"1\", \"1\", \"2\", \"1\", \"4\", \"3\", \"1\", \"2\", \"3\", \"1\", \"4\", \"3\", \"1\", \"4\", \"1\", \"1\", \"1\", \"3\", \"1\", \"1\", \"1\", \"4\", \"1\", \"3\", \"2\", \"4\", \"2\", \"1\", \"3\", \"1\", \"1\", \"2\", \"1\", \"3\", \"1\", \"1\", \"2\", \"1\", \"1\", \"1\", \"1\", \"1\", \"1\", \"1\", \"1\", \"2\", \"1\", \"2\", \"2\", \"1\", \"1\", \"1\", \"1\", \"3\", \"1\", \"1\", \"1\", \"1\", \"3\", \"2\", \"1\", \"1\", \"1\", \"3\", \"4\", \"2\", \"3\", \"1\", \"1\", \"1\", \"4\", \"1\", \"1\", \"1\", \"1\", \"2\", \"1\", \"4\", \"1\", \"1\", \"1\", \"1\", \"4\", \"1\", \"1\", \"2\", \"2\", \"2\", \"1\", \"2\", \"1\", \"2\", \"2\", \"1\", \"1\", \"1\", \"1\", \"1\", \"3\", \"1\", \"2\", \"1\", \"2\", \"1\", \"1\", \"1\", \"2\", \"2\", \"2\", \"2\", \"2\", \"1\", \"1\", \"1\", \"1\", \"1\"], \"xbins\": {\"end\": 6.0, \"size\": 0.5, \"start\": 0}}, {\"marker\": {\"color\": \"#330C73\"}, \"name\": \"Male\", \"opacity\": 0.5, \"type\": \"histogram\", \"x\": [\"1\", \"1\", \"1\", \"3\", \"2\", \"1\", \"1\", \"4\", \"1\", \"2\", \"4\", \"1\", \"1\", \"2\", \"1\", \"1\", \"2\", \"1\", \"1\", \"1\", \"2\", \"1\", \"1\", \"1\", \"1\", \"1\", \"1\", \"3\", \"1\", \"1\", \"1\", \"1\", \"3\", \"1\", \"4\", \"1\", \"1\", \"1\", \"1\", \"1\", \"3\", \"1\", \"1\", \"1\", \"1\", \"1\", \"1\", \"1\", \"1\", \"1\", \"1\", \"2\", \"1\", \"1\", \"2\", \"1\", \"1\", \"2\", \"1\", \"4\", \"1\", \"1\", \"1\", \"1\", \"1\", \"1\", \"2\", \"1\", \"1\", \"1\", \"2\", \"1\", \"1\", \"1\", \"1\", \"1\", \"2\", \"3\", \"1\", \"4\", \"1\", \"1\", \"1\", \"1\", \"1\", \"1\", \"2\", \"1\", \"1\", \"1\", \"1\", \"1\", \"1\", \"1\", \"1\", \"1\", \"4\", \"1\", \"1\", \"3\", \"1\", \"3\", \"1\", \"1\", \"1\", \"2\", \"1\", \"2\", \"2\", \"1\", \"1\", \"4\", \"2\", \"3\", \"1\", \"1\", \"1\", \"1\", \"1\", \"3\", \"1\", \"1\", \"1\", \"2\", \"1\", \"3\", \"2\", \"1\", \"1\", \"1\", \"1\", \"1\", \"1\", \"1\", \"2\", \"1\", \"1\", \"1\", \"1\", \"3\", \"2\", \"4\", \"1\", \"1\", \"1\", \"3\", \"3\", \"1\", \"1\", \"1\", \"1\", \"1\", \"1\", \"1\", \"1\", \"1\", \"1\", \"4\", \"1\", \"3\", \"2\", \"1\", \"2\", \"2\", \"2\", \"1\", \"1\", \"1\", \"1\", \"2\", \"1\", \"4\", \"1\", \"4\", \"1\", \"1\", \"4\", \"1\", \"2\", \"1\", \"1\", \"3\", \"2\", \"1\", \"1\", \"2\", \"1\", \"1\", \"1\", \"1\", \"1\", \"1\", \"2\", \"2\", \"1\", \"1\", \"3\", \"2\", \"1\", \"1\", \"1\", \"1\", \"1\", \"2\", \"4\", \"1\", \"1\", \"2\", \"1\", \"1\", \"1\", \"4\", \"2\", \"2\", \"2\", \"2\", \"3\", \"2\", \"1\", \"1\", \"98\", \"1\", \"1\", \"1\", \"1\", \"1\", \"1\", \"4\", \"1\", \"1\", \"2\", \"4\", \"1\", \"1\", \"1\", \"2\", \"1\", \"2\", \"1\", \"1\", \"2\", \"1\", \"1\", \"1\", \"1\", \"1\", \"2\", \"1\", \"2\", \"1\", \"1\", \"2\", \"1\", \"2\", \"2\", \"1\", \"1\", \"4\", \"1\", \"1\", \"1\", \"4\", \"2\", \"1\", \"1\", \"1\", \"1\", \"1\", \"1\", \"1\", \"1\", \"2\", \"4\", \"1\", \"2\", \"2\", \"3\", \"1\", \"1\", \"1\", \"1\", \"1\", \"4\", \"1\", \"1\", \"1\", \"1\", \"1\", \"1\", \"4\", \"1\", \"2\", \"4\", \"2\", \"1\", \"1\", \"1\", \"1\", \"1\", \"1\", \"1\", \"1\", \"1\", \"1\", \"1\", \"1\", \"1\", \"2\", \"2\", \"2\", \"1\", \"1\", \"2\", \"3\", \"4\", \"1\", \"1\", \"1\", \"1\", \"1\", \"4\", \"1\", \"3\", \"2\", \"1\", \"1\", \"1\", \"2\", \"1\", \"1\", \"3\", \"1\", \"1\", \"1\", \"2\", \"4\", \"1\", \"1\", \"1\", \"3\", \"2\", \"1\", \"1\", \"1\", \"1\", \"3\", \"1\", \"2\", \"1\", \"4\", \"1\", \"1\", \"1\", \"1\", \"1\", \"1\", \"1\", \"1\", \"1\", \"1\", \"1\", \"1\", \"1\", \"1\", \"1\", \"1\", \"4\", \"1\", \"1\", \"1\", \"1\", \"1\", \"3\", \"2\", \"1\", \"1\", \"1\", \"98\", \"3\", \"1\", \"3\", \"2\", \"1\", \"2\", \"3\", \"1\", \"1\", \"2\", \"3\", \"1\", \"4\", \"1\", \"1\", \"2\", \"2\", \"1\", \"1\", \"1\", \"1\", \"1\", \"1\", \"3\", \"1\", \"1\", \"2\", \"3\", \"1\", \"1\", \"1\", \"3\", \"1\", \"1\", \"2\", \"4\", \"1\", \"1\", \"2\", \"1\", \"1\", \"1\", \"1\", \"2\", \"2\", \"1\", \"1\", \"1\", \"1\", \"2\", \"1\", \"4\", \"1\", \"1\", \"1\", \"1\", \"1\", \"1\", \"2\", \"2\", \"1\", \"1\", \"1\", \"1\", \"1\", \"1\", \"3\", \"1\", \"2\", \"1\", \"2\", \"1\", \"3\", \"1\", \"1\", \"1\", \"1\", \"1\", \"2\", \"3\", \"1\", \"1\", \"1\", \"1\", \"1\", \"3\", \"3\", \"1\", \"1\", \"2\", \"1\", \"1\", \"1\", \"1\", \"3\", \"1\", \"2\", \"1\", \"2\", \"1\", \"1\", \"1\", \"1\", \"2\", \"1\", \"1\", \"1\", \"2\", \"1\", \"2\", \"1\", \"1\", \"2\", \"1\", \"1\", \"2\", \"1\", \"1\", \"1\", \"1\", \"1\", \"1\", \"1\", \"1\", \"1\", \"1\", \"2\", \"4\", \"1\", \"3\", \"1\", \"1\", \"2\", \"3\", \"1\", \"1\", \"1\", \"1\", \"1\", \"1\", \"1\", \"1\", \"1\", \"1\", \"1\", \"1\", \"1\", \"2\", \"1\", \"1\", \"1\", \"1\", \"1\", \"3\", \"2\", \"1\", \"2\", \"2\", \"1\", \"1\", \"1\", \"1\", \"1\", \"1\", \"1\", \"1\", \"1\", \"1\", \"1\", \"1\", \"1\", \"1\", \"1\", \"3\", \"1\", \"1\", \"1\", \"1\", \"2\", \"1\", \"4\", \"2\", \"1\", \"1\", \"3\", \"1\", \"1\", \"1\", \"1\", \"1\", \"1\", \"1\", \"2\", \"2\", \"1\", \"4\", \"1\", \"2\", \"1\", \"4\", \"4\", \"1\", \"1\", \"1\", \"2\", \"2\", \"1\", \"1\", \"1\", \"1\", \"1\", \"4\", \"1\", \"1\", \"2\", \"1\", \"1\", \"1\", \"1\", \"2\", \"2\", \"3\", \"1\", \"4\", \"1\", \"1\", \"1\", \"1\", \"1\", \"3\", \"1\", \"1\", \"2\", \"1\", \"4\", \"1\", \"1\", \"1\", \"1\", \"1\", \"3\", \"1\", \"2\", \"2\", \"1\", \"1\", \"2\", \"1\", \"1\", \"1\", \"1\", \"1\", \"77\", \"1\", \"1\", \"2\", \"1\", \"1\", \"2\", \"2\", \"2\", \"1\", \"3\", \"1\", \"1\", \"1\", \"1\", \"2\", \"4\", \"1\", \"2\", \"1\", \"2\", \"2\", \"1\", \"2\", \"1\", \"1\", \"1\", \"1\", \"2\", \"2\", \"1\", \"1\", \"4\", \"1\", \"1\", \"2\", \"1\", \"1\", \"1\", \"1\", \"2\", \"2\", \"1\", \"1\", \"1\", \"98\", \"1\", \"1\", \"1\", \"3\", \"1\", \"4\", \"3\", \"2\", \"1\", \"1\", \"1\", \"1\", \"1\", \"2\", \"1\", \"1\", \"1\", \"1\", \"4\", \"3\", \"4\", \"1\", \"1\", \"1\", \"1\", \"1\", \"1\", \"2\", \"3\", \"1\", \"4\", \"2\", \"1\", \"1\", \"2\", \"2\", \"1\", \"1\", \"2\", \"1\", \"1\", \"1\", \"1\", \"4\", \"3\", \"1\", \"1\", \"1\", \"2\", \"1\", \"4\", \"1\", \"2\", \"1\", \"1\", \"2\", \"1\", \"1\", \"1\", \"1\", \"2\", \"1\", \"2\", \"1\", \"1\", \"1\", \"1\", \"4\", \"2\", \"1\", \"3\", \"2\", \"1\", \"3\", \"1\", \"1\", \"1\", \"1\", \"4\", \"1\", \"1\", \"2\", \"1\", \"2\", \"1\", \"2\", \"1\", \"1\", \"1\", \"2\", \"1\", \"1\", \"3\", \"1\", \"4\", \"1\", \"1\", \"1\", \"1\", \"1\", \"1\", \"2\", \"2\", \"2\", \"1\", \"4\", \"1\", \"1\", \"1\", \"1\", \"2\", \"1\", \"1\", \"1\", \"1\", \"1\", \"2\", \"2\", \"3\", \"1\", \"1\", \"1\", \"3\", \"1\", \"1\", \"1\", \"1\", \"1\", \"1\", \"1\", \"1\", \"1\", \"2\", \"1\", \"2\", \"1\", \"1\", \"1\", \"1\", \"1\", \"1\", \"4\", \"1\", \"2\", \"3\", \"1\", \"1\", \"1\", \"1\", \"2\", \"2\", \"2\", \"2\", \"3\", \"1\", \"2\", \"1\", \"1\", \"1\", \"1\", \"1\", \"2\", \"2\", \"4\", \"1\", \"2\", \"1\", \"2\", \"1\", \"1\", \"1\", \"2\", \"1\", \"2\", \"1\", \"2\", \"1\", \"2\", \"1\", \"4\", \"2\", \"2\", \"1\", \"2\", \"3\", \"2\", \"3\", \"1\", \"3\", \"1\", \"1\", \"1\", \"1\", \"1\", \"1\", \"2\", \"1\", \"1\", \"1\", \"1\", \"2\", \"3\", \"1\", \"1\", \"1\", \"1\", \"1\", \"2\", \"1\", \"1\", \"1\", \"1\", \"2\", \"1\", \"3\", \"2\", \"1\", \"1\", \"1\", \"1\", \"1\", \"1\", \"1\", \"1\", \"1\", \"1\", \"98\", \"3\", \"1\", \"1\", \"2\", \"2\", \"1\", \"1\", \"1\", \"2\", \"1\", \"1\", \"1\", \"1\", \"1\", \"1\", \"1\", \"3\", \"1\", \"1\", \"2\", \"2\", \"3\", \"1\", \"3\", \"1\", \"2\", \"3\", \"1\", \"1\", \"1\", \"2\", \"1\", \"2\", \"1\", \"1\", \"1\", \"2\", \"3\", \"3\", \"1\", \"3\", \"1\", \"2\", \"1\", \"4\", \"3\", \"1\", \"2\", \"1\", \"4\", \"3\", \"1\", \"1\", \"1\", \"1\", \"2\", \"3\", \"2\", \"1\", \"1\", \"2\", \"2\", \"1\", \"1\", \"2\", \"3\", \"1\", \"1\", \"1\", \"1\", \"1\", \"2\", \"1\", \"2\", \"1\", \"1\", \"2\", \"2\", \"1\", \"1\", \"1\", \"1\", \"1\", \"1\", \"1\", \"1\", \"2\", \"3\", \"2\", \"1\", \"1\", \"3\", \"1\", \"1\", \"3\", \"3\", \"1\", \"1\", \"1\", \"1\", \"1\", \"3\", \"1\", \"1\", \"1\", \"1\", \"1\", \"1\", \"1\", \"1\", \"1\", \"1\", \"1\", \"2\", \"1\", \"3\", \"1\", \"2\", \"2\", \"1\", \"1\", \"3\", \"3\", \"1\", \"1\", \"1\", \"1\", \"1\", \"1\", \"1\", \"2\", \"1\", \"1\", \"1\", \"4\", \"1\", \"1\", \"2\", \"1\", \"1\", \"1\", \"1\", \"4\", \"1\", \"1\", \"3\", \"1\", \"4\", \"1\", \"1\", \"3\", \"1\", \"1\", \"1\", \"3\", \"1\", \"1\", \"1\", \"1\", \"1\", \"1\", \"2\", \"1\", \"1\", \"1\", \"1\", \"4\", \"1\", \"1\", \"2\", \"1\", \"2\", \"1\", \"1\", \"1\", \"3\", \"2\", \"1\", \"2\", \"4\", \"1\", \"1\", \"1\", \"1\", \"1\", \"1\", \"1\", \"1\", \"1\", \"1\", \"1\", \"2\", \"1\", \"1\", \"1\", \"1\", \"2\", \"2\", \"2\", \"2\", \"1\", \"2\", \"2\", \"1\", \"1\", \"4\", \"2\", \"1\", \"2\", \"4\", \"1\", \"1\", \"1\", \"1\", \"1\", \"3\", \"2\", \"2\", \"1\", \"2\", \"1\", \"1\", \"4\", \"1\", \"1\", \"1\", \"1\", \"2\", \"1\", \"1\", \"1\", \"1\", \"1\", \"2\", \"1\", \"1\", \"1\", \"1\", \"1\", \"2\", \"3\", \"1\", \"1\", \"1\", \"1\", \"2\", \"2\", \"1\", \"1\", \"1\", \"4\", \"1\", \"2\", \"1\", \"1\", \"1\", \"1\", \"1\", \"2\", \"1\", \"4\", \"1\", \"1\", \"1\", \"1\", \"2\", \"1\", \"3\", \"1\", \"1\", \"1\", \"4\", \"1\", \"3\", \"4\", \"3\", \"1\", \"1\", \"4\", \"1\", \"1\", \"1\", \"1\", \"1\", \"3\", \"1\", \"1\", \"1\", \"1\", \"1\", \"1\", \"4\", \"1\", \"1\", \"1\", \"1\", \"1\", \"1\", \"1\", \"3\", \"1\", \"2\", \"1\", \"1\", \"4\", \"1\", \"2\", \"1\", \"2\", \"1\", \"2\", \"2\", \"2\", \"1\", \"1\", \"1\", \"2\", \"2\", \"98\", \"1\", \"2\", \"1\", \"1\", \"1\", \"1\", \"1\", \"2\", \"1\", \"1\", \"1\", \"2\", \"1\", \"1\", \"1\", \"1\", \"2\", \"2\", \"3\", \"1\", \"1\", \"1\", \"4\", \"1\", \"1\", \"1\", \"1\", \"1\", \"1\", \"3\", \"1\", \"1\", \"1\", \"1\", \"1\", \"2\", \"1\", \"2\", \"2\", \"1\", \"1\", \"1\", \"1\", \"1\", \"1\", \"1\", \"1\", \"2\", \"1\", \"1\", \"1\", \"4\", \"1\", \"1\", \"1\", \"1\", \"1\", \"1\", \"2\", \"3\", \"1\", \"1\", \"1\", \"1\", \"1\", \"1\", \"1\", \"2\", \"3\", \"1\", \"1\", \"1\", \"1\", \"3\", \"1\", \"2\", \"1\", \"1\", \"4\", \"3\", \"2\", \"2\", \"1\", \"2\", \"3\", \"1\", \"2\", \"1\", \"3\", \"1\", \"1\", \"1\", \"1\", \"1\", \"1\", \"3\", \"1\", \"1\", \"2\", \"1\", \"3\", \"1\", \"3\", \"1\", \"2\", \"1\", \"4\", \"1\", \"1\", \"1\", \"2\", \"1\", \"2\", \"1\", \"1\", \"1\", \"1\", \"1\", \"3\", \"1\", \"1\", \"1\", \"1\", \"1\", \"1\", \"1\", \"1\", \"1\", \"1\", \"1\", \"2\", \"2\", \"1\", \"1\", \"1\", \"1\", \"3\", \"1\", \"4\", \"2\", \"2\", \"1\", \"2\", \"1\", \"1\", \"1\", \"1\", \"1\", \"1\", \"2\", \"1\", \"1\", \"2\", \"1\", \"1\", \"1\", \"2\", \"1\", \"1\", \"1\", \"4\", \"3\", \"3\", \"1\", \"1\", \"3\", \"1\", \"1\", \"2\", \"3\", \"1\", \"1\", \"1\", \"1\", \"4\", \"1\", \"1\", \"1\", \"3\", \"1\", \"1\", \"1\", \"1\", \"1\", \"2\", \"1\", \"1\", \"1\", \"4\", \"4\", \"2\", \"3\", \"2\", \"2\", \"1\", \"4\", \"1\", \"1\", \"1\", \"1\", \"1\", \"1\", \"1\", \"98\", \"1\", \"1\", \"1\", \"2\", \"1\", \"1\", \"3\", \"1\", \"4\", \"1\", \"1\", \"2\", \"2\", \"1\", \"1\", \"2\", \"1\", \"1\", \"2\", \"4\", \"3\", \"1\", \"1\", \"1\", \"1\", \"1\", \"1\", \"1\", \"1\", \"2\", \"1\", \"4\", \"3\", \"2\", \"1\", \"1\", \"2\", \"1\", \"1\", \"1\", \"2\", \"1\", \"1\", \"1\", \"2\", \"4\", \"1\", \"1\", \"2\", \"1\", \"1\", \"2\", \"2\", \"1\", \"1\", \"1\", \"1\", \"1\", \"3\", \"1\", \"2\", \"3\", \"2\", \"1\", \"1\", \"1\", \"1\", \"1\", \"1\", \"1\", \"1\", \"1\", \"1\", \"1\", \"3\", \"3\", \"1\", \"1\", \"3\", \"4\", \"1\", \"1\", \"1\", \"1\", \"1\", \"2\", \"1\", \"3\", \"1\", \"1\", \"1\", \"1\", \"2\", \"1\", \"4\", \"1\", \"3\", \"2\", \"1\", \"2\", \"1\", \"2\", \"1\", \"1\", \"1\", \"2\", \"2\", \"1\", \"3\", \"2\", \"3\", \"1\", \"1\", \"1\", \"2\", \"1\", \"1\", \"2\", \"1\", \"1\", \"1\", \"1\", \"1\", \"2\", \"1\", \"4\", \"2\", \"1\", \"1\", \"2\", \"4\", \"2\", \"1\", \"1\", \"2\", \"1\", \"1\", \"1\", \"1\", \"1\", \"2\", \"1\", \"1\", \"2\", \"3\", \"1\", \"4\", \"1\", \"2\", \"4\", \"1\", \"1\", \"1\", \"1\", \"1\", \"1\", \"4\", \"1\", \"1\", \"2\", \"1\", \"1\", \"1\", \"2\", \"3\", \"1\", \"1\", \"1\", \"1\", \"1\", \"1\", \"1\", \"1\", \"1\", \"1\", \"2\", \"1\", \"1\", \"98\", \"1\", \"1\", \"1\", \"2\", \"1\", \"1\", \"1\", \"1\", \"1\", \"1\", \"2\", \"1\", \"1\", \"2\", \"1\", \"3\", \"4\", \"1\", \"1\", \"1\", \"1\", \"1\", \"1\", \"2\", \"4\", \"2\", \"1\", \"1\", \"1\", \"1\", \"3\", \"1\", \"1\", \"2\", \"1\", \"2\", \"1\", \"2\", \"1\", \"1\", \"1\", \"2\", \"4\", \"1\", \"1\", \"4\", \"1\", \"1\", \"1\", \"1\", \"1\", \"2\", \"1\", \"1\", \"1\", \"1\", \"1\", \"1\", \"2\", \"1\", \"1\", \"1\", \"1\", \"2\", \"2\", \"1\", \"2\", \"1\", \"3\", \"2\", \"1\", \"1\", \"2\", \"1\", \"1\", \"1\", \"1\", \"1\", \"1\", \"1\", \"2\", \"1\", \"1\", \"2\", \"1\", \"2\", \"3\", \"1\", \"2\", \"1\", \"1\", \"1\", \"1\", \"2\", \"1\", \"1\", \"1\", \"1\", \"1\", \"2\", \"1\", \"3\", \"2\", \"3\", \"1\", \"1\", \"1\", \"1\", \"1\", \"1\", \"1\", \"1\", \"1\", \"2\", \"2\", \"1\", \"1\", \"1\", \"1\", \"1\", \"1\", \"1\", \"1\", \"1\", \"3\", \"2\", \"1\", \"2\", \"1\", \"1\", \"2\", \"1\", \"1\", \"1\", \"1\", \"1\", \"4\", \"1\", \"1\", \"3\", \"2\", \"3\", \"1\", \"1\", \"1\", \"1\", \"1\", \"1\", \"1\", \"1\", \"1\", \"3\", \"1\", \"2\", \"2\", \"1\", \"1\", \"1\", \"4\", \"1\", \"1\", \"1\", \"1\", \"2\", \"1\", \"1\", \"3\", \"2\", \"1\", \"1\", \"1\", \"2\", \"1\", \"1\", \"1\", \"1\", \"2\", \"1\", \"1\", \"1\", \"1\", \"1\", \"1\", \"2\", \"3\", \"1\", \"1\", \"1\", \"1\", \"1\", \"1\", \"1\", \"2\", \"1\", \"1\", \"4\", \"3\", \"1\", \"2\", \"3\", \"1\", \"2\", \"1\", \"2\", \"1\", \"1\", \"1\", \"1\", \"3\", \"2\", \"2\", \"1\", \"1\", \"1\", \"3\", \"1\", \"1\", \"1\", \"1\", \"1\", \"1\", \"3\", \"1\", \"1\", \"3\", \"4\", \"1\", \"2\", \"1\", \"1\", \"4\", \"1\", \"1\", \"1\", \"1\", \"1\", \"1\", \"3\", \"2\", \"2\", \"3\", \"1\", \"1\", \"1\", \"1\", \"1\", \"1\", \"1\", \"2\", \"3\", \"1\", \"4\", \"1\", \"1\", \"2\", \"1\", \"1\", \"1\", \"4\", \"2\", \"1\", \"1\", \"1\", \"1\", \"2\", \"1\", \"2\", \"1\", \"1\", \"1\", \"1\", \"1\", \"1\", \"1\", \"2\", \"1\", \"1\", \"1\", \"1\", \"1\", \"1\", \"1\", \"2\", \"4\", \"1\", \"1\", \"1\", \"1\", \"1\", \"1\", \"1\", \"1\", \"1\", \"2\", \"2\", \"1\", \"1\", \"1\", \"1\", \"2\", \"1\", \"1\", \"1\", \"1\", \"4\", \"1\", \"4\", \"2\", \"1\", \"1\", \"1\", \"1\", \"1\", \"1\", \"3\", \"1\", \"1\", \"1\", \"1\", \"2\", \"1\", \"1\", \"3\", \"1\", \"1\", \"3\", \"2\", \"1\", \"2\", \"1\", \"2\", \"3\", \"1\", \"3\", \"1\", \"1\", \"2\", \"1\", \"4\", \"1\", \"1\", \"2\", \"1\", \"1\", \"1\", \"1\", \"1\", \"3\", \"2\", \"1\", \"2\", \"1\", \"1\", \"1\", \"3\", \"1\", \"1\", \"1\", \"1\", \"1\", \"1\", \"4\", \"1\", \"1\", \"1\", \"1\", \"1\", \"3\", \"1\", \"1\", \"2\", \"2\", \"1\", \"1\", \"2\", \"1\", \"4\", \"2\", \"3\", \"1\", \"1\", \"4\", \"1\", \"1\", \"1\", \"1\", \"1\", \"1\", \"1\", \"1\", \"2\", \"2\", \"1\", \"4\", \"3\", \"1\", \"1\", \"1\", \"1\", \"1\", \"1\", \"1\", \"1\", \"2\", \"1\", \"1\", \"1\", \"2\", \"1\", \"1\", \"3\", \"1\", \"1\", \"4\", \"1\", \"1\", \"2\", \"1\", \"1\", \"3\", \"1\", \"1\", \"1\", \"2\", \"2\", \"1\", \"1\", \"2\", \"3\", \"1\", \"1\", \"1\", \"3\", \"3\", \"1\", \"1\", \"1\", \"1\", \"1\", \"2\", \"4\", \"1\", \"1\", \"3\", \"1\", \"1\", \"1\", \"2\", \"1\", \"1\", \"3\", \"2\", \"2\", \"1\", \"1\", \"1\", \"2\", \"1\", \"1\", \"1\", \"1\", \"4\", \"1\", \"1\", \"1\", \"2\", \"2\", \"2\", \"1\", \"1\", \"1\", \"1\", \"1\", \"2\", \"1\", \"1\", \"1\", \"4\", \"3\", \"1\", \"3\", \"1\", \"2\", \"1\", \"2\", \"1\", \"1\", \"2\", \"1\", \"1\", \"1\", \"1\", \"2\", \"1\", \"1\", \"1\", \"1\", \"1\", \"1\", \"1\", \"1\", \"1\", \"1\", \"1\", \"2\", \"1\", \"1\", \"1\", \"1\", \"1\", \"2\", \"1\", \"4\", \"2\", \"1\", \"1\", \"98\", \"1\", \"1\", \"1\", \"1\", \"1\", \"2\", \"1\", \"1\", \"2\", \"1\", \"1\", \"1\", \"1\", \"2\", \"1\", \"1\", \"2\", \"1\", \"1\", \"2\", \"2\", \"2\", \"1\", \"1\", \"2\", \"1\", \"1\", \"1\", \"1\", \"1\", \"1\", \"1\", \"2\", \"1\", \"1\", \"1\", \"2\", \"1\", \"1\", \"4\", \"1\", \"1\", \"2\", \"4\", \"1\", \"1\", \"1\", \"1\", \"3\", \"1\", \"1\", \"1\", \"2\", \"1\", \"3\", \"2\", \"1\", \"1\", \"3\", \"1\", \"1\", \"1\", \"1\", \"1\", \"2\", \"1\", \"1\", \"1\", \"2\", \"1\", \"2\", \"1\", \"1\", \"1\", \"1\", \"2\", \"1\", \"1\", \"2\", \"3\", \"1\", \"1\", \"2\", \"1\", \"1\", \"1\", \"1\", \"1\", \"1\", \"1\", \"4\", \"1\", \"3\", \"4\", \"3\", \"1\", \"1\", \"1\", \"1\", \"1\", \"1\", \"1\", \"1\", \"1\", \"2\", \"1\", \"2\", \"4\", \"2\", \"2\", \"1\", \"2\", \"1\", \"1\", \"1\", \"1\", \"1\", \"1\", \"4\", \"1\", \"1\", \"1\", \"1\", \"1\", \"1\", \"4\", \"1\", \"1\", \"1\", \"2\", \"1\", \"1\", \"1\", \"1\", \"1\", \"1\", \"2\", \"1\", \"1\", \"2\", \"4\", \"1\", \"3\", \"1\", \"2\", \"2\", \"2\", \"3\", \"1\", \"2\", \"1\", \"4\", \"1\", \"1\", \"1\", \"1\", \"1\", \"1\", \"1\", \"1\", \"1\", \"3\", \"2\", \"2\", \"1\", \"3\", \"4\", \"1\", \"1\", \"3\", \"1\", \"1\", \"1\", \"2\", \"1\", \"1\", \"1\", \"1\", \"3\", \"1\", \"1\", \"1\", \"2\", \"1\", \"1\", \"1\", \"1\", \"4\", \"1\", \"1\", \"1\", \"2\", \"1\", \"1\", \"1\", \"1\", \"1\", \"4\", \"98\", \"77\", \"1\", \"3\", \"2\", \"2\", \"2\", \"1\", \"2\", \"2\", \"1\", \"1\", \"3\", \"2\", \"1\", \"3\", \"2\", \"1\", \"1\", \"1\", \"1\", \"1\", \"1\", \"1\", \"1\", \"2\", \"1\", \"2\", \"1\", \"1\", \"2\", \"1\", \"1\", \"1\", \"1\", \"1\", \"1\", \"1\", \"1\", \"2\", \"1\", \"1\", \"4\", \"3\", \"1\", \"2\", \"1\", \"1\", \"3\", \"1\", \"1\", \"4\", \"1\", \"1\", \"1\", \"2\", \"1\", \"1\", \"1\", \"2\", \"1\", \"1\", \"1\", \"1\", \"2\", \"3\", \"1\", \"1\", \"1\", \"2\", \"1\", \"1\", \"4\", \"1\", \"1\", \"1\", \"2\", \"1\", \"1\", \"1\", \"1\", \"1\", \"1\", \"2\", \"2\", \"2\", \"1\", \"1\", \"1\", \"2\", \"1\", \"2\", \"1\", \"1\", \"2\", \"2\", \"2\", \"2\", \"1\", \"1\", \"1\", \"1\", \"1\", \"3\", \"2\", \"1\", \"1\", \"1\", \"1\", \"1\", \"2\", \"2\", \"1\", \"1\", \"1\", \"1\", \"4\", \"1\", \"1\", \"2\", \"2\", \"1\", \"3\", \"3\", \"1\", \"1\", \"1\", \"1\", \"2\", \"2\", \"1\", \"1\", \"1\", \"1\", \"1\", \"2\", \"2\", \"1\", \"2\", \"4\", \"1\", \"4\", \"1\", \"4\", \"1\", \"1\", \"1\", \"1\", \"1\", \"1\", \"3\", \"1\", \"1\", \"1\", \"1\", \"2\", \"3\", \"2\", \"1\", \"1\", \"1\", \"1\", \"4\", \"1\", \"1\", \"1\", \"1\", \"1\", \"1\", \"1\", \"3\", \"2\", \"2\", \"1\", \"4\", \"2\", \"1\", \"2\", \"2\", \"2\", \"2\", \"1\", \"1\", \"1\", \"4\", \"98\", \"1\", \"3\", \"1\", \"1\", \"1\", \"1\", \"1\", \"1\", \"1\", \"1\", \"1\", \"2\", \"1\", \"4\", \"2\", \"1\", \"1\", \"2\", \"2\", \"2\", \"1\", \"1\", \"3\", \"1\", \"1\", \"2\", \"4\", \"1\", \"2\", \"2\", \"1\", \"1\", \"1\", \"1\", \"1\", \"1\", \"1\", \"1\", \"1\", \"1\", \"1\", \"2\", \"2\", \"1\", \"1\", \"1\", \"1\", \"1\", \"2\", \"3\", \"1\", \"4\", \"1\", \"1\", \"2\", \"1\", \"1\", \"1\", \"1\", \"4\", \"2\", \"1\", \"1\", \"1\", \"2\", \"4\", \"1\", \"3\", \"1\", \"3\", \"1\", \"2\", \"1\", \"1\", \"1\", \"3\", \"2\", \"3\", \"1\", \"2\", \"2\", \"1\", \"1\", \"2\", \"3\", \"2\", \"3\", \"1\", \"1\", \"2\", \"1\", \"2\", \"1\", \"1\", \"3\", \"1\", \"1\", \"2\", \"2\", \"1\", \"1\", \"2\", \"2\", \"1\", \"2\", \"1\", \"2\", \"2\", \"1\", \"1\", \"1\", \"3\", \"1\", \"2\", \"3\", \"2\", \"2\", \"2\", \"3\", \"3\", \"1\", \"1\", \"1\", \"3\", \"77\", \"2\", \"2\", \"1\", \"1\", \"1\", \"1\", \"1\", \"1\", \"1\", \"2\", \"1\", \"4\", \"1\", \"1\", \"2\", \"1\", \"1\", \"1\", \"1\", \"2\", \"1\", \"1\", \"2\", \"2\", \"1\", \"1\", \"1\", \"1\", \"1\", \"1\", \"1\", \"1\", \"1\", \"1\", \"1\", \"1\", \"2\", \"2\", \"1\", \"2\", \"4\", \"1\", \"2\", \"1\", \"1\", \"3\", \"1\", \"1\", \"3\", \"1\", \"2\", \"1\", \"3\", \"2\", \"2\", \"1\", \"3\", \"1\", \"1\", \"1\", \"2\", \"1\", \"1\", \"1\", \"2\", \"3\", \"2\", \"1\", \"1\", \"2\", \"2\", \"1\", \"1\", \"1\", \"1\", \"2\", \"1\", \"1\", \"1\", \"2\", \"1\", \"1\", \"1\", \"1\", \"3\", \"1\", \"1\", \"1\", \"3\", \"1\", \"1\", \"1\", \"1\", \"3\", \"2\", \"2\", \"4\", \"1\", \"2\", \"4\", \"2\", \"1\", \"1\", \"1\", \"1\", \"2\", \"1\", \"1\", \"4\", \"1\", \"3\", \"1\", \"4\", \"1\", \"4\", \"2\", \"2\", \"1\", \"2\", \"1\", \"1\", \"2\", \"1\", \"1\", \"1\", \"2\", \"1\", \"1\", \"2\", \"1\", \"1\", \"3\", \"3\", \"1\", \"1\", \"1\", \"3\", \"2\", \"1\", \"2\", \"2\", \"2\", \"2\", \"1\", \"1\", \"1\", \"1\", \"2\", \"1\", \"3\", \"1\", \"1\", \"1\", \"1\", \"1\", \"1\", \"2\", \"1\", \"2\", \"2\", \"1\", \"1\", \"1\", \"2\", \"1\", \"2\", \"1\", \"2\", \"1\", \"3\", \"1\", \"1\", \"1\", \"2\", \"2\", \"2\", \"1\", \"2\", \"1\", \"1\", \"1\", \"1\", \"1\", \"1\", \"2\", \"1\", \"1\", \"1\", \"3\", \"4\", \"4\", \"1\", \"2\", \"2\", \"1\", \"3\", \"1\", \"3\", \"4\", \"1\", \"2\", \"1\", \"1\", \"4\", \"1\", \"1\", \"1\", \"1\", \"3\", \"1\", \"1\", \"1\", \"1\", \"3\", \"1\", \"1\", \"2\", \"2\", \"1\", \"1\", \"1\", \"2\", \"2\", \"1\", \"1\", \"3\", \"1\", \"1\", \"1\", \"1\", \"4\", \"3\", \"1\", \"4\", \"1\", \"2\", \"1\", \"4\", \"1\", \"1\", \"2\", \"1\", \"1\", \"1\", \"4\", \"2\", \"1\", \"1\", \"2\", \"2\", \"1\", \"3\", \"1\", \"2\", \"1\", \"1\", \"1\", \"1\", \"3\", \"1\", \"2\", \"1\", \"1\", \"2\", \"2\", \"1\", \"1\", \"3\", \"2\", \"1\", \"4\", \"1\", \"1\", \"1\", \"2\", \"1\", \"1\", \"2\", \"1\", \"1\", \"2\", \"2\", \"2\", \"1\", \"2\", \"3\", \"2\", \"1\", \"1\", \"2\", \"4\", \"1\", \"1\", \"1\", \"1\", \"1\", \"1\", \"2\", \"1\", \"2\", \"1\", \"1\", \"3\", \"1\", \"1\", \"1\", \"2\", \"1\", \"2\", \"1\", \"4\", \"1\", \"2\", \"1\", \"2\", \"1\", \"1\", \"1\", \"1\", \"1\", \"1\", \"1\", \"4\", \"3\", \"2\", \"1\", \"2\", \"1\", \"2\", \"2\", \"1\", \"1\", \"2\", \"1\", \"1\", \"1\", \"3\", \"1\", \"1\", \"2\", \"1\", \"1\", \"1\", \"2\", \"1\", \"2\", \"1\", \"2\", \"1\", \"1\", \"1\", \"2\", \"1\", \"4\", \"1\", \"1\", \"2\", \"3\", \"2\", \"2\", \"1\", \"3\", \"1\", \"1\", \"3\", \"1\", \"4\", \"1\", \"3\", \"1\", \"1\", \"2\", \"1\", \"1\", \"4\", \"1\", \"1\", \"1\", \"4\", \"3\", \"1\", \"1\", \"4\", \"1\", \"1\", \"1\", \"1\", \"1\", \"1\", \"1\", \"1\", \"1\", \"3\", \"2\", \"1\", \"1\", \"3\", \"3\", \"1\", \"1\", \"1\", \"1\", \"1\", \"1\", \"3\", \"1\", \"1\", \"2\", \"1\", \"1\", \"1\", \"1\", \"1\", \"1\", \"3\", \"1\", \"98\", \"2\", \"3\", \"2\", \"1\", \"1\", \"4\", \"1\", \"1\", \"1\", \"3\", \"1\", \"4\", \"1\", \"1\", \"1\", \"1\", \"1\", \"1\", \"1\", \"1\", \"1\", \"1\", \"1\", \"1\", \"1\", \"3\", \"1\", \"1\", \"1\", \"2\", \"2\", \"1\", \"1\", \"1\", \"2\", \"2\", \"2\", \"1\", \"1\", \"2\", \"3\", \"1\", \"1\", \"1\", \"2\", \"1\", \"2\", \"1\", \"1\", \"1\", \"1\", \"2\", \"1\", \"3\", \"2\", \"3\", \"1\", \"2\", \"2\", \"2\", \"1\", \"1\", \"1\", \"2\", \"1\", \"4\", \"2\", \"1\", \"1\", \"1\", \"1\", \"1\", \"4\", \"1\", \"4\", \"1\", \"2\", \"1\", \"4\", \"4\", \"1\", \"1\", \"3\", \"4\", \"1\", \"1\", \"1\", \"3\", \"2\", \"3\", \"1\", \"1\", \"4\", \"2\", \"1\", \"1\", \"3\", \"1\", \"1\", \"1\", \"1\", \"2\", \"1\", \"1\", \"4\", \"3\", \"1\", \"1\", \"1\", \"1\", \"2\", \"1\", \"1\", \"4\", \"1\", \"1\", \"1\", \"3\", \"2\", \"1\", \"1\", \"2\", \"1\", \"4\", \"1\", \"2\", \"1\", \"2\", \"1\", \"4\", \"2\", \"1\", \"1\", \"2\", \"2\", \"1\"], \"xbins\": {\"end\": 4, \"size\": 0.5, \"start\": 0}}],\n",
              "                        {\"bargap\": 0.2, \"bargroupgap\": 0.1, \"template\": {\"data\": {\"bar\": [{\"error_x\": {\"color\": \"#2a3f5f\"}, \"error_y\": {\"color\": \"#2a3f5f\"}, \"marker\": {\"line\": {\"color\": \"#E5ECF6\", \"width\": 0.5}}, \"type\": \"bar\"}], \"barpolar\": [{\"marker\": {\"line\": {\"color\": \"#E5ECF6\", \"width\": 0.5}}, \"type\": \"barpolar\"}], \"carpet\": [{\"aaxis\": {\"endlinecolor\": \"#2a3f5f\", \"gridcolor\": \"white\", \"linecolor\": \"white\", \"minorgridcolor\": \"white\", \"startlinecolor\": \"#2a3f5f\"}, \"baxis\": {\"endlinecolor\": \"#2a3f5f\", \"gridcolor\": \"white\", \"linecolor\": \"white\", \"minorgridcolor\": \"white\", \"startlinecolor\": \"#2a3f5f\"}, \"type\": \"carpet\"}], \"choropleth\": [{\"colorbar\": {\"outlinewidth\": 0, \"ticks\": \"\"}, \"type\": \"choropleth\"}], \"contour\": [{\"colorbar\": {\"outlinewidth\": 0, \"ticks\": \"\"}, \"colorscale\": [[0.0, \"#0d0887\"], [0.1111111111111111, \"#46039f\"], [0.2222222222222222, \"#7201a8\"], [0.3333333333333333, \"#9c179e\"], [0.4444444444444444, \"#bd3786\"], [0.5555555555555556, \"#d8576b\"], [0.6666666666666666, \"#ed7953\"], [0.7777777777777778, \"#fb9f3a\"], [0.8888888888888888, \"#fdca26\"], [1.0, \"#f0f921\"]], \"type\": \"contour\"}], \"contourcarpet\": [{\"colorbar\": {\"outlinewidth\": 0, \"ticks\": \"\"}, \"type\": \"contourcarpet\"}], \"heatmap\": [{\"colorbar\": {\"outlinewidth\": 0, \"ticks\": \"\"}, \"colorscale\": [[0.0, \"#0d0887\"], [0.1111111111111111, \"#46039f\"], [0.2222222222222222, \"#7201a8\"], [0.3333333333333333, \"#9c179e\"], [0.4444444444444444, \"#bd3786\"], [0.5555555555555556, \"#d8576b\"], [0.6666666666666666, \"#ed7953\"], [0.7777777777777778, \"#fb9f3a\"], [0.8888888888888888, \"#fdca26\"], [1.0, \"#f0f921\"]], \"type\": \"heatmap\"}], \"heatmapgl\": [{\"colorbar\": {\"outlinewidth\": 0, \"ticks\": \"\"}, \"colorscale\": [[0.0, \"#0d0887\"], [0.1111111111111111, \"#46039f\"], [0.2222222222222222, \"#7201a8\"], [0.3333333333333333, \"#9c179e\"], [0.4444444444444444, \"#bd3786\"], [0.5555555555555556, \"#d8576b\"], [0.6666666666666666, \"#ed7953\"], [0.7777777777777778, \"#fb9f3a\"], [0.8888888888888888, \"#fdca26\"], [1.0, \"#f0f921\"]], \"type\": \"heatmapgl\"}], \"histogram\": [{\"marker\": {\"colorbar\": {\"outlinewidth\": 0, \"ticks\": \"\"}}, \"type\": \"histogram\"}], \"histogram2d\": [{\"colorbar\": {\"outlinewidth\": 0, \"ticks\": \"\"}, \"colorscale\": [[0.0, \"#0d0887\"], [0.1111111111111111, \"#46039f\"], [0.2222222222222222, \"#7201a8\"], [0.3333333333333333, \"#9c179e\"], [0.4444444444444444, \"#bd3786\"], [0.5555555555555556, \"#d8576b\"], [0.6666666666666666, \"#ed7953\"], [0.7777777777777778, \"#fb9f3a\"], [0.8888888888888888, \"#fdca26\"], [1.0, \"#f0f921\"]], \"type\": \"histogram2d\"}], \"histogram2dcontour\": [{\"colorbar\": {\"outlinewidth\": 0, \"ticks\": \"\"}, \"colorscale\": [[0.0, \"#0d0887\"], [0.1111111111111111, \"#46039f\"], [0.2222222222222222, \"#7201a8\"], [0.3333333333333333, \"#9c179e\"], [0.4444444444444444, \"#bd3786\"], [0.5555555555555556, \"#d8576b\"], [0.6666666666666666, \"#ed7953\"], [0.7777777777777778, \"#fb9f3a\"], [0.8888888888888888, \"#fdca26\"], [1.0, \"#f0f921\"]], \"type\": \"histogram2dcontour\"}], \"mesh3d\": [{\"colorbar\": {\"outlinewidth\": 0, \"ticks\": \"\"}, \"type\": \"mesh3d\"}], \"parcoords\": [{\"line\": {\"colorbar\": {\"outlinewidth\": 0, \"ticks\": \"\"}}, \"type\": \"parcoords\"}], \"pie\": [{\"automargin\": true, \"type\": \"pie\"}], \"scatter\": [{\"marker\": {\"colorbar\": {\"outlinewidth\": 0, \"ticks\": \"\"}}, \"type\": \"scatter\"}], \"scatter3d\": [{\"line\": {\"colorbar\": {\"outlinewidth\": 0, \"ticks\": \"\"}}, \"marker\": {\"colorbar\": {\"outlinewidth\": 0, \"ticks\": \"\"}}, \"type\": \"scatter3d\"}], \"scattercarpet\": [{\"marker\": {\"colorbar\": {\"outlinewidth\": 0, \"ticks\": \"\"}}, \"type\": \"scattercarpet\"}], \"scattergeo\": [{\"marker\": {\"colorbar\": {\"outlinewidth\": 0, \"ticks\": \"\"}}, \"type\": \"scattergeo\"}], \"scattergl\": [{\"marker\": {\"colorbar\": {\"outlinewidth\": 0, \"ticks\": \"\"}}, \"type\": \"scattergl\"}], \"scattermapbox\": [{\"marker\": {\"colorbar\": {\"outlinewidth\": 0, \"ticks\": \"\"}}, \"type\": \"scattermapbox\"}], \"scatterpolar\": [{\"marker\": {\"colorbar\": {\"outlinewidth\": 0, \"ticks\": \"\"}}, \"type\": \"scatterpolar\"}], \"scatterpolargl\": [{\"marker\": {\"colorbar\": {\"outlinewidth\": 0, \"ticks\": \"\"}}, \"type\": \"scatterpolargl\"}], \"scatterternary\": [{\"marker\": {\"colorbar\": {\"outlinewidth\": 0, \"ticks\": \"\"}}, \"type\": \"scatterternary\"}], \"surface\": [{\"colorbar\": {\"outlinewidth\": 0, \"ticks\": \"\"}, \"colorscale\": [[0.0, \"#0d0887\"], [0.1111111111111111, \"#46039f\"], [0.2222222222222222, \"#7201a8\"], [0.3333333333333333, \"#9c179e\"], [0.4444444444444444, \"#bd3786\"], [0.5555555555555556, \"#d8576b\"], [0.6666666666666666, \"#ed7953\"], [0.7777777777777778, \"#fb9f3a\"], [0.8888888888888888, \"#fdca26\"], [1.0, \"#f0f921\"]], \"type\": \"surface\"}], \"table\": [{\"cells\": {\"fill\": {\"color\": \"#EBF0F8\"}, \"line\": {\"color\": \"white\"}}, \"header\": {\"fill\": {\"color\": \"#C8D4E3\"}, \"line\": {\"color\": \"white\"}}, \"type\": \"table\"}]}, \"layout\": {\"annotationdefaults\": {\"arrowcolor\": \"#2a3f5f\", \"arrowhead\": 0, \"arrowwidth\": 1}, \"coloraxis\": {\"colorbar\": {\"outlinewidth\": 0, \"ticks\": \"\"}}, \"colorscale\": {\"diverging\": [[0, \"#8e0152\"], [0.1, \"#c51b7d\"], [0.2, \"#de77ae\"], [0.3, \"#f1b6da\"], [0.4, \"#fde0ef\"], [0.5, \"#f7f7f7\"], [0.6, \"#e6f5d0\"], [0.7, \"#b8e186\"], [0.8, \"#7fbc41\"], [0.9, \"#4d9221\"], [1, \"#276419\"]], \"sequential\": [[0.0, \"#0d0887\"], [0.1111111111111111, \"#46039f\"], [0.2222222222222222, \"#7201a8\"], [0.3333333333333333, \"#9c179e\"], [0.4444444444444444, \"#bd3786\"], [0.5555555555555556, \"#d8576b\"], [0.6666666666666666, \"#ed7953\"], [0.7777777777777778, \"#fb9f3a\"], [0.8888888888888888, \"#fdca26\"], [1.0, \"#f0f921\"]], \"sequentialminus\": [[0.0, \"#0d0887\"], [0.1111111111111111, \"#46039f\"], [0.2222222222222222, \"#7201a8\"], [0.3333333333333333, \"#9c179e\"], [0.4444444444444444, \"#bd3786\"], [0.5555555555555556, \"#d8576b\"], [0.6666666666666666, \"#ed7953\"], [0.7777777777777778, \"#fb9f3a\"], [0.8888888888888888, \"#fdca26\"], [1.0, \"#f0f921\"]]}, \"colorway\": [\"#636efa\", \"#EF553B\", \"#00cc96\", \"#ab63fa\", \"#FFA15A\", \"#19d3f3\", \"#FF6692\", \"#B6E880\", \"#FF97FF\", \"#FECB52\"], \"font\": {\"color\": \"#2a3f5f\"}, \"geo\": {\"bgcolor\": \"white\", \"lakecolor\": \"white\", \"landcolor\": \"#E5ECF6\", \"showlakes\": true, \"showland\": true, \"subunitcolor\": \"white\"}, \"hoverlabel\": {\"align\": \"left\"}, \"hovermode\": \"closest\", \"mapbox\": {\"style\": \"light\"}, \"paper_bgcolor\": \"white\", \"plot_bgcolor\": \"#E5ECF6\", \"polar\": {\"angularaxis\": {\"gridcolor\": \"white\", \"linecolor\": \"white\", \"ticks\": \"\"}, \"bgcolor\": \"#E5ECF6\", \"radialaxis\": {\"gridcolor\": \"white\", \"linecolor\": \"white\", \"ticks\": \"\"}}, \"scene\": {\"xaxis\": {\"backgroundcolor\": \"#E5ECF6\", \"gridcolor\": \"white\", \"gridwidth\": 2, \"linecolor\": \"white\", \"showbackground\": true, \"ticks\": \"\", \"zerolinecolor\": \"white\"}, \"yaxis\": {\"backgroundcolor\": \"#E5ECF6\", \"gridcolor\": \"white\", \"gridwidth\": 2, \"linecolor\": \"white\", \"showbackground\": true, \"ticks\": \"\", \"zerolinecolor\": \"white\"}, \"zaxis\": {\"backgroundcolor\": \"#E5ECF6\", \"gridcolor\": \"white\", \"gridwidth\": 2, \"linecolor\": \"white\", \"showbackground\": true, \"ticks\": \"\", \"zerolinecolor\": \"white\"}}, \"shapedefaults\": {\"line\": {\"color\": \"#2a3f5f\"}}, \"ternary\": {\"aaxis\": {\"gridcolor\": \"white\", \"linecolor\": \"white\", \"ticks\": \"\"}, \"baxis\": {\"gridcolor\": \"white\", \"linecolor\": \"white\", \"ticks\": \"\"}, \"bgcolor\": \"#E5ECF6\", \"caxis\": {\"gridcolor\": \"white\", \"linecolor\": \"white\", \"ticks\": \"\"}}, \"title\": {\"x\": 0.05}, \"xaxis\": {\"automargin\": true, \"gridcolor\": \"white\", \"linecolor\": \"white\", \"ticks\": \"\", \"title\": {\"standoff\": 15}, \"zerolinecolor\": \"white\", \"zerolinewidth\": 2}, \"yaxis\": {\"automargin\": true, \"gridcolor\": \"white\", \"linecolor\": \"white\", \"ticks\": \"\", \"title\": {\"standoff\": 15}, \"zerolinecolor\": \"white\", \"zerolinewidth\": 2}}}, \"title\": {\"text\": \"Nervousness and Anxiousness by Gender\"}, \"xaxis\": {\"title\": {\"text\": \"How you feel\"}}, \"yaxis\": {\"title\": {\"text\": \"Count\"}}},\n",
              "                        {\"responsive\": true}\n",
              "                    ).then(function(){\n",
              "                            \n",
              "var gd = document.getElementById('a5dbc3b6-d3d5-4c0d-a51c-000d13af8623');\n",
              "var x = new MutationObserver(function (mutations, observer) {{\n",
              "        var display = window.getComputedStyle(gd).display;\n",
              "        if (!display || display === 'none') {{\n",
              "            console.log([gd, 'removed!']);\n",
              "            Plotly.purge(gd);\n",
              "            observer.disconnect();\n",
              "        }}\n",
              "}});\n",
              "\n",
              "// Listen for the removal of the full notebook cells\n",
              "var notebookContainer = gd.closest('#notebook-container');\n",
              "if (notebookContainer) {{\n",
              "    x.observe(notebookContainer, {childList: true});\n",
              "}}\n",
              "\n",
              "// Listen for the clearing of the current output cell\n",
              "var outputEl = gd.closest('.output');\n",
              "if (outputEl) {{\n",
              "    x.observe(outputEl, {childList: true});\n",
              "}}\n",
              "\n",
              "                        })\n",
              "                };\n",
              "                \n",
              "            </script>\n",
              "        </div>\n",
              "</body>\n",
              "</html>"
            ]
          },
          "metadata": {
            "tags": []
          }
        }
      ]
    },
    {
      "cell_type": "markdown",
      "metadata": {
        "id": "qvJpvW2bXwbb",
        "colab_type": "text"
      },
      "source": [
        "###### Age"
      ]
    },
    {
      "cell_type": "code",
      "metadata": {
        "id": "d2OPx2LsXhIE",
        "colab_type": "code",
        "colab": {
          "base_uri": "https://localhost:8080/",
          "height": 255
        },
        "outputId": "8a949b85-e763-491a-88a2-8c477dd35c0b"
      },
      "source": [
        "# Check the data one more time\n",
        "psychology['Age'].value_counts()"
      ],
      "execution_count": 111,
      "outputs": [
        {
          "output_type": "execute_result",
          "data": {
            "text/plain": [
              "65-74                               1292\n",
              "55-64                               1179\n",
              "35-44                                889\n",
              "25-34                                840\n",
              "45-54                                772\n",
              "(7) 75+                              564\n",
              "18-24                                350\n",
              "2) 25-34                             106\n",
              "(5) 55-64                             98\n",
              "(3) 35-44                             81\n",
              "(4) 45-54                             78\n",
              "(1) 18-24                             32\n",
              "(88) Removed for disclosure risk       2\n",
              "Name: Age, dtype: int64"
            ]
          },
          "metadata": {
            "tags": []
          },
          "execution_count": 111
        }
      ]
    },
    {
      "cell_type": "code",
      "metadata": {
        "id": "ju8DWLcAXg2H",
        "colab_type": "code",
        "colab": {}
      },
      "source": [
        "psychology[psychology['Age']==\"(7) 75+\"]='75+'\n",
        "psychology[psychology['Age']==\"2) 25-34\"]='25-34'\n",
        "psychology[psychology['Age']==\"(5) 55-64\"]='55-64'\n",
        "psychology[psychology['Age']==\"(3) 35-44\"]='35-44'\n",
        "psychology[psychology['Age']==\"(4) 45-54\"]='45-54'\n",
        "psychology[psychology['Age']==\"(1) 18-24\"]='18-24'\n",
        "psychology[psychology['Age']==\"(88) Removed for disclosure risk\"]='88'"
      ],
      "execution_count": 112,
      "outputs": []
    },
    {
      "cell_type": "code",
      "metadata": {
        "id": "l0vOiXOmXglu",
        "colab_type": "code",
        "colab": {
          "base_uri": "https://localhost:8080/",
          "height": 170
        },
        "outputId": "8a74cc6c-5bc8-4f6a-cf9b-2f8c99888175"
      },
      "source": [
        "# Let's check\n",
        "psychology['Age'].value_counts().sort_index()"
      ],
      "execution_count": 113,
      "outputs": [
        {
          "output_type": "execute_result",
          "data": {
            "text/plain": [
              "18-24     382\n",
              "25-34     946\n",
              "35-44     970\n",
              "45-54     850\n",
              "55-64    1277\n",
              "65-74    1292\n",
              "75+       564\n",
              "88          2\n",
              "Name: Age, dtype: int64"
            ]
          },
          "metadata": {
            "tags": []
          },
          "execution_count": 113
        }
      ]
    },
    {
      "cell_type": "code",
      "metadata": {
        "id": "CvQ3n9JhXgF2",
        "colab_type": "code",
        "colab": {}
      },
      "source": [
        ""
      ],
      "execution_count": 113,
      "outputs": []
    },
    {
      "cell_type": "code",
      "metadata": {
        "id": "vHCU9xw7Xf3z",
        "colab_type": "code",
        "colab": {}
      },
      "source": [
        ""
      ],
      "execution_count": 113,
      "outputs": []
    },
    {
      "cell_type": "code",
      "metadata": {
        "id": "p7s3i5uPVrmv",
        "colab_type": "code",
        "colab": {}
      },
      "source": [
        ""
      ],
      "execution_count": 113,
      "outputs": []
    },
    {
      "cell_type": "markdown",
      "metadata": {
        "id": "Mox_62i-OQnL",
        "colab_type": "text"
      },
      "source": [
        ""
      ]
    }
  ]
}