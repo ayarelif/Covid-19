{
  "nbformat": 4,
  "nbformat_minor": 0,
  "metadata": {
    "colab": {
      "name": "Elif_Ayar_Covid-19.ipynb",
      "provenance": [],
      "authorship_tag": "ABX9TyPvpzetYHwBZmVQytzOlISZ",
      "include_colab_link": true
    },
    "kernelspec": {
      "name": "python3",
      "display_name": "Python 3"
    }
  },
  "cells": [
    {
      "cell_type": "markdown",
      "metadata": {
        "id": "view-in-github",
        "colab_type": "text"
      },
      "source": [
        "<a href=\"https://colab.research.google.com/github/ayarelif/Covid-19/blob/master/Elif_Ayar_Covid_19.ipynb\" target=\"_parent\"><img src=\"https://colab.research.google.com/assets/colab-badge.svg\" alt=\"Open In Colab\"/></a>"
      ]
    },
    {
      "cell_type": "markdown",
      "metadata": {
        "id": "vNIobFM54LB5",
        "colab_type": "text"
      },
      "source": [
        "# Number of Case and Death related to Covid-19 all Over the World \n"
      ]
    },
    {
      "cell_type": "code",
      "metadata": {
        "id": "yhBU-M334WY2",
        "colab_type": "code",
        "colab": {}
      },
      "source": [
        "# Import libraries \n",
        "import pandas as pd\n",
        "import numpy as np\n",
        "import math\n",
        "import matplotlib.pyplot as plt\n"
      ],
      "execution_count": null,
      "outputs": []
    },
    {
      "cell_type": "markdown",
      "metadata": {
        "id": "wXrnSE0vTSJM",
        "colab_type": "text"
      },
      "source": [
        "## Diagnosis factors\n"
      ]
    },
    {
      "cell_type": "code",
      "metadata": {
        "id": "F5tvA4ilTKcz",
        "colab_type": "code",
        "colab": {
          "base_uri": "https://localhost:8080/",
          "height": 309
        },
        "outputId": "c34835ed-4cf7-4022-f1fc-7a59a2447ce0"
      },
      "source": [
        "# Load the dataset : diagnosis-of-covid-19-and-its-clinical-spectrum\n",
        "situation=pd.read_csv('/content/who-situation-reports-covid-19.csv')\n",
        "situation.head(5)\n",
        "\n"
      ],
      "execution_count": null,
      "outputs": [
        {
          "output_type": "execute_result",
          "data": {
            "text/html": [
              "<div>\n",
              "<style scoped>\n",
              "    .dataframe tbody tr th:only-of-type {\n",
              "        vertical-align: middle;\n",
              "    }\n",
              "\n",
              "    .dataframe tbody tr th {\n",
              "        vertical-align: top;\n",
              "    }\n",
              "\n",
              "    .dataframe thead th {\n",
              "        text-align: right;\n",
              "    }\n",
              "</style>\n",
              "<table border=\"1\" class=\"dataframe\">\n",
              "  <thead>\n",
              "    <tr style=\"text-align: right;\">\n",
              "      <th></th>\n",
              "      <th>reported_date</th>\n",
              "      <th>reporting_country_territory</th>\n",
              "      <th>province_city</th>\n",
              "      <th>confirmed_cases</th>\n",
              "      <th>new_confirmed_cases</th>\n",
              "      <th>total_deaths</th>\n",
              "      <th>new_total_deaths</th>\n",
              "      <th>transmission_classification</th>\n",
              "      <th>total_cases_with_travel_history_to_china</th>\n",
              "      <th>new_cases_with_travel_history_to_china</th>\n",
              "      <th>total_cases_with_possible_or_confirmed_transmission_outside_china</th>\n",
              "      <th>new_cases_with_possible_or_confirmed_transmission_outside_china</th>\n",
              "      <th>total_cases_with_site_of_transmission_under_investigation</th>\n",
              "      <th>new_cases_with_site_of_transmission_under_investigation</th>\n",
              "      <th>place_of_exposure_in_china_cases</th>\n",
              "      <th>place_of_exposure_in_china_cases_new</th>\n",
              "      <th>place_of_exposure_outside_reporting_country_and_china_cases</th>\n",
              "      <th>place_of_exposure_outside_reporting_country_and_china_cases_new</th>\n",
              "      <th>place_of_exposure_in_reporting_country_cases</th>\n",
              "      <th>place_of_exposure_in_reporting_country_cases_new</th>\n",
              "      <th>suspected_cases</th>\n",
              "      <th>daily_suspected_cases</th>\n",
              "      <th>daily_lab_confirmed_cases</th>\n",
              "      <th>daily_clinically_diagnosed_cases</th>\n",
              "      <th>daily_total_cases</th>\n",
              "      <th>cumulative_total_cases</th>\n",
              "      <th>cumulative_lab_confirmed_cases</th>\n",
              "      <th>cumulative_clinically_diagnosed_cases</th>\n",
              "      <th>cumulative_deaths</th>\n",
              "      <th>days_since_last_reported</th>\n",
              "      <th>who_region</th>\n",
              "      <th>population</th>\n",
              "      <th>report_url</th>\n",
              "    </tr>\n",
              "  </thead>\n",
              "  <tbody>\n",
              "    <tr>\n",
              "      <th>0</th>\n",
              "      <td>4/5/2020</td>\n",
              "      <td>China</td>\n",
              "      <td>NaN</td>\n",
              "      <td>82875</td>\n",
              "      <td>73.0</td>\n",
              "      <td>3335.0</td>\n",
              "      <td>4.0</td>\n",
              "      <td>Local transmission</td>\n",
              "      <td>NaN</td>\n",
              "      <td>NaN</td>\n",
              "      <td>NaN</td>\n",
              "      <td>NaN</td>\n",
              "      <td>NaN</td>\n",
              "      <td>NaN</td>\n",
              "      <td>NaN</td>\n",
              "      <td>NaN</td>\n",
              "      <td>NaN</td>\n",
              "      <td>NaN</td>\n",
              "      <td>NaN</td>\n",
              "      <td>NaN</td>\n",
              "      <td>NaN</td>\n",
              "      <td>NaN</td>\n",
              "      <td>NaN</td>\n",
              "      <td>NaN</td>\n",
              "      <td>NaN</td>\n",
              "      <td>NaN</td>\n",
              "      <td>NaN</td>\n",
              "      <td>NaN</td>\n",
              "      <td>NaN</td>\n",
              "      <td>0.0</td>\n",
              "      <td>NaN</td>\n",
              "      <td>NaN</td>\n",
              "      <td>https://www.who.int/docs/default-source/corona...</td>\n",
              "    </tr>\n",
              "    <tr>\n",
              "      <th>1</th>\n",
              "      <td>4/5/2020</td>\n",
              "      <td>Republic of Korea</td>\n",
              "      <td>NaN</td>\n",
              "      <td>10156</td>\n",
              "      <td>94.0</td>\n",
              "      <td>177.0</td>\n",
              "      <td>3.0</td>\n",
              "      <td>Local transmission</td>\n",
              "      <td>NaN</td>\n",
              "      <td>NaN</td>\n",
              "      <td>NaN</td>\n",
              "      <td>NaN</td>\n",
              "      <td>NaN</td>\n",
              "      <td>NaN</td>\n",
              "      <td>NaN</td>\n",
              "      <td>NaN</td>\n",
              "      <td>NaN</td>\n",
              "      <td>NaN</td>\n",
              "      <td>NaN</td>\n",
              "      <td>NaN</td>\n",
              "      <td>NaN</td>\n",
              "      <td>NaN</td>\n",
              "      <td>NaN</td>\n",
              "      <td>NaN</td>\n",
              "      <td>NaN</td>\n",
              "      <td>NaN</td>\n",
              "      <td>NaN</td>\n",
              "      <td>NaN</td>\n",
              "      <td>NaN</td>\n",
              "      <td>0.0</td>\n",
              "      <td>NaN</td>\n",
              "      <td>NaN</td>\n",
              "      <td>https://www.who.int/docs/default-source/corona...</td>\n",
              "    </tr>\n",
              "    <tr>\n",
              "      <th>2</th>\n",
              "      <td>4/5/2020</td>\n",
              "      <td>Australia</td>\n",
              "      <td>NaN</td>\n",
              "      <td>5454</td>\n",
              "      <td>230.0</td>\n",
              "      <td>28.0</td>\n",
              "      <td>5.0</td>\n",
              "      <td>Local transmission</td>\n",
              "      <td>NaN</td>\n",
              "      <td>NaN</td>\n",
              "      <td>NaN</td>\n",
              "      <td>NaN</td>\n",
              "      <td>NaN</td>\n",
              "      <td>NaN</td>\n",
              "      <td>NaN</td>\n",
              "      <td>NaN</td>\n",
              "      <td>NaN</td>\n",
              "      <td>NaN</td>\n",
              "      <td>NaN</td>\n",
              "      <td>NaN</td>\n",
              "      <td>NaN</td>\n",
              "      <td>NaN</td>\n",
              "      <td>NaN</td>\n",
              "      <td>NaN</td>\n",
              "      <td>NaN</td>\n",
              "      <td>NaN</td>\n",
              "      <td>NaN</td>\n",
              "      <td>NaN</td>\n",
              "      <td>NaN</td>\n",
              "      <td>0.0</td>\n",
              "      <td>NaN</td>\n",
              "      <td>NaN</td>\n",
              "      <td>https://www.who.int/docs/default-source/corona...</td>\n",
              "    </tr>\n",
              "    <tr>\n",
              "      <th>3</th>\n",
              "      <td>4/5/2020</td>\n",
              "      <td>Malaysia</td>\n",
              "      <td>NaN</td>\n",
              "      <td>3333</td>\n",
              "      <td>217.0</td>\n",
              "      <td>53.0</td>\n",
              "      <td>3.0</td>\n",
              "      <td>Local transmission</td>\n",
              "      <td>NaN</td>\n",
              "      <td>NaN</td>\n",
              "      <td>NaN</td>\n",
              "      <td>NaN</td>\n",
              "      <td>NaN</td>\n",
              "      <td>NaN</td>\n",
              "      <td>NaN</td>\n",
              "      <td>NaN</td>\n",
              "      <td>NaN</td>\n",
              "      <td>NaN</td>\n",
              "      <td>NaN</td>\n",
              "      <td>NaN</td>\n",
              "      <td>NaN</td>\n",
              "      <td>NaN</td>\n",
              "      <td>NaN</td>\n",
              "      <td>NaN</td>\n",
              "      <td>NaN</td>\n",
              "      <td>NaN</td>\n",
              "      <td>NaN</td>\n",
              "      <td>NaN</td>\n",
              "      <td>NaN</td>\n",
              "      <td>0.0</td>\n",
              "      <td>NaN</td>\n",
              "      <td>NaN</td>\n",
              "      <td>https://www.who.int/docs/default-source/corona...</td>\n",
              "    </tr>\n",
              "    <tr>\n",
              "      <th>4</th>\n",
              "      <td>4/5/2020</td>\n",
              "      <td>Philippines</td>\n",
              "      <td>NaN</td>\n",
              "      <td>3018</td>\n",
              "      <td>385.0</td>\n",
              "      <td>136.0</td>\n",
              "      <td>29.0</td>\n",
              "      <td>Local transmission</td>\n",
              "      <td>NaN</td>\n",
              "      <td>NaN</td>\n",
              "      <td>NaN</td>\n",
              "      <td>NaN</td>\n",
              "      <td>NaN</td>\n",
              "      <td>NaN</td>\n",
              "      <td>NaN</td>\n",
              "      <td>NaN</td>\n",
              "      <td>NaN</td>\n",
              "      <td>NaN</td>\n",
              "      <td>NaN</td>\n",
              "      <td>NaN</td>\n",
              "      <td>NaN</td>\n",
              "      <td>NaN</td>\n",
              "      <td>NaN</td>\n",
              "      <td>NaN</td>\n",
              "      <td>NaN</td>\n",
              "      <td>NaN</td>\n",
              "      <td>NaN</td>\n",
              "      <td>NaN</td>\n",
              "      <td>NaN</td>\n",
              "      <td>0.0</td>\n",
              "      <td>NaN</td>\n",
              "      <td>NaN</td>\n",
              "      <td>https://www.who.int/docs/default-source/corona...</td>\n",
              "    </tr>\n",
              "  </tbody>\n",
              "</table>\n",
              "</div>"
            ],
            "text/plain": [
              "  reported_date  ...                                         report_url\n",
              "0      4/5/2020  ...  https://www.who.int/docs/default-source/corona...\n",
              "1      4/5/2020  ...  https://www.who.int/docs/default-source/corona...\n",
              "2      4/5/2020  ...  https://www.who.int/docs/default-source/corona...\n",
              "3      4/5/2020  ...  https://www.who.int/docs/default-source/corona...\n",
              "4      4/5/2020  ...  https://www.who.int/docs/default-source/corona...\n",
              "\n",
              "[5 rows x 33 columns]"
            ]
          },
          "metadata": {
            "tags": []
          },
          "execution_count": 4
        }
      ]
    },
    {
      "cell_type": "code",
      "metadata": {
        "id": "cgqV_ScqTKZ3",
        "colab_type": "code",
        "colab": {
          "base_uri": "https://localhost:8080/",
          "height": 34
        },
        "outputId": "2d5c054b-d3dc-44e5-a131-d37c342cb403"
      },
      "source": [
        "# Check the shape\n",
        "situation.shape"
      ],
      "execution_count": null,
      "outputs": [
        {
          "output_type": "execute_result",
          "data": {
            "text/plain": [
              "(7758, 33)"
            ]
          },
          "metadata": {
            "tags": []
          },
          "execution_count": 5
        }
      ]
    },
    {
      "cell_type": "code",
      "metadata": {
        "id": "FoWFdwqOTKYC",
        "colab_type": "code",
        "colab": {
          "base_uri": "https://localhost:8080/",
          "height": 374
        },
        "outputId": "e0aa2c56-ba65-4744-ec71-dfdd230827bc"
      },
      "source": [
        "# check the column names\n",
        "situation.columns"
      ],
      "execution_count": null,
      "outputs": [
        {
          "output_type": "execute_result",
          "data": {
            "text/plain": [
              "Index(['reported_date', 'reporting_country_territory', 'province_city',\n",
              "       'confirmed_cases', 'new_confirmed_cases', 'total_deaths',\n",
              "       'new_total_deaths', 'transmission_classification',\n",
              "       'total_cases_with_travel_history_to_china',\n",
              "       'new_cases_with_travel_history_to_china',\n",
              "       'total_cases_with_possible_or_confirmed_transmission_outside_china',\n",
              "       'new_cases_with_possible_or_confirmed_transmission_outside_china',\n",
              "       'total_cases_with_site_of_transmission_under_investigation',\n",
              "       'new_cases_with_site_of_transmission_under_investigation',\n",
              "       'place_of_exposure_in_china_cases',\n",
              "       'place_of_exposure_in_china_cases_new',\n",
              "       'place_of_exposure_outside_reporting_country_and_china_cases',\n",
              "       'place_of_exposure_outside_reporting_country_and_china_cases_new',\n",
              "       'place_of_exposure_in_reporting_country_cases',\n",
              "       'place_of_exposure_in_reporting_country_cases_new', 'suspected_cases',\n",
              "       'daily_suspected_cases', 'daily_lab_confirmed_cases',\n",
              "       'daily_clinically_diagnosed_cases', 'daily_total_cases',\n",
              "       'cumulative_total_cases', 'cumulative_lab_confirmed_cases',\n",
              "       'cumulative_clinically_diagnosed_cases', 'cumulative_deaths',\n",
              "       'days_since_last_reported', 'who_region', 'population', 'report_url'],\n",
              "      dtype='object')"
            ]
          },
          "metadata": {
            "tags": []
          },
          "execution_count": 6
        }
      ]
    },
    {
      "cell_type": "markdown",
      "metadata": {
        "id": "rLefeLxEXrjk",
        "colab_type": "text"
      },
      "source": [
        "I want to clean data becuase I do not need all 33 columns. \n",
        " "
      ]
    },
    {
      "cell_type": "code",
      "metadata": {
        "id": "AK2gpzrTTKUa",
        "colab_type": "code",
        "colab": {}
      },
      "source": [
        "#  Create a new dataset\n",
        "column=['reported_date', 'reporting_country_territory',\n",
        "       'confirmed_cases', 'new_confirmed_cases', 'total_deaths',\n",
        "       'new_total_deaths']\n",
        "covid_situation=situation[column]"
      ],
      "execution_count": null,
      "outputs": []
    },
    {
      "cell_type": "code",
      "metadata": {
        "id": "MV_uTiYtcoXj",
        "colab_type": "code",
        "colab": {
          "base_uri": "https://localhost:8080/",
          "height": 204
        },
        "outputId": "18e33ea0-6cf2-4026-f31d-357374b2db91"
      },
      "source": [
        "# Check first 5 columns\n",
        "covid_situation.head()"
      ],
      "execution_count": null,
      "outputs": [
        {
          "output_type": "execute_result",
          "data": {
            "text/html": [
              "<div>\n",
              "<style scoped>\n",
              "    .dataframe tbody tr th:only-of-type {\n",
              "        vertical-align: middle;\n",
              "    }\n",
              "\n",
              "    .dataframe tbody tr th {\n",
              "        vertical-align: top;\n",
              "    }\n",
              "\n",
              "    .dataframe thead th {\n",
              "        text-align: right;\n",
              "    }\n",
              "</style>\n",
              "<table border=\"1\" class=\"dataframe\">\n",
              "  <thead>\n",
              "    <tr style=\"text-align: right;\">\n",
              "      <th></th>\n",
              "      <th>reported_date</th>\n",
              "      <th>reporting_country_territory</th>\n",
              "      <th>confirmed_cases</th>\n",
              "      <th>new_confirmed_cases</th>\n",
              "      <th>total_deaths</th>\n",
              "      <th>new_total_deaths</th>\n",
              "    </tr>\n",
              "  </thead>\n",
              "  <tbody>\n",
              "    <tr>\n",
              "      <th>0</th>\n",
              "      <td>4/5/2020</td>\n",
              "      <td>China</td>\n",
              "      <td>82875</td>\n",
              "      <td>73.0</td>\n",
              "      <td>3335.0</td>\n",
              "      <td>4.0</td>\n",
              "    </tr>\n",
              "    <tr>\n",
              "      <th>1</th>\n",
              "      <td>4/5/2020</td>\n",
              "      <td>Republic of Korea</td>\n",
              "      <td>10156</td>\n",
              "      <td>94.0</td>\n",
              "      <td>177.0</td>\n",
              "      <td>3.0</td>\n",
              "    </tr>\n",
              "    <tr>\n",
              "      <th>2</th>\n",
              "      <td>4/5/2020</td>\n",
              "      <td>Australia</td>\n",
              "      <td>5454</td>\n",
              "      <td>230.0</td>\n",
              "      <td>28.0</td>\n",
              "      <td>5.0</td>\n",
              "    </tr>\n",
              "    <tr>\n",
              "      <th>3</th>\n",
              "      <td>4/5/2020</td>\n",
              "      <td>Malaysia</td>\n",
              "      <td>3333</td>\n",
              "      <td>217.0</td>\n",
              "      <td>53.0</td>\n",
              "      <td>3.0</td>\n",
              "    </tr>\n",
              "    <tr>\n",
              "      <th>4</th>\n",
              "      <td>4/5/2020</td>\n",
              "      <td>Philippines</td>\n",
              "      <td>3018</td>\n",
              "      <td>385.0</td>\n",
              "      <td>136.0</td>\n",
              "      <td>29.0</td>\n",
              "    </tr>\n",
              "  </tbody>\n",
              "</table>\n",
              "</div>"
            ],
            "text/plain": [
              "  reported_date reporting_country_territory  ... total_deaths  new_total_deaths\n",
              "0      4/5/2020                       China  ...       3335.0               4.0\n",
              "1      4/5/2020           Republic of Korea  ...        177.0               3.0\n",
              "2      4/5/2020                   Australia  ...         28.0               5.0\n",
              "3      4/5/2020                    Malaysia  ...         53.0               3.0\n",
              "4      4/5/2020                 Philippines  ...        136.0              29.0\n",
              "\n",
              "[5 rows x 6 columns]"
            ]
          },
          "metadata": {
            "tags": []
          },
          "execution_count": 8
        }
      ]
    },
    {
      "cell_type": "code",
      "metadata": {
        "id": "j6UJNprGexOK",
        "colab_type": "code",
        "colab": {
          "base_uri": "https://localhost:8080/",
          "height": 153
        },
        "outputId": "73b41100-90fc-4461-bf1a-470f6d63f1ab"
      },
      "source": [
        "# Check shape and missing informations\n",
        "print(covid_situation.shape)\n",
        "print(covid_situation.isnull().sum())"
      ],
      "execution_count": null,
      "outputs": [
        {
          "output_type": "stream",
          "text": [
            "(7758, 6)\n",
            "reported_date                    0\n",
            "reporting_country_territory      0\n",
            "confirmed_cases                  0\n",
            "new_confirmed_cases            715\n",
            "total_deaths                   635\n",
            "new_total_deaths               764\n",
            "dtype: int64\n"
          ],
          "name": "stdout"
        }
      ]
    },
    {
      "cell_type": "code",
      "metadata": {
        "id": "tuCm-ZRYg6nE",
        "colab_type": "code",
        "colab": {
          "base_uri": "https://localhost:8080/",
          "height": 136
        },
        "outputId": "bf554c37-6a84-48fd-e8b6-8707bbf2fd30"
      },
      "source": [
        "# I want to check the datatype as well\n",
        "covid_situation.dtypes"
      ],
      "execution_count": null,
      "outputs": [
        {
          "output_type": "execute_result",
          "data": {
            "text/plain": [
              "reported_date                   object\n",
              "reporting_country_territory     object\n",
              "confirmed_cases                 object\n",
              "new_confirmed_cases            float64\n",
              "total_deaths                   float64\n",
              "new_total_deaths               float64\n",
              "dtype: object"
            ]
          },
          "metadata": {
            "tags": []
          },
          "execution_count": 8
        }
      ]
    },
    {
      "cell_type": "markdown",
      "metadata": {
        "id": "HlM1dGHDhNHl",
        "colab_type": "text"
      },
      "source": [
        "Confirmed case column is suppossed to be integer type, so change it. BEfore doing that, I have to fix the string numbers such as '28 060'  '31 211', '34 598,and '37 251'. "
      ]
    },
    {
      "cell_type": "code",
      "metadata": {
        "id": "xO-DPXMfnuu1",
        "colab_type": "code",
        "colab": {
          "base_uri": "https://localhost:8080/",
          "height": 80
        },
        "outputId": "78011539-50d3-4843-c418-11a27ade5cda"
      },
      "source": [
        "# Find \"28 060\" number is where\n",
        "row_number=covid_situation[covid_situation['confirmed_cases']=='28 060']\n",
        "row_number"
      ],
      "execution_count": null,
      "outputs": [
        {
          "output_type": "execute_result",
          "data": {
            "text/html": [
              "<div>\n",
              "<style scoped>\n",
              "    .dataframe tbody tr th:only-of-type {\n",
              "        vertical-align: middle;\n",
              "    }\n",
              "\n",
              "    .dataframe tbody tr th {\n",
              "        vertical-align: top;\n",
              "    }\n",
              "\n",
              "    .dataframe thead th {\n",
              "        text-align: right;\n",
              "    }\n",
              "</style>\n",
              "<table border=\"1\" class=\"dataframe\">\n",
              "  <thead>\n",
              "    <tr style=\"text-align: right;\">\n",
              "      <th></th>\n",
              "      <th>reported_date</th>\n",
              "      <th>reporting_country_territory</th>\n",
              "      <th>confirmed_cases</th>\n",
              "      <th>new_confirmed_cases</th>\n",
              "      <th>total_deaths</th>\n",
              "      <th>new_total_deaths</th>\n",
              "    </tr>\n",
              "  </thead>\n",
              "  <tbody>\n",
              "    <tr>\n",
              "      <th>5634</th>\n",
              "      <td>2/6/2020</td>\n",
              "      <td>China</td>\n",
              "      <td>28 060</td>\n",
              "      <td>3697.0</td>\n",
              "      <td>564.0</td>\n",
              "      <td>73.0</td>\n",
              "    </tr>\n",
              "  </tbody>\n",
              "</table>\n",
              "</div>"
            ],
            "text/plain": [
              "     reported_date reporting_country_territory  ... total_deaths  new_total_deaths\n",
              "5634      2/6/2020                       China  ...        564.0              73.0\n",
              "\n",
              "[1 rows x 6 columns]"
            ]
          },
          "metadata": {
            "tags": []
          },
          "execution_count": 10
        }
      ]
    },
    {
      "cell_type": "code",
      "metadata": {
        "id": "HrSFpjRPpOmm",
        "colab_type": "code",
        "colab": {
          "base_uri": "https://localhost:8080/",
          "height": 80
        },
        "outputId": "7df5b8a7-163a-4ce2-b804-af06e77a522b"
      },
      "source": [
        "# Fix it\n",
        "row_number.replace({'28 060\t':'28060'})"
      ],
      "execution_count": null,
      "outputs": [
        {
          "output_type": "execute_result",
          "data": {
            "text/html": [
              "<div>\n",
              "<style scoped>\n",
              "    .dataframe tbody tr th:only-of-type {\n",
              "        vertical-align: middle;\n",
              "    }\n",
              "\n",
              "    .dataframe tbody tr th {\n",
              "        vertical-align: top;\n",
              "    }\n",
              "\n",
              "    .dataframe thead th {\n",
              "        text-align: right;\n",
              "    }\n",
              "</style>\n",
              "<table border=\"1\" class=\"dataframe\">\n",
              "  <thead>\n",
              "    <tr style=\"text-align: right;\">\n",
              "      <th></th>\n",
              "      <th>reported_date</th>\n",
              "      <th>reporting_country_territory</th>\n",
              "      <th>confirmed_cases</th>\n",
              "      <th>new_confirmed_cases</th>\n",
              "      <th>total_deaths</th>\n",
              "      <th>new_total_deaths</th>\n",
              "    </tr>\n",
              "  </thead>\n",
              "  <tbody>\n",
              "    <tr>\n",
              "      <th>5634</th>\n",
              "      <td>2/6/2020</td>\n",
              "      <td>China</td>\n",
              "      <td>28 060</td>\n",
              "      <td>3697.0</td>\n",
              "      <td>564.0</td>\n",
              "      <td>73.0</td>\n",
              "    </tr>\n",
              "  </tbody>\n",
              "</table>\n",
              "</div>"
            ],
            "text/plain": [
              "     reported_date reporting_country_territory  ... total_deaths  new_total_deaths\n",
              "5634      2/6/2020                       China  ...        564.0              73.0\n",
              "\n",
              "[1 rows x 6 columns]"
            ]
          },
          "metadata": {
            "tags": []
          },
          "execution_count": 11
        }
      ]
    },
    {
      "cell_type": "code",
      "metadata": {
        "id": "OeOQBIoXsrA0",
        "colab_type": "code",
        "colab": {
          "base_uri": "https://localhost:8080/",
          "height": 216
        },
        "outputId": "32e7d983-28cf-43d3-aa3f-c25d30c16777"
      },
      "source": [
        "# Apply the same code to original data\n",
        "covid_situation.loc[[5634],:]=covid_situation.loc[[5634],:].replace({'28 060':'28060'},inplace=False)\n",
        "# Check\n",
        "covid_situation.loc[[5634],:]\n",
        "# Same fix for number 31 211\n",
        "row_number2=covid_situation[covid_situation['confirmed_cases']=='31 211']\n",
        "row_number2\n",
        "covid_situation.loc[[5660],:]=covid_situation.loc[[5660],:].replace({'31 211':'31211'},inplace=False)\n",
        "covid_situation.loc[[5660],:]\n",
        "row_number3=covid_situation[covid_situation['confirmed_cases']=='34 598']\n",
        "row_number3\n",
        "covid_situation.loc[[5686],:]=covid_situation.loc[[5686],:].replace({'34 598':'34598'},inplace=False)\n",
        "covid_situation.loc[[5686],:]"
      ],
      "execution_count": null,
      "outputs": [
        {
          "output_type": "stream",
          "text": [
            "/usr/local/lib/python3.6/dist-packages/pandas/core/indexing.py:966: SettingWithCopyWarning:\n",
            "\n",
            "\n",
            "A value is trying to be set on a copy of a slice from a DataFrame.\n",
            "Try using .loc[row_indexer,col_indexer] = value instead\n",
            "\n",
            "See the caveats in the documentation: https://pandas.pydata.org/pandas-docs/stable/user_guide/indexing.html#returning-a-view-versus-a-copy\n",
            "\n"
          ],
          "name": "stderr"
        },
        {
          "output_type": "execute_result",
          "data": {
            "text/html": [
              "<div>\n",
              "<style scoped>\n",
              "    .dataframe tbody tr th:only-of-type {\n",
              "        vertical-align: middle;\n",
              "    }\n",
              "\n",
              "    .dataframe tbody tr th {\n",
              "        vertical-align: top;\n",
              "    }\n",
              "\n",
              "    .dataframe thead th {\n",
              "        text-align: right;\n",
              "    }\n",
              "</style>\n",
              "<table border=\"1\" class=\"dataframe\">\n",
              "  <thead>\n",
              "    <tr style=\"text-align: right;\">\n",
              "      <th></th>\n",
              "      <th>reported_date</th>\n",
              "      <th>reporting_country_territory</th>\n",
              "      <th>confirmed_cases</th>\n",
              "      <th>new_confirmed_cases</th>\n",
              "      <th>total_deaths</th>\n",
              "      <th>new_total_deaths</th>\n",
              "    </tr>\n",
              "  </thead>\n",
              "  <tbody>\n",
              "    <tr>\n",
              "      <th>5686</th>\n",
              "      <td>2/8/2020</td>\n",
              "      <td>China</td>\n",
              "      <td>34598</td>\n",
              "      <td>3401.0</td>\n",
              "      <td>723.0</td>\n",
              "      <td>86.0</td>\n",
              "    </tr>\n",
              "  </tbody>\n",
              "</table>\n",
              "</div>"
            ],
            "text/plain": [
              "     reported_date reporting_country_territory  ... total_deaths  new_total_deaths\n",
              "5686      2/8/2020                       China  ...        723.0              86.0\n",
              "\n",
              "[1 rows x 6 columns]"
            ]
          },
          "metadata": {
            "tags": []
          },
          "execution_count": 12
        }
      ]
    },
    {
      "cell_type": "code",
      "metadata": {
        "id": "HbKEiOoExUEL",
        "colab_type": "code",
        "colab": {
          "base_uri": "https://localhost:8080/",
          "height": 80
        },
        "outputId": "c87181dc-f8c4-4a74-9ea4-4f3193282936"
      },
      "source": [
        "# Same fix for number \n",
        "row_number4=covid_situation[covid_situation['confirmed_cases']=='37 251']\n",
        "row_number5=covid_situation[covid_situation['confirmed_cases']=='40 235']\n",
        "row_number6=covid_situation[covid_situation['confirmed_cases']=='42 708']\n",
        "row_number7=covid_situation[covid_situation['confirmed_cases']=='44 730']\n",
        "row_number8=covid_situation[covid_situation['confirmed_cases']=='46 550']\n",
        "row_number8"
      ],
      "execution_count": null,
      "outputs": [
        {
          "output_type": "execute_result",
          "data": {
            "text/html": [
              "<div>\n",
              "<style scoped>\n",
              "    .dataframe tbody tr th:only-of-type {\n",
              "        vertical-align: middle;\n",
              "    }\n",
              "\n",
              "    .dataframe tbody tr th {\n",
              "        vertical-align: top;\n",
              "    }\n",
              "\n",
              "    .dataframe thead th {\n",
              "        text-align: right;\n",
              "    }\n",
              "</style>\n",
              "<table border=\"1\" class=\"dataframe\">\n",
              "  <thead>\n",
              "    <tr style=\"text-align: right;\">\n",
              "      <th></th>\n",
              "      <th>reported_date</th>\n",
              "      <th>reporting_country_territory</th>\n",
              "      <th>confirmed_cases</th>\n",
              "      <th>new_confirmed_cases</th>\n",
              "      <th>total_deaths</th>\n",
              "      <th>new_total_deaths</th>\n",
              "    </tr>\n",
              "  </thead>\n",
              "  <tbody>\n",
              "    <tr>\n",
              "      <th>5816</th>\n",
              "      <td>2/13/2020</td>\n",
              "      <td>China</td>\n",
              "      <td>46 550</td>\n",
              "      <td>1820.0</td>\n",
              "      <td>NaN</td>\n",
              "      <td>NaN</td>\n",
              "    </tr>\n",
              "  </tbody>\n",
              "</table>\n",
              "</div>"
            ],
            "text/plain": [
              "     reported_date reporting_country_territory  ... total_deaths  new_total_deaths\n",
              "5816     2/13/2020                       China  ...          NaN               NaN\n",
              "\n",
              "[1 rows x 6 columns]"
            ]
          },
          "metadata": {
            "tags": []
          },
          "execution_count": 13
        }
      ]
    },
    {
      "cell_type": "code",
      "metadata": {
        "id": "UhGhTJ92yB9F",
        "colab_type": "code",
        "colab": {
          "base_uri": "https://localhost:8080/",
          "height": 216
        },
        "outputId": "75e979ff-bcc7-4925-c252-178329d9b1c8"
      },
      "source": [
        "covid_situation.loc[[5712],:]=covid_situation.loc[[5712],:].replace({'37 251':'37251'},inplace=False)\n",
        "covid_situation.loc[[5712],:]\n",
        "covid_situation.loc[[5738],:]=covid_situation.loc[[5738],:].replace({'40 235':'40235'},inplace=False)\n",
        "covid_situation.loc[[5738],:]\n",
        "covid_situation.loc[[5764],:]=covid_situation.loc[[5764],:].replace({'42 708':'42708'},inplace=False)\n",
        "covid_situation.loc[[5764],:]\n",
        "covid_situation.loc[[5790],:]=covid_situation.loc[[5790],:].replace({'44 730':'44730'},inplace=False)\n",
        "covid_situation.loc[[5790],:]\n",
        "covid_situation.loc[[5816],:]=covid_situation.loc[[5816],:].replace({'46 550':'46550'},inplace=False)\n",
        "covid_situation.loc[[5816],:]"
      ],
      "execution_count": null,
      "outputs": [
        {
          "output_type": "stream",
          "text": [
            "/usr/local/lib/python3.6/dist-packages/pandas/core/indexing.py:966: SettingWithCopyWarning:\n",
            "\n",
            "\n",
            "A value is trying to be set on a copy of a slice from a DataFrame.\n",
            "Try using .loc[row_indexer,col_indexer] = value instead\n",
            "\n",
            "See the caveats in the documentation: https://pandas.pydata.org/pandas-docs/stable/user_guide/indexing.html#returning-a-view-versus-a-copy\n",
            "\n"
          ],
          "name": "stderr"
        },
        {
          "output_type": "execute_result",
          "data": {
            "text/html": [
              "<div>\n",
              "<style scoped>\n",
              "    .dataframe tbody tr th:only-of-type {\n",
              "        vertical-align: middle;\n",
              "    }\n",
              "\n",
              "    .dataframe tbody tr th {\n",
              "        vertical-align: top;\n",
              "    }\n",
              "\n",
              "    .dataframe thead th {\n",
              "        text-align: right;\n",
              "    }\n",
              "</style>\n",
              "<table border=\"1\" class=\"dataframe\">\n",
              "  <thead>\n",
              "    <tr style=\"text-align: right;\">\n",
              "      <th></th>\n",
              "      <th>reported_date</th>\n",
              "      <th>reporting_country_territory</th>\n",
              "      <th>confirmed_cases</th>\n",
              "      <th>new_confirmed_cases</th>\n",
              "      <th>total_deaths</th>\n",
              "      <th>new_total_deaths</th>\n",
              "    </tr>\n",
              "  </thead>\n",
              "  <tbody>\n",
              "    <tr>\n",
              "      <th>5816</th>\n",
              "      <td>2/13/2020</td>\n",
              "      <td>China</td>\n",
              "      <td>46550</td>\n",
              "      <td>1820.0</td>\n",
              "      <td>NaN</td>\n",
              "      <td>NaN</td>\n",
              "    </tr>\n",
              "  </tbody>\n",
              "</table>\n",
              "</div>"
            ],
            "text/plain": [
              "     reported_date reporting_country_territory  ... total_deaths  new_total_deaths\n",
              "5816     2/13/2020                       China  ...          NaN               NaN\n",
              "\n",
              "[1 rows x 6 columns]"
            ]
          },
          "metadata": {
            "tags": []
          },
          "execution_count": 14
        }
      ]
    },
    {
      "cell_type": "markdown",
      "metadata": {
        "id": "qcRYlAzAuG4b",
        "colab_type": "text"
      },
      "source": [
        "now, convert the data type as integer"
      ]
    },
    {
      "cell_type": "code",
      "metadata": {
        "id": "czppb5pbTKOv",
        "colab_type": "code",
        "colab": {
          "base_uri": "https://localhost:8080/",
          "height": 34
        },
        "outputId": "035f1178-cfc5-4a81-83e1-9d8045c8d888"
      },
      "source": [
        "number='23'\n",
        "type(number)"
      ],
      "execution_count": null,
      "outputs": [
        {
          "output_type": "execute_result",
          "data": {
            "text/plain": [
              "str"
            ]
          },
          "metadata": {
            "tags": []
          },
          "execution_count": 15
        }
      ]
    },
    {
      "cell_type": "code",
      "metadata": {
        "id": "SsGpOnPeTKLn",
        "colab_type": "code",
        "colab": {
          "base_uri": "https://localhost:8080/",
          "height": 34
        },
        "outputId": "236682eb-a511-4991-b827-2b51fdf6fad1"
      },
      "source": [
        "int_number=float(number)\n",
        "type(int_number)"
      ],
      "execution_count": null,
      "outputs": [
        {
          "output_type": "execute_result",
          "data": {
            "text/plain": [
              "float"
            ]
          },
          "metadata": {
            "tags": []
          },
          "execution_count": 16
        }
      ]
    },
    {
      "cell_type": "code",
      "metadata": {
        "id": "6EXIORjOlkbK",
        "colab_type": "code",
        "colab": {
          "base_uri": "https://localhost:8080/",
          "height": 34
        },
        "outputId": "aeaabf9e-77e2-4c12-b161-52e3176fdacb"
      },
      "source": [
        "# Creat a function and then run over the whole data.\n",
        "def  my_number(x):\n",
        "   return float(x)\n",
        "type(my_number(number))"
      ],
      "execution_count": null,
      "outputs": [
        {
          "output_type": "execute_result",
          "data": {
            "text/plain": [
              "float"
            ]
          },
          "metadata": {
            "tags": []
          },
          "execution_count": 17
        }
      ]
    },
    {
      "cell_type": "code",
      "metadata": {
        "id": "5uz-z-hTmcyN",
        "colab_type": "code",
        "colab": {}
      },
      "source": [
        "new_number=[]\n",
        "for num in covid_situation['confirmed_cases']:\n",
        "  new_number.append(my_number(num))\n"
      ],
      "execution_count": null,
      "outputs": []
    },
    {
      "cell_type": "code",
      "metadata": {
        "id": "nkfB0_Xp3moX",
        "colab_type": "code",
        "colab": {
          "base_uri": "https://localhost:8080/",
          "height": 34
        },
        "outputId": "0f2c86ae-b7c4-4299-b17f-70aa8603919f"
      },
      "source": [
        "new_number[:5]"
      ],
      "execution_count": null,
      "outputs": [
        {
          "output_type": "execute_result",
          "data": {
            "text/plain": [
              "[82875.0, 10156.0, 5454.0, 3333.0, 3018.0]"
            ]
          },
          "metadata": {
            "tags": []
          },
          "execution_count": 19
        }
      ]
    },
    {
      "cell_type": "code",
      "metadata": {
        "id": "TkgJNK_v3xKp",
        "colab_type": "code",
        "colab": {
          "base_uri": "https://localhost:8080/",
          "height": 153
        },
        "outputId": "d82bb2b2-3f05-4450-ed85-bc3a886eaf8c"
      },
      "source": [
        "# New columns\n",
        "covid_situation['clean_confirmed_cases']=pd.Series(new_number)"
      ],
      "execution_count": null,
      "outputs": [
        {
          "output_type": "stream",
          "text": [
            "/usr/local/lib/python3.6/dist-packages/ipykernel_launcher.py:2: SettingWithCopyWarning:\n",
            "\n",
            "\n",
            "A value is trying to be set on a copy of a slice from a DataFrame.\n",
            "Try using .loc[row_indexer,col_indexer] = value instead\n",
            "\n",
            "See the caveats in the documentation: https://pandas.pydata.org/pandas-docs/stable/user_guide/indexing.html#returning-a-view-versus-a-copy\n",
            "\n"
          ],
          "name": "stderr"
        }
      ]
    },
    {
      "cell_type": "code",
      "metadata": {
        "id": "sLe_KFKelkXy",
        "colab_type": "code",
        "colab": {
          "base_uri": "https://localhost:8080/",
          "height": 204
        },
        "outputId": "7a5d38e6-1816-433e-e236-f88c3c699f78"
      },
      "source": [
        "covid_situation[['clean_confirmed_cases','confirmed_cases']].head()\n"
      ],
      "execution_count": null,
      "outputs": [
        {
          "output_type": "execute_result",
          "data": {
            "text/html": [
              "<div>\n",
              "<style scoped>\n",
              "    .dataframe tbody tr th:only-of-type {\n",
              "        vertical-align: middle;\n",
              "    }\n",
              "\n",
              "    .dataframe tbody tr th {\n",
              "        vertical-align: top;\n",
              "    }\n",
              "\n",
              "    .dataframe thead th {\n",
              "        text-align: right;\n",
              "    }\n",
              "</style>\n",
              "<table border=\"1\" class=\"dataframe\">\n",
              "  <thead>\n",
              "    <tr style=\"text-align: right;\">\n",
              "      <th></th>\n",
              "      <th>clean_confirmed_cases</th>\n",
              "      <th>confirmed_cases</th>\n",
              "    </tr>\n",
              "  </thead>\n",
              "  <tbody>\n",
              "    <tr>\n",
              "      <th>0</th>\n",
              "      <td>82875.0</td>\n",
              "      <td>82875</td>\n",
              "    </tr>\n",
              "    <tr>\n",
              "      <th>1</th>\n",
              "      <td>10156.0</td>\n",
              "      <td>10156</td>\n",
              "    </tr>\n",
              "    <tr>\n",
              "      <th>2</th>\n",
              "      <td>5454.0</td>\n",
              "      <td>5454</td>\n",
              "    </tr>\n",
              "    <tr>\n",
              "      <th>3</th>\n",
              "      <td>3333.0</td>\n",
              "      <td>3333</td>\n",
              "    </tr>\n",
              "    <tr>\n",
              "      <th>4</th>\n",
              "      <td>3018.0</td>\n",
              "      <td>3018</td>\n",
              "    </tr>\n",
              "  </tbody>\n",
              "</table>\n",
              "</div>"
            ],
            "text/plain": [
              "   clean_confirmed_cases confirmed_cases\n",
              "0                82875.0           82875\n",
              "1                10156.0           10156\n",
              "2                 5454.0            5454\n",
              "3                 3333.0            3333\n",
              "4                 3018.0            3018"
            ]
          },
          "metadata": {
            "tags": []
          },
          "execution_count": 21
        }
      ]
    },
    {
      "cell_type": "markdown",
      "metadata": {
        "id": "tTxONYx54fli",
        "colab_type": "text"
      },
      "source": [
        "Looks good. I want to catogorize the dates as a month only."
      ]
    },
    {
      "cell_type": "code",
      "metadata": {
        "id": "-lV0xg4P7NbK",
        "colab_type": "code",
        "colab": {
          "base_uri": "https://localhost:8080/",
          "height": 85
        },
        "outputId": "f8b343d8-b9ce-4ede-f330-556d5421f183"
      },
      "source": [
        "covid_situation.columns"
      ],
      "execution_count": null,
      "outputs": [
        {
          "output_type": "execute_result",
          "data": {
            "text/plain": [
              "Index(['reported_date', 'reporting_country_territory', 'confirmed_cases',\n",
              "       'new_confirmed_cases', 'total_deaths', 'new_total_deaths',\n",
              "       'clean_confirmed_cases'],\n",
              "      dtype='object')"
            ]
          },
          "metadata": {
            "tags": []
          },
          "execution_count": 22
        }
      ]
    },
    {
      "cell_type": "code",
      "metadata": {
        "id": "WB1gScOo7au4",
        "colab_type": "code",
        "colab": {
          "base_uri": "https://localhost:8080/",
          "height": 34
        },
        "outputId": "ee7319fa-933f-4e6e-c529-4da7509f28b1"
      },
      "source": [
        "# Let's look at the string format\n",
        "type(covid_situation['reported_date'][0])"
      ],
      "execution_count": null,
      "outputs": [
        {
          "output_type": "execute_result",
          "data": {
            "text/plain": [
              "str"
            ]
          },
          "metadata": {
            "tags": []
          },
          "execution_count": 25
        }
      ]
    },
    {
      "cell_type": "code",
      "metadata": {
        "id": "b9z-JjWn7hBy",
        "colab_type": "code",
        "colab": {
          "base_uri": "https://localhost:8080/",
          "height": 153
        },
        "outputId": "b059a62e-9dff-4041-e3d5-5dbab2a01284"
      },
      "source": [
        "# Set the datetime format\n",
        "covid_situation['new_reported_date']=pd.to_datetime(covid_situation['reported_date'],infer_datetime_format=True)"
      ],
      "execution_count": null,
      "outputs": [
        {
          "output_type": "stream",
          "text": [
            "/usr/local/lib/python3.6/dist-packages/ipykernel_launcher.py:2: SettingWithCopyWarning:\n",
            "\n",
            "\n",
            "A value is trying to be set on a copy of a slice from a DataFrame.\n",
            "Try using .loc[row_indexer,col_indexer] = value instead\n",
            "\n",
            "See the caveats in the documentation: https://pandas.pydata.org/pandas-docs/stable/user_guide/indexing.html#returning-a-view-versus-a-copy\n",
            "\n"
          ],
          "name": "stderr"
        }
      ]
    },
    {
      "cell_type": "code",
      "metadata": {
        "id": "B_pQFp6G7yDH",
        "colab_type": "code",
        "colab": {
          "base_uri": "https://localhost:8080/",
          "height": 34
        },
        "outputId": "53f691a7-9647-432f-efc5-a5b31cf026d7"
      },
      "source": [
        "type(covid_situation['new_reported_date'][0])"
      ],
      "execution_count": null,
      "outputs": [
        {
          "output_type": "execute_result",
          "data": {
            "text/plain": [
              "pandas._libs.tslibs.timestamps.Timestamp"
            ]
          },
          "metadata": {
            "tags": []
          },
          "execution_count": 27
        }
      ]
    },
    {
      "cell_type": "code",
      "metadata": {
        "id": "n6Lm2N6k6sUj",
        "colab_type": "code",
        "colab": {
          "base_uri": "https://localhost:8080/",
          "height": 278
        },
        "outputId": "4adb6411-484d-489a-c736-70c5b7f552d7"
      },
      "source": [
        "# set the date time as month\n",
        "covid_situation['month']=covid_situation['new_reported_date'].dt.month\n",
        "covid_situation.head(3)"
      ],
      "execution_count": null,
      "outputs": [
        {
          "output_type": "stream",
          "text": [
            "/usr/local/lib/python3.6/dist-packages/ipykernel_launcher.py:2: SettingWithCopyWarning:\n",
            "\n",
            "\n",
            "A value is trying to be set on a copy of a slice from a DataFrame.\n",
            "Try using .loc[row_indexer,col_indexer] = value instead\n",
            "\n",
            "See the caveats in the documentation: https://pandas.pydata.org/pandas-docs/stable/user_guide/indexing.html#returning-a-view-versus-a-copy\n",
            "\n"
          ],
          "name": "stderr"
        },
        {
          "output_type": "execute_result",
          "data": {
            "text/html": [
              "<div>\n",
              "<style scoped>\n",
              "    .dataframe tbody tr th:only-of-type {\n",
              "        vertical-align: middle;\n",
              "    }\n",
              "\n",
              "    .dataframe tbody tr th {\n",
              "        vertical-align: top;\n",
              "    }\n",
              "\n",
              "    .dataframe thead th {\n",
              "        text-align: right;\n",
              "    }\n",
              "</style>\n",
              "<table border=\"1\" class=\"dataframe\">\n",
              "  <thead>\n",
              "    <tr style=\"text-align: right;\">\n",
              "      <th></th>\n",
              "      <th>reported_date</th>\n",
              "      <th>reporting_country_territory</th>\n",
              "      <th>confirmed_cases</th>\n",
              "      <th>new_confirmed_cases</th>\n",
              "      <th>total_deaths</th>\n",
              "      <th>new_total_deaths</th>\n",
              "      <th>clean_confirmed_cases</th>\n",
              "      <th>new_reported_date</th>\n",
              "      <th>month</th>\n",
              "    </tr>\n",
              "  </thead>\n",
              "  <tbody>\n",
              "    <tr>\n",
              "      <th>0</th>\n",
              "      <td>4/5/2020</td>\n",
              "      <td>China</td>\n",
              "      <td>82875</td>\n",
              "      <td>73.0</td>\n",
              "      <td>3335.0</td>\n",
              "      <td>4.0</td>\n",
              "      <td>82875.0</td>\n",
              "      <td>2020-04-05</td>\n",
              "      <td>4</td>\n",
              "    </tr>\n",
              "    <tr>\n",
              "      <th>1</th>\n",
              "      <td>4/5/2020</td>\n",
              "      <td>Republic of Korea</td>\n",
              "      <td>10156</td>\n",
              "      <td>94.0</td>\n",
              "      <td>177.0</td>\n",
              "      <td>3.0</td>\n",
              "      <td>10156.0</td>\n",
              "      <td>2020-04-05</td>\n",
              "      <td>4</td>\n",
              "    </tr>\n",
              "    <tr>\n",
              "      <th>2</th>\n",
              "      <td>4/5/2020</td>\n",
              "      <td>Australia</td>\n",
              "      <td>5454</td>\n",
              "      <td>230.0</td>\n",
              "      <td>28.0</td>\n",
              "      <td>5.0</td>\n",
              "      <td>5454.0</td>\n",
              "      <td>2020-04-05</td>\n",
              "      <td>4</td>\n",
              "    </tr>\n",
              "  </tbody>\n",
              "</table>\n",
              "</div>"
            ],
            "text/plain": [
              "  reported_date reporting_country_territory  ... new_reported_date  month\n",
              "0      4/5/2020                       China  ...        2020-04-05      4\n",
              "1      4/5/2020           Republic of Korea  ...        2020-04-05      4\n",
              "2      4/5/2020                   Australia  ...        2020-04-05      4\n",
              "\n",
              "[3 rows x 9 columns]"
            ]
          },
          "metadata": {
            "tags": []
          },
          "execution_count": 37
        }
      ]
    },
    {
      "cell_type": "markdown",
      "metadata": {
        "id": "MgB8oyyqF4zM",
        "colab_type": "text"
      },
      "source": [
        "I want to see which countries are most affected by Covid-19 as a number of cases and number of death"
      ]
    },
    {
      "cell_type": "code",
      "metadata": {
        "id": "bKIQ0PKfvruz",
        "colab_type": "code",
        "colab": {
          "base_uri": "https://localhost:8080/",
          "height": 34
        },
        "outputId": "5f4d11fa-71d7-4f75-9c6c-284ee79b9046"
      },
      "source": [
        "covid_situation['clean_confirmed_cases'].dtype"
      ],
      "execution_count": null,
      "outputs": [
        {
          "output_type": "execute_result",
          "data": {
            "text/plain": [
              "dtype('float64')"
            ]
          },
          "metadata": {
            "tags": []
          },
          "execution_count": 39
        }
      ]
    },
    {
      "cell_type": "code",
      "metadata": {
        "id": "8c4KfB9zETwJ",
        "colab_type": "code",
        "colab": {
          "base_uri": "https://localhost:8080/",
          "height": 669
        },
        "outputId": "8c76600a-6f10-462a-9770-21b5d1e7e9bc"
      },
      "source": [
        "# new dataset\n",
        "covid_countries=covid_situation[covid_situation['clean_confirmed_cases']>10000]\n",
        "covid_countries.head(20)\n",
        "\n"
      ],
      "execution_count": null,
      "outputs": [
        {
          "output_type": "execute_result",
          "data": {
            "text/html": [
              "<div>\n",
              "<style scoped>\n",
              "    .dataframe tbody tr th:only-of-type {\n",
              "        vertical-align: middle;\n",
              "    }\n",
              "\n",
              "    .dataframe tbody tr th {\n",
              "        vertical-align: top;\n",
              "    }\n",
              "\n",
              "    .dataframe thead th {\n",
              "        text-align: right;\n",
              "    }\n",
              "</style>\n",
              "<table border=\"1\" class=\"dataframe\">\n",
              "  <thead>\n",
              "    <tr style=\"text-align: right;\">\n",
              "      <th></th>\n",
              "      <th>reported_date</th>\n",
              "      <th>reporting_country_territory</th>\n",
              "      <th>confirmed_cases</th>\n",
              "      <th>new_confirmed_cases</th>\n",
              "      <th>total_deaths</th>\n",
              "      <th>new_total_deaths</th>\n",
              "      <th>clean_confirmed_cases</th>\n",
              "      <th>new_reported_date</th>\n",
              "      <th>month</th>\n",
              "    </tr>\n",
              "  </thead>\n",
              "  <tbody>\n",
              "    <tr>\n",
              "      <th>0</th>\n",
              "      <td>4/5/2020</td>\n",
              "      <td>China</td>\n",
              "      <td>82875</td>\n",
              "      <td>73.0</td>\n",
              "      <td>3335.0</td>\n",
              "      <td>4.0</td>\n",
              "      <td>82875.0</td>\n",
              "      <td>2020-04-05</td>\n",
              "      <td>4</td>\n",
              "    </tr>\n",
              "    <tr>\n",
              "      <th>1</th>\n",
              "      <td>4/5/2020</td>\n",
              "      <td>Republic of Korea</td>\n",
              "      <td>10156</td>\n",
              "      <td>94.0</td>\n",
              "      <td>177.0</td>\n",
              "      <td>3.0</td>\n",
              "      <td>10156.0</td>\n",
              "      <td>2020-04-05</td>\n",
              "      <td>4</td>\n",
              "    </tr>\n",
              "    <tr>\n",
              "      <th>19</th>\n",
              "      <td>4/5/2020</td>\n",
              "      <td>Italy</td>\n",
              "      <td>119827</td>\n",
              "      <td>4585.0</td>\n",
              "      <td>14681.0</td>\n",
              "      <td>764.0</td>\n",
              "      <td>119827.0</td>\n",
              "      <td>2020-04-05</td>\n",
              "      <td>4</td>\n",
              "    </tr>\n",
              "    <tr>\n",
              "      <th>20</th>\n",
              "      <td>4/5/2020</td>\n",
              "      <td>Spain</td>\n",
              "      <td>117710</td>\n",
              "      <td>7472.0</td>\n",
              "      <td>10935.0</td>\n",
              "      <td>932.0</td>\n",
              "      <td>117710.0</td>\n",
              "      <td>2020-04-05</td>\n",
              "      <td>4</td>\n",
              "    </tr>\n",
              "    <tr>\n",
              "      <th>21</th>\n",
              "      <td>4/5/2020</td>\n",
              "      <td>Germany</td>\n",
              "      <td>85778</td>\n",
              "      <td>6082.0</td>\n",
              "      <td>1158.0</td>\n",
              "      <td>141.0</td>\n",
              "      <td>85778.0</td>\n",
              "      <td>2020-04-05</td>\n",
              "      <td>4</td>\n",
              "    </tr>\n",
              "    <tr>\n",
              "      <th>22</th>\n",
              "      <td>4/5/2020</td>\n",
              "      <td>France</td>\n",
              "      <td>63536</td>\n",
              "      <td>5209.0</td>\n",
              "      <td>6493.0</td>\n",
              "      <td>2003.0</td>\n",
              "      <td>63536.0</td>\n",
              "      <td>2020-04-05</td>\n",
              "      <td>4</td>\n",
              "    </tr>\n",
              "    <tr>\n",
              "      <th>23</th>\n",
              "      <td>4/5/2020</td>\n",
              "      <td>United Kingdom</td>\n",
              "      <td>38172</td>\n",
              "      <td>4450.0</td>\n",
              "      <td>3605.0</td>\n",
              "      <td>684.0</td>\n",
              "      <td>38172.0</td>\n",
              "      <td>2020-04-05</td>\n",
              "      <td>4</td>\n",
              "    </tr>\n",
              "    <tr>\n",
              "      <th>24</th>\n",
              "      <td>4/5/2020</td>\n",
              "      <td>Turkey</td>\n",
              "      <td>20921</td>\n",
              "      <td>2786.0</td>\n",
              "      <td>425.0</td>\n",
              "      <td>69.0</td>\n",
              "      <td>20921.0</td>\n",
              "      <td>2020-04-05</td>\n",
              "      <td>4</td>\n",
              "    </tr>\n",
              "    <tr>\n",
              "      <th>25</th>\n",
              "      <td>4/5/2020</td>\n",
              "      <td>Switzerland</td>\n",
              "      <td>19706</td>\n",
              "      <td>862.0</td>\n",
              "      <td>607.0</td>\n",
              "      <td>71.0</td>\n",
              "      <td>19706.0</td>\n",
              "      <td>2020-04-05</td>\n",
              "      <td>4</td>\n",
              "    </tr>\n",
              "    <tr>\n",
              "      <th>26</th>\n",
              "      <td>4/5/2020</td>\n",
              "      <td>Belgium</td>\n",
              "      <td>16770</td>\n",
              "      <td>1422.0</td>\n",
              "      <td>1143.0</td>\n",
              "      <td>132.0</td>\n",
              "      <td>16770.0</td>\n",
              "      <td>2020-04-05</td>\n",
              "      <td>4</td>\n",
              "    </tr>\n",
              "    <tr>\n",
              "      <th>27</th>\n",
              "      <td>4/5/2020</td>\n",
              "      <td>Netherlands</td>\n",
              "      <td>15723</td>\n",
              "      <td>1026.0</td>\n",
              "      <td>1487.0</td>\n",
              "      <td>148.0</td>\n",
              "      <td>15723.0</td>\n",
              "      <td>2020-04-05</td>\n",
              "      <td>4</td>\n",
              "    </tr>\n",
              "    <tr>\n",
              "      <th>28</th>\n",
              "      <td>4/5/2020</td>\n",
              "      <td>Austria</td>\n",
              "      <td>11525</td>\n",
              "      <td>396.0</td>\n",
              "      <td>168.0</td>\n",
              "      <td>10.0</td>\n",
              "      <td>11525.0</td>\n",
              "      <td>2020-04-05</td>\n",
              "      <td>4</td>\n",
              "    </tr>\n",
              "    <tr>\n",
              "      <th>89</th>\n",
              "      <td>4/5/2020</td>\n",
              "      <td>Iran (Islamic Republic of)</td>\n",
              "      <td>53183</td>\n",
              "      <td>2715.0</td>\n",
              "      <td>3294.0</td>\n",
              "      <td>134.0</td>\n",
              "      <td>53183.0</td>\n",
              "      <td>2020-04-05</td>\n",
              "      <td>4</td>\n",
              "    </tr>\n",
              "    <tr>\n",
              "      <th>110</th>\n",
              "      <td>4/5/2020</td>\n",
              "      <td>United States of America</td>\n",
              "      <td>241703</td>\n",
              "      <td>28103.0</td>\n",
              "      <td>5854.0</td>\n",
              "      <td>1061.0</td>\n",
              "      <td>241703.0</td>\n",
              "      <td>2020-04-05</td>\n",
              "      <td>4</td>\n",
              "    </tr>\n",
              "    <tr>\n",
              "      <th>111</th>\n",
              "      <td>4/5/2020</td>\n",
              "      <td>Canada</td>\n",
              "      <td>11732</td>\n",
              "      <td>1618.0</td>\n",
              "      <td>152.0</td>\n",
              "      <td>25.0</td>\n",
              "      <td>11732.0</td>\n",
              "      <td>2020-04-05</td>\n",
              "      <td>4</td>\n",
              "    </tr>\n",
              "    <tr>\n",
              "      <th>205</th>\n",
              "      <td>4/4/2020</td>\n",
              "      <td>China</td>\n",
              "      <td>82802</td>\n",
              "      <td>78.0</td>\n",
              "      <td>3331.0</td>\n",
              "      <td>4.0</td>\n",
              "      <td>82802.0</td>\n",
              "      <td>2020-04-04</td>\n",
              "      <td>4</td>\n",
              "    </tr>\n",
              "    <tr>\n",
              "      <th>206</th>\n",
              "      <td>4/4/2020</td>\n",
              "      <td>Republic of Korea</td>\n",
              "      <td>10062</td>\n",
              "      <td>86.0</td>\n",
              "      <td>174.0</td>\n",
              "      <td>5.0</td>\n",
              "      <td>10062.0</td>\n",
              "      <td>2020-04-04</td>\n",
              "      <td>4</td>\n",
              "    </tr>\n",
              "    <tr>\n",
              "      <th>224</th>\n",
              "      <td>4/4/2020</td>\n",
              "      <td>Italy</td>\n",
              "      <td>115242</td>\n",
              "      <td>4668.0</td>\n",
              "      <td>13917.0</td>\n",
              "      <td>760.0</td>\n",
              "      <td>115242.0</td>\n",
              "      <td>2020-04-04</td>\n",
              "      <td>4</td>\n",
              "    </tr>\n",
              "    <tr>\n",
              "      <th>225</th>\n",
              "      <td>4/4/2020</td>\n",
              "      <td>Spain</td>\n",
              "      <td>110238</td>\n",
              "      <td>8102.0</td>\n",
              "      <td>10003.0</td>\n",
              "      <td>950.0</td>\n",
              "      <td>110238.0</td>\n",
              "      <td>2020-04-04</td>\n",
              "      <td>4</td>\n",
              "    </tr>\n",
              "    <tr>\n",
              "      <th>226</th>\n",
              "      <td>4/4/2020</td>\n",
              "      <td>Germany</td>\n",
              "      <td>79696</td>\n",
              "      <td>6174.0</td>\n",
              "      <td>1017.0</td>\n",
              "      <td>145.0</td>\n",
              "      <td>79696.0</td>\n",
              "      <td>2020-04-04</td>\n",
              "      <td>4</td>\n",
              "    </tr>\n",
              "  </tbody>\n",
              "</table>\n",
              "</div>"
            ],
            "text/plain": [
              "    reported_date reporting_country_territory  ... new_reported_date  month\n",
              "0        4/5/2020                       China  ...        2020-04-05      4\n",
              "1        4/5/2020           Republic of Korea  ...        2020-04-05      4\n",
              "19       4/5/2020                       Italy  ...        2020-04-05      4\n",
              "20       4/5/2020                       Spain  ...        2020-04-05      4\n",
              "21       4/5/2020                     Germany  ...        2020-04-05      4\n",
              "22       4/5/2020                      France  ...        2020-04-05      4\n",
              "23       4/5/2020              United Kingdom  ...        2020-04-05      4\n",
              "24       4/5/2020                      Turkey  ...        2020-04-05      4\n",
              "25       4/5/2020                 Switzerland  ...        2020-04-05      4\n",
              "26       4/5/2020                     Belgium  ...        2020-04-05      4\n",
              "27       4/5/2020                 Netherlands  ...        2020-04-05      4\n",
              "28       4/5/2020                     Austria  ...        2020-04-05      4\n",
              "89       4/5/2020  Iran (Islamic Republic of)  ...        2020-04-05      4\n",
              "110      4/5/2020    United States of America  ...        2020-04-05      4\n",
              "111      4/5/2020                      Canada  ...        2020-04-05      4\n",
              "205      4/4/2020                       China  ...        2020-04-04      4\n",
              "206      4/4/2020           Republic of Korea  ...        2020-04-04      4\n",
              "224      4/4/2020                       Italy  ...        2020-04-04      4\n",
              "225      4/4/2020                       Spain  ...        2020-04-04      4\n",
              "226      4/4/2020                     Germany  ...        2020-04-04      4\n",
              "\n",
              "[20 rows x 9 columns]"
            ]
          },
          "metadata": {
            "tags": []
          },
          "execution_count": 50
        }
      ]
    },
    {
      "cell_type": "markdown",
      "metadata": {
        "id": "KL-JfQtnUEHp",
        "colab_type": "text"
      },
      "source": [
        "I am interested in 10 countries are China, USA,Spain,Italy,Germany,France,United Kingdom,Iran,Turkey,Switzerland. This also shows us number of cases and number of deaths are very high at those countries compared to others\n"
      ]
    },
    {
      "cell_type": "code",
      "metadata": {
        "id": "1s5fAFGmU_Aj",
        "colab_type": "code",
        "colab": {}
      },
      "source": [
        "# Engage tha data with top 12 countries only.\n",
        "countries=['China','United States of America','Switzerland','France','Germany','United Kingdom','Iran (Islamic Republic of)','Turkey','Italy','Spain']\n"
      ],
      "execution_count": null,
      "outputs": []
    },
    {
      "cell_type": "code",
      "metadata": {
        "id": "8pPnhixbrQ5f",
        "colab_type": "code",
        "colab": {
          "base_uri": "https://localhost:8080/",
          "height": 359
        },
        "outputId": "c1630fda-ce36-43cf-d465-5e02e15129c4"
      },
      "source": [
        "top_countries = covid_countries[covid_countries.reporting_country_territory.isin(countries)].head(10)\n",
        "top_countries\n"
      ],
      "execution_count": null,
      "outputs": [
        {
          "output_type": "execute_result",
          "data": {
            "text/html": [
              "<div>\n",
              "<style scoped>\n",
              "    .dataframe tbody tr th:only-of-type {\n",
              "        vertical-align: middle;\n",
              "    }\n",
              "\n",
              "    .dataframe tbody tr th {\n",
              "        vertical-align: top;\n",
              "    }\n",
              "\n",
              "    .dataframe thead th {\n",
              "        text-align: right;\n",
              "    }\n",
              "</style>\n",
              "<table border=\"1\" class=\"dataframe\">\n",
              "  <thead>\n",
              "    <tr style=\"text-align: right;\">\n",
              "      <th></th>\n",
              "      <th>reported_date</th>\n",
              "      <th>reporting_country_territory</th>\n",
              "      <th>confirmed_cases</th>\n",
              "      <th>new_confirmed_cases</th>\n",
              "      <th>total_deaths</th>\n",
              "      <th>new_total_deaths</th>\n",
              "      <th>clean_confirmed_cases</th>\n",
              "      <th>new_reported_date</th>\n",
              "      <th>month</th>\n",
              "    </tr>\n",
              "  </thead>\n",
              "  <tbody>\n",
              "    <tr>\n",
              "      <th>0</th>\n",
              "      <td>4/5/2020</td>\n",
              "      <td>China</td>\n",
              "      <td>82875</td>\n",
              "      <td>73.0</td>\n",
              "      <td>3335.0</td>\n",
              "      <td>4.0</td>\n",
              "      <td>82875.0</td>\n",
              "      <td>2020-04-05</td>\n",
              "      <td>4</td>\n",
              "    </tr>\n",
              "    <tr>\n",
              "      <th>19</th>\n",
              "      <td>4/5/2020</td>\n",
              "      <td>Italy</td>\n",
              "      <td>119827</td>\n",
              "      <td>4585.0</td>\n",
              "      <td>14681.0</td>\n",
              "      <td>764.0</td>\n",
              "      <td>119827.0</td>\n",
              "      <td>2020-04-05</td>\n",
              "      <td>4</td>\n",
              "    </tr>\n",
              "    <tr>\n",
              "      <th>20</th>\n",
              "      <td>4/5/2020</td>\n",
              "      <td>Spain</td>\n",
              "      <td>117710</td>\n",
              "      <td>7472.0</td>\n",
              "      <td>10935.0</td>\n",
              "      <td>932.0</td>\n",
              "      <td>117710.0</td>\n",
              "      <td>2020-04-05</td>\n",
              "      <td>4</td>\n",
              "    </tr>\n",
              "    <tr>\n",
              "      <th>21</th>\n",
              "      <td>4/5/2020</td>\n",
              "      <td>Germany</td>\n",
              "      <td>85778</td>\n",
              "      <td>6082.0</td>\n",
              "      <td>1158.0</td>\n",
              "      <td>141.0</td>\n",
              "      <td>85778.0</td>\n",
              "      <td>2020-04-05</td>\n",
              "      <td>4</td>\n",
              "    </tr>\n",
              "    <tr>\n",
              "      <th>22</th>\n",
              "      <td>4/5/2020</td>\n",
              "      <td>France</td>\n",
              "      <td>63536</td>\n",
              "      <td>5209.0</td>\n",
              "      <td>6493.0</td>\n",
              "      <td>2003.0</td>\n",
              "      <td>63536.0</td>\n",
              "      <td>2020-04-05</td>\n",
              "      <td>4</td>\n",
              "    </tr>\n",
              "    <tr>\n",
              "      <th>23</th>\n",
              "      <td>4/5/2020</td>\n",
              "      <td>United Kingdom</td>\n",
              "      <td>38172</td>\n",
              "      <td>4450.0</td>\n",
              "      <td>3605.0</td>\n",
              "      <td>684.0</td>\n",
              "      <td>38172.0</td>\n",
              "      <td>2020-04-05</td>\n",
              "      <td>4</td>\n",
              "    </tr>\n",
              "    <tr>\n",
              "      <th>24</th>\n",
              "      <td>4/5/2020</td>\n",
              "      <td>Turkey</td>\n",
              "      <td>20921</td>\n",
              "      <td>2786.0</td>\n",
              "      <td>425.0</td>\n",
              "      <td>69.0</td>\n",
              "      <td>20921.0</td>\n",
              "      <td>2020-04-05</td>\n",
              "      <td>4</td>\n",
              "    </tr>\n",
              "    <tr>\n",
              "      <th>25</th>\n",
              "      <td>4/5/2020</td>\n",
              "      <td>Switzerland</td>\n",
              "      <td>19706</td>\n",
              "      <td>862.0</td>\n",
              "      <td>607.0</td>\n",
              "      <td>71.0</td>\n",
              "      <td>19706.0</td>\n",
              "      <td>2020-04-05</td>\n",
              "      <td>4</td>\n",
              "    </tr>\n",
              "    <tr>\n",
              "      <th>89</th>\n",
              "      <td>4/5/2020</td>\n",
              "      <td>Iran (Islamic Republic of)</td>\n",
              "      <td>53183</td>\n",
              "      <td>2715.0</td>\n",
              "      <td>3294.0</td>\n",
              "      <td>134.0</td>\n",
              "      <td>53183.0</td>\n",
              "      <td>2020-04-05</td>\n",
              "      <td>4</td>\n",
              "    </tr>\n",
              "    <tr>\n",
              "      <th>110</th>\n",
              "      <td>4/5/2020</td>\n",
              "      <td>United States of America</td>\n",
              "      <td>241703</td>\n",
              "      <td>28103.0</td>\n",
              "      <td>5854.0</td>\n",
              "      <td>1061.0</td>\n",
              "      <td>241703.0</td>\n",
              "      <td>2020-04-05</td>\n",
              "      <td>4</td>\n",
              "    </tr>\n",
              "  </tbody>\n",
              "</table>\n",
              "</div>"
            ],
            "text/plain": [
              "    reported_date reporting_country_territory  ... new_reported_date  month\n",
              "0        4/5/2020                       China  ...        2020-04-05      4\n",
              "19       4/5/2020                       Italy  ...        2020-04-05      4\n",
              "20       4/5/2020                       Spain  ...        2020-04-05      4\n",
              "21       4/5/2020                     Germany  ...        2020-04-05      4\n",
              "22       4/5/2020                      France  ...        2020-04-05      4\n",
              "23       4/5/2020              United Kingdom  ...        2020-04-05      4\n",
              "24       4/5/2020                      Turkey  ...        2020-04-05      4\n",
              "25       4/5/2020                 Switzerland  ...        2020-04-05      4\n",
              "89       4/5/2020  Iran (Islamic Republic of)  ...        2020-04-05      4\n",
              "110      4/5/2020    United States of America  ...        2020-04-05      4\n",
              "\n",
              "[10 rows x 9 columns]"
            ]
          },
          "metadata": {
            "tags": []
          },
          "execution_count": 63
        }
      ]
    },
    {
      "cell_type": "code",
      "metadata": {
        "id": "YB6O8uIQ1TVF",
        "colab_type": "code",
        "colab": {
          "base_uri": "https://localhost:8080/",
          "height": 359
        },
        "outputId": "117bcd01-7e43-4058-f925-8e8d30a96ecb"
      },
      "source": [
        "# Let's find the Longitude abd lontitude of those countries\n",
        "# Create a new dataset\n",
        "Covid_19={'country': ['China','italy','spain','germany','france','united kingdom','turkey','switzerland','iran','USA'],\n",
        "        'confirmed_cases': [82875,119827,117710,85778,63536,38172,20921,19706,53183,241703],\n",
        "        'latitude':[30.5928,41.8719,40.4637,51.1657,46.2276,55.3781,38.9637,46.8182,32.4279,40.7128],\n",
        "        'longitude':[114.3055,712.5674,3.7492,10.4515,2.2137,3.4360,35.2433,8.2275,53.6860,74.0060]\n",
        "        }\n",
        "\n",
        "df=pd.DataFrame(Covid_19,columns=['country','confirmed_cases','latitude','longitude'])\n",
        "df"
      ],
      "execution_count": null,
      "outputs": [
        {
          "output_type": "execute_result",
          "data": {
            "text/html": [
              "<div>\n",
              "<style scoped>\n",
              "    .dataframe tbody tr th:only-of-type {\n",
              "        vertical-align: middle;\n",
              "    }\n",
              "\n",
              "    .dataframe tbody tr th {\n",
              "        vertical-align: top;\n",
              "    }\n",
              "\n",
              "    .dataframe thead th {\n",
              "        text-align: right;\n",
              "    }\n",
              "</style>\n",
              "<table border=\"1\" class=\"dataframe\">\n",
              "  <thead>\n",
              "    <tr style=\"text-align: right;\">\n",
              "      <th></th>\n",
              "      <th>country</th>\n",
              "      <th>confirmed_cases</th>\n",
              "      <th>latitude</th>\n",
              "      <th>longitude</th>\n",
              "    </tr>\n",
              "  </thead>\n",
              "  <tbody>\n",
              "    <tr>\n",
              "      <th>0</th>\n",
              "      <td>China</td>\n",
              "      <td>82875</td>\n",
              "      <td>30.5928</td>\n",
              "      <td>114.3055</td>\n",
              "    </tr>\n",
              "    <tr>\n",
              "      <th>1</th>\n",
              "      <td>italy</td>\n",
              "      <td>119827</td>\n",
              "      <td>41.8719</td>\n",
              "      <td>712.5674</td>\n",
              "    </tr>\n",
              "    <tr>\n",
              "      <th>2</th>\n",
              "      <td>spain</td>\n",
              "      <td>117710</td>\n",
              "      <td>40.4637</td>\n",
              "      <td>3.7492</td>\n",
              "    </tr>\n",
              "    <tr>\n",
              "      <th>3</th>\n",
              "      <td>germany</td>\n",
              "      <td>85778</td>\n",
              "      <td>51.1657</td>\n",
              "      <td>10.4515</td>\n",
              "    </tr>\n",
              "    <tr>\n",
              "      <th>4</th>\n",
              "      <td>france</td>\n",
              "      <td>63536</td>\n",
              "      <td>46.2276</td>\n",
              "      <td>2.2137</td>\n",
              "    </tr>\n",
              "    <tr>\n",
              "      <th>5</th>\n",
              "      <td>united kingdom</td>\n",
              "      <td>38172</td>\n",
              "      <td>55.3781</td>\n",
              "      <td>3.4360</td>\n",
              "    </tr>\n",
              "    <tr>\n",
              "      <th>6</th>\n",
              "      <td>turkey</td>\n",
              "      <td>20921</td>\n",
              "      <td>38.9637</td>\n",
              "      <td>35.2433</td>\n",
              "    </tr>\n",
              "    <tr>\n",
              "      <th>7</th>\n",
              "      <td>switzerland</td>\n",
              "      <td>19706</td>\n",
              "      <td>46.8182</td>\n",
              "      <td>8.2275</td>\n",
              "    </tr>\n",
              "    <tr>\n",
              "      <th>8</th>\n",
              "      <td>iran</td>\n",
              "      <td>53183</td>\n",
              "      <td>32.4279</td>\n",
              "      <td>53.6860</td>\n",
              "    </tr>\n",
              "    <tr>\n",
              "      <th>9</th>\n",
              "      <td>USA</td>\n",
              "      <td>241703</td>\n",
              "      <td>40.7128</td>\n",
              "      <td>74.0060</td>\n",
              "    </tr>\n",
              "  </tbody>\n",
              "</table>\n",
              "</div>"
            ],
            "text/plain": [
              "          country  confirmed_cases  latitude  longitude\n",
              "0           China            82875   30.5928   114.3055\n",
              "1           italy           119827   41.8719   712.5674\n",
              "2           spain           117710   40.4637     3.7492\n",
              "3         germany            85778   51.1657    10.4515\n",
              "4          france            63536   46.2276     2.2137\n",
              "5  united kingdom            38172   55.3781     3.4360\n",
              "6          turkey            20921   38.9637    35.2433\n",
              "7     switzerland            19706   46.8182     8.2275\n",
              "8            iran            53183   32.4279    53.6860\n",
              "9             USA           241703   40.7128    74.0060"
            ]
          },
          "metadata": {
            "tags": []
          },
          "execution_count": 71
        }
      ]
    },
    {
      "cell_type": "code",
      "metadata": {
        "id": "rbkAjFs8r8TB",
        "colab_type": "code",
        "colab": {
          "base_uri": "https://localhost:8080/",
          "height": 542
        },
        "outputId": "354bada5-9a01-40fc-86f6-d717d7ff5164"
      },
      "source": [
        "import plotly.graph_objects as go\n",
        "from plotly.subplots import make_subplots\n",
        "import pandas as pd\n",
        "\n",
        "# Initialize figure with subplots\n",
        "fig = make_subplots(\n",
        "    rows=2, cols=2,\n",
        "    column_widths=[0.6, 0.4],\n",
        "    row_heights=[0.4, 0.6],\n",
        "    specs=[[{\"type\": \"scattergeo\", \"rowspan\": 2}, {\"type\": \"bar\"}],\n",
        "           [            None                    , {\"type\": \"surface\"}]])\n",
        "\n",
        "# Add scattergeo globe map of volcano locations\n",
        "fig.add_trace(\n",
        "    go.Scattergeo(lat=df[\"latitude\"],\n",
        "                  lon=df[\"longitude\"],\n",
        "                  mode=\"markers\",\n",
        "                  hoverinfo=\"text\",\n",
        "                  showlegend=False,\n",
        "                  marker=dict(color=\"crimson\", size=10, opacity=0.9)),\n",
        "    row=1, col=1\n",
        ")\n",
        "\n",
        "# Add locations bar chart\n",
        "fig.add_trace(\n",
        "    go.Bar(x=df[\"country\"],y=df[\"confirmed_cases\"], marker=dict(color=\"crimson\"), showlegend=False),\n",
        "    row=1, col=2\n",
        ")\n",
        "\n",
        "# Update geo subplot properties\n",
        "fig.update_geos(\n",
        "    projection_type=\"orthographic\",\n",
        "    landcolor=\"white\",\n",
        "    oceancolor=\"MidnightBlue\",\n",
        "    showocean=True,\n",
        "    lakecolor=\"LightBlue\"\n",
        ")\n",
        "\n",
        "# Rotate x-axis labels\n",
        "fig.update_xaxes(tickangle=45)\n",
        "\n",
        "# Set theme, margin, and annotation in layout\n",
        "fig.update_layout(\n",
        "    template=\"plotly_dark\",\n",
        "    margin=dict(r=10, t=25, b=40, l=60),\n",
        "    annotations=[\n",
        "        dict(\n",
        "            text=\"Source: WHO-Covid_19\",\n",
        "            showarrow=False,\n",
        "            xref=\"paper\",\n",
        "            yref=\"paper\",\n",
        "            x=0,\n",
        "            y=0)\n",
        "    ]\n",
        ")\n",
        "\n",
        "fig.show()"
      ],
      "execution_count": null,
      "outputs": [
        {
          "output_type": "display_data",
          "data": {
            "text/html": [
              "<html>\n",
              "<head><meta charset=\"utf-8\" /></head>\n",
              "<body>\n",
              "    <div>\n",
              "            <script src=\"https://cdnjs.cloudflare.com/ajax/libs/mathjax/2.7.5/MathJax.js?config=TeX-AMS-MML_SVG\"></script><script type=\"text/javascript\">if (window.MathJax) {MathJax.Hub.Config({SVG: {font: \"STIX-Web\"}});}</script>\n",
              "                <script type=\"text/javascript\">window.PlotlyConfig = {MathJaxConfig: 'local'};</script>\n",
              "        <script src=\"https://cdn.plot.ly/plotly-latest.min.js\"></script>    \n",
              "            <div id=\"8e63595d-7560-4422-b5a8-73da2682bea2\" class=\"plotly-graph-div\" style=\"height:525px; width:100%;\"></div>\n",
              "            <script type=\"text/javascript\">\n",
              "                \n",
              "                    window.PLOTLYENV=window.PLOTLYENV || {};\n",
              "                    \n",
              "                if (document.getElementById(\"8e63595d-7560-4422-b5a8-73da2682bea2\")) {\n",
              "                    Plotly.newPlot(\n",
              "                        '8e63595d-7560-4422-b5a8-73da2682bea2',\n",
              "                        [{\"geo\": \"geo\", \"hoverinfo\": \"text\", \"lat\": [30.5928, 41.8719, 40.4637, 51.1657, 46.2276, 55.3781, 38.9637, 46.8182, 32.4279, 40.7128], \"lon\": [114.3055, 712.5674, 3.7492, 10.4515, 2.2137, 3.436, 35.2433, 8.2275, 53.686, 74.006], \"marker\": {\"color\": \"crimson\", \"opacity\": 0.9, \"size\": 10}, \"mode\": \"markers\", \"showlegend\": false, \"type\": \"scattergeo\"}, {\"marker\": {\"color\": \"crimson\"}, \"showlegend\": false, \"type\": \"bar\", \"x\": [\"China\", \"italy\", \"spain\", \"germany\", \"france\", \"united kingdom\", \"turkey\", \"switzerland\", \"iran\", \"USA\"], \"xaxis\": \"x\", \"y\": [82875, 119827, 117710, 85778, 63536, 38172, 20921, 19706, 53183, 241703], \"yaxis\": \"y\"}],\n",
              "                        {\"annotations\": [{\"showarrow\": false, \"text\": \"Source: WHO-Covid_19\", \"x\": 0, \"xref\": \"paper\", \"y\": 0, \"yref\": \"paper\"}], \"geo\": {\"domain\": {\"x\": [0.0, 0.54], \"y\": [0.0, 1.0]}, \"lakecolor\": \"LightBlue\", \"landcolor\": \"white\", \"oceancolor\": \"MidnightBlue\", \"projection\": {\"type\": \"orthographic\"}, \"showocean\": true}, \"margin\": {\"b\": 40, \"l\": 60, \"r\": 10, \"t\": 25}, \"scene\": {\"domain\": {\"x\": [0.64, 1.0], \"y\": [0.0, 0.51]}}, \"template\": {\"data\": {\"bar\": [{\"error_x\": {\"color\": \"#f2f5fa\"}, \"error_y\": {\"color\": \"#f2f5fa\"}, \"marker\": {\"line\": {\"color\": \"rgb(17,17,17)\", \"width\": 0.5}}, \"type\": \"bar\"}], \"barpolar\": [{\"marker\": {\"line\": {\"color\": \"rgb(17,17,17)\", \"width\": 0.5}}, \"type\": \"barpolar\"}], \"carpet\": [{\"aaxis\": {\"endlinecolor\": \"#A2B1C6\", \"gridcolor\": \"#506784\", \"linecolor\": \"#506784\", \"minorgridcolor\": \"#506784\", \"startlinecolor\": \"#A2B1C6\"}, \"baxis\": {\"endlinecolor\": \"#A2B1C6\", \"gridcolor\": \"#506784\", \"linecolor\": \"#506784\", \"minorgridcolor\": \"#506784\", \"startlinecolor\": \"#A2B1C6\"}, \"type\": \"carpet\"}], \"choropleth\": [{\"colorbar\": {\"outlinewidth\": 0, \"ticks\": \"\"}, \"type\": \"choropleth\"}], \"contour\": [{\"colorbar\": {\"outlinewidth\": 0, \"ticks\": \"\"}, \"colorscale\": [[0.0, \"#0d0887\"], [0.1111111111111111, \"#46039f\"], [0.2222222222222222, \"#7201a8\"], [0.3333333333333333, \"#9c179e\"], [0.4444444444444444, \"#bd3786\"], [0.5555555555555556, \"#d8576b\"], [0.6666666666666666, \"#ed7953\"], [0.7777777777777778, \"#fb9f3a\"], [0.8888888888888888, \"#fdca26\"], [1.0, \"#f0f921\"]], \"type\": \"contour\"}], \"contourcarpet\": [{\"colorbar\": {\"outlinewidth\": 0, \"ticks\": \"\"}, \"type\": \"contourcarpet\"}], \"heatmap\": [{\"colorbar\": {\"outlinewidth\": 0, \"ticks\": \"\"}, \"colorscale\": [[0.0, \"#0d0887\"], [0.1111111111111111, \"#46039f\"], [0.2222222222222222, \"#7201a8\"], [0.3333333333333333, \"#9c179e\"], [0.4444444444444444, \"#bd3786\"], [0.5555555555555556, \"#d8576b\"], [0.6666666666666666, \"#ed7953\"], [0.7777777777777778, \"#fb9f3a\"], [0.8888888888888888, \"#fdca26\"], [1.0, \"#f0f921\"]], \"type\": \"heatmap\"}], \"heatmapgl\": [{\"colorbar\": {\"outlinewidth\": 0, \"ticks\": \"\"}, \"colorscale\": [[0.0, \"#0d0887\"], [0.1111111111111111, \"#46039f\"], [0.2222222222222222, \"#7201a8\"], [0.3333333333333333, \"#9c179e\"], [0.4444444444444444, \"#bd3786\"], [0.5555555555555556, \"#d8576b\"], [0.6666666666666666, \"#ed7953\"], [0.7777777777777778, \"#fb9f3a\"], [0.8888888888888888, \"#fdca26\"], [1.0, \"#f0f921\"]], \"type\": \"heatmapgl\"}], \"histogram\": [{\"marker\": {\"colorbar\": {\"outlinewidth\": 0, \"ticks\": \"\"}}, \"type\": \"histogram\"}], \"histogram2d\": [{\"colorbar\": {\"outlinewidth\": 0, \"ticks\": \"\"}, \"colorscale\": [[0.0, \"#0d0887\"], [0.1111111111111111, \"#46039f\"], [0.2222222222222222, \"#7201a8\"], [0.3333333333333333, \"#9c179e\"], [0.4444444444444444, \"#bd3786\"], [0.5555555555555556, \"#d8576b\"], [0.6666666666666666, \"#ed7953\"], [0.7777777777777778, \"#fb9f3a\"], [0.8888888888888888, \"#fdca26\"], [1.0, \"#f0f921\"]], \"type\": \"histogram2d\"}], \"histogram2dcontour\": [{\"colorbar\": {\"outlinewidth\": 0, \"ticks\": \"\"}, \"colorscale\": [[0.0, \"#0d0887\"], [0.1111111111111111, \"#46039f\"], [0.2222222222222222, \"#7201a8\"], [0.3333333333333333, \"#9c179e\"], [0.4444444444444444, \"#bd3786\"], [0.5555555555555556, \"#d8576b\"], [0.6666666666666666, \"#ed7953\"], [0.7777777777777778, \"#fb9f3a\"], [0.8888888888888888, \"#fdca26\"], [1.0, \"#f0f921\"]], \"type\": \"histogram2dcontour\"}], \"mesh3d\": [{\"colorbar\": {\"outlinewidth\": 0, \"ticks\": \"\"}, \"type\": \"mesh3d\"}], \"parcoords\": [{\"line\": {\"colorbar\": {\"outlinewidth\": 0, \"ticks\": \"\"}}, \"type\": \"parcoords\"}], \"pie\": [{\"automargin\": true, \"type\": \"pie\"}], \"scatter\": [{\"marker\": {\"line\": {\"color\": \"#283442\"}}, \"type\": \"scatter\"}], \"scatter3d\": [{\"line\": {\"colorbar\": {\"outlinewidth\": 0, \"ticks\": \"\"}}, \"marker\": {\"colorbar\": {\"outlinewidth\": 0, \"ticks\": \"\"}}, \"type\": \"scatter3d\"}], \"scattercarpet\": [{\"marker\": {\"colorbar\": {\"outlinewidth\": 0, \"ticks\": \"\"}}, \"type\": \"scattercarpet\"}], \"scattergeo\": [{\"marker\": {\"colorbar\": {\"outlinewidth\": 0, \"ticks\": \"\"}}, \"type\": \"scattergeo\"}], \"scattergl\": [{\"marker\": {\"line\": {\"color\": \"#283442\"}}, \"type\": \"scattergl\"}], \"scattermapbox\": [{\"marker\": {\"colorbar\": {\"outlinewidth\": 0, \"ticks\": \"\"}}, \"type\": \"scattermapbox\"}], \"scatterpolar\": [{\"marker\": {\"colorbar\": {\"outlinewidth\": 0, \"ticks\": \"\"}}, \"type\": \"scatterpolar\"}], \"scatterpolargl\": [{\"marker\": {\"colorbar\": {\"outlinewidth\": 0, \"ticks\": \"\"}}, \"type\": \"scatterpolargl\"}], \"scatterternary\": [{\"marker\": {\"colorbar\": {\"outlinewidth\": 0, \"ticks\": \"\"}}, \"type\": \"scatterternary\"}], \"surface\": [{\"colorbar\": {\"outlinewidth\": 0, \"ticks\": \"\"}, \"colorscale\": [[0.0, \"#0d0887\"], [0.1111111111111111, \"#46039f\"], [0.2222222222222222, \"#7201a8\"], [0.3333333333333333, \"#9c179e\"], [0.4444444444444444, \"#bd3786\"], [0.5555555555555556, \"#d8576b\"], [0.6666666666666666, \"#ed7953\"], [0.7777777777777778, \"#fb9f3a\"], [0.8888888888888888, \"#fdca26\"], [1.0, \"#f0f921\"]], \"type\": \"surface\"}], \"table\": [{\"cells\": {\"fill\": {\"color\": \"#506784\"}, \"line\": {\"color\": \"rgb(17,17,17)\"}}, \"header\": {\"fill\": {\"color\": \"#2a3f5f\"}, \"line\": {\"color\": \"rgb(17,17,17)\"}}, \"type\": \"table\"}]}, \"layout\": {\"annotationdefaults\": {\"arrowcolor\": \"#f2f5fa\", \"arrowhead\": 0, \"arrowwidth\": 1}, \"coloraxis\": {\"colorbar\": {\"outlinewidth\": 0, \"ticks\": \"\"}}, \"colorscale\": {\"diverging\": [[0, \"#8e0152\"], [0.1, \"#c51b7d\"], [0.2, \"#de77ae\"], [0.3, \"#f1b6da\"], [0.4, \"#fde0ef\"], [0.5, \"#f7f7f7\"], [0.6, \"#e6f5d0\"], [0.7, \"#b8e186\"], [0.8, \"#7fbc41\"], [0.9, \"#4d9221\"], [1, \"#276419\"]], \"sequential\": [[0.0, \"#0d0887\"], [0.1111111111111111, \"#46039f\"], [0.2222222222222222, \"#7201a8\"], [0.3333333333333333, \"#9c179e\"], [0.4444444444444444, \"#bd3786\"], [0.5555555555555556, \"#d8576b\"], [0.6666666666666666, \"#ed7953\"], [0.7777777777777778, \"#fb9f3a\"], [0.8888888888888888, \"#fdca26\"], [1.0, \"#f0f921\"]], \"sequentialminus\": [[0.0, \"#0d0887\"], [0.1111111111111111, \"#46039f\"], [0.2222222222222222, \"#7201a8\"], [0.3333333333333333, \"#9c179e\"], [0.4444444444444444, \"#bd3786\"], [0.5555555555555556, \"#d8576b\"], [0.6666666666666666, \"#ed7953\"], [0.7777777777777778, \"#fb9f3a\"], [0.8888888888888888, \"#fdca26\"], [1.0, \"#f0f921\"]]}, \"colorway\": [\"#636efa\", \"#EF553B\", \"#00cc96\", \"#ab63fa\", \"#FFA15A\", \"#19d3f3\", \"#FF6692\", \"#B6E880\", \"#FF97FF\", \"#FECB52\"], \"font\": {\"color\": \"#f2f5fa\"}, \"geo\": {\"bgcolor\": \"rgb(17,17,17)\", \"lakecolor\": \"rgb(17,17,17)\", \"landcolor\": \"rgb(17,17,17)\", \"showlakes\": true, \"showland\": true, \"subunitcolor\": \"#506784\"}, \"hoverlabel\": {\"align\": \"left\"}, \"hovermode\": \"closest\", \"mapbox\": {\"style\": \"dark\"}, \"paper_bgcolor\": \"rgb(17,17,17)\", \"plot_bgcolor\": \"rgb(17,17,17)\", \"polar\": {\"angularaxis\": {\"gridcolor\": \"#506784\", \"linecolor\": \"#506784\", \"ticks\": \"\"}, \"bgcolor\": \"rgb(17,17,17)\", \"radialaxis\": {\"gridcolor\": \"#506784\", \"linecolor\": \"#506784\", \"ticks\": \"\"}}, \"scene\": {\"xaxis\": {\"backgroundcolor\": \"rgb(17,17,17)\", \"gridcolor\": \"#506784\", \"gridwidth\": 2, \"linecolor\": \"#506784\", \"showbackground\": true, \"ticks\": \"\", \"zerolinecolor\": \"#C8D4E3\"}, \"yaxis\": {\"backgroundcolor\": \"rgb(17,17,17)\", \"gridcolor\": \"#506784\", \"gridwidth\": 2, \"linecolor\": \"#506784\", \"showbackground\": true, \"ticks\": \"\", \"zerolinecolor\": \"#C8D4E3\"}, \"zaxis\": {\"backgroundcolor\": \"rgb(17,17,17)\", \"gridcolor\": \"#506784\", \"gridwidth\": 2, \"linecolor\": \"#506784\", \"showbackground\": true, \"ticks\": \"\", \"zerolinecolor\": \"#C8D4E3\"}}, \"shapedefaults\": {\"line\": {\"color\": \"#f2f5fa\"}}, \"sliderdefaults\": {\"bgcolor\": \"#C8D4E3\", \"bordercolor\": \"rgb(17,17,17)\", \"borderwidth\": 1, \"tickwidth\": 0}, \"ternary\": {\"aaxis\": {\"gridcolor\": \"#506784\", \"linecolor\": \"#506784\", \"ticks\": \"\"}, \"baxis\": {\"gridcolor\": \"#506784\", \"linecolor\": \"#506784\", \"ticks\": \"\"}, \"bgcolor\": \"rgb(17,17,17)\", \"caxis\": {\"gridcolor\": \"#506784\", \"linecolor\": \"#506784\", \"ticks\": \"\"}}, \"title\": {\"x\": 0.05}, \"updatemenudefaults\": {\"bgcolor\": \"#506784\", \"borderwidth\": 0}, \"xaxis\": {\"automargin\": true, \"gridcolor\": \"#283442\", \"linecolor\": \"#506784\", \"ticks\": \"\", \"title\": {\"standoff\": 15}, \"zerolinecolor\": \"#283442\", \"zerolinewidth\": 2}, \"yaxis\": {\"automargin\": true, \"gridcolor\": \"#283442\", \"linecolor\": \"#506784\", \"ticks\": \"\", \"title\": {\"standoff\": 15}, \"zerolinecolor\": \"#283442\", \"zerolinewidth\": 2}}}, \"xaxis\": {\"anchor\": \"y\", \"domain\": [0.64, 1.0], \"tickangle\": 45}, \"yaxis\": {\"anchor\": \"x\", \"domain\": [0.66, 1.0]}},\n",
              "                        {\"responsive\": true}\n",
              "                    ).then(function(){\n",
              "                            \n",
              "var gd = document.getElementById('8e63595d-7560-4422-b5a8-73da2682bea2');\n",
              "var x = new MutationObserver(function (mutations, observer) {{\n",
              "        var display = window.getComputedStyle(gd).display;\n",
              "        if (!display || display === 'none') {{\n",
              "            console.log([gd, 'removed!']);\n",
              "            Plotly.purge(gd);\n",
              "            observer.disconnect();\n",
              "        }}\n",
              "}});\n",
              "\n",
              "// Listen for the removal of the full notebook cells\n",
              "var notebookContainer = gd.closest('#notebook-container');\n",
              "if (notebookContainer) {{\n",
              "    x.observe(notebookContainer, {childList: true});\n",
              "}}\n",
              "\n",
              "// Listen for the clearing of the current output cell\n",
              "var outputEl = gd.closest('.output');\n",
              "if (outputEl) {{\n",
              "    x.observe(outputEl, {childList: true});\n",
              "}}\n",
              "\n",
              "                        })\n",
              "                };\n",
              "                \n",
              "            </script>\n",
              "        </div>\n",
              "</body>\n",
              "</html>"
            ]
          },
          "metadata": {
            "tags": []
          }
        }
      ]
    }
  ]
}